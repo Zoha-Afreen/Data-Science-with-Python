{
 "cells": [
  {
   "cell_type": "code",
   "execution_count": 1,
   "metadata": {
    "colab": {},
    "colab_type": "code",
    "id": "Irtx4gWwd5LF"
   },
   "outputs": [],
   "source": [
    "import numpy as np\n",
    "import pandas as pd"
   ]
  },
  {
   "cell_type": "code",
   "execution_count": 5,
   "metadata": {
    "colab": {},
    "colab_type": "code",
    "id": "MUzTnwlnd5LL",
    "outputId": "3f68fbe0-78d2-4f10-8365-9b8dc08a359f",
    "scrolled": false
   },
   "outputs": [],
   "source": [
    "data= pd.read_csv(r'C:\\Users\\sauda\\Downloads\\DS - Part2 - Basketball.csv') "
   ]
  },
  {
   "cell_type": "code",
   "execution_count": 11,
   "metadata": {},
   "outputs": [
    {
     "name": "stdout",
     "output_type": "stream",
     "text": [
      "       Team  Tournament Score PlayedGames WonGames DrawnGames LostGames  \\\n",
      "0    Team 1          86  4385        2762     1647        552       563   \n",
      "1    Team 2          86  4262        2762     1581        573       608   \n",
      "2    Team 3          80  3442        2614     1241        598       775   \n",
      "3    Team 4          82  3386        2664     1187        616       861   \n",
      "4    Team 5          86  3368        2762     1209        633       920   \n",
      "5    Team 6          73  2819        2408      990        531       887   \n",
      "6    Team 7          82  2792        2626      948        608      1070   \n",
      "7    Team 8          70  2573        2302      864        577       861   \n",
      "8    Team 9          58  2109        1986      698        522       766   \n",
      "9   Team 10          51  1884        1728      606        440       682   \n",
      "10  Team 11          45  1814        1530      563        392       575   \n",
      "11  Team 12          51  1789        1698      586        389       723   \n",
      "12  Team 13          42  1471        1466      463        384       619   \n",
      "13  Team 14          44  1416        1428      453        336       639   \n",
      "14  Team 15          43  1389        1458      471        358       629   \n",
      "\n",
      "   BasketScored BasketGiven TournamentChampion Runner-up TeamLaunch  \\\n",
      "0          5947        3140                 33        23       1929   \n",
      "1          5900        3114                 25        25       1929   \n",
      "2          4534        3309                 10         8       1929   \n",
      "3          4398        3469                  6         6   1931to32   \n",
      "4          4631        3700                  8         7       1929   \n",
      "5          3680        3373                  1         4    1934-35   \n",
      "6          3609        3889                  -         -       1929   \n",
      "7          3228        3230                  2         3       1929   \n",
      "8          2683        2847                  -         1    1939-40   \n",
      "9          2159        2492                  1         -    1932-33   \n",
      "10         2052        2188                  1         5   1941to42   \n",
      "11         2278        2624                  -         -    1939-40   \n",
      "12         1767        2180                  -         -    1948-49   \n",
      "13         1843        2368                  -         1       1929   \n",
      "14         1753        2152                  -         1    1944_45   \n",
      "\n",
      "    HighestPositionHeld  \n",
      "0                     1  \n",
      "1                     1  \n",
      "2                     1  \n",
      "3                     1  \n",
      "4                     1  \n",
      "5                     1  \n",
      "6                     3  \n",
      "7                     1  \n",
      "8                     2  \n",
      "9                     1  \n",
      "10                    1  \n",
      "11                    4  \n",
      "12                    4  \n",
      "13                    2  \n",
      "14                    2  \n",
      "       Team  Tournament Score PlayedGames WonGames DrawnGames LostGames  \\\n",
      "60  Team 61           1     -           -        -          -         -   \n",
      "\n",
      "   BasketScored BasketGiven TournamentChampion Runner-up TeamLaunch  \\\n",
      "60            -           -                  -         -    2017~18   \n",
      "\n",
      "    HighestPositionHeld  \n",
      "60                    9  \n"
     ]
    },
    {
     "data": {
      "text/html": [
       "<div>\n",
       "<style scoped>\n",
       "    .dataframe tbody tr th:only-of-type {\n",
       "        vertical-align: middle;\n",
       "    }\n",
       "\n",
       "    .dataframe tbody tr th {\n",
       "        vertical-align: top;\n",
       "    }\n",
       "\n",
       "    .dataframe thead th {\n",
       "        text-align: right;\n",
       "    }\n",
       "</style>\n",
       "<table border=\"1\" class=\"dataframe\">\n",
       "  <thead>\n",
       "    <tr style=\"text-align: right;\">\n",
       "      <th></th>\n",
       "      <th>Team</th>\n",
       "      <th>Tournament</th>\n",
       "      <th>Score</th>\n",
       "      <th>PlayedGames</th>\n",
       "      <th>WonGames</th>\n",
       "      <th>DrawnGames</th>\n",
       "      <th>LostGames</th>\n",
       "      <th>BasketScored</th>\n",
       "      <th>BasketGiven</th>\n",
       "      <th>TournamentChampion</th>\n",
       "      <th>Runner-up</th>\n",
       "      <th>TeamLaunch</th>\n",
       "      <th>HighestPositionHeld</th>\n",
       "    </tr>\n",
       "  </thead>\n",
       "  <tbody>\n",
       "    <tr>\n",
       "      <th>46</th>\n",
       "      <td>Team 47</td>\n",
       "      <td>4</td>\n",
       "      <td>91</td>\n",
       "      <td>116</td>\n",
       "      <td>34</td>\n",
       "      <td>16</td>\n",
       "      <td>66</td>\n",
       "      <td>181</td>\n",
       "      <td>295</td>\n",
       "      <td>-</td>\n",
       "      <td>-</td>\n",
       "      <td>1947-48</td>\n",
       "      <td>7</td>\n",
       "    </tr>\n",
       "    <tr>\n",
       "      <th>47</th>\n",
       "      <td>Team 48</td>\n",
       "      <td>2</td>\n",
       "      <td>83</td>\n",
       "      <td>80</td>\n",
       "      <td>20</td>\n",
       "      <td>23</td>\n",
       "      <td>37</td>\n",
       "      <td>62</td>\n",
       "      <td>117</td>\n",
       "      <td>-</td>\n",
       "      <td>-</td>\n",
       "      <td>1996-97</td>\n",
       "      <td>17</td>\n",
       "    </tr>\n",
       "    <tr>\n",
       "      <th>48</th>\n",
       "      <td>Team 49</td>\n",
       "      <td>2</td>\n",
       "      <td>81</td>\n",
       "      <td>80</td>\n",
       "      <td>19</td>\n",
       "      <td>24</td>\n",
       "      <td>37</td>\n",
       "      <td>70</td>\n",
       "      <td>115</td>\n",
       "      <td>-</td>\n",
       "      <td>-</td>\n",
       "      <td>1995-96</td>\n",
       "      <td>19</td>\n",
       "    </tr>\n",
       "    <tr>\n",
       "      <th>49</th>\n",
       "      <td>Team 50</td>\n",
       "      <td>4</td>\n",
       "      <td>76</td>\n",
       "      <td>108</td>\n",
       "      <td>30</td>\n",
       "      <td>16</td>\n",
       "      <td>62</td>\n",
       "      <td>145</td>\n",
       "      <td>252</td>\n",
       "      <td>-</td>\n",
       "      <td>-</td>\n",
       "      <td>1945-46</td>\n",
       "      <td>10</td>\n",
       "    </tr>\n",
       "    <tr>\n",
       "      <th>50</th>\n",
       "      <td>Team 51</td>\n",
       "      <td>3</td>\n",
       "      <td>71</td>\n",
       "      <td>90</td>\n",
       "      <td>29</td>\n",
       "      <td>13</td>\n",
       "      <td>48</td>\n",
       "      <td>121</td>\n",
       "      <td>183</td>\n",
       "      <td>-</td>\n",
       "      <td>-</td>\n",
       "      <td>1953-54</td>\n",
       "      <td>14</td>\n",
       "    </tr>\n",
       "    <tr>\n",
       "      <th>51</th>\n",
       "      <td>Team 52</td>\n",
       "      <td>4</td>\n",
       "      <td>56</td>\n",
       "      <td>72</td>\n",
       "      <td>21</td>\n",
       "      <td>14</td>\n",
       "      <td>37</td>\n",
       "      <td>153</td>\n",
       "      <td>184</td>\n",
       "      <td>-</td>\n",
       "      <td>-</td>\n",
       "      <td>1929</td>\n",
       "      <td>6</td>\n",
       "    </tr>\n",
       "    <tr>\n",
       "      <th>52</th>\n",
       "      <td>Team 53</td>\n",
       "      <td>2</td>\n",
       "      <td>52</td>\n",
       "      <td>68</td>\n",
       "      <td>17</td>\n",
       "      <td>18</td>\n",
       "      <td>33</td>\n",
       "      <td>71</td>\n",
       "      <td>116</td>\n",
       "      <td>-</td>\n",
       "      <td>-</td>\n",
       "      <td>1979-80</td>\n",
       "      <td>10</td>\n",
       "    </tr>\n",
       "    <tr>\n",
       "      <th>53</th>\n",
       "      <td>Team 54</td>\n",
       "      <td>3</td>\n",
       "      <td>42</td>\n",
       "      <td>54</td>\n",
       "      <td>18</td>\n",
       "      <td>6</td>\n",
       "      <td>30</td>\n",
       "      <td>97</td>\n",
       "      <td>131</td>\n",
       "      <td>-</td>\n",
       "      <td>-</td>\n",
       "      <td>1929</td>\n",
       "      <td>8</td>\n",
       "    </tr>\n",
       "    <tr>\n",
       "      <th>54</th>\n",
       "      <td>Team 55</td>\n",
       "      <td>2</td>\n",
       "      <td>40</td>\n",
       "      <td>68</td>\n",
       "      <td>13</td>\n",
       "      <td>14</td>\n",
       "      <td>41</td>\n",
       "      <td>70</td>\n",
       "      <td>182</td>\n",
       "      <td>-</td>\n",
       "      <td>-</td>\n",
       "      <td>1950-51</td>\n",
       "      <td>16</td>\n",
       "    </tr>\n",
       "    <tr>\n",
       "      <th>55</th>\n",
       "      <td>Team 56</td>\n",
       "      <td>1</td>\n",
       "      <td>35</td>\n",
       "      <td>38</td>\n",
       "      <td>8</td>\n",
       "      <td>11</td>\n",
       "      <td>19</td>\n",
       "      <td>36</td>\n",
       "      <td>55</td>\n",
       "      <td>-</td>\n",
       "      <td>-</td>\n",
       "      <td>2016_17</td>\n",
       "      <td>17</td>\n",
       "    </tr>\n",
       "    <tr>\n",
       "      <th>56</th>\n",
       "      <td>Team 57</td>\n",
       "      <td>1</td>\n",
       "      <td>34</td>\n",
       "      <td>38</td>\n",
       "      <td>8</td>\n",
       "      <td>10</td>\n",
       "      <td>20</td>\n",
       "      <td>38</td>\n",
       "      <td>66</td>\n",
       "      <td>-</td>\n",
       "      <td>-</td>\n",
       "      <td>2009-10</td>\n",
       "      <td>20</td>\n",
       "    </tr>\n",
       "    <tr>\n",
       "      <th>57</th>\n",
       "      <td>Team 58</td>\n",
       "      <td>1</td>\n",
       "      <td>22</td>\n",
       "      <td>30</td>\n",
       "      <td>7</td>\n",
       "      <td>8</td>\n",
       "      <td>15</td>\n",
       "      <td>37</td>\n",
       "      <td>57</td>\n",
       "      <td>-</td>\n",
       "      <td>-</td>\n",
       "      <td>1956-57</td>\n",
       "      <td>16</td>\n",
       "    </tr>\n",
       "    <tr>\n",
       "      <th>58</th>\n",
       "      <td>Team 59</td>\n",
       "      <td>1</td>\n",
       "      <td>19</td>\n",
       "      <td>30</td>\n",
       "      <td>7</td>\n",
       "      <td>5</td>\n",
       "      <td>18</td>\n",
       "      <td>51</td>\n",
       "      <td>85</td>\n",
       "      <td>-</td>\n",
       "      <td>-</td>\n",
       "      <td>1951~52</td>\n",
       "      <td>16</td>\n",
       "    </tr>\n",
       "    <tr>\n",
       "      <th>59</th>\n",
       "      <td>Team 60</td>\n",
       "      <td>1</td>\n",
       "      <td>14</td>\n",
       "      <td>30</td>\n",
       "      <td>5</td>\n",
       "      <td>4</td>\n",
       "      <td>21</td>\n",
       "      <td>34</td>\n",
       "      <td>65</td>\n",
       "      <td>-</td>\n",
       "      <td>-</td>\n",
       "      <td>1955-56</td>\n",
       "      <td>15</td>\n",
       "    </tr>\n",
       "    <tr>\n",
       "      <th>60</th>\n",
       "      <td>Team 61</td>\n",
       "      <td>1</td>\n",
       "      <td>-</td>\n",
       "      <td>-</td>\n",
       "      <td>-</td>\n",
       "      <td>-</td>\n",
       "      <td>-</td>\n",
       "      <td>-</td>\n",
       "      <td>-</td>\n",
       "      <td>-</td>\n",
       "      <td>-</td>\n",
       "      <td>2017~18</td>\n",
       "      <td>9</td>\n",
       "    </tr>\n",
       "  </tbody>\n",
       "</table>\n",
       "</div>"
      ],
      "text/plain": [
       "       Team  Tournament Score PlayedGames WonGames DrawnGames LostGames  \\\n",
       "46  Team 47           4    91         116       34         16        66   \n",
       "47  Team 48           2    83          80       20         23        37   \n",
       "48  Team 49           2    81          80       19         24        37   \n",
       "49  Team 50           4    76         108       30         16        62   \n",
       "50  Team 51           3    71          90       29         13        48   \n",
       "51  Team 52           4    56          72       21         14        37   \n",
       "52  Team 53           2    52          68       17         18        33   \n",
       "53  Team 54           3    42          54       18          6        30   \n",
       "54  Team 55           2    40          68       13         14        41   \n",
       "55  Team 56           1    35          38        8         11        19   \n",
       "56  Team 57           1    34          38        8         10        20   \n",
       "57  Team 58           1    22          30        7          8        15   \n",
       "58  Team 59           1    19          30        7          5        18   \n",
       "59  Team 60           1    14          30        5          4        21   \n",
       "60  Team 61           1     -           -        -          -         -   \n",
       "\n",
       "   BasketScored BasketGiven TournamentChampion Runner-up TeamLaunch  \\\n",
       "46          181         295                  -         -    1947-48   \n",
       "47           62         117                  -         -    1996-97   \n",
       "48           70         115                  -         -    1995-96   \n",
       "49          145         252                  -         -    1945-46   \n",
       "50          121         183                  -         -    1953-54   \n",
       "51          153         184                  -         -       1929   \n",
       "52           71         116                  -         -    1979-80   \n",
       "53           97         131                  -         -       1929   \n",
       "54           70         182                  -         -    1950-51   \n",
       "55           36          55                  -         -    2016_17   \n",
       "56           38          66                  -         -    2009-10   \n",
       "57           37          57                  -         -    1956-57   \n",
       "58           51          85                  -         -    1951~52   \n",
       "59           34          65                  -         -    1955-56   \n",
       "60            -           -                  -         -    2017~18   \n",
       "\n",
       "    HighestPositionHeld  \n",
       "46                    7  \n",
       "47                   17  \n",
       "48                   19  \n",
       "49                   10  \n",
       "50                   14  \n",
       "51                    6  \n",
       "52                   10  \n",
       "53                    8  \n",
       "54                   16  \n",
       "55                   17  \n",
       "56                   20  \n",
       "57                   16  \n",
       "58                   16  \n",
       "59                   15  \n",
       "60                    9  "
      ]
     },
     "execution_count": 11,
     "metadata": {},
     "output_type": "execute_result"
    }
   ],
   "source": [
    "print(data.head(15))\n",
    "print(data[50:60])\n",
    "(data.tail(15))"
   ]
  },
  {
   "cell_type": "code",
   "execution_count": 16,
   "metadata": {
    "colab": {},
    "colab_type": "code",
    "id": "Sl2AvdKXd5LS",
    "outputId": "6e6459ea-5477-41d0-ff2b-ea4601ca91f0",
    "scrolled": false
   },
   "outputs": [
    {
     "name": "stdout",
     "output_type": "stream",
     "text": [
      "(61, 13)\n",
      "Team                   0\n",
      "Tournament             0\n",
      "Score                  0\n",
      "PlayedGames            0\n",
      "WonGames               0\n",
      "DrawnGames             0\n",
      "LostGames              0\n",
      "BasketScored           0\n",
      "BasketGiven            0\n",
      "TournamentChampion     0\n",
      "Runner-up              0\n",
      "TeamLaunch             0\n",
      "HighestPositionHeld    0\n",
      "dtype: int64\n",
      "<class 'pandas.core.frame.DataFrame'>\n",
      "RangeIndex: 61 entries, 0 to 60\n",
      "Data columns (total 13 columns):\n",
      " #   Column               Non-Null Count  Dtype \n",
      "---  ------               --------------  ----- \n",
      " 0   Team                 61 non-null     object\n",
      " 1   Tournament           61 non-null     int64 \n",
      " 2   Score                61 non-null     object\n",
      " 3   PlayedGames          61 non-null     object\n",
      " 4   WonGames             61 non-null     object\n",
      " 5   DrawnGames           61 non-null     object\n",
      " 6   LostGames            61 non-null     object\n",
      " 7   BasketScored         61 non-null     object\n",
      " 8   BasketGiven          61 non-null     object\n",
      " 9   TournamentChampion   61 non-null     object\n",
      " 10  Runner-up            61 non-null     object\n",
      " 11  TeamLaunch           61 non-null     object\n",
      " 12  HighestPositionHeld  61 non-null     int64 \n",
      "dtypes: int64(2), object(11)\n",
      "memory usage: 6.3+ KB\n"
     ]
    }
   ],
   "source": [
    "data= data.replace('-',0)\n",
    "data = data.replace(to_replace ='to', value = '-', regex = True) \n",
    "data= data.replace(to_replace ='_', value = '-', regex = True) \n",
    "data= data.replace(to_replace ='~', value = '-', regex = True) \n",
    "  \n",
    "print(data.shape)\n",
    "print(data.isna().sum())\n",
    "data.info()"
   ]
  },
  {
   "cell_type": "code",
   "execution_count": 17,
   "metadata": {},
   "outputs": [
    {
     "name": "stdout",
     "output_type": "stream",
     "text": [
      "       Team  Tournament Score PlayedGames WonGames DrawnGames LostGames  \\\n",
      "0    Team 1          86  4385        2762     1647        552       563   \n",
      "1    Team 2          86  4262        2762     1581        573       608   \n",
      "2    Team 3          80  3442        2614     1241        598       775   \n",
      "3    Team 4          82  3386        2664     1187        616       861   \n",
      "4    Team 5          86  3368        2762     1209        633       920   \n",
      "5    Team 6          73  2819        2408      990        531       887   \n",
      "6    Team 7          82  2792        2626      948        608      1070   \n",
      "7    Team 8          70  2573        2302      864        577       861   \n",
      "8    Team 9          58  2109        1986      698        522       766   \n",
      "9   Team 10          51  1884        1728      606        440       682   \n",
      "10  Team 11          45  1814        1530      563        392       575   \n",
      "11  Team 12          51  1789        1698      586        389       723   \n",
      "12  Team 13          42  1471        1466      463        384       619   \n",
      "13  Team 14          44  1416        1428      453        336       639   \n",
      "14  Team 15          43  1389        1458      471        358       629   \n",
      "\n",
      "   BasketScored BasketGiven TournamentChampion Runner-up TeamLaunch  \\\n",
      "0          5947        3140                 33        23       1929   \n",
      "1          5900        3114                 25        25       1929   \n",
      "2          4534        3309                 10         8       1929   \n",
      "3          4398        3469                  6         6    1931-32   \n",
      "4          4631        3700                  8         7       1929   \n",
      "5          3680        3373                  1         4       1934   \n",
      "6          3609        3889                  0         0       1929   \n",
      "7          3228        3230                  2         3       1929   \n",
      "8          2683        2847                  0         1       1939   \n",
      "9          2159        2492                  1         0       1932   \n",
      "10         2052        2188                  1         5    1941-42   \n",
      "11         2278        2624                  0         0       1939   \n",
      "12         1767        2180                  0         0       1948   \n",
      "13         1843        2368                  0         1       1929   \n",
      "14         1753        2152                  0         1    1944-45   \n",
      "\n",
      "    HighestPositionHeld  \n",
      "0                     1  \n",
      "1                     1  \n",
      "2                     1  \n",
      "3                     1  \n",
      "4                     1  \n",
      "5                     1  \n",
      "6                     3  \n",
      "7                     1  \n",
      "8                     2  \n",
      "9                     1  \n",
      "10                    1  \n",
      "11                    4  \n",
      "12                    4  \n",
      "13                    2  \n",
      "14                    2  \n",
      "       Team  Tournament Score PlayedGames WonGames DrawnGames LostGames  \\\n",
      "50  Team 51           3    71          90       29         13        48   \n",
      "51  Team 52           4    56          72       21         14        37   \n",
      "52  Team 53           2    52          68       17         18        33   \n",
      "53  Team 54           3    42          54       18          6        30   \n",
      "54  Team 55           2    40          68       13         14        41   \n",
      "55  Team 56           1    35          38        8         11        19   \n",
      "56  Team 57           1    34          38        8         10        20   \n",
      "57  Team 58           1    22          30        7          8        15   \n",
      "58  Team 59           1    19          30        7          5        18   \n",
      "59  Team 60           1    14          30        5          4        21   \n",
      "\n",
      "   BasketScored BasketGiven TournamentChampion Runner-up TeamLaunch  \\\n",
      "50          121         183                  0         0       1953   \n",
      "51          153         184                  0         0       1929   \n",
      "52           71         116                  0         0       1979   \n",
      "53           97         131                  0         0       1929   \n",
      "54           70         182                  0         0       1950   \n",
      "55           36          55                  0         0    2016-17   \n",
      "56           38          66                  0         0       2009   \n",
      "57           37          57                  0         0       1956   \n",
      "58           51          85                  0         0       1951   \n",
      "59           34          65                  0         0       1955   \n",
      "\n",
      "    HighestPositionHeld  \n",
      "50                   14  \n",
      "51                    6  \n",
      "52                   10  \n",
      "53                    8  \n",
      "54                   16  \n",
      "55                   17  \n",
      "56                   20  \n",
      "57                   16  \n",
      "58                   16  \n",
      "59                   15  \n"
     ]
    },
    {
     "data": {
      "text/html": [
       "<div>\n",
       "<style scoped>\n",
       "    .dataframe tbody tr th:only-of-type {\n",
       "        vertical-align: middle;\n",
       "    }\n",
       "\n",
       "    .dataframe tbody tr th {\n",
       "        vertical-align: top;\n",
       "    }\n",
       "\n",
       "    .dataframe thead th {\n",
       "        text-align: right;\n",
       "    }\n",
       "</style>\n",
       "<table border=\"1\" class=\"dataframe\">\n",
       "  <thead>\n",
       "    <tr style=\"text-align: right;\">\n",
       "      <th></th>\n",
       "      <th>Team</th>\n",
       "      <th>Tournament</th>\n",
       "      <th>Score</th>\n",
       "      <th>PlayedGames</th>\n",
       "      <th>WonGames</th>\n",
       "      <th>DrawnGames</th>\n",
       "      <th>LostGames</th>\n",
       "      <th>BasketScored</th>\n",
       "      <th>BasketGiven</th>\n",
       "      <th>TournamentChampion</th>\n",
       "      <th>Runner-up</th>\n",
       "      <th>TeamLaunch</th>\n",
       "      <th>HighestPositionHeld</th>\n",
       "    </tr>\n",
       "  </thead>\n",
       "  <tbody>\n",
       "    <tr>\n",
       "      <th>46</th>\n",
       "      <td>Team 47</td>\n",
       "      <td>4</td>\n",
       "      <td>91</td>\n",
       "      <td>116</td>\n",
       "      <td>34</td>\n",
       "      <td>16</td>\n",
       "      <td>66</td>\n",
       "      <td>181</td>\n",
       "      <td>295</td>\n",
       "      <td>0</td>\n",
       "      <td>0</td>\n",
       "      <td>1947</td>\n",
       "      <td>7</td>\n",
       "    </tr>\n",
       "    <tr>\n",
       "      <th>47</th>\n",
       "      <td>Team 48</td>\n",
       "      <td>2</td>\n",
       "      <td>83</td>\n",
       "      <td>80</td>\n",
       "      <td>20</td>\n",
       "      <td>23</td>\n",
       "      <td>37</td>\n",
       "      <td>62</td>\n",
       "      <td>117</td>\n",
       "      <td>0</td>\n",
       "      <td>0</td>\n",
       "      <td>1996</td>\n",
       "      <td>17</td>\n",
       "    </tr>\n",
       "    <tr>\n",
       "      <th>48</th>\n",
       "      <td>Team 49</td>\n",
       "      <td>2</td>\n",
       "      <td>81</td>\n",
       "      <td>80</td>\n",
       "      <td>19</td>\n",
       "      <td>24</td>\n",
       "      <td>37</td>\n",
       "      <td>70</td>\n",
       "      <td>115</td>\n",
       "      <td>0</td>\n",
       "      <td>0</td>\n",
       "      <td>1995</td>\n",
       "      <td>19</td>\n",
       "    </tr>\n",
       "    <tr>\n",
       "      <th>49</th>\n",
       "      <td>Team 50</td>\n",
       "      <td>4</td>\n",
       "      <td>76</td>\n",
       "      <td>108</td>\n",
       "      <td>30</td>\n",
       "      <td>16</td>\n",
       "      <td>62</td>\n",
       "      <td>145</td>\n",
       "      <td>252</td>\n",
       "      <td>0</td>\n",
       "      <td>0</td>\n",
       "      <td>1945</td>\n",
       "      <td>10</td>\n",
       "    </tr>\n",
       "    <tr>\n",
       "      <th>50</th>\n",
       "      <td>Team 51</td>\n",
       "      <td>3</td>\n",
       "      <td>71</td>\n",
       "      <td>90</td>\n",
       "      <td>29</td>\n",
       "      <td>13</td>\n",
       "      <td>48</td>\n",
       "      <td>121</td>\n",
       "      <td>183</td>\n",
       "      <td>0</td>\n",
       "      <td>0</td>\n",
       "      <td>1953</td>\n",
       "      <td>14</td>\n",
       "    </tr>\n",
       "    <tr>\n",
       "      <th>51</th>\n",
       "      <td>Team 52</td>\n",
       "      <td>4</td>\n",
       "      <td>56</td>\n",
       "      <td>72</td>\n",
       "      <td>21</td>\n",
       "      <td>14</td>\n",
       "      <td>37</td>\n",
       "      <td>153</td>\n",
       "      <td>184</td>\n",
       "      <td>0</td>\n",
       "      <td>0</td>\n",
       "      <td>1929</td>\n",
       "      <td>6</td>\n",
       "    </tr>\n",
       "    <tr>\n",
       "      <th>52</th>\n",
       "      <td>Team 53</td>\n",
       "      <td>2</td>\n",
       "      <td>52</td>\n",
       "      <td>68</td>\n",
       "      <td>17</td>\n",
       "      <td>18</td>\n",
       "      <td>33</td>\n",
       "      <td>71</td>\n",
       "      <td>116</td>\n",
       "      <td>0</td>\n",
       "      <td>0</td>\n",
       "      <td>1979</td>\n",
       "      <td>10</td>\n",
       "    </tr>\n",
       "    <tr>\n",
       "      <th>53</th>\n",
       "      <td>Team 54</td>\n",
       "      <td>3</td>\n",
       "      <td>42</td>\n",
       "      <td>54</td>\n",
       "      <td>18</td>\n",
       "      <td>6</td>\n",
       "      <td>30</td>\n",
       "      <td>97</td>\n",
       "      <td>131</td>\n",
       "      <td>0</td>\n",
       "      <td>0</td>\n",
       "      <td>1929</td>\n",
       "      <td>8</td>\n",
       "    </tr>\n",
       "    <tr>\n",
       "      <th>54</th>\n",
       "      <td>Team 55</td>\n",
       "      <td>2</td>\n",
       "      <td>40</td>\n",
       "      <td>68</td>\n",
       "      <td>13</td>\n",
       "      <td>14</td>\n",
       "      <td>41</td>\n",
       "      <td>70</td>\n",
       "      <td>182</td>\n",
       "      <td>0</td>\n",
       "      <td>0</td>\n",
       "      <td>1950</td>\n",
       "      <td>16</td>\n",
       "    </tr>\n",
       "    <tr>\n",
       "      <th>55</th>\n",
       "      <td>Team 56</td>\n",
       "      <td>1</td>\n",
       "      <td>35</td>\n",
       "      <td>38</td>\n",
       "      <td>8</td>\n",
       "      <td>11</td>\n",
       "      <td>19</td>\n",
       "      <td>36</td>\n",
       "      <td>55</td>\n",
       "      <td>0</td>\n",
       "      <td>0</td>\n",
       "      <td>2016-17</td>\n",
       "      <td>17</td>\n",
       "    </tr>\n",
       "    <tr>\n",
       "      <th>56</th>\n",
       "      <td>Team 57</td>\n",
       "      <td>1</td>\n",
       "      <td>34</td>\n",
       "      <td>38</td>\n",
       "      <td>8</td>\n",
       "      <td>10</td>\n",
       "      <td>20</td>\n",
       "      <td>38</td>\n",
       "      <td>66</td>\n",
       "      <td>0</td>\n",
       "      <td>0</td>\n",
       "      <td>2009</td>\n",
       "      <td>20</td>\n",
       "    </tr>\n",
       "    <tr>\n",
       "      <th>57</th>\n",
       "      <td>Team 58</td>\n",
       "      <td>1</td>\n",
       "      <td>22</td>\n",
       "      <td>30</td>\n",
       "      <td>7</td>\n",
       "      <td>8</td>\n",
       "      <td>15</td>\n",
       "      <td>37</td>\n",
       "      <td>57</td>\n",
       "      <td>0</td>\n",
       "      <td>0</td>\n",
       "      <td>1956</td>\n",
       "      <td>16</td>\n",
       "    </tr>\n",
       "    <tr>\n",
       "      <th>58</th>\n",
       "      <td>Team 59</td>\n",
       "      <td>1</td>\n",
       "      <td>19</td>\n",
       "      <td>30</td>\n",
       "      <td>7</td>\n",
       "      <td>5</td>\n",
       "      <td>18</td>\n",
       "      <td>51</td>\n",
       "      <td>85</td>\n",
       "      <td>0</td>\n",
       "      <td>0</td>\n",
       "      <td>1951</td>\n",
       "      <td>16</td>\n",
       "    </tr>\n",
       "    <tr>\n",
       "      <th>59</th>\n",
       "      <td>Team 60</td>\n",
       "      <td>1</td>\n",
       "      <td>14</td>\n",
       "      <td>30</td>\n",
       "      <td>5</td>\n",
       "      <td>4</td>\n",
       "      <td>21</td>\n",
       "      <td>34</td>\n",
       "      <td>65</td>\n",
       "      <td>0</td>\n",
       "      <td>0</td>\n",
       "      <td>1955</td>\n",
       "      <td>15</td>\n",
       "    </tr>\n",
       "    <tr>\n",
       "      <th>60</th>\n",
       "      <td>Team 61</td>\n",
       "      <td>1</td>\n",
       "      <td>0</td>\n",
       "      <td>0</td>\n",
       "      <td>0</td>\n",
       "      <td>0</td>\n",
       "      <td>0</td>\n",
       "      <td>0</td>\n",
       "      <td>0</td>\n",
       "      <td>0</td>\n",
       "      <td>0</td>\n",
       "      <td>2017</td>\n",
       "      <td>9</td>\n",
       "    </tr>\n",
       "  </tbody>\n",
       "</table>\n",
       "</div>"
      ],
      "text/plain": [
       "       Team  Tournament Score PlayedGames WonGames DrawnGames LostGames  \\\n",
       "46  Team 47           4    91         116       34         16        66   \n",
       "47  Team 48           2    83          80       20         23        37   \n",
       "48  Team 49           2    81          80       19         24        37   \n",
       "49  Team 50           4    76         108       30         16        62   \n",
       "50  Team 51           3    71          90       29         13        48   \n",
       "51  Team 52           4    56          72       21         14        37   \n",
       "52  Team 53           2    52          68       17         18        33   \n",
       "53  Team 54           3    42          54       18          6        30   \n",
       "54  Team 55           2    40          68       13         14        41   \n",
       "55  Team 56           1    35          38        8         11        19   \n",
       "56  Team 57           1    34          38        8         10        20   \n",
       "57  Team 58           1    22          30        7          8        15   \n",
       "58  Team 59           1    19          30        7          5        18   \n",
       "59  Team 60           1    14          30        5          4        21   \n",
       "60  Team 61           1     0           0        0          0         0   \n",
       "\n",
       "   BasketScored BasketGiven TournamentChampion Runner-up TeamLaunch  \\\n",
       "46          181         295                  0         0       1947   \n",
       "47           62         117                  0         0       1996   \n",
       "48           70         115                  0         0       1995   \n",
       "49          145         252                  0         0       1945   \n",
       "50          121         183                  0         0       1953   \n",
       "51          153         184                  0         0       1929   \n",
       "52           71         116                  0         0       1979   \n",
       "53           97         131                  0         0       1929   \n",
       "54           70         182                  0         0       1950   \n",
       "55           36          55                  0         0    2016-17   \n",
       "56           38          66                  0         0       2009   \n",
       "57           37          57                  0         0       1956   \n",
       "58           51          85                  0         0       1951   \n",
       "59           34          65                  0         0       1955   \n",
       "60            0           0                  0         0       2017   \n",
       "\n",
       "    HighestPositionHeld  \n",
       "46                    7  \n",
       "47                   17  \n",
       "48                   19  \n",
       "49                   10  \n",
       "50                   14  \n",
       "51                    6  \n",
       "52                   10  \n",
       "53                    8  \n",
       "54                   16  \n",
       "55                   17  \n",
       "56                   20  \n",
       "57                   16  \n",
       "58                   16  \n",
       "59                   15  \n",
       "60                    9  "
      ]
     },
     "execution_count": 17,
     "metadata": {},
     "output_type": "execute_result"
    }
   ],
   "source": [
    "print(data.head(15))\n",
    "print(data[50:60])\n",
    "(data.tail(15))"
   ]
  },
  {
   "cell_type": "code",
   "execution_count": 19,
   "metadata": {},
   "outputs": [
    {
     "data": {
      "text/html": [
       "<div>\n",
       "<style scoped>\n",
       "    .dataframe tbody tr th:only-of-type {\n",
       "        vertical-align: middle;\n",
       "    }\n",
       "\n",
       "    .dataframe tbody tr th {\n",
       "        vertical-align: top;\n",
       "    }\n",
       "\n",
       "    .dataframe thead th {\n",
       "        text-align: right;\n",
       "    }\n",
       "</style>\n",
       "<table border=\"1\" class=\"dataframe\">\n",
       "  <thead>\n",
       "    <tr style=\"text-align: right;\">\n",
       "      <th></th>\n",
       "      <th>Team</th>\n",
       "      <th>Tournament</th>\n",
       "      <th>Score</th>\n",
       "      <th>PlayedGames</th>\n",
       "      <th>WonGames</th>\n",
       "      <th>DrawnGames</th>\n",
       "      <th>LostGames</th>\n",
       "      <th>BasketScored</th>\n",
       "      <th>BasketGiven</th>\n",
       "      <th>TournamentChampion</th>\n",
       "      <th>Runner-up</th>\n",
       "      <th>TeamLaunch</th>\n",
       "      <th>HighestPositionHeld</th>\n",
       "    </tr>\n",
       "  </thead>\n",
       "  <tbody>\n",
       "    <tr>\n",
       "      <th>0</th>\n",
       "      <td>Team 1</td>\n",
       "      <td>86</td>\n",
       "      <td>4385</td>\n",
       "      <td>2762</td>\n",
       "      <td>1647</td>\n",
       "      <td>552</td>\n",
       "      <td>563</td>\n",
       "      <td>5947</td>\n",
       "      <td>3140</td>\n",
       "      <td>33</td>\n",
       "      <td>23</td>\n",
       "      <td>1929</td>\n",
       "      <td>1</td>\n",
       "    </tr>\n",
       "    <tr>\n",
       "      <th>1</th>\n",
       "      <td>Team 2</td>\n",
       "      <td>86</td>\n",
       "      <td>4262</td>\n",
       "      <td>2762</td>\n",
       "      <td>1581</td>\n",
       "      <td>573</td>\n",
       "      <td>608</td>\n",
       "      <td>5900</td>\n",
       "      <td>3114</td>\n",
       "      <td>25</td>\n",
       "      <td>25</td>\n",
       "      <td>1929</td>\n",
       "      <td>1</td>\n",
       "    </tr>\n",
       "    <tr>\n",
       "      <th>2</th>\n",
       "      <td>Team 3</td>\n",
       "      <td>80</td>\n",
       "      <td>3442</td>\n",
       "      <td>2614</td>\n",
       "      <td>1241</td>\n",
       "      <td>598</td>\n",
       "      <td>775</td>\n",
       "      <td>4534</td>\n",
       "      <td>3309</td>\n",
       "      <td>10</td>\n",
       "      <td>8</td>\n",
       "      <td>1929</td>\n",
       "      <td>1</td>\n",
       "    </tr>\n",
       "    <tr>\n",
       "      <th>3</th>\n",
       "      <td>Team 4</td>\n",
       "      <td>82</td>\n",
       "      <td>3386</td>\n",
       "      <td>2664</td>\n",
       "      <td>1187</td>\n",
       "      <td>616</td>\n",
       "      <td>861</td>\n",
       "      <td>4398</td>\n",
       "      <td>3469</td>\n",
       "      <td>6</td>\n",
       "      <td>6</td>\n",
       "      <td>1931</td>\n",
       "      <td>1</td>\n",
       "    </tr>\n",
       "    <tr>\n",
       "      <th>4</th>\n",
       "      <td>Team 5</td>\n",
       "      <td>86</td>\n",
       "      <td>3368</td>\n",
       "      <td>2762</td>\n",
       "      <td>1209</td>\n",
       "      <td>633</td>\n",
       "      <td>920</td>\n",
       "      <td>4631</td>\n",
       "      <td>3700</td>\n",
       "      <td>8</td>\n",
       "      <td>7</td>\n",
       "      <td>1929</td>\n",
       "      <td>1</td>\n",
       "    </tr>\n",
       "  </tbody>\n",
       "</table>\n",
       "</div>"
      ],
      "text/plain": [
       "     Team  Tournament Score PlayedGames WonGames DrawnGames LostGames  \\\n",
       "0  Team 1          86  4385        2762     1647        552       563   \n",
       "1  Team 2          86  4262        2762     1581        573       608   \n",
       "2  Team 3          80  3442        2614     1241        598       775   \n",
       "3  Team 4          82  3386        2664     1187        616       861   \n",
       "4  Team 5          86  3368        2762     1209        633       920   \n",
       "\n",
       "  BasketScored BasketGiven TournamentChampion Runner-up TeamLaunch  \\\n",
       "0         5947        3140                 33        23       1929   \n",
       "1         5900        3114                 25        25       1929   \n",
       "2         4534        3309                 10         8       1929   \n",
       "3         4398        3469                  6         6       1931   \n",
       "4         4631        3700                  8         7       1929   \n",
       "\n",
       "   HighestPositionHeld  \n",
       "0                    1  \n",
       "1                    1  \n",
       "2                    1  \n",
       "3                    1  \n",
       "4                    1  "
      ]
     },
     "execution_count": 19,
     "metadata": {},
     "output_type": "execute_result"
    }
   ],
   "source": [
    "data.head()"
   ]
  },
  {
   "cell_type": "code",
   "execution_count": 34,
   "metadata": {},
   "outputs": [
    {
     "name": "stdout",
     "output_type": "stream",
     "text": [
      "<class 'pandas.core.frame.DataFrame'>\n",
      "RangeIndex: 61 entries, 0 to 60\n",
      "Data columns (total 14 columns):\n",
      " #   Column               Non-Null Count  Dtype \n",
      "---  ------               --------------  ----- \n",
      " 0   Tournament           61 non-null     int64 \n",
      " 1   Score                61 non-null     int64 \n",
      " 2   PlayedGames          61 non-null     int64 \n",
      " 3   WonGames             61 non-null     int64 \n",
      " 4   DrawnGames           61 non-null     int64 \n",
      " 5   LostGames            61 non-null     int64 \n",
      " 6   BasketScored         61 non-null     int64 \n",
      " 7   BasketGiven          61 non-null     int64 \n",
      " 8   TournamentChampion   61 non-null     int64 \n",
      " 9   Runner-up            61 non-null     int64 \n",
      " 10  TeamLaunch           61 non-null     int64 \n",
      " 11  HighestPositionHeld  61 non-null     int64 \n",
      " 12  Experience           61 non-null     int64 \n",
      " 13  Team                 61 non-null     object\n",
      "dtypes: int64(13), object(1)\n",
      "memory usage: 6.8+ KB\n"
     ]
    }
   ],
   "source": [
    "data['TeamLaunch']=data['TeamLaunch'].apply(lambda x:x.split('-')[0]).astype('int64')\n",
    "data2=data\n",
    "data2=data2.drop(columns=['Team']).astype(\"int64\")\n",
    "data2['Team']=data['Team']\n",
    "data2.info()"
   ]
  },
  {
   "cell_type": "code",
   "execution_count": 39,
   "metadata": {},
   "outputs": [
    {
     "data": {
      "text/html": [
       "<div>\n",
       "<style scoped>\n",
       "    .dataframe tbody tr th:only-of-type {\n",
       "        vertical-align: middle;\n",
       "    }\n",
       "\n",
       "    .dataframe tbody tr th {\n",
       "        vertical-align: top;\n",
       "    }\n",
       "\n",
       "    .dataframe thead th {\n",
       "        text-align: right;\n",
       "    }\n",
       "</style>\n",
       "<table border=\"1\" class=\"dataframe\">\n",
       "  <thead>\n",
       "    <tr style=\"text-align: right;\">\n",
       "      <th></th>\n",
       "      <th>Tournament</th>\n",
       "      <th>Score</th>\n",
       "      <th>PlayedGames</th>\n",
       "      <th>WonGames</th>\n",
       "      <th>DrawnGames</th>\n",
       "      <th>LostGames</th>\n",
       "      <th>BasketScored</th>\n",
       "      <th>BasketGiven</th>\n",
       "      <th>TournamentChampion</th>\n",
       "      <th>Runner-up</th>\n",
       "      <th>TeamLaunch</th>\n",
       "      <th>HighestPositionHeld</th>\n",
       "      <th>Experience</th>\n",
       "      <th>Team</th>\n",
       "      <th>ChampRate</th>\n",
       "      <th>WinningRate</th>\n",
       "      <th>Champions</th>\n",
       "      <th>Winning</th>\n",
       "    </tr>\n",
       "  </thead>\n",
       "  <tbody>\n",
       "    <tr>\n",
       "      <th>0</th>\n",
       "      <td>86</td>\n",
       "      <td>4385</td>\n",
       "      <td>2762</td>\n",
       "      <td>1647</td>\n",
       "      <td>552</td>\n",
       "      <td>563</td>\n",
       "      <td>5947</td>\n",
       "      <td>3140</td>\n",
       "      <td>33</td>\n",
       "      <td>23</td>\n",
       "      <td>1929</td>\n",
       "      <td>1</td>\n",
       "      <td>88</td>\n",
       "      <td>Team 1</td>\n",
       "      <td>0.383721</td>\n",
       "      <td>0.596307</td>\n",
       "      <td>0.383721</td>\n",
       "      <td>0.596307</td>\n",
       "    </tr>\n",
       "    <tr>\n",
       "      <th>1</th>\n",
       "      <td>86</td>\n",
       "      <td>4262</td>\n",
       "      <td>2762</td>\n",
       "      <td>1581</td>\n",
       "      <td>573</td>\n",
       "      <td>608</td>\n",
       "      <td>5900</td>\n",
       "      <td>3114</td>\n",
       "      <td>25</td>\n",
       "      <td>25</td>\n",
       "      <td>1929</td>\n",
       "      <td>1</td>\n",
       "      <td>88</td>\n",
       "      <td>Team 2</td>\n",
       "      <td>0.290698</td>\n",
       "      <td>0.572411</td>\n",
       "      <td>0.290698</td>\n",
       "      <td>0.572411</td>\n",
       "    </tr>\n",
       "    <tr>\n",
       "      <th>2</th>\n",
       "      <td>80</td>\n",
       "      <td>3442</td>\n",
       "      <td>2614</td>\n",
       "      <td>1241</td>\n",
       "      <td>598</td>\n",
       "      <td>775</td>\n",
       "      <td>4534</td>\n",
       "      <td>3309</td>\n",
       "      <td>10</td>\n",
       "      <td>8</td>\n",
       "      <td>1929</td>\n",
       "      <td>1</td>\n",
       "      <td>88</td>\n",
       "      <td>Team 3</td>\n",
       "      <td>0.125000</td>\n",
       "      <td>0.474751</td>\n",
       "      <td>0.125000</td>\n",
       "      <td>0.474751</td>\n",
       "    </tr>\n",
       "    <tr>\n",
       "      <th>3</th>\n",
       "      <td>82</td>\n",
       "      <td>3386</td>\n",
       "      <td>2664</td>\n",
       "      <td>1187</td>\n",
       "      <td>616</td>\n",
       "      <td>861</td>\n",
       "      <td>4398</td>\n",
       "      <td>3469</td>\n",
       "      <td>6</td>\n",
       "      <td>6</td>\n",
       "      <td>1931</td>\n",
       "      <td>1</td>\n",
       "      <td>86</td>\n",
       "      <td>Team 4</td>\n",
       "      <td>0.073171</td>\n",
       "      <td>0.445571</td>\n",
       "      <td>0.073171</td>\n",
       "      <td>0.445571</td>\n",
       "    </tr>\n",
       "    <tr>\n",
       "      <th>4</th>\n",
       "      <td>86</td>\n",
       "      <td>3368</td>\n",
       "      <td>2762</td>\n",
       "      <td>1209</td>\n",
       "      <td>633</td>\n",
       "      <td>920</td>\n",
       "      <td>4631</td>\n",
       "      <td>3700</td>\n",
       "      <td>8</td>\n",
       "      <td>7</td>\n",
       "      <td>1929</td>\n",
       "      <td>1</td>\n",
       "      <td>88</td>\n",
       "      <td>Team 5</td>\n",
       "      <td>0.093023</td>\n",
       "      <td>0.437726</td>\n",
       "      <td>0.093023</td>\n",
       "      <td>0.437726</td>\n",
       "    </tr>\n",
       "    <tr>\n",
       "      <th>...</th>\n",
       "      <td>...</td>\n",
       "      <td>...</td>\n",
       "      <td>...</td>\n",
       "      <td>...</td>\n",
       "      <td>...</td>\n",
       "      <td>...</td>\n",
       "      <td>...</td>\n",
       "      <td>...</td>\n",
       "      <td>...</td>\n",
       "      <td>...</td>\n",
       "      <td>...</td>\n",
       "      <td>...</td>\n",
       "      <td>...</td>\n",
       "      <td>...</td>\n",
       "      <td>...</td>\n",
       "      <td>...</td>\n",
       "      <td>...</td>\n",
       "      <td>...</td>\n",
       "    </tr>\n",
       "    <tr>\n",
       "      <th>56</th>\n",
       "      <td>1</td>\n",
       "      <td>34</td>\n",
       "      <td>38</td>\n",
       "      <td>8</td>\n",
       "      <td>10</td>\n",
       "      <td>20</td>\n",
       "      <td>38</td>\n",
       "      <td>66</td>\n",
       "      <td>0</td>\n",
       "      <td>0</td>\n",
       "      <td>2009</td>\n",
       "      <td>20</td>\n",
       "      <td>8</td>\n",
       "      <td>Team 57</td>\n",
       "      <td>0.000000</td>\n",
       "      <td>0.210526</td>\n",
       "      <td>0.000000</td>\n",
       "      <td>0.210526</td>\n",
       "    </tr>\n",
       "    <tr>\n",
       "      <th>57</th>\n",
       "      <td>1</td>\n",
       "      <td>22</td>\n",
       "      <td>30</td>\n",
       "      <td>7</td>\n",
       "      <td>8</td>\n",
       "      <td>15</td>\n",
       "      <td>37</td>\n",
       "      <td>57</td>\n",
       "      <td>0</td>\n",
       "      <td>0</td>\n",
       "      <td>1956</td>\n",
       "      <td>16</td>\n",
       "      <td>61</td>\n",
       "      <td>Team 58</td>\n",
       "      <td>0.000000</td>\n",
       "      <td>0.233333</td>\n",
       "      <td>0.000000</td>\n",
       "      <td>0.233333</td>\n",
       "    </tr>\n",
       "    <tr>\n",
       "      <th>58</th>\n",
       "      <td>1</td>\n",
       "      <td>19</td>\n",
       "      <td>30</td>\n",
       "      <td>7</td>\n",
       "      <td>5</td>\n",
       "      <td>18</td>\n",
       "      <td>51</td>\n",
       "      <td>85</td>\n",
       "      <td>0</td>\n",
       "      <td>0</td>\n",
       "      <td>1951</td>\n",
       "      <td>16</td>\n",
       "      <td>66</td>\n",
       "      <td>Team 59</td>\n",
       "      <td>0.000000</td>\n",
       "      <td>0.233333</td>\n",
       "      <td>0.000000</td>\n",
       "      <td>0.233333</td>\n",
       "    </tr>\n",
       "    <tr>\n",
       "      <th>59</th>\n",
       "      <td>1</td>\n",
       "      <td>14</td>\n",
       "      <td>30</td>\n",
       "      <td>5</td>\n",
       "      <td>4</td>\n",
       "      <td>21</td>\n",
       "      <td>34</td>\n",
       "      <td>65</td>\n",
       "      <td>0</td>\n",
       "      <td>0</td>\n",
       "      <td>1955</td>\n",
       "      <td>15</td>\n",
       "      <td>62</td>\n",
       "      <td>Team 60</td>\n",
       "      <td>0.000000</td>\n",
       "      <td>0.166667</td>\n",
       "      <td>0.000000</td>\n",
       "      <td>0.166667</td>\n",
       "    </tr>\n",
       "    <tr>\n",
       "      <th>60</th>\n",
       "      <td>1</td>\n",
       "      <td>0</td>\n",
       "      <td>0</td>\n",
       "      <td>0</td>\n",
       "      <td>0</td>\n",
       "      <td>0</td>\n",
       "      <td>0</td>\n",
       "      <td>0</td>\n",
       "      <td>0</td>\n",
       "      <td>0</td>\n",
       "      <td>2017</td>\n",
       "      <td>9</td>\n",
       "      <td>0</td>\n",
       "      <td>Team 61</td>\n",
       "      <td>0.000000</td>\n",
       "      <td>NaN</td>\n",
       "      <td>0.000000</td>\n",
       "      <td>NaN</td>\n",
       "    </tr>\n",
       "  </tbody>\n",
       "</table>\n",
       "<p>61 rows × 18 columns</p>\n",
       "</div>"
      ],
      "text/plain": [
       "    Tournament  Score  PlayedGames  WonGames  DrawnGames  LostGames  \\\n",
       "0           86   4385         2762      1647         552        563   \n",
       "1           86   4262         2762      1581         573        608   \n",
       "2           80   3442         2614      1241         598        775   \n",
       "3           82   3386         2664      1187         616        861   \n",
       "4           86   3368         2762      1209         633        920   \n",
       "..         ...    ...          ...       ...         ...        ...   \n",
       "56           1     34           38         8          10         20   \n",
       "57           1     22           30         7           8         15   \n",
       "58           1     19           30         7           5         18   \n",
       "59           1     14           30         5           4         21   \n",
       "60           1      0            0         0           0          0   \n",
       "\n",
       "    BasketScored  BasketGiven  TournamentChampion  Runner-up  TeamLaunch  \\\n",
       "0           5947         3140                  33         23        1929   \n",
       "1           5900         3114                  25         25        1929   \n",
       "2           4534         3309                  10          8        1929   \n",
       "3           4398         3469                   6          6        1931   \n",
       "4           4631         3700                   8          7        1929   \n",
       "..           ...          ...                 ...        ...         ...   \n",
       "56            38           66                   0          0        2009   \n",
       "57            37           57                   0          0        1956   \n",
       "58            51           85                   0          0        1951   \n",
       "59            34           65                   0          0        1955   \n",
       "60             0            0                   0          0        2017   \n",
       "\n",
       "    HighestPositionHeld  Experience     Team  ChampRate  WinningRate  \\\n",
       "0                     1          88   Team 1   0.383721     0.596307   \n",
       "1                     1          88   Team 2   0.290698     0.572411   \n",
       "2                     1          88   Team 3   0.125000     0.474751   \n",
       "3                     1          86   Team 4   0.073171     0.445571   \n",
       "4                     1          88   Team 5   0.093023     0.437726   \n",
       "..                  ...         ...      ...        ...          ...   \n",
       "56                   20           8  Team 57   0.000000     0.210526   \n",
       "57                   16          61  Team 58   0.000000     0.233333   \n",
       "58                   16          66  Team 59   0.000000     0.233333   \n",
       "59                   15          62  Team 60   0.000000     0.166667   \n",
       "60                    9           0  Team 61   0.000000          NaN   \n",
       "\n",
       "    Champions   Winning  \n",
       "0    0.383721  0.596307  \n",
       "1    0.290698  0.572411  \n",
       "2    0.125000  0.474751  \n",
       "3    0.073171  0.445571  \n",
       "4    0.093023  0.437726  \n",
       "..        ...       ...  \n",
       "56   0.000000  0.210526  \n",
       "57   0.000000  0.233333  \n",
       "58   0.000000  0.233333  \n",
       "59   0.000000  0.166667  \n",
       "60   0.000000       NaN  \n",
       "\n",
       "[61 rows x 18 columns]"
      ]
     },
     "execution_count": 39,
     "metadata": {},
     "output_type": "execute_result"
    }
   ],
   "source": [
    "data2['Experience']=data2['TeamLaunch'].max()-data2['TeamLaunch']\n",
    "data2['Champions']=data2['TournamentChampion']/data2['Tournament']\n",
    "data2['Winning']=data2['WonGames']/data2['PlayedGames']\n",
    "data2"
   ]
  },
  {
   "cell_type": "code",
   "execution_count": 49,
   "metadata": {},
   "outputs": [],
   "source": [
    "Grouped_data=data2.filter(['Team','Experience','Winning','Champions'])"
   ]
  },
  {
   "cell_type": "markdown",
   "metadata": {},
   "source": [
    "Top performing"
   ]
  },
  {
   "cell_type": "code",
   "execution_count": 50,
   "metadata": {},
   "outputs": [
    {
     "data": {
      "text/html": [
       "<div>\n",
       "<style scoped>\n",
       "    .dataframe tbody tr th:only-of-type {\n",
       "        vertical-align: middle;\n",
       "    }\n",
       "\n",
       "    .dataframe tbody tr th {\n",
       "        vertical-align: top;\n",
       "    }\n",
       "\n",
       "    .dataframe thead th {\n",
       "        text-align: right;\n",
       "    }\n",
       "</style>\n",
       "<table border=\"1\" class=\"dataframe\">\n",
       "  <thead>\n",
       "    <tr style=\"text-align: right;\">\n",
       "      <th></th>\n",
       "      <th>Team</th>\n",
       "      <th>Experience</th>\n",
       "      <th>Winning</th>\n",
       "      <th>Champions</th>\n",
       "    </tr>\n",
       "  </thead>\n",
       "  <tbody>\n",
       "    <tr>\n",
       "      <th>0</th>\n",
       "      <td>Team 1</td>\n",
       "      <td>88</td>\n",
       "      <td>0.596307</td>\n",
       "      <td>0.383721</td>\n",
       "    </tr>\n",
       "    <tr>\n",
       "      <th>1</th>\n",
       "      <td>Team 2</td>\n",
       "      <td>88</td>\n",
       "      <td>0.572411</td>\n",
       "      <td>0.290698</td>\n",
       "    </tr>\n",
       "    <tr>\n",
       "      <th>2</th>\n",
       "      <td>Team 3</td>\n",
       "      <td>88</td>\n",
       "      <td>0.474751</td>\n",
       "      <td>0.125000</td>\n",
       "    </tr>\n",
       "    <tr>\n",
       "      <th>3</th>\n",
       "      <td>Team 4</td>\n",
       "      <td>86</td>\n",
       "      <td>0.445571</td>\n",
       "      <td>0.073171</td>\n",
       "    </tr>\n",
       "    <tr>\n",
       "      <th>4</th>\n",
       "      <td>Team 5</td>\n",
       "      <td>88</td>\n",
       "      <td>0.437726</td>\n",
       "      <td>0.093023</td>\n",
       "    </tr>\n",
       "    <tr>\n",
       "      <th>20</th>\n",
       "      <td>Team 21</td>\n",
       "      <td>19</td>\n",
       "      <td>0.411765</td>\n",
       "      <td>0.000000</td>\n",
       "    </tr>\n",
       "    <tr>\n",
       "      <th>5</th>\n",
       "      <td>Team 6</td>\n",
       "      <td>83</td>\n",
       "      <td>0.411130</td>\n",
       "      <td>0.013699</td>\n",
       "    </tr>\n",
       "    <tr>\n",
       "      <th>7</th>\n",
       "      <td>Team 8</td>\n",
       "      <td>88</td>\n",
       "      <td>0.375326</td>\n",
       "      <td>0.028571</td>\n",
       "    </tr>\n",
       "    <tr>\n",
       "      <th>10</th>\n",
       "      <td>Team 11</td>\n",
       "      <td>76</td>\n",
       "      <td>0.367974</td>\n",
       "      <td>0.022222</td>\n",
       "    </tr>\n",
       "    <tr>\n",
       "      <th>6</th>\n",
       "      <td>Team 7</td>\n",
       "      <td>88</td>\n",
       "      <td>0.361005</td>\n",
       "      <td>0.000000</td>\n",
       "    </tr>\n",
       "  </tbody>\n",
       "</table>\n",
       "</div>"
      ],
      "text/plain": [
       "       Team  Experience   Winning  Champions\n",
       "0    Team 1          88  0.596307   0.383721\n",
       "1    Team 2          88  0.572411   0.290698\n",
       "2    Team 3          88  0.474751   0.125000\n",
       "3    Team 4          86  0.445571   0.073171\n",
       "4    Team 5          88  0.437726   0.093023\n",
       "20  Team 21          19  0.411765   0.000000\n",
       "5    Team 6          83  0.411130   0.013699\n",
       "7    Team 8          88  0.375326   0.028571\n",
       "10  Team 11          76  0.367974   0.022222\n",
       "6    Team 7          88  0.361005   0.000000"
      ]
     },
     "execution_count": 50,
     "metadata": {},
     "output_type": "execute_result"
    }
   ],
   "source": [
    "Grouped_data.sort_values(by='Winning',ascending=False).head(10) "
   ]
  },
  {
   "cell_type": "markdown",
   "metadata": {},
   "source": [
    "Oldest Team"
   ]
  },
  {
   "cell_type": "code",
   "execution_count": 51,
   "metadata": {},
   "outputs": [
    {
     "data": {
      "text/html": [
       "<div>\n",
       "<style scoped>\n",
       "    .dataframe tbody tr th:only-of-type {\n",
       "        vertical-align: middle;\n",
       "    }\n",
       "\n",
       "    .dataframe tbody tr th {\n",
       "        vertical-align: top;\n",
       "    }\n",
       "\n",
       "    .dataframe thead th {\n",
       "        text-align: right;\n",
       "    }\n",
       "</style>\n",
       "<table border=\"1\" class=\"dataframe\">\n",
       "  <thead>\n",
       "    <tr style=\"text-align: right;\">\n",
       "      <th></th>\n",
       "      <th>Team</th>\n",
       "      <th>Experience</th>\n",
       "      <th>Winning</th>\n",
       "      <th>Champions</th>\n",
       "    </tr>\n",
       "  </thead>\n",
       "  <tbody>\n",
       "    <tr>\n",
       "      <th>0</th>\n",
       "      <td>Team 1</td>\n",
       "      <td>88</td>\n",
       "      <td>0.596307</td>\n",
       "      <td>0.383721</td>\n",
       "    </tr>\n",
       "    <tr>\n",
       "      <th>7</th>\n",
       "      <td>Team 8</td>\n",
       "      <td>88</td>\n",
       "      <td>0.375326</td>\n",
       "      <td>0.028571</td>\n",
       "    </tr>\n",
       "    <tr>\n",
       "      <th>1</th>\n",
       "      <td>Team 2</td>\n",
       "      <td>88</td>\n",
       "      <td>0.572411</td>\n",
       "      <td>0.290698</td>\n",
       "    </tr>\n",
       "    <tr>\n",
       "      <th>53</th>\n",
       "      <td>Team 54</td>\n",
       "      <td>88</td>\n",
       "      <td>0.333333</td>\n",
       "      <td>0.000000</td>\n",
       "    </tr>\n",
       "    <tr>\n",
       "      <th>13</th>\n",
       "      <td>Team 14</td>\n",
       "      <td>88</td>\n",
       "      <td>0.317227</td>\n",
       "      <td>0.000000</td>\n",
       "    </tr>\n",
       "    <tr>\n",
       "      <th>44</th>\n",
       "      <td>Team 45</td>\n",
       "      <td>88</td>\n",
       "      <td>0.330769</td>\n",
       "      <td>0.000000</td>\n",
       "    </tr>\n",
       "    <tr>\n",
       "      <th>51</th>\n",
       "      <td>Team 52</td>\n",
       "      <td>88</td>\n",
       "      <td>0.291667</td>\n",
       "      <td>0.000000</td>\n",
       "    </tr>\n",
       "    <tr>\n",
       "      <th>6</th>\n",
       "      <td>Team 7</td>\n",
       "      <td>88</td>\n",
       "      <td>0.361005</td>\n",
       "      <td>0.000000</td>\n",
       "    </tr>\n",
       "    <tr>\n",
       "      <th>4</th>\n",
       "      <td>Team 5</td>\n",
       "      <td>88</td>\n",
       "      <td>0.437726</td>\n",
       "      <td>0.093023</td>\n",
       "    </tr>\n",
       "    <tr>\n",
       "      <th>2</th>\n",
       "      <td>Team 3</td>\n",
       "      <td>88</td>\n",
       "      <td>0.474751</td>\n",
       "      <td>0.125000</td>\n",
       "    </tr>\n",
       "  </tbody>\n",
       "</table>\n",
       "</div>"
      ],
      "text/plain": [
       "       Team  Experience   Winning  Champions\n",
       "0    Team 1          88  0.596307   0.383721\n",
       "7    Team 8          88  0.375326   0.028571\n",
       "1    Team 2          88  0.572411   0.290698\n",
       "53  Team 54          88  0.333333   0.000000\n",
       "13  Team 14          88  0.317227   0.000000\n",
       "44  Team 45          88  0.330769   0.000000\n",
       "51  Team 52          88  0.291667   0.000000\n",
       "6    Team 7          88  0.361005   0.000000\n",
       "4    Team 5          88  0.437726   0.093023\n",
       "2    Team 3          88  0.474751   0.125000"
      ]
     },
     "execution_count": 51,
     "metadata": {},
     "output_type": "execute_result"
    }
   ],
   "source": [
    "Grouped_data.sort_values(by='Experience',ascending=False).head(10) "
   ]
  },
  {
   "cell_type": "markdown",
   "metadata": {},
   "source": [
    "Low performing team "
   ]
  },
  {
   "cell_type": "code",
   "execution_count": 52,
   "metadata": {
    "scrolled": true
   },
   "outputs": [
    {
     "data": {
      "text/html": [
       "<div>\n",
       "<style scoped>\n",
       "    .dataframe tbody tr th:only-of-type {\n",
       "        vertical-align: middle;\n",
       "    }\n",
       "\n",
       "    .dataframe tbody tr th {\n",
       "        vertical-align: top;\n",
       "    }\n",
       "\n",
       "    .dataframe thead th {\n",
       "        text-align: right;\n",
       "    }\n",
       "</style>\n",
       "<table border=\"1\" class=\"dataframe\">\n",
       "  <thead>\n",
       "    <tr style=\"text-align: right;\">\n",
       "      <th></th>\n",
       "      <th>Team</th>\n",
       "      <th>Experience</th>\n",
       "      <th>Winning</th>\n",
       "      <th>Champions</th>\n",
       "    </tr>\n",
       "  </thead>\n",
       "  <tbody>\n",
       "    <tr>\n",
       "      <th>59</th>\n",
       "      <td>Team 60</td>\n",
       "      <td>62</td>\n",
       "      <td>0.166667</td>\n",
       "      <td>0.0</td>\n",
       "    </tr>\n",
       "    <tr>\n",
       "      <th>54</th>\n",
       "      <td>Team 55</td>\n",
       "      <td>67</td>\n",
       "      <td>0.191176</td>\n",
       "      <td>0.0</td>\n",
       "    </tr>\n",
       "    <tr>\n",
       "      <th>56</th>\n",
       "      <td>Team 57</td>\n",
       "      <td>8</td>\n",
       "      <td>0.210526</td>\n",
       "      <td>0.0</td>\n",
       "    </tr>\n",
       "    <tr>\n",
       "      <th>55</th>\n",
       "      <td>Team 56</td>\n",
       "      <td>1</td>\n",
       "      <td>0.210526</td>\n",
       "      <td>0.0</td>\n",
       "    </tr>\n",
       "    <tr>\n",
       "      <th>45</th>\n",
       "      <td>Team 46</td>\n",
       "      <td>27</td>\n",
       "      <td>0.228070</td>\n",
       "      <td>0.0</td>\n",
       "    </tr>\n",
       "    <tr>\n",
       "      <th>32</th>\n",
       "      <td>Team 33</td>\n",
       "      <td>40</td>\n",
       "      <td>0.232143</td>\n",
       "      <td>0.0</td>\n",
       "    </tr>\n",
       "    <tr>\n",
       "      <th>57</th>\n",
       "      <td>Team 58</td>\n",
       "      <td>61</td>\n",
       "      <td>0.233333</td>\n",
       "      <td>0.0</td>\n",
       "    </tr>\n",
       "    <tr>\n",
       "      <th>58</th>\n",
       "      <td>Team 59</td>\n",
       "      <td>66</td>\n",
       "      <td>0.233333</td>\n",
       "      <td>0.0</td>\n",
       "    </tr>\n",
       "    <tr>\n",
       "      <th>48</th>\n",
       "      <td>Team 49</td>\n",
       "      <td>22</td>\n",
       "      <td>0.237500</td>\n",
       "      <td>0.0</td>\n",
       "    </tr>\n",
       "    <tr>\n",
       "      <th>42</th>\n",
       "      <td>Team 43</td>\n",
       "      <td>18</td>\n",
       "      <td>0.243421</td>\n",
       "      <td>0.0</td>\n",
       "    </tr>\n",
       "  </tbody>\n",
       "</table>\n",
       "</div>"
      ],
      "text/plain": [
       "       Team  Experience   Winning  Champions\n",
       "59  Team 60          62  0.166667        0.0\n",
       "54  Team 55          67  0.191176        0.0\n",
       "56  Team 57           8  0.210526        0.0\n",
       "55  Team 56           1  0.210526        0.0\n",
       "45  Team 46          27  0.228070        0.0\n",
       "32  Team 33          40  0.232143        0.0\n",
       "57  Team 58          61  0.233333        0.0\n",
       "58  Team 59          66  0.233333        0.0\n",
       "48  Team 49          22  0.237500        0.0\n",
       "42  Team 43          18  0.243421        0.0"
      ]
     },
     "execution_count": 52,
     "metadata": {},
     "output_type": "execute_result"
    }
   ],
   "source": [
    "Grouped_data.sort_values(by='Winning',ascending=True).head(10) "
   ]
  },
  {
   "cell_type": "code",
   "execution_count": 55,
   "metadata": {},
   "outputs": [
    {
     "name": "stdout",
     "output_type": "stream",
     "text": [
      "Collecting plotly\n",
      "  Downloading plotly-5.3.1-py2.py3-none-any.whl (23.9 MB)\n",
      "Collecting tenacity>=6.2.0\n",
      "  Downloading tenacity-8.0.1-py3-none-any.whl (24 kB)\n",
      "Requirement already satisfied: six in c:\\users\\sauda\\anaconda\\lib\\site-packages (from plotly) (1.15.0)\n",
      "Installing collected packages: tenacity, plotly\n",
      "Successfully installed plotly-5.3.1 tenacity-8.0.1\n"
     ]
    }
   ],
   "source": [
    "!pip install plotly"
   ]
  },
  {
   "cell_type": "code",
   "execution_count": 64,
   "metadata": {},
   "outputs": [
    {
     "data": {
      "application/vnd.plotly.v1+json": {
       "config": {
        "plotlyServerURL": "https://plot.ly"
       },
       "data": [
        {
         "hovertemplate": "Team=Team 1<br>Winning=%{x}<br>HighestPositionHeld=%{y}<br>Experience=%{marker.size}<extra></extra>",
         "legendgroup": "Team 1",
         "marker": {
          "color": "#636efa",
          "size": [
           88
          ],
          "sizemode": "area",
          "sizeref": 0.22,
          "symbol": "circle"
         },
         "mode": "markers",
         "name": "Team 1",
         "orientation": "v",
         "showlegend": true,
         "type": "scatter",
         "x": [
          0.5963070238957278
         ],
         "xaxis": "x",
         "y": [
          1
         ],
         "yaxis": "y"
        },
        {
         "hovertemplate": "Team=Team 2<br>Winning=%{x}<br>HighestPositionHeld=%{y}<br>Experience=%{marker.size}<extra></extra>",
         "legendgroup": "Team 2",
         "marker": {
          "color": "#EF553B",
          "size": [
           88
          ],
          "sizemode": "area",
          "sizeref": 0.22,
          "symbol": "circle"
         },
         "mode": "markers",
         "name": "Team 2",
         "orientation": "v",
         "showlegend": true,
         "type": "scatter",
         "x": [
          0.5724112961622013
         ],
         "xaxis": "x",
         "y": [
          1
         ],
         "yaxis": "y"
        },
        {
         "hovertemplate": "Team=Team 3<br>Winning=%{x}<br>HighestPositionHeld=%{y}<br>Experience=%{marker.size}<extra></extra>",
         "legendgroup": "Team 3",
         "marker": {
          "color": "#00cc96",
          "size": [
           88
          ],
          "sizemode": "area",
          "sizeref": 0.22,
          "symbol": "circle"
         },
         "mode": "markers",
         "name": "Team 3",
         "orientation": "v",
         "showlegend": true,
         "type": "scatter",
         "x": [
          0.4747513389441469
         ],
         "xaxis": "x",
         "y": [
          1
         ],
         "yaxis": "y"
        },
        {
         "hovertemplate": "Team=Team 4<br>Winning=%{x}<br>HighestPositionHeld=%{y}<br>Experience=%{marker.size}<extra></extra>",
         "legendgroup": "Team 4",
         "marker": {
          "color": "#ab63fa",
          "size": [
           86
          ],
          "sizemode": "area",
          "sizeref": 0.22,
          "symbol": "circle"
         },
         "mode": "markers",
         "name": "Team 4",
         "orientation": "v",
         "showlegend": true,
         "type": "scatter",
         "x": [
          0.4455705705705706
         ],
         "xaxis": "x",
         "y": [
          1
         ],
         "yaxis": "y"
        },
        {
         "hovertemplate": "Team=Team 5<br>Winning=%{x}<br>HighestPositionHeld=%{y}<br>Experience=%{marker.size}<extra></extra>",
         "legendgroup": "Team 5",
         "marker": {
          "color": "#FFA15A",
          "size": [
           88
          ],
          "sizemode": "area",
          "sizeref": 0.22,
          "symbol": "circle"
         },
         "mode": "markers",
         "name": "Team 5",
         "orientation": "v",
         "showlegend": true,
         "type": "scatter",
         "x": [
          0.4377262853005069
         ],
         "xaxis": "x",
         "y": [
          1
         ],
         "yaxis": "y"
        },
        {
         "hovertemplate": "Team=Team 6<br>Winning=%{x}<br>HighestPositionHeld=%{y}<br>Experience=%{marker.size}<extra></extra>",
         "legendgroup": "Team 6",
         "marker": {
          "color": "#19d3f3",
          "size": [
           83
          ],
          "sizemode": "area",
          "sizeref": 0.22,
          "symbol": "circle"
         },
         "mode": "markers",
         "name": "Team 6",
         "orientation": "v",
         "showlegend": true,
         "type": "scatter",
         "x": [
          0.4111295681063123
         ],
         "xaxis": "x",
         "y": [
          1
         ],
         "yaxis": "y"
        },
        {
         "hovertemplate": "Team=Team 7<br>Winning=%{x}<br>HighestPositionHeld=%{y}<br>Experience=%{marker.size}<extra></extra>",
         "legendgroup": "Team 7",
         "marker": {
          "color": "#FF6692",
          "size": [
           88
          ],
          "sizemode": "area",
          "sizeref": 0.22,
          "symbol": "circle"
         },
         "mode": "markers",
         "name": "Team 7",
         "orientation": "v",
         "showlegend": true,
         "type": "scatter",
         "x": [
          0.361005331302361
         ],
         "xaxis": "x",
         "y": [
          3
         ],
         "yaxis": "y"
        },
        {
         "hovertemplate": "Team=Team 8<br>Winning=%{x}<br>HighestPositionHeld=%{y}<br>Experience=%{marker.size}<extra></extra>",
         "legendgroup": "Team 8",
         "marker": {
          "color": "#B6E880",
          "size": [
           88
          ],
          "sizemode": "area",
          "sizeref": 0.22,
          "symbol": "circle"
         },
         "mode": "markers",
         "name": "Team 8",
         "orientation": "v",
         "showlegend": true,
         "type": "scatter",
         "x": [
          0.37532580364900087
         ],
         "xaxis": "x",
         "y": [
          1
         ],
         "yaxis": "y"
        },
        {
         "hovertemplate": "Team=Team 9<br>Winning=%{x}<br>HighestPositionHeld=%{y}<br>Experience=%{marker.size}<extra></extra>",
         "legendgroup": "Team 9",
         "marker": {
          "color": "#FF97FF",
          "size": [
           78
          ],
          "sizemode": "area",
          "sizeref": 0.22,
          "symbol": "circle"
         },
         "mode": "markers",
         "name": "Team 9",
         "orientation": "v",
         "showlegend": true,
         "type": "scatter",
         "x": [
          0.351460221550856
         ],
         "xaxis": "x",
         "y": [
          2
         ],
         "yaxis": "y"
        },
        {
         "hovertemplate": "Team=Team 10<br>Winning=%{x}<br>HighestPositionHeld=%{y}<br>Experience=%{marker.size}<extra></extra>",
         "legendgroup": "Team 10",
         "marker": {
          "color": "#FECB52",
          "size": [
           85
          ],
          "sizemode": "area",
          "sizeref": 0.22,
          "symbol": "circle"
         },
         "mode": "markers",
         "name": "Team 10",
         "orientation": "v",
         "showlegend": true,
         "type": "scatter",
         "x": [
          0.3506944444444444
         ],
         "xaxis": "x",
         "y": [
          1
         ],
         "yaxis": "y"
        },
        {
         "hovertemplate": "Team=Team 11<br>Winning=%{x}<br>HighestPositionHeld=%{y}<br>Experience=%{marker.size}<extra></extra>",
         "legendgroup": "Team 11",
         "marker": {
          "color": "#636efa",
          "size": [
           76
          ],
          "sizemode": "area",
          "sizeref": 0.22,
          "symbol": "circle"
         },
         "mode": "markers",
         "name": "Team 11",
         "orientation": "v",
         "showlegend": true,
         "type": "scatter",
         "x": [
          0.36797385620915035
         ],
         "xaxis": "x",
         "y": [
          1
         ],
         "yaxis": "y"
        },
        {
         "hovertemplate": "Team=Team 12<br>Winning=%{x}<br>HighestPositionHeld=%{y}<br>Experience=%{marker.size}<extra></extra>",
         "legendgroup": "Team 12",
         "marker": {
          "color": "#EF553B",
          "size": [
           78
          ],
          "sizemode": "area",
          "sizeref": 0.22,
          "symbol": "circle"
         },
         "mode": "markers",
         "name": "Team 12",
         "orientation": "v",
         "showlegend": true,
         "type": "scatter",
         "x": [
          0.3451118963486455
         ],
         "xaxis": "x",
         "y": [
          4
         ],
         "yaxis": "y"
        },
        {
         "hovertemplate": "Team=Team 13<br>Winning=%{x}<br>HighestPositionHeld=%{y}<br>Experience=%{marker.size}<extra></extra>",
         "legendgroup": "Team 13",
         "marker": {
          "color": "#00cc96",
          "size": [
           69
          ],
          "sizemode": "area",
          "sizeref": 0.22,
          "symbol": "circle"
         },
         "mode": "markers",
         "name": "Team 13",
         "orientation": "v",
         "showlegend": true,
         "type": "scatter",
         "x": [
          0.31582537517053205
         ],
         "xaxis": "x",
         "y": [
          4
         ],
         "yaxis": "y"
        },
        {
         "hovertemplate": "Team=Team 14<br>Winning=%{x}<br>HighestPositionHeld=%{y}<br>Experience=%{marker.size}<extra></extra>",
         "legendgroup": "Team 14",
         "marker": {
          "color": "#ab63fa",
          "size": [
           88
          ],
          "sizemode": "area",
          "sizeref": 0.22,
          "symbol": "circle"
         },
         "mode": "markers",
         "name": "Team 14",
         "orientation": "v",
         "showlegend": true,
         "type": "scatter",
         "x": [
          0.3172268907563025
         ],
         "xaxis": "x",
         "y": [
          2
         ],
         "yaxis": "y"
        },
        {
         "hovertemplate": "Team=Team 15<br>Winning=%{x}<br>HighestPositionHeld=%{y}<br>Experience=%{marker.size}<extra></extra>",
         "legendgroup": "Team 15",
         "marker": {
          "color": "#FFA15A",
          "size": [
           73
          ],
          "sizemode": "area",
          "sizeref": 0.22,
          "symbol": "circle"
         },
         "mode": "markers",
         "name": "Team 15",
         "orientation": "v",
         "showlegend": true,
         "type": "scatter",
         "x": [
          0.3230452674897119
         ],
         "xaxis": "x",
         "y": [
          2
         ],
         "yaxis": "y"
        },
        {
         "hovertemplate": "Team=Team 16<br>Winning=%{x}<br>HighestPositionHeld=%{y}<br>Experience=%{marker.size}<extra></extra>",
         "legendgroup": "Team 16",
         "marker": {
          "color": "#19d3f3",
          "size": [
           82
          ],
          "sizemode": "area",
          "sizeref": 0.22,
          "symbol": "circle"
         },
         "mode": "markers",
         "name": "Team 16",
         "orientation": "v",
         "showlegend": true,
         "type": "scatter",
         "x": [
          0.3232169954476479
         ],
         "xaxis": "x",
         "y": [
          4
         ],
         "yaxis": "y"
        },
        {
         "hovertemplate": "Team=Team 17<br>Winning=%{x}<br>HighestPositionHeld=%{y}<br>Experience=%{marker.size}<extra></extra>",
         "legendgroup": "Team 17",
         "marker": {
          "color": "#FF6692",
          "size": [
           68
          ],
          "sizemode": "area",
          "sizeref": 0.22,
          "symbol": "circle"
         },
         "mode": "markers",
         "name": "Team 17",
         "orientation": "v",
         "showlegend": true,
         "type": "scatter",
         "x": [
          0.3107569721115538
         ],
         "xaxis": "x",
         "y": [
          4
         ],
         "yaxis": "y"
        },
        {
         "hovertemplate": "Team=Team 18<br>Winning=%{x}<br>HighestPositionHeld=%{y}<br>Experience=%{marker.size}<extra></extra>",
         "legendgroup": "Team 18",
         "marker": {
          "color": "#B6E880",
          "size": [
           84
          ],
          "sizemode": "area",
          "sizeref": 0.22,
          "symbol": "circle"
         },
         "mode": "markers",
         "name": "Team 18",
         "orientation": "v",
         "showlegend": true,
         "type": "scatter",
         "x": [
          0.3422818791946309
         ],
         "xaxis": "x",
         "y": [
          3
         ],
         "yaxis": "y"
        },
        {
         "hovertemplate": "Team=Team 19<br>Winning=%{x}<br>HighestPositionHeld=%{y}<br>Experience=%{marker.size}<extra></extra>",
         "legendgroup": "Team 19",
         "marker": {
          "color": "#FF97FF",
          "size": [
           57
          ],
          "sizemode": "area",
          "sizeref": 0.22,
          "symbol": "circle"
         },
         "mode": "markers",
         "name": "Team 19",
         "orientation": "v",
         "showlegend": true,
         "type": "scatter",
         "x": [
          0.33704453441295545
         ],
         "xaxis": "x",
         "y": [
          3
         ],
         "yaxis": "y"
        },
        {
         "hovertemplate": "Team=Team 20<br>Winning=%{x}<br>HighestPositionHeld=%{y}<br>Experience=%{marker.size}<extra></extra>",
         "legendgroup": "Team 20",
         "marker": {
          "color": "#FECB52",
          "size": [
           66
          ],
          "sizemode": "area",
          "sizeref": 0.22,
          "symbol": "circle"
         },
         "mode": "markers",
         "name": "Team 20",
         "orientation": "v",
         "showlegend": true,
         "type": "scatter",
         "x": [
          0.33485401459854014
         ],
         "xaxis": "x",
         "y": [
          2
         ],
         "yaxis": "y"
        },
        {
         "hovertemplate": "Team=Team 21<br>Winning=%{x}<br>HighestPositionHeld=%{y}<br>Experience=%{marker.size}<extra></extra>",
         "legendgroup": "Team 21",
         "marker": {
          "color": "#636efa",
          "size": [
           19
          ],
          "sizemode": "area",
          "sizeref": 0.22,
          "symbol": "circle"
         },
         "mode": "markers",
         "name": "Team 21",
         "orientation": "v",
         "showlegend": true,
         "type": "scatter",
         "x": [
          0.4117647058823529
         ],
         "xaxis": "x",
         "y": [
          2
         ],
         "yaxis": "y"
        },
        {
         "hovertemplate": "Team=Team 22<br>Winning=%{x}<br>HighestPositionHeld=%{y}<br>Experience=%{marker.size}<extra></extra>",
         "legendgroup": "Team 22",
         "marker": {
          "color": "#EF553B",
          "size": [
           76
          ],
          "sizemode": "area",
          "sizeref": 0.22,
          "symbol": "circle"
         },
         "mode": "markers",
         "name": "Team 22",
         "orientation": "v",
         "showlegend": true,
         "type": "scatter",
         "x": [
          0.29380053908355797
         ],
         "xaxis": "x",
         "y": [
          6
         ],
         "yaxis": "y"
        },
        {
         "hovertemplate": "Team=Team 23<br>Winning=%{x}<br>HighestPositionHeld=%{y}<br>Experience=%{marker.size}<extra></extra>",
         "legendgroup": "Team 23",
         "marker": {
          "color": "#00cc96",
          "size": [
           40
          ],
          "sizemode": "area",
          "sizeref": 0.22,
          "symbol": "circle"
         },
         "mode": "markers",
         "name": "Team 23",
         "orientation": "v",
         "showlegend": true,
         "type": "scatter",
         "x": [
          0.2898773006134969
         ],
         "xaxis": "x",
         "y": [
          8
         ],
         "yaxis": "y"
        },
        {
         "hovertemplate": "Team=Team 24<br>Winning=%{x}<br>HighestPositionHeld=%{y}<br>Experience=%{marker.size}<extra></extra>",
         "legendgroup": "Team 24",
         "marker": {
          "color": "#ab63fa",
          "size": [
           58
          ],
          "sizemode": "area",
          "sizeref": 0.22,
          "symbol": "circle"
         },
         "mode": "markers",
         "name": "Team 24",
         "orientation": "v",
         "showlegend": true,
         "type": "scatter",
         "x": [
          0.2994100294985251
         ],
         "xaxis": "x",
         "y": [
          5
         ],
         "yaxis": "y"
        },
        {
         "hovertemplate": "Team=Team 25<br>Winning=%{x}<br>HighestPositionHeld=%{y}<br>Experience=%{marker.size}<extra></extra>",
         "legendgroup": "Team 25",
         "marker": {
          "color": "#FFA15A",
          "size": [
           13
          ],
          "sizemode": "area",
          "sizeref": 0.22,
          "symbol": "circle"
         },
         "mode": "markers",
         "name": "Team 25",
         "orientation": "v",
         "showlegend": true,
         "type": "scatter",
         "x": [
          0.3223684210526316
         ],
         "xaxis": "x",
         "y": [
          6
         ],
         "yaxis": "y"
        },
        {
         "hovertemplate": "Team=Team 26<br>Winning=%{x}<br>HighestPositionHeld=%{y}<br>Experience=%{marker.size}<extra></extra>",
         "legendgroup": "Team 26",
         "marker": {
          "color": "#19d3f3",
          "size": [
           82
          ],
          "sizemode": "area",
          "sizeref": 0.22,
          "symbol": "circle"
         },
         "mode": "markers",
         "name": "Team 26",
         "orientation": "v",
         "showlegend": true,
         "type": "scatter",
         "x": [
          0.2929936305732484
         ],
         "xaxis": "x",
         "y": [
          5
         ],
         "yaxis": "y"
        },
        {
         "hovertemplate": "Team=Team 27<br>Winning=%{x}<br>HighestPositionHeld=%{y}<br>Experience=%{marker.size}<extra></extra>",
         "legendgroup": "Team 27",
         "marker": {
          "color": "#FF6692",
          "size": [
           56
          ],
          "sizemode": "area",
          "sizeref": 0.22,
          "symbol": "circle"
         },
         "mode": "markers",
         "name": "Team 27",
         "orientation": "v",
         "showlegend": true,
         "type": "scatter",
         "x": [
          0.31376518218623484
         ],
         "xaxis": "x",
         "y": [
          5
         ],
         "yaxis": "y"
        },
        {
         "hovertemplate": "Team=Team 28<br>Winning=%{x}<br>HighestPositionHeld=%{y}<br>Experience=%{marker.size}<extra></extra>",
         "legendgroup": "Team 28",
         "marker": {
          "color": "#B6E880",
          "size": [
           77
          ],
          "sizemode": "area",
          "sizeref": 0.22,
          "symbol": "circle"
         },
         "mode": "markers",
         "name": "Team 28",
         "orientation": "v",
         "showlegend": true,
         "type": "scatter",
         "x": [
          0.24744027303754265
         ],
         "xaxis": "x",
         "y": [
          11
         ],
         "yaxis": "y"
        },
        {
         "hovertemplate": "Team=Team 29<br>Winning=%{x}<br>HighestPositionHeld=%{y}<br>Experience=%{marker.size}<extra></extra>",
         "legendgroup": "Team 29",
         "marker": {
          "color": "#FF97FF",
          "size": [
           87
          ],
          "sizemode": "area",
          "sizeref": 0.22,
          "symbol": "circle"
         },
         "mode": "markers",
         "name": "Team 29",
         "orientation": "v",
         "showlegend": true,
         "type": "scatter",
         "x": [
          0.32894736842105265
         ],
         "xaxis": "x",
         "y": [
          6
         ],
         "yaxis": "y"
        },
        {
         "hovertemplate": "Team=Team 30<br>Winning=%{x}<br>HighestPositionHeld=%{y}<br>Experience=%{marker.size}<extra></extra>",
         "legendgroup": "Team 30",
         "marker": {
          "color": "#FECB52",
          "size": [
           54
          ],
          "sizemode": "area",
          "sizeref": 0.22,
          "symbol": "circle"
         },
         "mode": "markers",
         "name": "Team 30",
         "orientation": "v",
         "showlegend": true,
         "type": "scatter",
         "x": [
          0.2810945273631841
         ],
         "xaxis": "x",
         "y": [
          6
         ],
         "yaxis": "y"
        },
        {
         "hovertemplate": "Team=Team 31<br>Winning=%{x}<br>HighestPositionHeld=%{y}<br>Experience=%{marker.size}<extra></extra>",
         "legendgroup": "Team 31",
         "marker": {
          "color": "#636efa",
          "size": [
           43
          ],
          "sizemode": "area",
          "sizeref": 0.22,
          "symbol": "circle"
         },
         "mode": "markers",
         "name": "Team 31",
         "orientation": "v",
         "showlegend": true,
         "type": "scatter",
         "x": [
          0.2907801418439716
         ],
         "xaxis": "x",
         "y": [
          7
         ],
         "yaxis": "y"
        },
        {
         "hovertemplate": "Team=Team 32<br>Winning=%{x}<br>HighestPositionHeld=%{y}<br>Experience=%{marker.size}<extra></extra>",
         "legendgroup": "Team 32",
         "marker": {
          "color": "#EF553B",
          "size": [
           74
          ],
          "sizemode": "area",
          "sizeref": 0.22,
          "symbol": "circle"
         },
         "mode": "markers",
         "name": "Team 32",
         "orientation": "v",
         "showlegend": true,
         "type": "scatter",
         "x": [
          0.3028169014084507
         ],
         "xaxis": "x",
         "y": [
          4
         ],
         "yaxis": "y"
        },
        {
         "hovertemplate": "Team=Team 33<br>Winning=%{x}<br>HighestPositionHeld=%{y}<br>Experience=%{marker.size}<extra></extra>",
         "legendgroup": "Team 33",
         "marker": {
          "color": "#00cc96",
          "size": [
           40
          ],
          "sizemode": "area",
          "sizeref": 0.22,
          "symbol": "circle"
         },
         "mode": "markers",
         "name": "Team 33",
         "orientation": "v",
         "showlegend": true,
         "type": "scatter",
         "x": [
          0.23214285714285715
         ],
         "xaxis": "x",
         "y": [
          12
         ],
         "yaxis": "y"
        },
        {
         "hovertemplate": "Team=Team 34<br>Winning=%{x}<br>HighestPositionHeld=%{y}<br>Experience=%{marker.size}<extra></extra>",
         "legendgroup": "Team 34",
         "marker": {
          "color": "#ab63fa",
          "size": [
           30
          ],
          "sizemode": "area",
          "sizeref": 0.22,
          "symbol": "circle"
         },
         "mode": "markers",
         "name": "Team 34",
         "orientation": "v",
         "showlegend": true,
         "type": "scatter",
         "x": [
          0.2774566473988439
         ],
         "xaxis": "x",
         "y": [
          7
         ],
         "yaxis": "y"
        },
        {
         "hovertemplate": "Team=Team 35<br>Winning=%{x}<br>HighestPositionHeld=%{y}<br>Experience=%{marker.size}<extra></extra>",
         "legendgroup": "Team 35",
         "marker": {
          "color": "#FFA15A",
          "size": [
           76
          ],
          "sizemode": "area",
          "sizeref": 0.22,
          "symbol": "circle"
         },
         "mode": "markers",
         "name": "Team 35",
         "orientation": "v",
         "showlegend": true,
         "type": "scatter",
         "x": [
          0.3083832335329341
         ],
         "xaxis": "x",
         "y": [
          4
         ],
         "yaxis": "y"
        },
        {
         "hovertemplate": "Team=Team 36<br>Winning=%{x}<br>HighestPositionHeld=%{y}<br>Experience=%{marker.size}<extra></extra>",
         "legendgroup": "Team 36",
         "marker": {
          "color": "#19d3f3",
          "size": [
           26
          ],
          "sizemode": "area",
          "sizeref": 0.22,
          "symbol": "circle"
         },
         "mode": "markers",
         "name": "Team 36",
         "orientation": "v",
         "showlegend": true,
         "type": "scatter",
         "x": [
          0.2814814814814815
         ],
         "xaxis": "x",
         "y": [
          7
         ],
         "yaxis": "y"
        },
        {
         "hovertemplate": "Team=Team 37<br>Winning=%{x}<br>HighestPositionHeld=%{y}<br>Experience=%{marker.size}<extra></extra>",
         "legendgroup": "Team 37",
         "marker": {
          "color": "#FF6692",
          "size": [
           10
          ],
          "sizemode": "area",
          "sizeref": 0.22,
          "symbol": "circle"
         },
         "mode": "markers",
         "name": "Team 37",
         "orientation": "v",
         "showlegend": true,
         "type": "scatter",
         "x": [
          0.2719298245614035
         ],
         "xaxis": "x",
         "y": [
          8
         ],
         "yaxis": "y"
        },
        {
         "hovertemplate": "Team=Team 38<br>Winning=%{x}<br>HighestPositionHeld=%{y}<br>Experience=%{marker.size}<extra></extra>",
         "legendgroup": "Team 38",
         "marker": {
          "color": "#B6E880",
          "size": [
           55
          ],
          "sizemode": "area",
          "sizeref": 0.22,
          "symbol": "circle"
         },
         "mode": "markers",
         "name": "Team 38",
         "orientation": "v",
         "showlegend": true,
         "type": "scatter",
         "x": [
          0.2907801418439716
         ],
         "xaxis": "x",
         "y": [
          5
         ],
         "yaxis": "y"
        },
        {
         "hovertemplate": "Team=Team 39<br>Winning=%{x}<br>HighestPositionHeld=%{y}<br>Experience=%{marker.size}<extra></extra>",
         "legendgroup": "Team 39",
         "marker": {
          "color": "#FF97FF",
          "size": [
           23
          ],
          "sizemode": "area",
          "sizeref": 0.22,
          "symbol": "circle"
         },
         "mode": "markers",
         "name": "Team 39",
         "orientation": "v",
         "showlegend": true,
         "type": "scatter",
         "x": [
          0.325
         ],
         "xaxis": "x",
         "y": [
          10
         ],
         "yaxis": "y"
        },
        {
         "hovertemplate": "Team=Team 40<br>Winning=%{x}<br>HighestPositionHeld=%{y}<br>Experience=%{marker.size}<extra></extra>",
         "legendgroup": "Team 40",
         "marker": {
          "color": "#FECB52",
          "size": [
           39
          ],
          "sizemode": "area",
          "sizeref": 0.22,
          "symbol": "circle"
         },
         "mode": "markers",
         "name": "Team 40",
         "orientation": "v",
         "showlegend": true,
         "type": "scatter",
         "x": [
          0.26881720430107525
         ],
         "xaxis": "x",
         "y": [
          8
         ],
         "yaxis": "y"
        },
        {
         "hovertemplate": "Team=Team 41<br>Winning=%{x}<br>HighestPositionHeld=%{y}<br>Experience=%{marker.size}<extra></extra>",
         "legendgroup": "Team 41",
         "marker": {
          "color": "#636efa",
          "size": [
           46
          ],
          "sizemode": "area",
          "sizeref": 0.22,
          "symbol": "circle"
         },
         "mode": "markers",
         "name": "Team 41",
         "orientation": "v",
         "showlegend": true,
         "type": "scatter",
         "x": [
          0.28921568627450983
         ],
         "xaxis": "x",
         "y": [
          12
         ],
         "yaxis": "y"
        },
        {
         "hovertemplate": "Team=Team 42<br>Winning=%{x}<br>HighestPositionHeld=%{y}<br>Experience=%{marker.size}<extra></extra>",
         "legendgroup": "Team 42",
         "marker": {
          "color": "#EF553B",
          "size": [
           54
          ],
          "sizemode": "area",
          "sizeref": 0.22,
          "symbol": "circle"
         },
         "mode": "markers",
         "name": "Team 42",
         "orientation": "v",
         "showlegend": true,
         "type": "scatter",
         "x": [
          0.29444444444444445
         ],
         "xaxis": "x",
         "y": [
          7
         ],
         "yaxis": "y"
        },
        {
         "hovertemplate": "Team=Team 43<br>Winning=%{x}<br>HighestPositionHeld=%{y}<br>Experience=%{marker.size}<extra></extra>",
         "legendgroup": "Team 43",
         "marker": {
          "color": "#00cc96",
          "size": [
           18
          ],
          "sizemode": "area",
          "sizeref": 0.22,
          "symbol": "circle"
         },
         "mode": "markers",
         "name": "Team 43",
         "orientation": "v",
         "showlegend": true,
         "type": "scatter",
         "x": [
          0.24342105263157895
         ],
         "xaxis": "x",
         "y": [
          17
         ],
         "yaxis": "y"
        },
        {
         "hovertemplate": "Team=Team 44<br>Winning=%{x}<br>HighestPositionHeld=%{y}<br>Experience=%{marker.size}<extra></extra>",
         "legendgroup": "Team 44",
         "marker": {
          "color": "#ab63fa",
          "size": [
           3
          ],
          "sizemode": "area",
          "sizeref": 0.22,
          "symbol": "circle"
         },
         "mode": "markers",
         "name": "Team 44",
         "orientation": "v",
         "showlegend": true,
         "type": "scatter",
         "x": [
          0.30701754385964913
         ],
         "xaxis": "x",
         "y": [
          10
         ],
         "yaxis": "y"
        },
        {
         "hovertemplate": "Team=Team 45<br>Winning=%{x}<br>HighestPositionHeld=%{y}<br>Experience=%{marker.size}<extra></extra>",
         "legendgroup": "Team 45",
         "marker": {
          "color": "#FFA15A",
          "size": [
           88
          ],
          "sizemode": "area",
          "sizeref": 0.22,
          "symbol": "circle"
         },
         "mode": "markers",
         "name": "Team 45",
         "orientation": "v",
         "showlegend": true,
         "type": "scatter",
         "x": [
          0.33076923076923076
         ],
         "xaxis": "x",
         "y": [
          3
         ],
         "yaxis": "y"
        },
        {
         "hovertemplate": "Team=Team 46<br>Winning=%{x}<br>HighestPositionHeld=%{y}<br>Experience=%{marker.size}<extra></extra>",
         "legendgroup": "Team 46",
         "marker": {
          "color": "#19d3f3",
          "size": [
           27
          ],
          "sizemode": "area",
          "sizeref": 0.22,
          "symbol": "circle"
         },
         "mode": "markers",
         "name": "Team 46",
         "orientation": "v",
         "showlegend": true,
         "type": "scatter",
         "x": [
          0.22807017543859648
         ],
         "xaxis": "x",
         "y": [
          9
         ],
         "yaxis": "y"
        },
        {
         "hovertemplate": "Team=Team 47<br>Winning=%{x}<br>HighestPositionHeld=%{y}<br>Experience=%{marker.size}<extra></extra>",
         "legendgroup": "Team 47",
         "marker": {
          "color": "#FF6692",
          "size": [
           70
          ],
          "sizemode": "area",
          "sizeref": 0.22,
          "symbol": "circle"
         },
         "mode": "markers",
         "name": "Team 47",
         "orientation": "v",
         "showlegend": true,
         "type": "scatter",
         "x": [
          0.29310344827586204
         ],
         "xaxis": "x",
         "y": [
          7
         ],
         "yaxis": "y"
        },
        {
         "hovertemplate": "Team=Team 48<br>Winning=%{x}<br>HighestPositionHeld=%{y}<br>Experience=%{marker.size}<extra></extra>",
         "legendgroup": "Team 48",
         "marker": {
          "color": "#B6E880",
          "size": [
           21
          ],
          "sizemode": "area",
          "sizeref": 0.22,
          "symbol": "circle"
         },
         "mode": "markers",
         "name": "Team 48",
         "orientation": "v",
         "showlegend": true,
         "type": "scatter",
         "x": [
          0.25
         ],
         "xaxis": "x",
         "y": [
          17
         ],
         "yaxis": "y"
        },
        {
         "hovertemplate": "Team=Team 49<br>Winning=%{x}<br>HighestPositionHeld=%{y}<br>Experience=%{marker.size}<extra></extra>",
         "legendgroup": "Team 49",
         "marker": {
          "color": "#FF97FF",
          "size": [
           22
          ],
          "sizemode": "area",
          "sizeref": 0.22,
          "symbol": "circle"
         },
         "mode": "markers",
         "name": "Team 49",
         "orientation": "v",
         "showlegend": true,
         "type": "scatter",
         "x": [
          0.2375
         ],
         "xaxis": "x",
         "y": [
          19
         ],
         "yaxis": "y"
        },
        {
         "hovertemplate": "Team=Team 50<br>Winning=%{x}<br>HighestPositionHeld=%{y}<br>Experience=%{marker.size}<extra></extra>",
         "legendgroup": "Team 50",
         "marker": {
          "color": "#FECB52",
          "size": [
           72
          ],
          "sizemode": "area",
          "sizeref": 0.22,
          "symbol": "circle"
         },
         "mode": "markers",
         "name": "Team 50",
         "orientation": "v",
         "showlegend": true,
         "type": "scatter",
         "x": [
          0.2777777777777778
         ],
         "xaxis": "x",
         "y": [
          10
         ],
         "yaxis": "y"
        },
        {
         "hovertemplate": "Team=Team 51<br>Winning=%{x}<br>HighestPositionHeld=%{y}<br>Experience=%{marker.size}<extra></extra>",
         "legendgroup": "Team 51",
         "marker": {
          "color": "#636efa",
          "size": [
           64
          ],
          "sizemode": "area",
          "sizeref": 0.22,
          "symbol": "circle"
         },
         "mode": "markers",
         "name": "Team 51",
         "orientation": "v",
         "showlegend": true,
         "type": "scatter",
         "x": [
          0.32222222222222224
         ],
         "xaxis": "x",
         "y": [
          14
         ],
         "yaxis": "y"
        },
        {
         "hovertemplate": "Team=Team 52<br>Winning=%{x}<br>HighestPositionHeld=%{y}<br>Experience=%{marker.size}<extra></extra>",
         "legendgroup": "Team 52",
         "marker": {
          "color": "#EF553B",
          "size": [
           88
          ],
          "sizemode": "area",
          "sizeref": 0.22,
          "symbol": "circle"
         },
         "mode": "markers",
         "name": "Team 52",
         "orientation": "v",
         "showlegend": true,
         "type": "scatter",
         "x": [
          0.2916666666666667
         ],
         "xaxis": "x",
         "y": [
          6
         ],
         "yaxis": "y"
        },
        {
         "hovertemplate": "Team=Team 53<br>Winning=%{x}<br>HighestPositionHeld=%{y}<br>Experience=%{marker.size}<extra></extra>",
         "legendgroup": "Team 53",
         "marker": {
          "color": "#00cc96",
          "size": [
           38
          ],
          "sizemode": "area",
          "sizeref": 0.22,
          "symbol": "circle"
         },
         "mode": "markers",
         "name": "Team 53",
         "orientation": "v",
         "showlegend": true,
         "type": "scatter",
         "x": [
          0.25
         ],
         "xaxis": "x",
         "y": [
          10
         ],
         "yaxis": "y"
        },
        {
         "hovertemplate": "Team=Team 54<br>Winning=%{x}<br>HighestPositionHeld=%{y}<br>Experience=%{marker.size}<extra></extra>",
         "legendgroup": "Team 54",
         "marker": {
          "color": "#ab63fa",
          "size": [
           88
          ],
          "sizemode": "area",
          "sizeref": 0.22,
          "symbol": "circle"
         },
         "mode": "markers",
         "name": "Team 54",
         "orientation": "v",
         "showlegend": true,
         "type": "scatter",
         "x": [
          0.3333333333333333
         ],
         "xaxis": "x",
         "y": [
          8
         ],
         "yaxis": "y"
        },
        {
         "hovertemplate": "Team=Team 55<br>Winning=%{x}<br>HighestPositionHeld=%{y}<br>Experience=%{marker.size}<extra></extra>",
         "legendgroup": "Team 55",
         "marker": {
          "color": "#FFA15A",
          "size": [
           67
          ],
          "sizemode": "area",
          "sizeref": 0.22,
          "symbol": "circle"
         },
         "mode": "markers",
         "name": "Team 55",
         "orientation": "v",
         "showlegend": true,
         "type": "scatter",
         "x": [
          0.19117647058823528
         ],
         "xaxis": "x",
         "y": [
          16
         ],
         "yaxis": "y"
        },
        {
         "hovertemplate": "Team=Team 56<br>Winning=%{x}<br>HighestPositionHeld=%{y}<br>Experience=%{marker.size}<extra></extra>",
         "legendgroup": "Team 56",
         "marker": {
          "color": "#19d3f3",
          "size": [
           1
          ],
          "sizemode": "area",
          "sizeref": 0.22,
          "symbol": "circle"
         },
         "mode": "markers",
         "name": "Team 56",
         "orientation": "v",
         "showlegend": true,
         "type": "scatter",
         "x": [
          0.21052631578947367
         ],
         "xaxis": "x",
         "y": [
          17
         ],
         "yaxis": "y"
        },
        {
         "hovertemplate": "Team=Team 57<br>Winning=%{x}<br>HighestPositionHeld=%{y}<br>Experience=%{marker.size}<extra></extra>",
         "legendgroup": "Team 57",
         "marker": {
          "color": "#FF6692",
          "size": [
           8
          ],
          "sizemode": "area",
          "sizeref": 0.22,
          "symbol": "circle"
         },
         "mode": "markers",
         "name": "Team 57",
         "orientation": "v",
         "showlegend": true,
         "type": "scatter",
         "x": [
          0.21052631578947367
         ],
         "xaxis": "x",
         "y": [
          20
         ],
         "yaxis": "y"
        },
        {
         "hovertemplate": "Team=Team 58<br>Winning=%{x}<br>HighestPositionHeld=%{y}<br>Experience=%{marker.size}<extra></extra>",
         "legendgroup": "Team 58",
         "marker": {
          "color": "#B6E880",
          "size": [
           61
          ],
          "sizemode": "area",
          "sizeref": 0.22,
          "symbol": "circle"
         },
         "mode": "markers",
         "name": "Team 58",
         "orientation": "v",
         "showlegend": true,
         "type": "scatter",
         "x": [
          0.23333333333333334
         ],
         "xaxis": "x",
         "y": [
          16
         ],
         "yaxis": "y"
        },
        {
         "hovertemplate": "Team=Team 59<br>Winning=%{x}<br>HighestPositionHeld=%{y}<br>Experience=%{marker.size}<extra></extra>",
         "legendgroup": "Team 59",
         "marker": {
          "color": "#FF97FF",
          "size": [
           66
          ],
          "sizemode": "area",
          "sizeref": 0.22,
          "symbol": "circle"
         },
         "mode": "markers",
         "name": "Team 59",
         "orientation": "v",
         "showlegend": true,
         "type": "scatter",
         "x": [
          0.23333333333333334
         ],
         "xaxis": "x",
         "y": [
          16
         ],
         "yaxis": "y"
        },
        {
         "hovertemplate": "Team=Team 60<br>Winning=%{x}<br>HighestPositionHeld=%{y}<br>Experience=%{marker.size}<extra></extra>",
         "legendgroup": "Team 60",
         "marker": {
          "color": "#FECB52",
          "size": [
           62
          ],
          "sizemode": "area",
          "sizeref": 0.22,
          "symbol": "circle"
         },
         "mode": "markers",
         "name": "Team 60",
         "orientation": "v",
         "showlegend": true,
         "type": "scatter",
         "x": [
          0.16666666666666666
         ],
         "xaxis": "x",
         "y": [
          15
         ],
         "yaxis": "y"
        },
        {
         "hovertemplate": "Team=Team 61<br>Winning=%{x}<br>HighestPositionHeld=%{y}<br>Experience=%{marker.size}<extra></extra>",
         "legendgroup": "Team 61",
         "marker": {
          "color": "#636efa",
          "size": [
           0
          ],
          "sizemode": "area",
          "sizeref": 0.22,
          "symbol": "circle"
         },
         "mode": "markers",
         "name": "Team 61",
         "orientation": "v",
         "showlegend": true,
         "type": "scatter",
         "x": [
          null
         ],
         "xaxis": "x",
         "y": [
          9
         ],
         "yaxis": "y"
        }
       ],
       "layout": {
        "legend": {
         "itemsizing": "constant",
         "title": {
          "text": "Team"
         },
         "tracegroupgap": 0
        },
        "margin": {
         "t": 60
        },
        "template": {
         "data": {
          "bar": [
           {
            "error_x": {
             "color": "#2a3f5f"
            },
            "error_y": {
             "color": "#2a3f5f"
            },
            "marker": {
             "line": {
              "color": "#E5ECF6",
              "width": 0.5
             },
             "pattern": {
              "fillmode": "overlay",
              "size": 10,
              "solidity": 0.2
             }
            },
            "type": "bar"
           }
          ],
          "barpolar": [
           {
            "marker": {
             "line": {
              "color": "#E5ECF6",
              "width": 0.5
             },
             "pattern": {
              "fillmode": "overlay",
              "size": 10,
              "solidity": 0.2
             }
            },
            "type": "barpolar"
           }
          ],
          "carpet": [
           {
            "aaxis": {
             "endlinecolor": "#2a3f5f",
             "gridcolor": "white",
             "linecolor": "white",
             "minorgridcolor": "white",
             "startlinecolor": "#2a3f5f"
            },
            "baxis": {
             "endlinecolor": "#2a3f5f",
             "gridcolor": "white",
             "linecolor": "white",
             "minorgridcolor": "white",
             "startlinecolor": "#2a3f5f"
            },
            "type": "carpet"
           }
          ],
          "choropleth": [
           {
            "colorbar": {
             "outlinewidth": 0,
             "ticks": ""
            },
            "type": "choropleth"
           }
          ],
          "contour": [
           {
            "colorbar": {
             "outlinewidth": 0,
             "ticks": ""
            },
            "colorscale": [
             [
              0,
              "#0d0887"
             ],
             [
              0.1111111111111111,
              "#46039f"
             ],
             [
              0.2222222222222222,
              "#7201a8"
             ],
             [
              0.3333333333333333,
              "#9c179e"
             ],
             [
              0.4444444444444444,
              "#bd3786"
             ],
             [
              0.5555555555555556,
              "#d8576b"
             ],
             [
              0.6666666666666666,
              "#ed7953"
             ],
             [
              0.7777777777777778,
              "#fb9f3a"
             ],
             [
              0.8888888888888888,
              "#fdca26"
             ],
             [
              1,
              "#f0f921"
             ]
            ],
            "type": "contour"
           }
          ],
          "contourcarpet": [
           {
            "colorbar": {
             "outlinewidth": 0,
             "ticks": ""
            },
            "type": "contourcarpet"
           }
          ],
          "heatmap": [
           {
            "colorbar": {
             "outlinewidth": 0,
             "ticks": ""
            },
            "colorscale": [
             [
              0,
              "#0d0887"
             ],
             [
              0.1111111111111111,
              "#46039f"
             ],
             [
              0.2222222222222222,
              "#7201a8"
             ],
             [
              0.3333333333333333,
              "#9c179e"
             ],
             [
              0.4444444444444444,
              "#bd3786"
             ],
             [
              0.5555555555555556,
              "#d8576b"
             ],
             [
              0.6666666666666666,
              "#ed7953"
             ],
             [
              0.7777777777777778,
              "#fb9f3a"
             ],
             [
              0.8888888888888888,
              "#fdca26"
             ],
             [
              1,
              "#f0f921"
             ]
            ],
            "type": "heatmap"
           }
          ],
          "heatmapgl": [
           {
            "colorbar": {
             "outlinewidth": 0,
             "ticks": ""
            },
            "colorscale": [
             [
              0,
              "#0d0887"
             ],
             [
              0.1111111111111111,
              "#46039f"
             ],
             [
              0.2222222222222222,
              "#7201a8"
             ],
             [
              0.3333333333333333,
              "#9c179e"
             ],
             [
              0.4444444444444444,
              "#bd3786"
             ],
             [
              0.5555555555555556,
              "#d8576b"
             ],
             [
              0.6666666666666666,
              "#ed7953"
             ],
             [
              0.7777777777777778,
              "#fb9f3a"
             ],
             [
              0.8888888888888888,
              "#fdca26"
             ],
             [
              1,
              "#f0f921"
             ]
            ],
            "type": "heatmapgl"
           }
          ],
          "histogram": [
           {
            "marker": {
             "pattern": {
              "fillmode": "overlay",
              "size": 10,
              "solidity": 0.2
             }
            },
            "type": "histogram"
           }
          ],
          "histogram2d": [
           {
            "colorbar": {
             "outlinewidth": 0,
             "ticks": ""
            },
            "colorscale": [
             [
              0,
              "#0d0887"
             ],
             [
              0.1111111111111111,
              "#46039f"
             ],
             [
              0.2222222222222222,
              "#7201a8"
             ],
             [
              0.3333333333333333,
              "#9c179e"
             ],
             [
              0.4444444444444444,
              "#bd3786"
             ],
             [
              0.5555555555555556,
              "#d8576b"
             ],
             [
              0.6666666666666666,
              "#ed7953"
             ],
             [
              0.7777777777777778,
              "#fb9f3a"
             ],
             [
              0.8888888888888888,
              "#fdca26"
             ],
             [
              1,
              "#f0f921"
             ]
            ],
            "type": "histogram2d"
           }
          ],
          "histogram2dcontour": [
           {
            "colorbar": {
             "outlinewidth": 0,
             "ticks": ""
            },
            "colorscale": [
             [
              0,
              "#0d0887"
             ],
             [
              0.1111111111111111,
              "#46039f"
             ],
             [
              0.2222222222222222,
              "#7201a8"
             ],
             [
              0.3333333333333333,
              "#9c179e"
             ],
             [
              0.4444444444444444,
              "#bd3786"
             ],
             [
              0.5555555555555556,
              "#d8576b"
             ],
             [
              0.6666666666666666,
              "#ed7953"
             ],
             [
              0.7777777777777778,
              "#fb9f3a"
             ],
             [
              0.8888888888888888,
              "#fdca26"
             ],
             [
              1,
              "#f0f921"
             ]
            ],
            "type": "histogram2dcontour"
           }
          ],
          "mesh3d": [
           {
            "colorbar": {
             "outlinewidth": 0,
             "ticks": ""
            },
            "type": "mesh3d"
           }
          ],
          "parcoords": [
           {
            "line": {
             "colorbar": {
              "outlinewidth": 0,
              "ticks": ""
             }
            },
            "type": "parcoords"
           }
          ],
          "pie": [
           {
            "automargin": true,
            "type": "pie"
           }
          ],
          "scatter": [
           {
            "marker": {
             "colorbar": {
              "outlinewidth": 0,
              "ticks": ""
             }
            },
            "type": "scatter"
           }
          ],
          "scatter3d": [
           {
            "line": {
             "colorbar": {
              "outlinewidth": 0,
              "ticks": ""
             }
            },
            "marker": {
             "colorbar": {
              "outlinewidth": 0,
              "ticks": ""
             }
            },
            "type": "scatter3d"
           }
          ],
          "scattercarpet": [
           {
            "marker": {
             "colorbar": {
              "outlinewidth": 0,
              "ticks": ""
             }
            },
            "type": "scattercarpet"
           }
          ],
          "scattergeo": [
           {
            "marker": {
             "colorbar": {
              "outlinewidth": 0,
              "ticks": ""
             }
            },
            "type": "scattergeo"
           }
          ],
          "scattergl": [
           {
            "marker": {
             "colorbar": {
              "outlinewidth": 0,
              "ticks": ""
             }
            },
            "type": "scattergl"
           }
          ],
          "scattermapbox": [
           {
            "marker": {
             "colorbar": {
              "outlinewidth": 0,
              "ticks": ""
             }
            },
            "type": "scattermapbox"
           }
          ],
          "scatterpolar": [
           {
            "marker": {
             "colorbar": {
              "outlinewidth": 0,
              "ticks": ""
             }
            },
            "type": "scatterpolar"
           }
          ],
          "scatterpolargl": [
           {
            "marker": {
             "colorbar": {
              "outlinewidth": 0,
              "ticks": ""
             }
            },
            "type": "scatterpolargl"
           }
          ],
          "scatterternary": [
           {
            "marker": {
             "colorbar": {
              "outlinewidth": 0,
              "ticks": ""
             }
            },
            "type": "scatterternary"
           }
          ],
          "surface": [
           {
            "colorbar": {
             "outlinewidth": 0,
             "ticks": ""
            },
            "colorscale": [
             [
              0,
              "#0d0887"
             ],
             [
              0.1111111111111111,
              "#46039f"
             ],
             [
              0.2222222222222222,
              "#7201a8"
             ],
             [
              0.3333333333333333,
              "#9c179e"
             ],
             [
              0.4444444444444444,
              "#bd3786"
             ],
             [
              0.5555555555555556,
              "#d8576b"
             ],
             [
              0.6666666666666666,
              "#ed7953"
             ],
             [
              0.7777777777777778,
              "#fb9f3a"
             ],
             [
              0.8888888888888888,
              "#fdca26"
             ],
             [
              1,
              "#f0f921"
             ]
            ],
            "type": "surface"
           }
          ],
          "table": [
           {
            "cells": {
             "fill": {
              "color": "#EBF0F8"
             },
             "line": {
              "color": "white"
             }
            },
            "header": {
             "fill": {
              "color": "#C8D4E3"
             },
             "line": {
              "color": "white"
             }
            },
            "type": "table"
           }
          ]
         },
         "layout": {
          "annotationdefaults": {
           "arrowcolor": "#2a3f5f",
           "arrowhead": 0,
           "arrowwidth": 1
          },
          "autotypenumbers": "strict",
          "coloraxis": {
           "colorbar": {
            "outlinewidth": 0,
            "ticks": ""
           }
          },
          "colorscale": {
           "diverging": [
            [
             0,
             "#8e0152"
            ],
            [
             0.1,
             "#c51b7d"
            ],
            [
             0.2,
             "#de77ae"
            ],
            [
             0.3,
             "#f1b6da"
            ],
            [
             0.4,
             "#fde0ef"
            ],
            [
             0.5,
             "#f7f7f7"
            ],
            [
             0.6,
             "#e6f5d0"
            ],
            [
             0.7,
             "#b8e186"
            ],
            [
             0.8,
             "#7fbc41"
            ],
            [
             0.9,
             "#4d9221"
            ],
            [
             1,
             "#276419"
            ]
           ],
           "sequential": [
            [
             0,
             "#0d0887"
            ],
            [
             0.1111111111111111,
             "#46039f"
            ],
            [
             0.2222222222222222,
             "#7201a8"
            ],
            [
             0.3333333333333333,
             "#9c179e"
            ],
            [
             0.4444444444444444,
             "#bd3786"
            ],
            [
             0.5555555555555556,
             "#d8576b"
            ],
            [
             0.6666666666666666,
             "#ed7953"
            ],
            [
             0.7777777777777778,
             "#fb9f3a"
            ],
            [
             0.8888888888888888,
             "#fdca26"
            ],
            [
             1,
             "#f0f921"
            ]
           ],
           "sequentialminus": [
            [
             0,
             "#0d0887"
            ],
            [
             0.1111111111111111,
             "#46039f"
            ],
            [
             0.2222222222222222,
             "#7201a8"
            ],
            [
             0.3333333333333333,
             "#9c179e"
            ],
            [
             0.4444444444444444,
             "#bd3786"
            ],
            [
             0.5555555555555556,
             "#d8576b"
            ],
            [
             0.6666666666666666,
             "#ed7953"
            ],
            [
             0.7777777777777778,
             "#fb9f3a"
            ],
            [
             0.8888888888888888,
             "#fdca26"
            ],
            [
             1,
             "#f0f921"
            ]
           ]
          },
          "colorway": [
           "#636efa",
           "#EF553B",
           "#00cc96",
           "#ab63fa",
           "#FFA15A",
           "#19d3f3",
           "#FF6692",
           "#B6E880",
           "#FF97FF",
           "#FECB52"
          ],
          "font": {
           "color": "#2a3f5f"
          },
          "geo": {
           "bgcolor": "white",
           "lakecolor": "white",
           "landcolor": "#E5ECF6",
           "showlakes": true,
           "showland": true,
           "subunitcolor": "white"
          },
          "hoverlabel": {
           "align": "left"
          },
          "hovermode": "closest",
          "mapbox": {
           "style": "light"
          },
          "paper_bgcolor": "white",
          "plot_bgcolor": "#E5ECF6",
          "polar": {
           "angularaxis": {
            "gridcolor": "white",
            "linecolor": "white",
            "ticks": ""
           },
           "bgcolor": "#E5ECF6",
           "radialaxis": {
            "gridcolor": "white",
            "linecolor": "white",
            "ticks": ""
           }
          },
          "scene": {
           "xaxis": {
            "backgroundcolor": "#E5ECF6",
            "gridcolor": "white",
            "gridwidth": 2,
            "linecolor": "white",
            "showbackground": true,
            "ticks": "",
            "zerolinecolor": "white"
           },
           "yaxis": {
            "backgroundcolor": "#E5ECF6",
            "gridcolor": "white",
            "gridwidth": 2,
            "linecolor": "white",
            "showbackground": true,
            "ticks": "",
            "zerolinecolor": "white"
           },
           "zaxis": {
            "backgroundcolor": "#E5ECF6",
            "gridcolor": "white",
            "gridwidth": 2,
            "linecolor": "white",
            "showbackground": true,
            "ticks": "",
            "zerolinecolor": "white"
           }
          },
          "shapedefaults": {
           "line": {
            "color": "#2a3f5f"
           }
          },
          "ternary": {
           "aaxis": {
            "gridcolor": "white",
            "linecolor": "white",
            "ticks": ""
           },
           "baxis": {
            "gridcolor": "white",
            "linecolor": "white",
            "ticks": ""
           },
           "bgcolor": "#E5ECF6",
           "caxis": {
            "gridcolor": "white",
            "linecolor": "white",
            "ticks": ""
           }
          },
          "title": {
           "x": 0.05
          },
          "xaxis": {
           "automargin": true,
           "gridcolor": "white",
           "linecolor": "white",
           "ticks": "",
           "title": {
            "standoff": 15
           },
           "zerolinecolor": "white",
           "zerolinewidth": 2
          },
          "yaxis": {
           "automargin": true,
           "gridcolor": "white",
           "linecolor": "white",
           "ticks": "",
           "title": {
            "standoff": 15
           },
           "zerolinecolor": "white",
           "zerolinewidth": 2
          }
         }
        },
        "xaxis": {
         "anchor": "y",
         "domain": [
          0,
          1
         ],
         "title": {
          "text": "Winning"
         }
        },
        "yaxis": {
         "anchor": "x",
         "domain": [
          0,
          1
         ],
         "title": {
          "text": "HighestPositionHeld"
         }
        }
       }
      },
      "text/html": [
       "<div>                            <div id=\"6f1dc1a0-5c5d-4569-83dc-aaee5a44f0b0\" class=\"plotly-graph-div\" style=\"height:525px; width:100%;\"></div>            <script type=\"text/javascript\">                require([\"plotly\"], function(Plotly) {                    window.PLOTLYENV=window.PLOTLYENV || {};                                    if (document.getElementById(\"6f1dc1a0-5c5d-4569-83dc-aaee5a44f0b0\")) {                    Plotly.newPlot(                        \"6f1dc1a0-5c5d-4569-83dc-aaee5a44f0b0\",                        [{\"hovertemplate\":\"Team=Team 1<br>Winning=%{x}<br>HighestPositionHeld=%{y}<br>Experience=%{marker.size}<extra></extra>\",\"legendgroup\":\"Team 1\",\"marker\":{\"color\":\"#636efa\",\"size\":[88],\"sizemode\":\"area\",\"sizeref\":0.22,\"symbol\":\"circle\"},\"mode\":\"markers\",\"name\":\"Team 1\",\"orientation\":\"v\",\"showlegend\":true,\"type\":\"scatter\",\"x\":[0.5963070238957278],\"xaxis\":\"x\",\"y\":[1],\"yaxis\":\"y\"},{\"hovertemplate\":\"Team=Team 2<br>Winning=%{x}<br>HighestPositionHeld=%{y}<br>Experience=%{marker.size}<extra></extra>\",\"legendgroup\":\"Team 2\",\"marker\":{\"color\":\"#EF553B\",\"size\":[88],\"sizemode\":\"area\",\"sizeref\":0.22,\"symbol\":\"circle\"},\"mode\":\"markers\",\"name\":\"Team 2\",\"orientation\":\"v\",\"showlegend\":true,\"type\":\"scatter\",\"x\":[0.5724112961622013],\"xaxis\":\"x\",\"y\":[1],\"yaxis\":\"y\"},{\"hovertemplate\":\"Team=Team 3<br>Winning=%{x}<br>HighestPositionHeld=%{y}<br>Experience=%{marker.size}<extra></extra>\",\"legendgroup\":\"Team 3\",\"marker\":{\"color\":\"#00cc96\",\"size\":[88],\"sizemode\":\"area\",\"sizeref\":0.22,\"symbol\":\"circle\"},\"mode\":\"markers\",\"name\":\"Team 3\",\"orientation\":\"v\",\"showlegend\":true,\"type\":\"scatter\",\"x\":[0.4747513389441469],\"xaxis\":\"x\",\"y\":[1],\"yaxis\":\"y\"},{\"hovertemplate\":\"Team=Team 4<br>Winning=%{x}<br>HighestPositionHeld=%{y}<br>Experience=%{marker.size}<extra></extra>\",\"legendgroup\":\"Team 4\",\"marker\":{\"color\":\"#ab63fa\",\"size\":[86],\"sizemode\":\"area\",\"sizeref\":0.22,\"symbol\":\"circle\"},\"mode\":\"markers\",\"name\":\"Team 4\",\"orientation\":\"v\",\"showlegend\":true,\"type\":\"scatter\",\"x\":[0.4455705705705706],\"xaxis\":\"x\",\"y\":[1],\"yaxis\":\"y\"},{\"hovertemplate\":\"Team=Team 5<br>Winning=%{x}<br>HighestPositionHeld=%{y}<br>Experience=%{marker.size}<extra></extra>\",\"legendgroup\":\"Team 5\",\"marker\":{\"color\":\"#FFA15A\",\"size\":[88],\"sizemode\":\"area\",\"sizeref\":0.22,\"symbol\":\"circle\"},\"mode\":\"markers\",\"name\":\"Team 5\",\"orientation\":\"v\",\"showlegend\":true,\"type\":\"scatter\",\"x\":[0.4377262853005069],\"xaxis\":\"x\",\"y\":[1],\"yaxis\":\"y\"},{\"hovertemplate\":\"Team=Team 6<br>Winning=%{x}<br>HighestPositionHeld=%{y}<br>Experience=%{marker.size}<extra></extra>\",\"legendgroup\":\"Team 6\",\"marker\":{\"color\":\"#19d3f3\",\"size\":[83],\"sizemode\":\"area\",\"sizeref\":0.22,\"symbol\":\"circle\"},\"mode\":\"markers\",\"name\":\"Team 6\",\"orientation\":\"v\",\"showlegend\":true,\"type\":\"scatter\",\"x\":[0.4111295681063123],\"xaxis\":\"x\",\"y\":[1],\"yaxis\":\"y\"},{\"hovertemplate\":\"Team=Team 7<br>Winning=%{x}<br>HighestPositionHeld=%{y}<br>Experience=%{marker.size}<extra></extra>\",\"legendgroup\":\"Team 7\",\"marker\":{\"color\":\"#FF6692\",\"size\":[88],\"sizemode\":\"area\",\"sizeref\":0.22,\"symbol\":\"circle\"},\"mode\":\"markers\",\"name\":\"Team 7\",\"orientation\":\"v\",\"showlegend\":true,\"type\":\"scatter\",\"x\":[0.361005331302361],\"xaxis\":\"x\",\"y\":[3],\"yaxis\":\"y\"},{\"hovertemplate\":\"Team=Team 8<br>Winning=%{x}<br>HighestPositionHeld=%{y}<br>Experience=%{marker.size}<extra></extra>\",\"legendgroup\":\"Team 8\",\"marker\":{\"color\":\"#B6E880\",\"size\":[88],\"sizemode\":\"area\",\"sizeref\":0.22,\"symbol\":\"circle\"},\"mode\":\"markers\",\"name\":\"Team 8\",\"orientation\":\"v\",\"showlegend\":true,\"type\":\"scatter\",\"x\":[0.37532580364900087],\"xaxis\":\"x\",\"y\":[1],\"yaxis\":\"y\"},{\"hovertemplate\":\"Team=Team 9<br>Winning=%{x}<br>HighestPositionHeld=%{y}<br>Experience=%{marker.size}<extra></extra>\",\"legendgroup\":\"Team 9\",\"marker\":{\"color\":\"#FF97FF\",\"size\":[78],\"sizemode\":\"area\",\"sizeref\":0.22,\"symbol\":\"circle\"},\"mode\":\"markers\",\"name\":\"Team 9\",\"orientation\":\"v\",\"showlegend\":true,\"type\":\"scatter\",\"x\":[0.351460221550856],\"xaxis\":\"x\",\"y\":[2],\"yaxis\":\"y\"},{\"hovertemplate\":\"Team=Team 10<br>Winning=%{x}<br>HighestPositionHeld=%{y}<br>Experience=%{marker.size}<extra></extra>\",\"legendgroup\":\"Team 10\",\"marker\":{\"color\":\"#FECB52\",\"size\":[85],\"sizemode\":\"area\",\"sizeref\":0.22,\"symbol\":\"circle\"},\"mode\":\"markers\",\"name\":\"Team 10\",\"orientation\":\"v\",\"showlegend\":true,\"type\":\"scatter\",\"x\":[0.3506944444444444],\"xaxis\":\"x\",\"y\":[1],\"yaxis\":\"y\"},{\"hovertemplate\":\"Team=Team 11<br>Winning=%{x}<br>HighestPositionHeld=%{y}<br>Experience=%{marker.size}<extra></extra>\",\"legendgroup\":\"Team 11\",\"marker\":{\"color\":\"#636efa\",\"size\":[76],\"sizemode\":\"area\",\"sizeref\":0.22,\"symbol\":\"circle\"},\"mode\":\"markers\",\"name\":\"Team 11\",\"orientation\":\"v\",\"showlegend\":true,\"type\":\"scatter\",\"x\":[0.36797385620915035],\"xaxis\":\"x\",\"y\":[1],\"yaxis\":\"y\"},{\"hovertemplate\":\"Team=Team 12<br>Winning=%{x}<br>HighestPositionHeld=%{y}<br>Experience=%{marker.size}<extra></extra>\",\"legendgroup\":\"Team 12\",\"marker\":{\"color\":\"#EF553B\",\"size\":[78],\"sizemode\":\"area\",\"sizeref\":0.22,\"symbol\":\"circle\"},\"mode\":\"markers\",\"name\":\"Team 12\",\"orientation\":\"v\",\"showlegend\":true,\"type\":\"scatter\",\"x\":[0.3451118963486455],\"xaxis\":\"x\",\"y\":[4],\"yaxis\":\"y\"},{\"hovertemplate\":\"Team=Team 13<br>Winning=%{x}<br>HighestPositionHeld=%{y}<br>Experience=%{marker.size}<extra></extra>\",\"legendgroup\":\"Team 13\",\"marker\":{\"color\":\"#00cc96\",\"size\":[69],\"sizemode\":\"area\",\"sizeref\":0.22,\"symbol\":\"circle\"},\"mode\":\"markers\",\"name\":\"Team 13\",\"orientation\":\"v\",\"showlegend\":true,\"type\":\"scatter\",\"x\":[0.31582537517053205],\"xaxis\":\"x\",\"y\":[4],\"yaxis\":\"y\"},{\"hovertemplate\":\"Team=Team 14<br>Winning=%{x}<br>HighestPositionHeld=%{y}<br>Experience=%{marker.size}<extra></extra>\",\"legendgroup\":\"Team 14\",\"marker\":{\"color\":\"#ab63fa\",\"size\":[88],\"sizemode\":\"area\",\"sizeref\":0.22,\"symbol\":\"circle\"},\"mode\":\"markers\",\"name\":\"Team 14\",\"orientation\":\"v\",\"showlegend\":true,\"type\":\"scatter\",\"x\":[0.3172268907563025],\"xaxis\":\"x\",\"y\":[2],\"yaxis\":\"y\"},{\"hovertemplate\":\"Team=Team 15<br>Winning=%{x}<br>HighestPositionHeld=%{y}<br>Experience=%{marker.size}<extra></extra>\",\"legendgroup\":\"Team 15\",\"marker\":{\"color\":\"#FFA15A\",\"size\":[73],\"sizemode\":\"area\",\"sizeref\":0.22,\"symbol\":\"circle\"},\"mode\":\"markers\",\"name\":\"Team 15\",\"orientation\":\"v\",\"showlegend\":true,\"type\":\"scatter\",\"x\":[0.3230452674897119],\"xaxis\":\"x\",\"y\":[2],\"yaxis\":\"y\"},{\"hovertemplate\":\"Team=Team 16<br>Winning=%{x}<br>HighestPositionHeld=%{y}<br>Experience=%{marker.size}<extra></extra>\",\"legendgroup\":\"Team 16\",\"marker\":{\"color\":\"#19d3f3\",\"size\":[82],\"sizemode\":\"area\",\"sizeref\":0.22,\"symbol\":\"circle\"},\"mode\":\"markers\",\"name\":\"Team 16\",\"orientation\":\"v\",\"showlegend\":true,\"type\":\"scatter\",\"x\":[0.3232169954476479],\"xaxis\":\"x\",\"y\":[4],\"yaxis\":\"y\"},{\"hovertemplate\":\"Team=Team 17<br>Winning=%{x}<br>HighestPositionHeld=%{y}<br>Experience=%{marker.size}<extra></extra>\",\"legendgroup\":\"Team 17\",\"marker\":{\"color\":\"#FF6692\",\"size\":[68],\"sizemode\":\"area\",\"sizeref\":0.22,\"symbol\":\"circle\"},\"mode\":\"markers\",\"name\":\"Team 17\",\"orientation\":\"v\",\"showlegend\":true,\"type\":\"scatter\",\"x\":[0.3107569721115538],\"xaxis\":\"x\",\"y\":[4],\"yaxis\":\"y\"},{\"hovertemplate\":\"Team=Team 18<br>Winning=%{x}<br>HighestPositionHeld=%{y}<br>Experience=%{marker.size}<extra></extra>\",\"legendgroup\":\"Team 18\",\"marker\":{\"color\":\"#B6E880\",\"size\":[84],\"sizemode\":\"area\",\"sizeref\":0.22,\"symbol\":\"circle\"},\"mode\":\"markers\",\"name\":\"Team 18\",\"orientation\":\"v\",\"showlegend\":true,\"type\":\"scatter\",\"x\":[0.3422818791946309],\"xaxis\":\"x\",\"y\":[3],\"yaxis\":\"y\"},{\"hovertemplate\":\"Team=Team 19<br>Winning=%{x}<br>HighestPositionHeld=%{y}<br>Experience=%{marker.size}<extra></extra>\",\"legendgroup\":\"Team 19\",\"marker\":{\"color\":\"#FF97FF\",\"size\":[57],\"sizemode\":\"area\",\"sizeref\":0.22,\"symbol\":\"circle\"},\"mode\":\"markers\",\"name\":\"Team 19\",\"orientation\":\"v\",\"showlegend\":true,\"type\":\"scatter\",\"x\":[0.33704453441295545],\"xaxis\":\"x\",\"y\":[3],\"yaxis\":\"y\"},{\"hovertemplate\":\"Team=Team 20<br>Winning=%{x}<br>HighestPositionHeld=%{y}<br>Experience=%{marker.size}<extra></extra>\",\"legendgroup\":\"Team 20\",\"marker\":{\"color\":\"#FECB52\",\"size\":[66],\"sizemode\":\"area\",\"sizeref\":0.22,\"symbol\":\"circle\"},\"mode\":\"markers\",\"name\":\"Team 20\",\"orientation\":\"v\",\"showlegend\":true,\"type\":\"scatter\",\"x\":[0.33485401459854014],\"xaxis\":\"x\",\"y\":[2],\"yaxis\":\"y\"},{\"hovertemplate\":\"Team=Team 21<br>Winning=%{x}<br>HighestPositionHeld=%{y}<br>Experience=%{marker.size}<extra></extra>\",\"legendgroup\":\"Team 21\",\"marker\":{\"color\":\"#636efa\",\"size\":[19],\"sizemode\":\"area\",\"sizeref\":0.22,\"symbol\":\"circle\"},\"mode\":\"markers\",\"name\":\"Team 21\",\"orientation\":\"v\",\"showlegend\":true,\"type\":\"scatter\",\"x\":[0.4117647058823529],\"xaxis\":\"x\",\"y\":[2],\"yaxis\":\"y\"},{\"hovertemplate\":\"Team=Team 22<br>Winning=%{x}<br>HighestPositionHeld=%{y}<br>Experience=%{marker.size}<extra></extra>\",\"legendgroup\":\"Team 22\",\"marker\":{\"color\":\"#EF553B\",\"size\":[76],\"sizemode\":\"area\",\"sizeref\":0.22,\"symbol\":\"circle\"},\"mode\":\"markers\",\"name\":\"Team 22\",\"orientation\":\"v\",\"showlegend\":true,\"type\":\"scatter\",\"x\":[0.29380053908355797],\"xaxis\":\"x\",\"y\":[6],\"yaxis\":\"y\"},{\"hovertemplate\":\"Team=Team 23<br>Winning=%{x}<br>HighestPositionHeld=%{y}<br>Experience=%{marker.size}<extra></extra>\",\"legendgroup\":\"Team 23\",\"marker\":{\"color\":\"#00cc96\",\"size\":[40],\"sizemode\":\"area\",\"sizeref\":0.22,\"symbol\":\"circle\"},\"mode\":\"markers\",\"name\":\"Team 23\",\"orientation\":\"v\",\"showlegend\":true,\"type\":\"scatter\",\"x\":[0.2898773006134969],\"xaxis\":\"x\",\"y\":[8],\"yaxis\":\"y\"},{\"hovertemplate\":\"Team=Team 24<br>Winning=%{x}<br>HighestPositionHeld=%{y}<br>Experience=%{marker.size}<extra></extra>\",\"legendgroup\":\"Team 24\",\"marker\":{\"color\":\"#ab63fa\",\"size\":[58],\"sizemode\":\"area\",\"sizeref\":0.22,\"symbol\":\"circle\"},\"mode\":\"markers\",\"name\":\"Team 24\",\"orientation\":\"v\",\"showlegend\":true,\"type\":\"scatter\",\"x\":[0.2994100294985251],\"xaxis\":\"x\",\"y\":[5],\"yaxis\":\"y\"},{\"hovertemplate\":\"Team=Team 25<br>Winning=%{x}<br>HighestPositionHeld=%{y}<br>Experience=%{marker.size}<extra></extra>\",\"legendgroup\":\"Team 25\",\"marker\":{\"color\":\"#FFA15A\",\"size\":[13],\"sizemode\":\"area\",\"sizeref\":0.22,\"symbol\":\"circle\"},\"mode\":\"markers\",\"name\":\"Team 25\",\"orientation\":\"v\",\"showlegend\":true,\"type\":\"scatter\",\"x\":[0.3223684210526316],\"xaxis\":\"x\",\"y\":[6],\"yaxis\":\"y\"},{\"hovertemplate\":\"Team=Team 26<br>Winning=%{x}<br>HighestPositionHeld=%{y}<br>Experience=%{marker.size}<extra></extra>\",\"legendgroup\":\"Team 26\",\"marker\":{\"color\":\"#19d3f3\",\"size\":[82],\"sizemode\":\"area\",\"sizeref\":0.22,\"symbol\":\"circle\"},\"mode\":\"markers\",\"name\":\"Team 26\",\"orientation\":\"v\",\"showlegend\":true,\"type\":\"scatter\",\"x\":[0.2929936305732484],\"xaxis\":\"x\",\"y\":[5],\"yaxis\":\"y\"},{\"hovertemplate\":\"Team=Team 27<br>Winning=%{x}<br>HighestPositionHeld=%{y}<br>Experience=%{marker.size}<extra></extra>\",\"legendgroup\":\"Team 27\",\"marker\":{\"color\":\"#FF6692\",\"size\":[56],\"sizemode\":\"area\",\"sizeref\":0.22,\"symbol\":\"circle\"},\"mode\":\"markers\",\"name\":\"Team 27\",\"orientation\":\"v\",\"showlegend\":true,\"type\":\"scatter\",\"x\":[0.31376518218623484],\"xaxis\":\"x\",\"y\":[5],\"yaxis\":\"y\"},{\"hovertemplate\":\"Team=Team 28<br>Winning=%{x}<br>HighestPositionHeld=%{y}<br>Experience=%{marker.size}<extra></extra>\",\"legendgroup\":\"Team 28\",\"marker\":{\"color\":\"#B6E880\",\"size\":[77],\"sizemode\":\"area\",\"sizeref\":0.22,\"symbol\":\"circle\"},\"mode\":\"markers\",\"name\":\"Team 28\",\"orientation\":\"v\",\"showlegend\":true,\"type\":\"scatter\",\"x\":[0.24744027303754265],\"xaxis\":\"x\",\"y\":[11],\"yaxis\":\"y\"},{\"hovertemplate\":\"Team=Team 29<br>Winning=%{x}<br>HighestPositionHeld=%{y}<br>Experience=%{marker.size}<extra></extra>\",\"legendgroup\":\"Team 29\",\"marker\":{\"color\":\"#FF97FF\",\"size\":[87],\"sizemode\":\"area\",\"sizeref\":0.22,\"symbol\":\"circle\"},\"mode\":\"markers\",\"name\":\"Team 29\",\"orientation\":\"v\",\"showlegend\":true,\"type\":\"scatter\",\"x\":[0.32894736842105265],\"xaxis\":\"x\",\"y\":[6],\"yaxis\":\"y\"},{\"hovertemplate\":\"Team=Team 30<br>Winning=%{x}<br>HighestPositionHeld=%{y}<br>Experience=%{marker.size}<extra></extra>\",\"legendgroup\":\"Team 30\",\"marker\":{\"color\":\"#FECB52\",\"size\":[54],\"sizemode\":\"area\",\"sizeref\":0.22,\"symbol\":\"circle\"},\"mode\":\"markers\",\"name\":\"Team 30\",\"orientation\":\"v\",\"showlegend\":true,\"type\":\"scatter\",\"x\":[0.2810945273631841],\"xaxis\":\"x\",\"y\":[6],\"yaxis\":\"y\"},{\"hovertemplate\":\"Team=Team 31<br>Winning=%{x}<br>HighestPositionHeld=%{y}<br>Experience=%{marker.size}<extra></extra>\",\"legendgroup\":\"Team 31\",\"marker\":{\"color\":\"#636efa\",\"size\":[43],\"sizemode\":\"area\",\"sizeref\":0.22,\"symbol\":\"circle\"},\"mode\":\"markers\",\"name\":\"Team 31\",\"orientation\":\"v\",\"showlegend\":true,\"type\":\"scatter\",\"x\":[0.2907801418439716],\"xaxis\":\"x\",\"y\":[7],\"yaxis\":\"y\"},{\"hovertemplate\":\"Team=Team 32<br>Winning=%{x}<br>HighestPositionHeld=%{y}<br>Experience=%{marker.size}<extra></extra>\",\"legendgroup\":\"Team 32\",\"marker\":{\"color\":\"#EF553B\",\"size\":[74],\"sizemode\":\"area\",\"sizeref\":0.22,\"symbol\":\"circle\"},\"mode\":\"markers\",\"name\":\"Team 32\",\"orientation\":\"v\",\"showlegend\":true,\"type\":\"scatter\",\"x\":[0.3028169014084507],\"xaxis\":\"x\",\"y\":[4],\"yaxis\":\"y\"},{\"hovertemplate\":\"Team=Team 33<br>Winning=%{x}<br>HighestPositionHeld=%{y}<br>Experience=%{marker.size}<extra></extra>\",\"legendgroup\":\"Team 33\",\"marker\":{\"color\":\"#00cc96\",\"size\":[40],\"sizemode\":\"area\",\"sizeref\":0.22,\"symbol\":\"circle\"},\"mode\":\"markers\",\"name\":\"Team 33\",\"orientation\":\"v\",\"showlegend\":true,\"type\":\"scatter\",\"x\":[0.23214285714285715],\"xaxis\":\"x\",\"y\":[12],\"yaxis\":\"y\"},{\"hovertemplate\":\"Team=Team 34<br>Winning=%{x}<br>HighestPositionHeld=%{y}<br>Experience=%{marker.size}<extra></extra>\",\"legendgroup\":\"Team 34\",\"marker\":{\"color\":\"#ab63fa\",\"size\":[30],\"sizemode\":\"area\",\"sizeref\":0.22,\"symbol\":\"circle\"},\"mode\":\"markers\",\"name\":\"Team 34\",\"orientation\":\"v\",\"showlegend\":true,\"type\":\"scatter\",\"x\":[0.2774566473988439],\"xaxis\":\"x\",\"y\":[7],\"yaxis\":\"y\"},{\"hovertemplate\":\"Team=Team 35<br>Winning=%{x}<br>HighestPositionHeld=%{y}<br>Experience=%{marker.size}<extra></extra>\",\"legendgroup\":\"Team 35\",\"marker\":{\"color\":\"#FFA15A\",\"size\":[76],\"sizemode\":\"area\",\"sizeref\":0.22,\"symbol\":\"circle\"},\"mode\":\"markers\",\"name\":\"Team 35\",\"orientation\":\"v\",\"showlegend\":true,\"type\":\"scatter\",\"x\":[0.3083832335329341],\"xaxis\":\"x\",\"y\":[4],\"yaxis\":\"y\"},{\"hovertemplate\":\"Team=Team 36<br>Winning=%{x}<br>HighestPositionHeld=%{y}<br>Experience=%{marker.size}<extra></extra>\",\"legendgroup\":\"Team 36\",\"marker\":{\"color\":\"#19d3f3\",\"size\":[26],\"sizemode\":\"area\",\"sizeref\":0.22,\"symbol\":\"circle\"},\"mode\":\"markers\",\"name\":\"Team 36\",\"orientation\":\"v\",\"showlegend\":true,\"type\":\"scatter\",\"x\":[0.2814814814814815],\"xaxis\":\"x\",\"y\":[7],\"yaxis\":\"y\"},{\"hovertemplate\":\"Team=Team 37<br>Winning=%{x}<br>HighestPositionHeld=%{y}<br>Experience=%{marker.size}<extra></extra>\",\"legendgroup\":\"Team 37\",\"marker\":{\"color\":\"#FF6692\",\"size\":[10],\"sizemode\":\"area\",\"sizeref\":0.22,\"symbol\":\"circle\"},\"mode\":\"markers\",\"name\":\"Team 37\",\"orientation\":\"v\",\"showlegend\":true,\"type\":\"scatter\",\"x\":[0.2719298245614035],\"xaxis\":\"x\",\"y\":[8],\"yaxis\":\"y\"},{\"hovertemplate\":\"Team=Team 38<br>Winning=%{x}<br>HighestPositionHeld=%{y}<br>Experience=%{marker.size}<extra></extra>\",\"legendgroup\":\"Team 38\",\"marker\":{\"color\":\"#B6E880\",\"size\":[55],\"sizemode\":\"area\",\"sizeref\":0.22,\"symbol\":\"circle\"},\"mode\":\"markers\",\"name\":\"Team 38\",\"orientation\":\"v\",\"showlegend\":true,\"type\":\"scatter\",\"x\":[0.2907801418439716],\"xaxis\":\"x\",\"y\":[5],\"yaxis\":\"y\"},{\"hovertemplate\":\"Team=Team 39<br>Winning=%{x}<br>HighestPositionHeld=%{y}<br>Experience=%{marker.size}<extra></extra>\",\"legendgroup\":\"Team 39\",\"marker\":{\"color\":\"#FF97FF\",\"size\":[23],\"sizemode\":\"area\",\"sizeref\":0.22,\"symbol\":\"circle\"},\"mode\":\"markers\",\"name\":\"Team 39\",\"orientation\":\"v\",\"showlegend\":true,\"type\":\"scatter\",\"x\":[0.325],\"xaxis\":\"x\",\"y\":[10],\"yaxis\":\"y\"},{\"hovertemplate\":\"Team=Team 40<br>Winning=%{x}<br>HighestPositionHeld=%{y}<br>Experience=%{marker.size}<extra></extra>\",\"legendgroup\":\"Team 40\",\"marker\":{\"color\":\"#FECB52\",\"size\":[39],\"sizemode\":\"area\",\"sizeref\":0.22,\"symbol\":\"circle\"},\"mode\":\"markers\",\"name\":\"Team 40\",\"orientation\":\"v\",\"showlegend\":true,\"type\":\"scatter\",\"x\":[0.26881720430107525],\"xaxis\":\"x\",\"y\":[8],\"yaxis\":\"y\"},{\"hovertemplate\":\"Team=Team 41<br>Winning=%{x}<br>HighestPositionHeld=%{y}<br>Experience=%{marker.size}<extra></extra>\",\"legendgroup\":\"Team 41\",\"marker\":{\"color\":\"#636efa\",\"size\":[46],\"sizemode\":\"area\",\"sizeref\":0.22,\"symbol\":\"circle\"},\"mode\":\"markers\",\"name\":\"Team 41\",\"orientation\":\"v\",\"showlegend\":true,\"type\":\"scatter\",\"x\":[0.28921568627450983],\"xaxis\":\"x\",\"y\":[12],\"yaxis\":\"y\"},{\"hovertemplate\":\"Team=Team 42<br>Winning=%{x}<br>HighestPositionHeld=%{y}<br>Experience=%{marker.size}<extra></extra>\",\"legendgroup\":\"Team 42\",\"marker\":{\"color\":\"#EF553B\",\"size\":[54],\"sizemode\":\"area\",\"sizeref\":0.22,\"symbol\":\"circle\"},\"mode\":\"markers\",\"name\":\"Team 42\",\"orientation\":\"v\",\"showlegend\":true,\"type\":\"scatter\",\"x\":[0.29444444444444445],\"xaxis\":\"x\",\"y\":[7],\"yaxis\":\"y\"},{\"hovertemplate\":\"Team=Team 43<br>Winning=%{x}<br>HighestPositionHeld=%{y}<br>Experience=%{marker.size}<extra></extra>\",\"legendgroup\":\"Team 43\",\"marker\":{\"color\":\"#00cc96\",\"size\":[18],\"sizemode\":\"area\",\"sizeref\":0.22,\"symbol\":\"circle\"},\"mode\":\"markers\",\"name\":\"Team 43\",\"orientation\":\"v\",\"showlegend\":true,\"type\":\"scatter\",\"x\":[0.24342105263157895],\"xaxis\":\"x\",\"y\":[17],\"yaxis\":\"y\"},{\"hovertemplate\":\"Team=Team 44<br>Winning=%{x}<br>HighestPositionHeld=%{y}<br>Experience=%{marker.size}<extra></extra>\",\"legendgroup\":\"Team 44\",\"marker\":{\"color\":\"#ab63fa\",\"size\":[3],\"sizemode\":\"area\",\"sizeref\":0.22,\"symbol\":\"circle\"},\"mode\":\"markers\",\"name\":\"Team 44\",\"orientation\":\"v\",\"showlegend\":true,\"type\":\"scatter\",\"x\":[0.30701754385964913],\"xaxis\":\"x\",\"y\":[10],\"yaxis\":\"y\"},{\"hovertemplate\":\"Team=Team 45<br>Winning=%{x}<br>HighestPositionHeld=%{y}<br>Experience=%{marker.size}<extra></extra>\",\"legendgroup\":\"Team 45\",\"marker\":{\"color\":\"#FFA15A\",\"size\":[88],\"sizemode\":\"area\",\"sizeref\":0.22,\"symbol\":\"circle\"},\"mode\":\"markers\",\"name\":\"Team 45\",\"orientation\":\"v\",\"showlegend\":true,\"type\":\"scatter\",\"x\":[0.33076923076923076],\"xaxis\":\"x\",\"y\":[3],\"yaxis\":\"y\"},{\"hovertemplate\":\"Team=Team 46<br>Winning=%{x}<br>HighestPositionHeld=%{y}<br>Experience=%{marker.size}<extra></extra>\",\"legendgroup\":\"Team 46\",\"marker\":{\"color\":\"#19d3f3\",\"size\":[27],\"sizemode\":\"area\",\"sizeref\":0.22,\"symbol\":\"circle\"},\"mode\":\"markers\",\"name\":\"Team 46\",\"orientation\":\"v\",\"showlegend\":true,\"type\":\"scatter\",\"x\":[0.22807017543859648],\"xaxis\":\"x\",\"y\":[9],\"yaxis\":\"y\"},{\"hovertemplate\":\"Team=Team 47<br>Winning=%{x}<br>HighestPositionHeld=%{y}<br>Experience=%{marker.size}<extra></extra>\",\"legendgroup\":\"Team 47\",\"marker\":{\"color\":\"#FF6692\",\"size\":[70],\"sizemode\":\"area\",\"sizeref\":0.22,\"symbol\":\"circle\"},\"mode\":\"markers\",\"name\":\"Team 47\",\"orientation\":\"v\",\"showlegend\":true,\"type\":\"scatter\",\"x\":[0.29310344827586204],\"xaxis\":\"x\",\"y\":[7],\"yaxis\":\"y\"},{\"hovertemplate\":\"Team=Team 48<br>Winning=%{x}<br>HighestPositionHeld=%{y}<br>Experience=%{marker.size}<extra></extra>\",\"legendgroup\":\"Team 48\",\"marker\":{\"color\":\"#B6E880\",\"size\":[21],\"sizemode\":\"area\",\"sizeref\":0.22,\"symbol\":\"circle\"},\"mode\":\"markers\",\"name\":\"Team 48\",\"orientation\":\"v\",\"showlegend\":true,\"type\":\"scatter\",\"x\":[0.25],\"xaxis\":\"x\",\"y\":[17],\"yaxis\":\"y\"},{\"hovertemplate\":\"Team=Team 49<br>Winning=%{x}<br>HighestPositionHeld=%{y}<br>Experience=%{marker.size}<extra></extra>\",\"legendgroup\":\"Team 49\",\"marker\":{\"color\":\"#FF97FF\",\"size\":[22],\"sizemode\":\"area\",\"sizeref\":0.22,\"symbol\":\"circle\"},\"mode\":\"markers\",\"name\":\"Team 49\",\"orientation\":\"v\",\"showlegend\":true,\"type\":\"scatter\",\"x\":[0.2375],\"xaxis\":\"x\",\"y\":[19],\"yaxis\":\"y\"},{\"hovertemplate\":\"Team=Team 50<br>Winning=%{x}<br>HighestPositionHeld=%{y}<br>Experience=%{marker.size}<extra></extra>\",\"legendgroup\":\"Team 50\",\"marker\":{\"color\":\"#FECB52\",\"size\":[72],\"sizemode\":\"area\",\"sizeref\":0.22,\"symbol\":\"circle\"},\"mode\":\"markers\",\"name\":\"Team 50\",\"orientation\":\"v\",\"showlegend\":true,\"type\":\"scatter\",\"x\":[0.2777777777777778],\"xaxis\":\"x\",\"y\":[10],\"yaxis\":\"y\"},{\"hovertemplate\":\"Team=Team 51<br>Winning=%{x}<br>HighestPositionHeld=%{y}<br>Experience=%{marker.size}<extra></extra>\",\"legendgroup\":\"Team 51\",\"marker\":{\"color\":\"#636efa\",\"size\":[64],\"sizemode\":\"area\",\"sizeref\":0.22,\"symbol\":\"circle\"},\"mode\":\"markers\",\"name\":\"Team 51\",\"orientation\":\"v\",\"showlegend\":true,\"type\":\"scatter\",\"x\":[0.32222222222222224],\"xaxis\":\"x\",\"y\":[14],\"yaxis\":\"y\"},{\"hovertemplate\":\"Team=Team 52<br>Winning=%{x}<br>HighestPositionHeld=%{y}<br>Experience=%{marker.size}<extra></extra>\",\"legendgroup\":\"Team 52\",\"marker\":{\"color\":\"#EF553B\",\"size\":[88],\"sizemode\":\"area\",\"sizeref\":0.22,\"symbol\":\"circle\"},\"mode\":\"markers\",\"name\":\"Team 52\",\"orientation\":\"v\",\"showlegend\":true,\"type\":\"scatter\",\"x\":[0.2916666666666667],\"xaxis\":\"x\",\"y\":[6],\"yaxis\":\"y\"},{\"hovertemplate\":\"Team=Team 53<br>Winning=%{x}<br>HighestPositionHeld=%{y}<br>Experience=%{marker.size}<extra></extra>\",\"legendgroup\":\"Team 53\",\"marker\":{\"color\":\"#00cc96\",\"size\":[38],\"sizemode\":\"area\",\"sizeref\":0.22,\"symbol\":\"circle\"},\"mode\":\"markers\",\"name\":\"Team 53\",\"orientation\":\"v\",\"showlegend\":true,\"type\":\"scatter\",\"x\":[0.25],\"xaxis\":\"x\",\"y\":[10],\"yaxis\":\"y\"},{\"hovertemplate\":\"Team=Team 54<br>Winning=%{x}<br>HighestPositionHeld=%{y}<br>Experience=%{marker.size}<extra></extra>\",\"legendgroup\":\"Team 54\",\"marker\":{\"color\":\"#ab63fa\",\"size\":[88],\"sizemode\":\"area\",\"sizeref\":0.22,\"symbol\":\"circle\"},\"mode\":\"markers\",\"name\":\"Team 54\",\"orientation\":\"v\",\"showlegend\":true,\"type\":\"scatter\",\"x\":[0.3333333333333333],\"xaxis\":\"x\",\"y\":[8],\"yaxis\":\"y\"},{\"hovertemplate\":\"Team=Team 55<br>Winning=%{x}<br>HighestPositionHeld=%{y}<br>Experience=%{marker.size}<extra></extra>\",\"legendgroup\":\"Team 55\",\"marker\":{\"color\":\"#FFA15A\",\"size\":[67],\"sizemode\":\"area\",\"sizeref\":0.22,\"symbol\":\"circle\"},\"mode\":\"markers\",\"name\":\"Team 55\",\"orientation\":\"v\",\"showlegend\":true,\"type\":\"scatter\",\"x\":[0.19117647058823528],\"xaxis\":\"x\",\"y\":[16],\"yaxis\":\"y\"},{\"hovertemplate\":\"Team=Team 56<br>Winning=%{x}<br>HighestPositionHeld=%{y}<br>Experience=%{marker.size}<extra></extra>\",\"legendgroup\":\"Team 56\",\"marker\":{\"color\":\"#19d3f3\",\"size\":[1],\"sizemode\":\"area\",\"sizeref\":0.22,\"symbol\":\"circle\"},\"mode\":\"markers\",\"name\":\"Team 56\",\"orientation\":\"v\",\"showlegend\":true,\"type\":\"scatter\",\"x\":[0.21052631578947367],\"xaxis\":\"x\",\"y\":[17],\"yaxis\":\"y\"},{\"hovertemplate\":\"Team=Team 57<br>Winning=%{x}<br>HighestPositionHeld=%{y}<br>Experience=%{marker.size}<extra></extra>\",\"legendgroup\":\"Team 57\",\"marker\":{\"color\":\"#FF6692\",\"size\":[8],\"sizemode\":\"area\",\"sizeref\":0.22,\"symbol\":\"circle\"},\"mode\":\"markers\",\"name\":\"Team 57\",\"orientation\":\"v\",\"showlegend\":true,\"type\":\"scatter\",\"x\":[0.21052631578947367],\"xaxis\":\"x\",\"y\":[20],\"yaxis\":\"y\"},{\"hovertemplate\":\"Team=Team 58<br>Winning=%{x}<br>HighestPositionHeld=%{y}<br>Experience=%{marker.size}<extra></extra>\",\"legendgroup\":\"Team 58\",\"marker\":{\"color\":\"#B6E880\",\"size\":[61],\"sizemode\":\"area\",\"sizeref\":0.22,\"symbol\":\"circle\"},\"mode\":\"markers\",\"name\":\"Team 58\",\"orientation\":\"v\",\"showlegend\":true,\"type\":\"scatter\",\"x\":[0.23333333333333334],\"xaxis\":\"x\",\"y\":[16],\"yaxis\":\"y\"},{\"hovertemplate\":\"Team=Team 59<br>Winning=%{x}<br>HighestPositionHeld=%{y}<br>Experience=%{marker.size}<extra></extra>\",\"legendgroup\":\"Team 59\",\"marker\":{\"color\":\"#FF97FF\",\"size\":[66],\"sizemode\":\"area\",\"sizeref\":0.22,\"symbol\":\"circle\"},\"mode\":\"markers\",\"name\":\"Team 59\",\"orientation\":\"v\",\"showlegend\":true,\"type\":\"scatter\",\"x\":[0.23333333333333334],\"xaxis\":\"x\",\"y\":[16],\"yaxis\":\"y\"},{\"hovertemplate\":\"Team=Team 60<br>Winning=%{x}<br>HighestPositionHeld=%{y}<br>Experience=%{marker.size}<extra></extra>\",\"legendgroup\":\"Team 60\",\"marker\":{\"color\":\"#FECB52\",\"size\":[62],\"sizemode\":\"area\",\"sizeref\":0.22,\"symbol\":\"circle\"},\"mode\":\"markers\",\"name\":\"Team 60\",\"orientation\":\"v\",\"showlegend\":true,\"type\":\"scatter\",\"x\":[0.16666666666666666],\"xaxis\":\"x\",\"y\":[15],\"yaxis\":\"y\"},{\"hovertemplate\":\"Team=Team 61<br>Winning=%{x}<br>HighestPositionHeld=%{y}<br>Experience=%{marker.size}<extra></extra>\",\"legendgroup\":\"Team 61\",\"marker\":{\"color\":\"#636efa\",\"size\":[0],\"sizemode\":\"area\",\"sizeref\":0.22,\"symbol\":\"circle\"},\"mode\":\"markers\",\"name\":\"Team 61\",\"orientation\":\"v\",\"showlegend\":true,\"type\":\"scatter\",\"x\":[null],\"xaxis\":\"x\",\"y\":[9],\"yaxis\":\"y\"}],                        {\"legend\":{\"itemsizing\":\"constant\",\"title\":{\"text\":\"Team\"},\"tracegroupgap\":0},\"margin\":{\"t\":60},\"template\":{\"data\":{\"bar\":[{\"error_x\":{\"color\":\"#2a3f5f\"},\"error_y\":{\"color\":\"#2a3f5f\"},\"marker\":{\"line\":{\"color\":\"#E5ECF6\",\"width\":0.5},\"pattern\":{\"fillmode\":\"overlay\",\"size\":10,\"solidity\":0.2}},\"type\":\"bar\"}],\"barpolar\":[{\"marker\":{\"line\":{\"color\":\"#E5ECF6\",\"width\":0.5},\"pattern\":{\"fillmode\":\"overlay\",\"size\":10,\"solidity\":0.2}},\"type\":\"barpolar\"}],\"carpet\":[{\"aaxis\":{\"endlinecolor\":\"#2a3f5f\",\"gridcolor\":\"white\",\"linecolor\":\"white\",\"minorgridcolor\":\"white\",\"startlinecolor\":\"#2a3f5f\"},\"baxis\":{\"endlinecolor\":\"#2a3f5f\",\"gridcolor\":\"white\",\"linecolor\":\"white\",\"minorgridcolor\":\"white\",\"startlinecolor\":\"#2a3f5f\"},\"type\":\"carpet\"}],\"choropleth\":[{\"colorbar\":{\"outlinewidth\":0,\"ticks\":\"\"},\"type\":\"choropleth\"}],\"contour\":[{\"colorbar\":{\"outlinewidth\":0,\"ticks\":\"\"},\"colorscale\":[[0.0,\"#0d0887\"],[0.1111111111111111,\"#46039f\"],[0.2222222222222222,\"#7201a8\"],[0.3333333333333333,\"#9c179e\"],[0.4444444444444444,\"#bd3786\"],[0.5555555555555556,\"#d8576b\"],[0.6666666666666666,\"#ed7953\"],[0.7777777777777778,\"#fb9f3a\"],[0.8888888888888888,\"#fdca26\"],[1.0,\"#f0f921\"]],\"type\":\"contour\"}],\"contourcarpet\":[{\"colorbar\":{\"outlinewidth\":0,\"ticks\":\"\"},\"type\":\"contourcarpet\"}],\"heatmap\":[{\"colorbar\":{\"outlinewidth\":0,\"ticks\":\"\"},\"colorscale\":[[0.0,\"#0d0887\"],[0.1111111111111111,\"#46039f\"],[0.2222222222222222,\"#7201a8\"],[0.3333333333333333,\"#9c179e\"],[0.4444444444444444,\"#bd3786\"],[0.5555555555555556,\"#d8576b\"],[0.6666666666666666,\"#ed7953\"],[0.7777777777777778,\"#fb9f3a\"],[0.8888888888888888,\"#fdca26\"],[1.0,\"#f0f921\"]],\"type\":\"heatmap\"}],\"heatmapgl\":[{\"colorbar\":{\"outlinewidth\":0,\"ticks\":\"\"},\"colorscale\":[[0.0,\"#0d0887\"],[0.1111111111111111,\"#46039f\"],[0.2222222222222222,\"#7201a8\"],[0.3333333333333333,\"#9c179e\"],[0.4444444444444444,\"#bd3786\"],[0.5555555555555556,\"#d8576b\"],[0.6666666666666666,\"#ed7953\"],[0.7777777777777778,\"#fb9f3a\"],[0.8888888888888888,\"#fdca26\"],[1.0,\"#f0f921\"]],\"type\":\"heatmapgl\"}],\"histogram\":[{\"marker\":{\"pattern\":{\"fillmode\":\"overlay\",\"size\":10,\"solidity\":0.2}},\"type\":\"histogram\"}],\"histogram2d\":[{\"colorbar\":{\"outlinewidth\":0,\"ticks\":\"\"},\"colorscale\":[[0.0,\"#0d0887\"],[0.1111111111111111,\"#46039f\"],[0.2222222222222222,\"#7201a8\"],[0.3333333333333333,\"#9c179e\"],[0.4444444444444444,\"#bd3786\"],[0.5555555555555556,\"#d8576b\"],[0.6666666666666666,\"#ed7953\"],[0.7777777777777778,\"#fb9f3a\"],[0.8888888888888888,\"#fdca26\"],[1.0,\"#f0f921\"]],\"type\":\"histogram2d\"}],\"histogram2dcontour\":[{\"colorbar\":{\"outlinewidth\":0,\"ticks\":\"\"},\"colorscale\":[[0.0,\"#0d0887\"],[0.1111111111111111,\"#46039f\"],[0.2222222222222222,\"#7201a8\"],[0.3333333333333333,\"#9c179e\"],[0.4444444444444444,\"#bd3786\"],[0.5555555555555556,\"#d8576b\"],[0.6666666666666666,\"#ed7953\"],[0.7777777777777778,\"#fb9f3a\"],[0.8888888888888888,\"#fdca26\"],[1.0,\"#f0f921\"]],\"type\":\"histogram2dcontour\"}],\"mesh3d\":[{\"colorbar\":{\"outlinewidth\":0,\"ticks\":\"\"},\"type\":\"mesh3d\"}],\"parcoords\":[{\"line\":{\"colorbar\":{\"outlinewidth\":0,\"ticks\":\"\"}},\"type\":\"parcoords\"}],\"pie\":[{\"automargin\":true,\"type\":\"pie\"}],\"scatter\":[{\"marker\":{\"colorbar\":{\"outlinewidth\":0,\"ticks\":\"\"}},\"type\":\"scatter\"}],\"scatter3d\":[{\"line\":{\"colorbar\":{\"outlinewidth\":0,\"ticks\":\"\"}},\"marker\":{\"colorbar\":{\"outlinewidth\":0,\"ticks\":\"\"}},\"type\":\"scatter3d\"}],\"scattercarpet\":[{\"marker\":{\"colorbar\":{\"outlinewidth\":0,\"ticks\":\"\"}},\"type\":\"scattercarpet\"}],\"scattergeo\":[{\"marker\":{\"colorbar\":{\"outlinewidth\":0,\"ticks\":\"\"}},\"type\":\"scattergeo\"}],\"scattergl\":[{\"marker\":{\"colorbar\":{\"outlinewidth\":0,\"ticks\":\"\"}},\"type\":\"scattergl\"}],\"scattermapbox\":[{\"marker\":{\"colorbar\":{\"outlinewidth\":0,\"ticks\":\"\"}},\"type\":\"scattermapbox\"}],\"scatterpolar\":[{\"marker\":{\"colorbar\":{\"outlinewidth\":0,\"ticks\":\"\"}},\"type\":\"scatterpolar\"}],\"scatterpolargl\":[{\"marker\":{\"colorbar\":{\"outlinewidth\":0,\"ticks\":\"\"}},\"type\":\"scatterpolargl\"}],\"scatterternary\":[{\"marker\":{\"colorbar\":{\"outlinewidth\":0,\"ticks\":\"\"}},\"type\":\"scatterternary\"}],\"surface\":[{\"colorbar\":{\"outlinewidth\":0,\"ticks\":\"\"},\"colorscale\":[[0.0,\"#0d0887\"],[0.1111111111111111,\"#46039f\"],[0.2222222222222222,\"#7201a8\"],[0.3333333333333333,\"#9c179e\"],[0.4444444444444444,\"#bd3786\"],[0.5555555555555556,\"#d8576b\"],[0.6666666666666666,\"#ed7953\"],[0.7777777777777778,\"#fb9f3a\"],[0.8888888888888888,\"#fdca26\"],[1.0,\"#f0f921\"]],\"type\":\"surface\"}],\"table\":[{\"cells\":{\"fill\":{\"color\":\"#EBF0F8\"},\"line\":{\"color\":\"white\"}},\"header\":{\"fill\":{\"color\":\"#C8D4E3\"},\"line\":{\"color\":\"white\"}},\"type\":\"table\"}]},\"layout\":{\"annotationdefaults\":{\"arrowcolor\":\"#2a3f5f\",\"arrowhead\":0,\"arrowwidth\":1},\"autotypenumbers\":\"strict\",\"coloraxis\":{\"colorbar\":{\"outlinewidth\":0,\"ticks\":\"\"}},\"colorscale\":{\"diverging\":[[0,\"#8e0152\"],[0.1,\"#c51b7d\"],[0.2,\"#de77ae\"],[0.3,\"#f1b6da\"],[0.4,\"#fde0ef\"],[0.5,\"#f7f7f7\"],[0.6,\"#e6f5d0\"],[0.7,\"#b8e186\"],[0.8,\"#7fbc41\"],[0.9,\"#4d9221\"],[1,\"#276419\"]],\"sequential\":[[0.0,\"#0d0887\"],[0.1111111111111111,\"#46039f\"],[0.2222222222222222,\"#7201a8\"],[0.3333333333333333,\"#9c179e\"],[0.4444444444444444,\"#bd3786\"],[0.5555555555555556,\"#d8576b\"],[0.6666666666666666,\"#ed7953\"],[0.7777777777777778,\"#fb9f3a\"],[0.8888888888888888,\"#fdca26\"],[1.0,\"#f0f921\"]],\"sequentialminus\":[[0.0,\"#0d0887\"],[0.1111111111111111,\"#46039f\"],[0.2222222222222222,\"#7201a8\"],[0.3333333333333333,\"#9c179e\"],[0.4444444444444444,\"#bd3786\"],[0.5555555555555556,\"#d8576b\"],[0.6666666666666666,\"#ed7953\"],[0.7777777777777778,\"#fb9f3a\"],[0.8888888888888888,\"#fdca26\"],[1.0,\"#f0f921\"]]},\"colorway\":[\"#636efa\",\"#EF553B\",\"#00cc96\",\"#ab63fa\",\"#FFA15A\",\"#19d3f3\",\"#FF6692\",\"#B6E880\",\"#FF97FF\",\"#FECB52\"],\"font\":{\"color\":\"#2a3f5f\"},\"geo\":{\"bgcolor\":\"white\",\"lakecolor\":\"white\",\"landcolor\":\"#E5ECF6\",\"showlakes\":true,\"showland\":true,\"subunitcolor\":\"white\"},\"hoverlabel\":{\"align\":\"left\"},\"hovermode\":\"closest\",\"mapbox\":{\"style\":\"light\"},\"paper_bgcolor\":\"white\",\"plot_bgcolor\":\"#E5ECF6\",\"polar\":{\"angularaxis\":{\"gridcolor\":\"white\",\"linecolor\":\"white\",\"ticks\":\"\"},\"bgcolor\":\"#E5ECF6\",\"radialaxis\":{\"gridcolor\":\"white\",\"linecolor\":\"white\",\"ticks\":\"\"}},\"scene\":{\"xaxis\":{\"backgroundcolor\":\"#E5ECF6\",\"gridcolor\":\"white\",\"gridwidth\":2,\"linecolor\":\"white\",\"showbackground\":true,\"ticks\":\"\",\"zerolinecolor\":\"white\"},\"yaxis\":{\"backgroundcolor\":\"#E5ECF6\",\"gridcolor\":\"white\",\"gridwidth\":2,\"linecolor\":\"white\",\"showbackground\":true,\"ticks\":\"\",\"zerolinecolor\":\"white\"},\"zaxis\":{\"backgroundcolor\":\"#E5ECF6\",\"gridcolor\":\"white\",\"gridwidth\":2,\"linecolor\":\"white\",\"showbackground\":true,\"ticks\":\"\",\"zerolinecolor\":\"white\"}},\"shapedefaults\":{\"line\":{\"color\":\"#2a3f5f\"}},\"ternary\":{\"aaxis\":{\"gridcolor\":\"white\",\"linecolor\":\"white\",\"ticks\":\"\"},\"baxis\":{\"gridcolor\":\"white\",\"linecolor\":\"white\",\"ticks\":\"\"},\"bgcolor\":\"#E5ECF6\",\"caxis\":{\"gridcolor\":\"white\",\"linecolor\":\"white\",\"ticks\":\"\"}},\"title\":{\"x\":0.05},\"xaxis\":{\"automargin\":true,\"gridcolor\":\"white\",\"linecolor\":\"white\",\"ticks\":\"\",\"title\":{\"standoff\":15},\"zerolinecolor\":\"white\",\"zerolinewidth\":2},\"yaxis\":{\"automargin\":true,\"gridcolor\":\"white\",\"linecolor\":\"white\",\"ticks\":\"\",\"title\":{\"standoff\":15},\"zerolinecolor\":\"white\",\"zerolinewidth\":2}}},\"xaxis\":{\"anchor\":\"y\",\"domain\":[0.0,1.0],\"title\":{\"text\":\"Winning\"}},\"yaxis\":{\"anchor\":\"x\",\"domain\":[0.0,1.0],\"title\":{\"text\":\"HighestPositionHeld\"}}},                        {\"responsive\": true}                    ).then(function(){\n",
       "                            \n",
       "var gd = document.getElementById('6f1dc1a0-5c5d-4569-83dc-aaee5a44f0b0');\n",
       "var x = new MutationObserver(function (mutations, observer) {{\n",
       "        var display = window.getComputedStyle(gd).display;\n",
       "        if (!display || display === 'none') {{\n",
       "            console.log([gd, 'removed!']);\n",
       "            Plotly.purge(gd);\n",
       "            observer.disconnect();\n",
       "        }}\n",
       "}});\n",
       "\n",
       "// Listen for the removal of the full notebook cells\n",
       "var notebookContainer = gd.closest('#notebook-container');\n",
       "if (notebookContainer) {{\n",
       "    x.observe(notebookContainer, {childList: true});\n",
       "}}\n",
       "\n",
       "// Listen for the clearing of the current output cell\n",
       "var outputEl = gd.closest('.output');\n",
       "if (outputEl) {{\n",
       "    x.observe(outputEl, {childList: true});\n",
       "}}\n",
       "\n",
       "                        })                };                });            </script>        </div>"
      ]
     },
     "metadata": {},
     "output_type": "display_data"
    }
   ],
   "source": [
    "# Young vs old team's performance\n",
    "\n",
    "fig = px.scatter(data2, x=\"Winning\", y=\"HighestPositionHeld\",size=\"Experience\",color='Team')\n",
    "fig.show()"
   ]
  },
  {
   "cell_type": "code",
   "execution_count": 65,
   "metadata": {
    "scrolled": true
   },
   "outputs": [
    {
     "data": {
      "application/vnd.plotly.v1+json": {
       "config": {
        "plotlyServerURL": "https://plot.ly"
       },
       "data": [
        {
         "hovertemplate": "Team=%{x}<br>Winning=%{y}<br>Experience=%{marker.size}<extra></extra>",
         "legendgroup": "",
         "marker": {
          "color": "#636efa",
          "size": [
           88,
           88,
           88,
           86,
           88,
           83,
           88,
           88,
           78,
           85,
           76,
           78,
           69,
           88,
           73,
           82,
           68,
           84,
           57,
           66,
           19,
           76,
           40,
           58,
           13,
           82,
           56,
           77,
           87,
           54,
           43,
           74,
           40,
           30,
           76,
           26,
           10,
           55,
           23,
           39,
           46,
           54,
           18,
           3,
           88,
           27,
           70,
           21,
           22,
           72,
           64,
           88,
           38,
           88,
           67,
           1,
           8,
           61,
           66,
           62,
           0
          ],
          "sizemode": "area",
          "sizeref": 0.22,
          "symbol": "circle"
         },
         "mode": "markers",
         "name": "",
         "orientation": "v",
         "showlegend": false,
         "type": "scatter",
         "x": [
          "Team 1",
          "Team 2",
          "Team 3",
          "Team 4",
          "Team 5",
          "Team 6",
          "Team 7",
          "Team 8",
          "Team 9",
          "Team 10",
          "Team 11",
          "Team 12",
          "Team 13",
          "Team 14",
          "Team 15",
          "Team 16",
          "Team 17",
          "Team 18",
          "Team 19",
          "Team 20",
          "Team 21",
          "Team 22",
          "Team 23",
          "Team 24",
          "Team 25",
          "Team 26",
          "Team 27",
          "Team 28",
          "Team 29",
          "Team 30",
          "Team 31",
          "Team 32",
          "Team 33",
          "Team 34",
          "Team 35",
          "Team 36",
          "Team 37",
          "Team 38",
          "Team 39",
          "Team 40",
          "Team 41",
          "Team 42",
          "Team 43",
          "Team 44",
          "Team 45",
          "Team 46",
          "Team 47",
          "Team 48",
          "Team 49",
          "Team 50",
          "Team 51",
          "Team 52",
          "Team 53",
          "Team 54",
          "Team 55",
          "Team 56",
          "Team 57",
          "Team 58",
          "Team 59",
          "Team 60",
          "Team 61"
         ],
         "xaxis": "x",
         "y": [
          0.5963070238957278,
          0.5724112961622013,
          0.4747513389441469,
          0.4455705705705706,
          0.4377262853005069,
          0.4111295681063123,
          0.361005331302361,
          0.37532580364900087,
          0.351460221550856,
          0.3506944444444444,
          0.36797385620915035,
          0.3451118963486455,
          0.31582537517053205,
          0.3172268907563025,
          0.3230452674897119,
          0.3232169954476479,
          0.3107569721115538,
          0.3422818791946309,
          0.33704453441295545,
          0.33485401459854014,
          0.4117647058823529,
          0.29380053908355797,
          0.2898773006134969,
          0.2994100294985251,
          0.3223684210526316,
          0.2929936305732484,
          0.31376518218623484,
          0.24744027303754265,
          0.32894736842105265,
          0.2810945273631841,
          0.2907801418439716,
          0.3028169014084507,
          0.23214285714285715,
          0.2774566473988439,
          0.3083832335329341,
          0.2814814814814815,
          0.2719298245614035,
          0.2907801418439716,
          0.325,
          0.26881720430107525,
          0.28921568627450983,
          0.29444444444444445,
          0.24342105263157895,
          0.30701754385964913,
          0.33076923076923076,
          0.22807017543859648,
          0.29310344827586204,
          0.25,
          0.2375,
          0.2777777777777778,
          0.32222222222222224,
          0.2916666666666667,
          0.25,
          0.3333333333333333,
          0.19117647058823528,
          0.21052631578947367,
          0.21052631578947367,
          0.23333333333333334,
          0.23333333333333334,
          0.16666666666666666,
          null
         ],
         "yaxis": "y"
        }
       ],
       "layout": {
        "legend": {
         "itemsizing": "constant",
         "tracegroupgap": 0
        },
        "margin": {
         "t": 60
        },
        "template": {
         "data": {
          "bar": [
           {
            "error_x": {
             "color": "#2a3f5f"
            },
            "error_y": {
             "color": "#2a3f5f"
            },
            "marker": {
             "line": {
              "color": "#E5ECF6",
              "width": 0.5
             },
             "pattern": {
              "fillmode": "overlay",
              "size": 10,
              "solidity": 0.2
             }
            },
            "type": "bar"
           }
          ],
          "barpolar": [
           {
            "marker": {
             "line": {
              "color": "#E5ECF6",
              "width": 0.5
             },
             "pattern": {
              "fillmode": "overlay",
              "size": 10,
              "solidity": 0.2
             }
            },
            "type": "barpolar"
           }
          ],
          "carpet": [
           {
            "aaxis": {
             "endlinecolor": "#2a3f5f",
             "gridcolor": "white",
             "linecolor": "white",
             "minorgridcolor": "white",
             "startlinecolor": "#2a3f5f"
            },
            "baxis": {
             "endlinecolor": "#2a3f5f",
             "gridcolor": "white",
             "linecolor": "white",
             "minorgridcolor": "white",
             "startlinecolor": "#2a3f5f"
            },
            "type": "carpet"
           }
          ],
          "choropleth": [
           {
            "colorbar": {
             "outlinewidth": 0,
             "ticks": ""
            },
            "type": "choropleth"
           }
          ],
          "contour": [
           {
            "colorbar": {
             "outlinewidth": 0,
             "ticks": ""
            },
            "colorscale": [
             [
              0,
              "#0d0887"
             ],
             [
              0.1111111111111111,
              "#46039f"
             ],
             [
              0.2222222222222222,
              "#7201a8"
             ],
             [
              0.3333333333333333,
              "#9c179e"
             ],
             [
              0.4444444444444444,
              "#bd3786"
             ],
             [
              0.5555555555555556,
              "#d8576b"
             ],
             [
              0.6666666666666666,
              "#ed7953"
             ],
             [
              0.7777777777777778,
              "#fb9f3a"
             ],
             [
              0.8888888888888888,
              "#fdca26"
             ],
             [
              1,
              "#f0f921"
             ]
            ],
            "type": "contour"
           }
          ],
          "contourcarpet": [
           {
            "colorbar": {
             "outlinewidth": 0,
             "ticks": ""
            },
            "type": "contourcarpet"
           }
          ],
          "heatmap": [
           {
            "colorbar": {
             "outlinewidth": 0,
             "ticks": ""
            },
            "colorscale": [
             [
              0,
              "#0d0887"
             ],
             [
              0.1111111111111111,
              "#46039f"
             ],
             [
              0.2222222222222222,
              "#7201a8"
             ],
             [
              0.3333333333333333,
              "#9c179e"
             ],
             [
              0.4444444444444444,
              "#bd3786"
             ],
             [
              0.5555555555555556,
              "#d8576b"
             ],
             [
              0.6666666666666666,
              "#ed7953"
             ],
             [
              0.7777777777777778,
              "#fb9f3a"
             ],
             [
              0.8888888888888888,
              "#fdca26"
             ],
             [
              1,
              "#f0f921"
             ]
            ],
            "type": "heatmap"
           }
          ],
          "heatmapgl": [
           {
            "colorbar": {
             "outlinewidth": 0,
             "ticks": ""
            },
            "colorscale": [
             [
              0,
              "#0d0887"
             ],
             [
              0.1111111111111111,
              "#46039f"
             ],
             [
              0.2222222222222222,
              "#7201a8"
             ],
             [
              0.3333333333333333,
              "#9c179e"
             ],
             [
              0.4444444444444444,
              "#bd3786"
             ],
             [
              0.5555555555555556,
              "#d8576b"
             ],
             [
              0.6666666666666666,
              "#ed7953"
             ],
             [
              0.7777777777777778,
              "#fb9f3a"
             ],
             [
              0.8888888888888888,
              "#fdca26"
             ],
             [
              1,
              "#f0f921"
             ]
            ],
            "type": "heatmapgl"
           }
          ],
          "histogram": [
           {
            "marker": {
             "pattern": {
              "fillmode": "overlay",
              "size": 10,
              "solidity": 0.2
             }
            },
            "type": "histogram"
           }
          ],
          "histogram2d": [
           {
            "colorbar": {
             "outlinewidth": 0,
             "ticks": ""
            },
            "colorscale": [
             [
              0,
              "#0d0887"
             ],
             [
              0.1111111111111111,
              "#46039f"
             ],
             [
              0.2222222222222222,
              "#7201a8"
             ],
             [
              0.3333333333333333,
              "#9c179e"
             ],
             [
              0.4444444444444444,
              "#bd3786"
             ],
             [
              0.5555555555555556,
              "#d8576b"
             ],
             [
              0.6666666666666666,
              "#ed7953"
             ],
             [
              0.7777777777777778,
              "#fb9f3a"
             ],
             [
              0.8888888888888888,
              "#fdca26"
             ],
             [
              1,
              "#f0f921"
             ]
            ],
            "type": "histogram2d"
           }
          ],
          "histogram2dcontour": [
           {
            "colorbar": {
             "outlinewidth": 0,
             "ticks": ""
            },
            "colorscale": [
             [
              0,
              "#0d0887"
             ],
             [
              0.1111111111111111,
              "#46039f"
             ],
             [
              0.2222222222222222,
              "#7201a8"
             ],
             [
              0.3333333333333333,
              "#9c179e"
             ],
             [
              0.4444444444444444,
              "#bd3786"
             ],
             [
              0.5555555555555556,
              "#d8576b"
             ],
             [
              0.6666666666666666,
              "#ed7953"
             ],
             [
              0.7777777777777778,
              "#fb9f3a"
             ],
             [
              0.8888888888888888,
              "#fdca26"
             ],
             [
              1,
              "#f0f921"
             ]
            ],
            "type": "histogram2dcontour"
           }
          ],
          "mesh3d": [
           {
            "colorbar": {
             "outlinewidth": 0,
             "ticks": ""
            },
            "type": "mesh3d"
           }
          ],
          "parcoords": [
           {
            "line": {
             "colorbar": {
              "outlinewidth": 0,
              "ticks": ""
             }
            },
            "type": "parcoords"
           }
          ],
          "pie": [
           {
            "automargin": true,
            "type": "pie"
           }
          ],
          "scatter": [
           {
            "marker": {
             "colorbar": {
              "outlinewidth": 0,
              "ticks": ""
             }
            },
            "type": "scatter"
           }
          ],
          "scatter3d": [
           {
            "line": {
             "colorbar": {
              "outlinewidth": 0,
              "ticks": ""
             }
            },
            "marker": {
             "colorbar": {
              "outlinewidth": 0,
              "ticks": ""
             }
            },
            "type": "scatter3d"
           }
          ],
          "scattercarpet": [
           {
            "marker": {
             "colorbar": {
              "outlinewidth": 0,
              "ticks": ""
             }
            },
            "type": "scattercarpet"
           }
          ],
          "scattergeo": [
           {
            "marker": {
             "colorbar": {
              "outlinewidth": 0,
              "ticks": ""
             }
            },
            "type": "scattergeo"
           }
          ],
          "scattergl": [
           {
            "marker": {
             "colorbar": {
              "outlinewidth": 0,
              "ticks": ""
             }
            },
            "type": "scattergl"
           }
          ],
          "scattermapbox": [
           {
            "marker": {
             "colorbar": {
              "outlinewidth": 0,
              "ticks": ""
             }
            },
            "type": "scattermapbox"
           }
          ],
          "scatterpolar": [
           {
            "marker": {
             "colorbar": {
              "outlinewidth": 0,
              "ticks": ""
             }
            },
            "type": "scatterpolar"
           }
          ],
          "scatterpolargl": [
           {
            "marker": {
             "colorbar": {
              "outlinewidth": 0,
              "ticks": ""
             }
            },
            "type": "scatterpolargl"
           }
          ],
          "scatterternary": [
           {
            "marker": {
             "colorbar": {
              "outlinewidth": 0,
              "ticks": ""
             }
            },
            "type": "scatterternary"
           }
          ],
          "surface": [
           {
            "colorbar": {
             "outlinewidth": 0,
             "ticks": ""
            },
            "colorscale": [
             [
              0,
              "#0d0887"
             ],
             [
              0.1111111111111111,
              "#46039f"
             ],
             [
              0.2222222222222222,
              "#7201a8"
             ],
             [
              0.3333333333333333,
              "#9c179e"
             ],
             [
              0.4444444444444444,
              "#bd3786"
             ],
             [
              0.5555555555555556,
              "#d8576b"
             ],
             [
              0.6666666666666666,
              "#ed7953"
             ],
             [
              0.7777777777777778,
              "#fb9f3a"
             ],
             [
              0.8888888888888888,
              "#fdca26"
             ],
             [
              1,
              "#f0f921"
             ]
            ],
            "type": "surface"
           }
          ],
          "table": [
           {
            "cells": {
             "fill": {
              "color": "#EBF0F8"
             },
             "line": {
              "color": "white"
             }
            },
            "header": {
             "fill": {
              "color": "#C8D4E3"
             },
             "line": {
              "color": "white"
             }
            },
            "type": "table"
           }
          ]
         },
         "layout": {
          "annotationdefaults": {
           "arrowcolor": "#2a3f5f",
           "arrowhead": 0,
           "arrowwidth": 1
          },
          "autotypenumbers": "strict",
          "coloraxis": {
           "colorbar": {
            "outlinewidth": 0,
            "ticks": ""
           }
          },
          "colorscale": {
           "diverging": [
            [
             0,
             "#8e0152"
            ],
            [
             0.1,
             "#c51b7d"
            ],
            [
             0.2,
             "#de77ae"
            ],
            [
             0.3,
             "#f1b6da"
            ],
            [
             0.4,
             "#fde0ef"
            ],
            [
             0.5,
             "#f7f7f7"
            ],
            [
             0.6,
             "#e6f5d0"
            ],
            [
             0.7,
             "#b8e186"
            ],
            [
             0.8,
             "#7fbc41"
            ],
            [
             0.9,
             "#4d9221"
            ],
            [
             1,
             "#276419"
            ]
           ],
           "sequential": [
            [
             0,
             "#0d0887"
            ],
            [
             0.1111111111111111,
             "#46039f"
            ],
            [
             0.2222222222222222,
             "#7201a8"
            ],
            [
             0.3333333333333333,
             "#9c179e"
            ],
            [
             0.4444444444444444,
             "#bd3786"
            ],
            [
             0.5555555555555556,
             "#d8576b"
            ],
            [
             0.6666666666666666,
             "#ed7953"
            ],
            [
             0.7777777777777778,
             "#fb9f3a"
            ],
            [
             0.8888888888888888,
             "#fdca26"
            ],
            [
             1,
             "#f0f921"
            ]
           ],
           "sequentialminus": [
            [
             0,
             "#0d0887"
            ],
            [
             0.1111111111111111,
             "#46039f"
            ],
            [
             0.2222222222222222,
             "#7201a8"
            ],
            [
             0.3333333333333333,
             "#9c179e"
            ],
            [
             0.4444444444444444,
             "#bd3786"
            ],
            [
             0.5555555555555556,
             "#d8576b"
            ],
            [
             0.6666666666666666,
             "#ed7953"
            ],
            [
             0.7777777777777778,
             "#fb9f3a"
            ],
            [
             0.8888888888888888,
             "#fdca26"
            ],
            [
             1,
             "#f0f921"
            ]
           ]
          },
          "colorway": [
           "#636efa",
           "#EF553B",
           "#00cc96",
           "#ab63fa",
           "#FFA15A",
           "#19d3f3",
           "#FF6692",
           "#B6E880",
           "#FF97FF",
           "#FECB52"
          ],
          "font": {
           "color": "#2a3f5f"
          },
          "geo": {
           "bgcolor": "white",
           "lakecolor": "white",
           "landcolor": "#E5ECF6",
           "showlakes": true,
           "showland": true,
           "subunitcolor": "white"
          },
          "hoverlabel": {
           "align": "left"
          },
          "hovermode": "closest",
          "mapbox": {
           "style": "light"
          },
          "paper_bgcolor": "white",
          "plot_bgcolor": "#E5ECF6",
          "polar": {
           "angularaxis": {
            "gridcolor": "white",
            "linecolor": "white",
            "ticks": ""
           },
           "bgcolor": "#E5ECF6",
           "radialaxis": {
            "gridcolor": "white",
            "linecolor": "white",
            "ticks": ""
           }
          },
          "scene": {
           "xaxis": {
            "backgroundcolor": "#E5ECF6",
            "gridcolor": "white",
            "gridwidth": 2,
            "linecolor": "white",
            "showbackground": true,
            "ticks": "",
            "zerolinecolor": "white"
           },
           "yaxis": {
            "backgroundcolor": "#E5ECF6",
            "gridcolor": "white",
            "gridwidth": 2,
            "linecolor": "white",
            "showbackground": true,
            "ticks": "",
            "zerolinecolor": "white"
           },
           "zaxis": {
            "backgroundcolor": "#E5ECF6",
            "gridcolor": "white",
            "gridwidth": 2,
            "linecolor": "white",
            "showbackground": true,
            "ticks": "",
            "zerolinecolor": "white"
           }
          },
          "shapedefaults": {
           "line": {
            "color": "#2a3f5f"
           }
          },
          "ternary": {
           "aaxis": {
            "gridcolor": "white",
            "linecolor": "white",
            "ticks": ""
           },
           "baxis": {
            "gridcolor": "white",
            "linecolor": "white",
            "ticks": ""
           },
           "bgcolor": "#E5ECF6",
           "caxis": {
            "gridcolor": "white",
            "linecolor": "white",
            "ticks": ""
           }
          },
          "title": {
           "x": 0.05
          },
          "xaxis": {
           "automargin": true,
           "gridcolor": "white",
           "linecolor": "white",
           "ticks": "",
           "title": {
            "standoff": 15
           },
           "zerolinecolor": "white",
           "zerolinewidth": 2
          },
          "yaxis": {
           "automargin": true,
           "gridcolor": "white",
           "linecolor": "white",
           "ticks": "",
           "title": {
            "standoff": 15
           },
           "zerolinecolor": "white",
           "zerolinewidth": 2
          }
         }
        },
        "xaxis": {
         "anchor": "y",
         "domain": [
          0,
          1
         ],
         "title": {
          "text": "Team"
         }
        },
        "yaxis": {
         "anchor": "x",
         "domain": [
          0,
          1
         ],
         "title": {
          "text": "Winning"
         }
        }
       }
      },
      "text/html": [
       "<div>                            <div id=\"39a1d1ae-61b4-4c6e-b359-d28ef11ff8ec\" class=\"plotly-graph-div\" style=\"height:525px; width:100%;\"></div>            <script type=\"text/javascript\">                require([\"plotly\"], function(Plotly) {                    window.PLOTLYENV=window.PLOTLYENV || {};                                    if (document.getElementById(\"39a1d1ae-61b4-4c6e-b359-d28ef11ff8ec\")) {                    Plotly.newPlot(                        \"39a1d1ae-61b4-4c6e-b359-d28ef11ff8ec\",                        [{\"hovertemplate\":\"Team=%{x}<br>Winning=%{y}<br>Experience=%{marker.size}<extra></extra>\",\"legendgroup\":\"\",\"marker\":{\"color\":\"#636efa\",\"size\":[88,88,88,86,88,83,88,88,78,85,76,78,69,88,73,82,68,84,57,66,19,76,40,58,13,82,56,77,87,54,43,74,40,30,76,26,10,55,23,39,46,54,18,3,88,27,70,21,22,72,64,88,38,88,67,1,8,61,66,62,0],\"sizemode\":\"area\",\"sizeref\":0.22,\"symbol\":\"circle\"},\"mode\":\"markers\",\"name\":\"\",\"orientation\":\"v\",\"showlegend\":false,\"type\":\"scatter\",\"x\":[\"Team 1\",\"Team 2\",\"Team 3\",\"Team 4\",\"Team 5\",\"Team 6\",\"Team 7\",\"Team 8\",\"Team 9\",\"Team 10\",\"Team 11\",\"Team 12\",\"Team 13\",\"Team 14\",\"Team 15\",\"Team 16\",\"Team 17\",\"Team 18\",\"Team 19\",\"Team 20\",\"Team 21\",\"Team 22\",\"Team 23\",\"Team 24\",\"Team 25\",\"Team 26\",\"Team 27\",\"Team 28\",\"Team 29\",\"Team 30\",\"Team 31\",\"Team 32\",\"Team 33\",\"Team 34\",\"Team 35\",\"Team 36\",\"Team 37\",\"Team 38\",\"Team 39\",\"Team 40\",\"Team 41\",\"Team 42\",\"Team 43\",\"Team 44\",\"Team 45\",\"Team 46\",\"Team 47\",\"Team 48\",\"Team 49\",\"Team 50\",\"Team 51\",\"Team 52\",\"Team 53\",\"Team 54\",\"Team 55\",\"Team 56\",\"Team 57\",\"Team 58\",\"Team 59\",\"Team 60\",\"Team 61\"],\"xaxis\":\"x\",\"y\":[0.5963070238957278,0.5724112961622013,0.4747513389441469,0.4455705705705706,0.4377262853005069,0.4111295681063123,0.361005331302361,0.37532580364900087,0.351460221550856,0.3506944444444444,0.36797385620915035,0.3451118963486455,0.31582537517053205,0.3172268907563025,0.3230452674897119,0.3232169954476479,0.3107569721115538,0.3422818791946309,0.33704453441295545,0.33485401459854014,0.4117647058823529,0.29380053908355797,0.2898773006134969,0.2994100294985251,0.3223684210526316,0.2929936305732484,0.31376518218623484,0.24744027303754265,0.32894736842105265,0.2810945273631841,0.2907801418439716,0.3028169014084507,0.23214285714285715,0.2774566473988439,0.3083832335329341,0.2814814814814815,0.2719298245614035,0.2907801418439716,0.325,0.26881720430107525,0.28921568627450983,0.29444444444444445,0.24342105263157895,0.30701754385964913,0.33076923076923076,0.22807017543859648,0.29310344827586204,0.25,0.2375,0.2777777777777778,0.32222222222222224,0.2916666666666667,0.25,0.3333333333333333,0.19117647058823528,0.21052631578947367,0.21052631578947367,0.23333333333333334,0.23333333333333334,0.16666666666666666,null],\"yaxis\":\"y\"}],                        {\"legend\":{\"itemsizing\":\"constant\",\"tracegroupgap\":0},\"margin\":{\"t\":60},\"template\":{\"data\":{\"bar\":[{\"error_x\":{\"color\":\"#2a3f5f\"},\"error_y\":{\"color\":\"#2a3f5f\"},\"marker\":{\"line\":{\"color\":\"#E5ECF6\",\"width\":0.5},\"pattern\":{\"fillmode\":\"overlay\",\"size\":10,\"solidity\":0.2}},\"type\":\"bar\"}],\"barpolar\":[{\"marker\":{\"line\":{\"color\":\"#E5ECF6\",\"width\":0.5},\"pattern\":{\"fillmode\":\"overlay\",\"size\":10,\"solidity\":0.2}},\"type\":\"barpolar\"}],\"carpet\":[{\"aaxis\":{\"endlinecolor\":\"#2a3f5f\",\"gridcolor\":\"white\",\"linecolor\":\"white\",\"minorgridcolor\":\"white\",\"startlinecolor\":\"#2a3f5f\"},\"baxis\":{\"endlinecolor\":\"#2a3f5f\",\"gridcolor\":\"white\",\"linecolor\":\"white\",\"minorgridcolor\":\"white\",\"startlinecolor\":\"#2a3f5f\"},\"type\":\"carpet\"}],\"choropleth\":[{\"colorbar\":{\"outlinewidth\":0,\"ticks\":\"\"},\"type\":\"choropleth\"}],\"contour\":[{\"colorbar\":{\"outlinewidth\":0,\"ticks\":\"\"},\"colorscale\":[[0.0,\"#0d0887\"],[0.1111111111111111,\"#46039f\"],[0.2222222222222222,\"#7201a8\"],[0.3333333333333333,\"#9c179e\"],[0.4444444444444444,\"#bd3786\"],[0.5555555555555556,\"#d8576b\"],[0.6666666666666666,\"#ed7953\"],[0.7777777777777778,\"#fb9f3a\"],[0.8888888888888888,\"#fdca26\"],[1.0,\"#f0f921\"]],\"type\":\"contour\"}],\"contourcarpet\":[{\"colorbar\":{\"outlinewidth\":0,\"ticks\":\"\"},\"type\":\"contourcarpet\"}],\"heatmap\":[{\"colorbar\":{\"outlinewidth\":0,\"ticks\":\"\"},\"colorscale\":[[0.0,\"#0d0887\"],[0.1111111111111111,\"#46039f\"],[0.2222222222222222,\"#7201a8\"],[0.3333333333333333,\"#9c179e\"],[0.4444444444444444,\"#bd3786\"],[0.5555555555555556,\"#d8576b\"],[0.6666666666666666,\"#ed7953\"],[0.7777777777777778,\"#fb9f3a\"],[0.8888888888888888,\"#fdca26\"],[1.0,\"#f0f921\"]],\"type\":\"heatmap\"}],\"heatmapgl\":[{\"colorbar\":{\"outlinewidth\":0,\"ticks\":\"\"},\"colorscale\":[[0.0,\"#0d0887\"],[0.1111111111111111,\"#46039f\"],[0.2222222222222222,\"#7201a8\"],[0.3333333333333333,\"#9c179e\"],[0.4444444444444444,\"#bd3786\"],[0.5555555555555556,\"#d8576b\"],[0.6666666666666666,\"#ed7953\"],[0.7777777777777778,\"#fb9f3a\"],[0.8888888888888888,\"#fdca26\"],[1.0,\"#f0f921\"]],\"type\":\"heatmapgl\"}],\"histogram\":[{\"marker\":{\"pattern\":{\"fillmode\":\"overlay\",\"size\":10,\"solidity\":0.2}},\"type\":\"histogram\"}],\"histogram2d\":[{\"colorbar\":{\"outlinewidth\":0,\"ticks\":\"\"},\"colorscale\":[[0.0,\"#0d0887\"],[0.1111111111111111,\"#46039f\"],[0.2222222222222222,\"#7201a8\"],[0.3333333333333333,\"#9c179e\"],[0.4444444444444444,\"#bd3786\"],[0.5555555555555556,\"#d8576b\"],[0.6666666666666666,\"#ed7953\"],[0.7777777777777778,\"#fb9f3a\"],[0.8888888888888888,\"#fdca26\"],[1.0,\"#f0f921\"]],\"type\":\"histogram2d\"}],\"histogram2dcontour\":[{\"colorbar\":{\"outlinewidth\":0,\"ticks\":\"\"},\"colorscale\":[[0.0,\"#0d0887\"],[0.1111111111111111,\"#46039f\"],[0.2222222222222222,\"#7201a8\"],[0.3333333333333333,\"#9c179e\"],[0.4444444444444444,\"#bd3786\"],[0.5555555555555556,\"#d8576b\"],[0.6666666666666666,\"#ed7953\"],[0.7777777777777778,\"#fb9f3a\"],[0.8888888888888888,\"#fdca26\"],[1.0,\"#f0f921\"]],\"type\":\"histogram2dcontour\"}],\"mesh3d\":[{\"colorbar\":{\"outlinewidth\":0,\"ticks\":\"\"},\"type\":\"mesh3d\"}],\"parcoords\":[{\"line\":{\"colorbar\":{\"outlinewidth\":0,\"ticks\":\"\"}},\"type\":\"parcoords\"}],\"pie\":[{\"automargin\":true,\"type\":\"pie\"}],\"scatter\":[{\"marker\":{\"colorbar\":{\"outlinewidth\":0,\"ticks\":\"\"}},\"type\":\"scatter\"}],\"scatter3d\":[{\"line\":{\"colorbar\":{\"outlinewidth\":0,\"ticks\":\"\"}},\"marker\":{\"colorbar\":{\"outlinewidth\":0,\"ticks\":\"\"}},\"type\":\"scatter3d\"}],\"scattercarpet\":[{\"marker\":{\"colorbar\":{\"outlinewidth\":0,\"ticks\":\"\"}},\"type\":\"scattercarpet\"}],\"scattergeo\":[{\"marker\":{\"colorbar\":{\"outlinewidth\":0,\"ticks\":\"\"}},\"type\":\"scattergeo\"}],\"scattergl\":[{\"marker\":{\"colorbar\":{\"outlinewidth\":0,\"ticks\":\"\"}},\"type\":\"scattergl\"}],\"scattermapbox\":[{\"marker\":{\"colorbar\":{\"outlinewidth\":0,\"ticks\":\"\"}},\"type\":\"scattermapbox\"}],\"scatterpolar\":[{\"marker\":{\"colorbar\":{\"outlinewidth\":0,\"ticks\":\"\"}},\"type\":\"scatterpolar\"}],\"scatterpolargl\":[{\"marker\":{\"colorbar\":{\"outlinewidth\":0,\"ticks\":\"\"}},\"type\":\"scatterpolargl\"}],\"scatterternary\":[{\"marker\":{\"colorbar\":{\"outlinewidth\":0,\"ticks\":\"\"}},\"type\":\"scatterternary\"}],\"surface\":[{\"colorbar\":{\"outlinewidth\":0,\"ticks\":\"\"},\"colorscale\":[[0.0,\"#0d0887\"],[0.1111111111111111,\"#46039f\"],[0.2222222222222222,\"#7201a8\"],[0.3333333333333333,\"#9c179e\"],[0.4444444444444444,\"#bd3786\"],[0.5555555555555556,\"#d8576b\"],[0.6666666666666666,\"#ed7953\"],[0.7777777777777778,\"#fb9f3a\"],[0.8888888888888888,\"#fdca26\"],[1.0,\"#f0f921\"]],\"type\":\"surface\"}],\"table\":[{\"cells\":{\"fill\":{\"color\":\"#EBF0F8\"},\"line\":{\"color\":\"white\"}},\"header\":{\"fill\":{\"color\":\"#C8D4E3\"},\"line\":{\"color\":\"white\"}},\"type\":\"table\"}]},\"layout\":{\"annotationdefaults\":{\"arrowcolor\":\"#2a3f5f\",\"arrowhead\":0,\"arrowwidth\":1},\"autotypenumbers\":\"strict\",\"coloraxis\":{\"colorbar\":{\"outlinewidth\":0,\"ticks\":\"\"}},\"colorscale\":{\"diverging\":[[0,\"#8e0152\"],[0.1,\"#c51b7d\"],[0.2,\"#de77ae\"],[0.3,\"#f1b6da\"],[0.4,\"#fde0ef\"],[0.5,\"#f7f7f7\"],[0.6,\"#e6f5d0\"],[0.7,\"#b8e186\"],[0.8,\"#7fbc41\"],[0.9,\"#4d9221\"],[1,\"#276419\"]],\"sequential\":[[0.0,\"#0d0887\"],[0.1111111111111111,\"#46039f\"],[0.2222222222222222,\"#7201a8\"],[0.3333333333333333,\"#9c179e\"],[0.4444444444444444,\"#bd3786\"],[0.5555555555555556,\"#d8576b\"],[0.6666666666666666,\"#ed7953\"],[0.7777777777777778,\"#fb9f3a\"],[0.8888888888888888,\"#fdca26\"],[1.0,\"#f0f921\"]],\"sequentialminus\":[[0.0,\"#0d0887\"],[0.1111111111111111,\"#46039f\"],[0.2222222222222222,\"#7201a8\"],[0.3333333333333333,\"#9c179e\"],[0.4444444444444444,\"#bd3786\"],[0.5555555555555556,\"#d8576b\"],[0.6666666666666666,\"#ed7953\"],[0.7777777777777778,\"#fb9f3a\"],[0.8888888888888888,\"#fdca26\"],[1.0,\"#f0f921\"]]},\"colorway\":[\"#636efa\",\"#EF553B\",\"#00cc96\",\"#ab63fa\",\"#FFA15A\",\"#19d3f3\",\"#FF6692\",\"#B6E880\",\"#FF97FF\",\"#FECB52\"],\"font\":{\"color\":\"#2a3f5f\"},\"geo\":{\"bgcolor\":\"white\",\"lakecolor\":\"white\",\"landcolor\":\"#E5ECF6\",\"showlakes\":true,\"showland\":true,\"subunitcolor\":\"white\"},\"hoverlabel\":{\"align\":\"left\"},\"hovermode\":\"closest\",\"mapbox\":{\"style\":\"light\"},\"paper_bgcolor\":\"white\",\"plot_bgcolor\":\"#E5ECF6\",\"polar\":{\"angularaxis\":{\"gridcolor\":\"white\",\"linecolor\":\"white\",\"ticks\":\"\"},\"bgcolor\":\"#E5ECF6\",\"radialaxis\":{\"gridcolor\":\"white\",\"linecolor\":\"white\",\"ticks\":\"\"}},\"scene\":{\"xaxis\":{\"backgroundcolor\":\"#E5ECF6\",\"gridcolor\":\"white\",\"gridwidth\":2,\"linecolor\":\"white\",\"showbackground\":true,\"ticks\":\"\",\"zerolinecolor\":\"white\"},\"yaxis\":{\"backgroundcolor\":\"#E5ECF6\",\"gridcolor\":\"white\",\"gridwidth\":2,\"linecolor\":\"white\",\"showbackground\":true,\"ticks\":\"\",\"zerolinecolor\":\"white\"},\"zaxis\":{\"backgroundcolor\":\"#E5ECF6\",\"gridcolor\":\"white\",\"gridwidth\":2,\"linecolor\":\"white\",\"showbackground\":true,\"ticks\":\"\",\"zerolinecolor\":\"white\"}},\"shapedefaults\":{\"line\":{\"color\":\"#2a3f5f\"}},\"ternary\":{\"aaxis\":{\"gridcolor\":\"white\",\"linecolor\":\"white\",\"ticks\":\"\"},\"baxis\":{\"gridcolor\":\"white\",\"linecolor\":\"white\",\"ticks\":\"\"},\"bgcolor\":\"#E5ECF6\",\"caxis\":{\"gridcolor\":\"white\",\"linecolor\":\"white\",\"ticks\":\"\"}},\"title\":{\"x\":0.05},\"xaxis\":{\"automargin\":true,\"gridcolor\":\"white\",\"linecolor\":\"white\",\"ticks\":\"\",\"title\":{\"standoff\":15},\"zerolinecolor\":\"white\",\"zerolinewidth\":2},\"yaxis\":{\"automargin\":true,\"gridcolor\":\"white\",\"linecolor\":\"white\",\"ticks\":\"\",\"title\":{\"standoff\":15},\"zerolinecolor\":\"white\",\"zerolinewidth\":2}}},\"xaxis\":{\"anchor\":\"y\",\"domain\":[0.0,1.0],\"title\":{\"text\":\"Team\"}},\"yaxis\":{\"anchor\":\"x\",\"domain\":[0.0,1.0],\"title\":{\"text\":\"Winning\"}}},                        {\"responsive\": true}                    ).then(function(){\n",
       "                            \n",
       "var gd = document.getElementById('39a1d1ae-61b4-4c6e-b359-d28ef11ff8ec');\n",
       "var x = new MutationObserver(function (mutations, observer) {{\n",
       "        var display = window.getComputedStyle(gd).display;\n",
       "        if (!display || display === 'none') {{\n",
       "            console.log([gd, 'removed!']);\n",
       "            Plotly.purge(gd);\n",
       "            observer.disconnect();\n",
       "        }}\n",
       "}});\n",
       "\n",
       "// Listen for the removal of the full notebook cells\n",
       "var notebookContainer = gd.closest('#notebook-container');\n",
       "if (notebookContainer) {{\n",
       "    x.observe(notebookContainer, {childList: true});\n",
       "}}\n",
       "\n",
       "// Listen for the clearing of the current output cell\n",
       "var outputEl = gd.closest('.output');\n",
       "if (outputEl) {{\n",
       "    x.observe(outputEl, {childList: true});\n",
       "}}\n",
       "\n",
       "                        })                };                });            </script>        </div>"
      ]
     },
     "metadata": {},
     "output_type": "display_data"
    }
   ],
   "source": [
    "# Young vs old team's performance\n",
    "\n",
    "fig = px.scatter(data2, x=\"Team\", y=\"Winning\",size=\"Experience\")\n",
    "fig.show()"
   ]
  },
  {
   "cell_type": "markdown",
   "metadata": {},
   "source": [
    " Similar teams\n",
    "- Young and old teams\n",
    "    Team 6 and 12 with same winning rate=41%\n",
    "\n",
    "- Young teams\n",
    "    Team 56 and 57 with same winning rate=21%\n",
    " \n",
    "- Old teams\n",
    "    Team 45 and 54 with same winning rate=33% and experience=88\n",
    "\n",
    " "
   ]
  },
  {
   "cell_type": "code",
   "execution_count": 75,
   "metadata": {},
   "outputs": [
    {
     "name": "stdout",
     "output_type": "stream",
     "text": [
      "       Tournament        Score  PlayedGames     WonGames  DrawnGames  \\\n",
      "count   61.000000    61.000000    61.000000    61.000000   61.000000   \n",
      "mean    24.000000   901.426230   796.819672   303.967213  188.934426   \n",
      "std     26.827225  1134.899121   876.282765   406.991030  201.799477   \n",
      "min      1.000000     0.000000     0.000000     0.000000    0.000000   \n",
      "25%      4.000000    96.000000   114.000000    34.000000   24.000000   \n",
      "50%     12.000000   375.000000   423.000000   123.000000   95.000000   \n",
      "75%     38.000000  1351.000000  1318.000000   426.000000  330.000000   \n",
      "max     86.000000  4385.000000  2762.000000  1647.000000  633.000000   \n",
      "\n",
      "         LostGames  BasketScored  BasketGiven  TournamentChampion  Runner-up  \\\n",
      "count    61.000000     61.000000    61.000000           61.000000  61.000000   \n",
      "mean    303.754098   1140.344262  1140.229508            1.426230   1.409836   \n",
      "std     294.708594   1506.740211  1163.710766            5.472535   4.540107   \n",
      "min       0.000000      0.000000     0.000000            0.000000   0.000000   \n",
      "25%      62.000000    153.000000   221.000000            0.000000   0.000000   \n",
      "50%     197.000000    430.000000   632.000000            0.000000   0.000000   \n",
      "75%     563.000000   1642.000000  1951.000000            0.000000   0.000000   \n",
      "max    1070.000000   5947.000000  3889.000000           33.000000  25.000000   \n",
      "\n",
      "        TeamLaunch  HighestPositionHeld  Experience  ChampRate  WinningRate  \\\n",
      "count    61.000000            61.000000   61.000000  61.000000    60.000000   \n",
      "mean   1958.918033             7.081967   58.081967   0.017208     0.313648   \n",
      "std      27.484114             5.276663   27.484114   0.063927     0.078312   \n",
      "min    1929.000000             1.000000    0.000000   0.000000     0.166667   \n",
      "25%    1935.000000             3.000000   39.000000   0.000000     0.276075   \n",
      "50%    1951.000000             6.000000   66.000000   0.000000     0.304917   \n",
      "75%    1978.000000            10.000000   82.000000   0.000000     0.335402   \n",
      "max    2017.000000            20.000000   88.000000   0.383721     0.596307   \n",
      "\n",
      "       Champions    Winning  \n",
      "count  61.000000  60.000000  \n",
      "mean    0.017208   0.313648  \n",
      "std     0.063927   0.078312  \n",
      "min     0.000000   0.166667  \n",
      "25%     0.000000   0.276075  \n",
      "50%     0.000000   0.304917  \n",
      "75%     0.000000   0.335402  \n",
      "max     0.383721   0.596307  \n"
     ]
    },
    {
     "data": {
      "text/plain": [
       "<bound method DataFrame.corr of     Tournament  Score  PlayedGames  WonGames  DrawnGames  LostGames  \\\n",
       "0           86   4385         2762      1647         552        563   \n",
       "1           86   4262         2762      1581         573        608   \n",
       "2           80   3442         2614      1241         598        775   \n",
       "3           82   3386         2664      1187         616        861   \n",
       "4           86   3368         2762      1209         633        920   \n",
       "..         ...    ...          ...       ...         ...        ...   \n",
       "56           1     34           38         8          10         20   \n",
       "57           1     22           30         7           8         15   \n",
       "58           1     19           30         7           5         18   \n",
       "59           1     14           30         5           4         21   \n",
       "60           1      0            0         0           0          0   \n",
       "\n",
       "    BasketScored  BasketGiven  TournamentChampion  Runner-up  TeamLaunch  \\\n",
       "0           5947         3140                  33         23        1929   \n",
       "1           5900         3114                  25         25        1929   \n",
       "2           4534         3309                  10          8        1929   \n",
       "3           4398         3469                   6          6        1931   \n",
       "4           4631         3700                   8          7        1929   \n",
       "..           ...          ...                 ...        ...         ...   \n",
       "56            38           66                   0          0        2009   \n",
       "57            37           57                   0          0        1956   \n",
       "58            51           85                   0          0        1951   \n",
       "59            34           65                   0          0        1955   \n",
       "60             0            0                   0          0        2017   \n",
       "\n",
       "    HighestPositionHeld  Experience     Team  ChampRate  WinningRate  \\\n",
       "0                     1          88   Team 1   0.383721     0.596307   \n",
       "1                     1          88   Team 2   0.290698     0.572411   \n",
       "2                     1          88   Team 3   0.125000     0.474751   \n",
       "3                     1          86   Team 4   0.073171     0.445571   \n",
       "4                     1          88   Team 5   0.093023     0.437726   \n",
       "..                  ...         ...      ...        ...          ...   \n",
       "56                   20           8  Team 57   0.000000     0.210526   \n",
       "57                   16          61  Team 58   0.000000     0.233333   \n",
       "58                   16          66  Team 59   0.000000     0.233333   \n",
       "59                   15          62  Team 60   0.000000     0.166667   \n",
       "60                    9           0  Team 61   0.000000          NaN   \n",
       "\n",
       "    Champions   Winning  \n",
       "0    0.383721  0.596307  \n",
       "1    0.290698  0.572411  \n",
       "2    0.125000  0.474751  \n",
       "3    0.073171  0.445571  \n",
       "4    0.093023  0.437726  \n",
       "..        ...       ...  \n",
       "56   0.000000  0.210526  \n",
       "57   0.000000  0.233333  \n",
       "58   0.000000  0.233333  \n",
       "59   0.000000  0.166667  \n",
       "60   0.000000       NaN  \n",
       "\n",
       "[61 rows x 18 columns]>"
      ]
     },
     "execution_count": 75,
     "metadata": {},
     "output_type": "execute_result"
    }
   ],
   "source": [
    "print(data2.describe())\n",
    "data2.corr"
   ]
  },
  {
   "cell_type": "code",
   "execution_count": 72,
   "metadata": {},
   "outputs": [
    {
     "data": {
      "application/vnd.plotly.v1+json": {
       "config": {
        "plotlyServerURL": "https://plot.ly"
       },
       "data": [
        {
         "hovertemplate": "Team=Team 1<br>PlayedGames=%{x}<br>WonGames=%{y}<extra></extra>",
         "legendgroup": "Team 1",
         "marker": {
          "color": "#636efa",
          "symbol": "circle"
         },
         "mode": "markers",
         "name": "Team 1",
         "orientation": "v",
         "showlegend": true,
         "type": "scatter",
         "x": [
          2762
         ],
         "xaxis": "x",
         "y": [
          1647
         ],
         "yaxis": "y"
        },
        {
         "hovertemplate": "Team=Team 2<br>PlayedGames=%{x}<br>WonGames=%{y}<extra></extra>",
         "legendgroup": "Team 2",
         "marker": {
          "color": "#EF553B",
          "symbol": "circle"
         },
         "mode": "markers",
         "name": "Team 2",
         "orientation": "v",
         "showlegend": true,
         "type": "scatter",
         "x": [
          2762
         ],
         "xaxis": "x",
         "y": [
          1581
         ],
         "yaxis": "y"
        },
        {
         "hovertemplate": "Team=Team 3<br>PlayedGames=%{x}<br>WonGames=%{y}<extra></extra>",
         "legendgroup": "Team 3",
         "marker": {
          "color": "#00cc96",
          "symbol": "circle"
         },
         "mode": "markers",
         "name": "Team 3",
         "orientation": "v",
         "showlegend": true,
         "type": "scatter",
         "x": [
          2614
         ],
         "xaxis": "x",
         "y": [
          1241
         ],
         "yaxis": "y"
        },
        {
         "hovertemplate": "Team=Team 4<br>PlayedGames=%{x}<br>WonGames=%{y}<extra></extra>",
         "legendgroup": "Team 4",
         "marker": {
          "color": "#ab63fa",
          "symbol": "circle"
         },
         "mode": "markers",
         "name": "Team 4",
         "orientation": "v",
         "showlegend": true,
         "type": "scatter",
         "x": [
          2664
         ],
         "xaxis": "x",
         "y": [
          1187
         ],
         "yaxis": "y"
        },
        {
         "hovertemplate": "Team=Team 5<br>PlayedGames=%{x}<br>WonGames=%{y}<extra></extra>",
         "legendgroup": "Team 5",
         "marker": {
          "color": "#FFA15A",
          "symbol": "circle"
         },
         "mode": "markers",
         "name": "Team 5",
         "orientation": "v",
         "showlegend": true,
         "type": "scatter",
         "x": [
          2762
         ],
         "xaxis": "x",
         "y": [
          1209
         ],
         "yaxis": "y"
        },
        {
         "hovertemplate": "Team=Team 6<br>PlayedGames=%{x}<br>WonGames=%{y}<extra></extra>",
         "legendgroup": "Team 6",
         "marker": {
          "color": "#19d3f3",
          "symbol": "circle"
         },
         "mode": "markers",
         "name": "Team 6",
         "orientation": "v",
         "showlegend": true,
         "type": "scatter",
         "x": [
          2408
         ],
         "xaxis": "x",
         "y": [
          990
         ],
         "yaxis": "y"
        },
        {
         "hovertemplate": "Team=Team 7<br>PlayedGames=%{x}<br>WonGames=%{y}<extra></extra>",
         "legendgroup": "Team 7",
         "marker": {
          "color": "#FF6692",
          "symbol": "circle"
         },
         "mode": "markers",
         "name": "Team 7",
         "orientation": "v",
         "showlegend": true,
         "type": "scatter",
         "x": [
          2626
         ],
         "xaxis": "x",
         "y": [
          948
         ],
         "yaxis": "y"
        },
        {
         "hovertemplate": "Team=Team 8<br>PlayedGames=%{x}<br>WonGames=%{y}<extra></extra>",
         "legendgroup": "Team 8",
         "marker": {
          "color": "#B6E880",
          "symbol": "circle"
         },
         "mode": "markers",
         "name": "Team 8",
         "orientation": "v",
         "showlegend": true,
         "type": "scatter",
         "x": [
          2302
         ],
         "xaxis": "x",
         "y": [
          864
         ],
         "yaxis": "y"
        },
        {
         "hovertemplate": "Team=Team 9<br>PlayedGames=%{x}<br>WonGames=%{y}<extra></extra>",
         "legendgroup": "Team 9",
         "marker": {
          "color": "#FF97FF",
          "symbol": "circle"
         },
         "mode": "markers",
         "name": "Team 9",
         "orientation": "v",
         "showlegend": true,
         "type": "scatter",
         "x": [
          1986
         ],
         "xaxis": "x",
         "y": [
          698
         ],
         "yaxis": "y"
        },
        {
         "hovertemplate": "Team=Team 10<br>PlayedGames=%{x}<br>WonGames=%{y}<extra></extra>",
         "legendgroup": "Team 10",
         "marker": {
          "color": "#FECB52",
          "symbol": "circle"
         },
         "mode": "markers",
         "name": "Team 10",
         "orientation": "v",
         "showlegend": true,
         "type": "scatter",
         "x": [
          1728
         ],
         "xaxis": "x",
         "y": [
          606
         ],
         "yaxis": "y"
        },
        {
         "hovertemplate": "Team=Team 11<br>PlayedGames=%{x}<br>WonGames=%{y}<extra></extra>",
         "legendgroup": "Team 11",
         "marker": {
          "color": "#636efa",
          "symbol": "circle"
         },
         "mode": "markers",
         "name": "Team 11",
         "orientation": "v",
         "showlegend": true,
         "type": "scatter",
         "x": [
          1530
         ],
         "xaxis": "x",
         "y": [
          563
         ],
         "yaxis": "y"
        },
        {
         "hovertemplate": "Team=Team 12<br>PlayedGames=%{x}<br>WonGames=%{y}<extra></extra>",
         "legendgroup": "Team 12",
         "marker": {
          "color": "#EF553B",
          "symbol": "circle"
         },
         "mode": "markers",
         "name": "Team 12",
         "orientation": "v",
         "showlegend": true,
         "type": "scatter",
         "x": [
          1698
         ],
         "xaxis": "x",
         "y": [
          586
         ],
         "yaxis": "y"
        },
        {
         "hovertemplate": "Team=Team 13<br>PlayedGames=%{x}<br>WonGames=%{y}<extra></extra>",
         "legendgroup": "Team 13",
         "marker": {
          "color": "#00cc96",
          "symbol": "circle"
         },
         "mode": "markers",
         "name": "Team 13",
         "orientation": "v",
         "showlegend": true,
         "type": "scatter",
         "x": [
          1466
         ],
         "xaxis": "x",
         "y": [
          463
         ],
         "yaxis": "y"
        },
        {
         "hovertemplate": "Team=Team 14<br>PlayedGames=%{x}<br>WonGames=%{y}<extra></extra>",
         "legendgroup": "Team 14",
         "marker": {
          "color": "#ab63fa",
          "symbol": "circle"
         },
         "mode": "markers",
         "name": "Team 14",
         "orientation": "v",
         "showlegend": true,
         "type": "scatter",
         "x": [
          1428
         ],
         "xaxis": "x",
         "y": [
          453
         ],
         "yaxis": "y"
        },
        {
         "hovertemplate": "Team=Team 15<br>PlayedGames=%{x}<br>WonGames=%{y}<extra></extra>",
         "legendgroup": "Team 15",
         "marker": {
          "color": "#FFA15A",
          "symbol": "circle"
         },
         "mode": "markers",
         "name": "Team 15",
         "orientation": "v",
         "showlegend": true,
         "type": "scatter",
         "x": [
          1458
         ],
         "xaxis": "x",
         "y": [
          471
         ],
         "yaxis": "y"
        },
        {
         "hovertemplate": "Team=Team 16<br>PlayedGames=%{x}<br>WonGames=%{y}<extra></extra>",
         "legendgroup": "Team 16",
         "marker": {
          "color": "#19d3f3",
          "symbol": "circle"
         },
         "mode": "markers",
         "name": "Team 16",
         "orientation": "v",
         "showlegend": true,
         "type": "scatter",
         "x": [
          1318
         ],
         "xaxis": "x",
         "y": [
          426
         ],
         "yaxis": "y"
        },
        {
         "hovertemplate": "Team=Team 17<br>PlayedGames=%{x}<br>WonGames=%{y}<extra></extra>",
         "legendgroup": "Team 17",
         "marker": {
          "color": "#FF6692",
          "symbol": "circle"
         },
         "mode": "markers",
         "name": "Team 17",
         "orientation": "v",
         "showlegend": true,
         "type": "scatter",
         "x": [
          1255
         ],
         "xaxis": "x",
         "y": [
          390
         ],
         "yaxis": "y"
        },
        {
         "hovertemplate": "Team=Team 18<br>PlayedGames=%{x}<br>WonGames=%{y}<extra></extra>",
         "legendgroup": "Team 18",
         "marker": {
          "color": "#B6E880",
          "symbol": "circle"
         },
         "mode": "markers",
         "name": "Team 18",
         "orientation": "v",
         "showlegend": true,
         "type": "scatter",
         "x": [
          1192
         ],
         "xaxis": "x",
         "y": [
          408
         ],
         "yaxis": "y"
        },
        {
         "hovertemplate": "Team=Team 19<br>PlayedGames=%{x}<br>WonGames=%{y}<extra></extra>",
         "legendgroup": "Team 19",
         "marker": {
          "color": "#FF97FF",
          "symbol": "circle"
         },
         "mode": "markers",
         "name": "Team 19",
         "orientation": "v",
         "showlegend": true,
         "type": "scatter",
         "x": [
          988
         ],
         "xaxis": "x",
         "y": [
          333
         ],
         "yaxis": "y"
        },
        {
         "hovertemplate": "Team=Team 20<br>PlayedGames=%{x}<br>WonGames=%{y}<extra></extra>",
         "legendgroup": "Team 20",
         "marker": {
          "color": "#FECB52",
          "symbol": "circle"
         },
         "mode": "markers",
         "name": "Team 20",
         "orientation": "v",
         "showlegend": true,
         "type": "scatter",
         "x": [
          1096
         ],
         "xaxis": "x",
         "y": [
          367
         ],
         "yaxis": "y"
        },
        {
         "hovertemplate": "Team=Team 21<br>PlayedGames=%{x}<br>WonGames=%{y}<extra></extra>",
         "legendgroup": "Team 21",
         "marker": {
          "color": "#636efa",
          "symbol": "circle"
         },
         "mode": "markers",
         "name": "Team 21",
         "orientation": "v",
         "showlegend": true,
         "type": "scatter",
         "x": [
          646
         ],
         "xaxis": "x",
         "y": [
          266
         ],
         "yaxis": "y"
        },
        {
         "hovertemplate": "Team=Team 22<br>PlayedGames=%{x}<br>WonGames=%{y}<extra></extra>",
         "legendgroup": "Team 22",
         "marker": {
          "color": "#EF553B",
          "symbol": "circle"
         },
         "mode": "markers",
         "name": "Team 22",
         "orientation": "v",
         "showlegend": true,
         "type": "scatter",
         "x": [
          742
         ],
         "xaxis": "x",
         "y": [
          218
         ],
         "yaxis": "y"
        },
        {
         "hovertemplate": "Team=Team 23<br>PlayedGames=%{x}<br>WonGames=%{y}<extra></extra>",
         "legendgroup": "Team 23",
         "marker": {
          "color": "#00cc96",
          "symbol": "circle"
         },
         "mode": "markers",
         "name": "Team 23",
         "orientation": "v",
         "showlegend": true,
         "type": "scatter",
         "x": [
          652
         ],
         "xaxis": "x",
         "y": [
          189
         ],
         "yaxis": "y"
        },
        {
         "hovertemplate": "Team=Team 24<br>PlayedGames=%{x}<br>WonGames=%{y}<extra></extra>",
         "legendgroup": "Team 24",
         "marker": {
          "color": "#ab63fa",
          "symbol": "circle"
         },
         "mode": "markers",
         "name": "Team 24",
         "orientation": "v",
         "showlegend": true,
         "type": "scatter",
         "x": [
          678
         ],
         "xaxis": "x",
         "y": [
          203
         ],
         "yaxis": "y"
        },
        {
         "hovertemplate": "Team=Team 25<br>PlayedGames=%{x}<br>WonGames=%{y}<extra></extra>",
         "legendgroup": "Team 25",
         "marker": {
          "color": "#FFA15A",
          "symbol": "circle"
         },
         "mode": "markers",
         "name": "Team 25",
         "orientation": "v",
         "showlegend": true,
         "type": "scatter",
         "x": [
          456
         ],
         "xaxis": "x",
         "y": [
          147
         ],
         "yaxis": "y"
        },
        {
         "hovertemplate": "Team=Team 26<br>PlayedGames=%{x}<br>WonGames=%{y}<extra></extra>",
         "legendgroup": "Team 26",
         "marker": {
          "color": "#19d3f3",
          "symbol": "circle"
         },
         "mode": "markers",
         "name": "Team 26",
         "orientation": "v",
         "showlegend": true,
         "type": "scatter",
         "x": [
          628
         ],
         "xaxis": "x",
         "y": [
          184
         ],
         "yaxis": "y"
        },
        {
         "hovertemplate": "Team=Team 27<br>PlayedGames=%{x}<br>WonGames=%{y}<extra></extra>",
         "legendgroup": "Team 27",
         "marker": {
          "color": "#FF6692",
          "symbol": "circle"
         },
         "mode": "markers",
         "name": "Team 27",
         "orientation": "v",
         "showlegend": true,
         "type": "scatter",
         "x": [
          494
         ],
         "xaxis": "x",
         "y": [
          155
         ],
         "yaxis": "y"
        },
        {
         "hovertemplate": "Team=Team 28<br>PlayedGames=%{x}<br>WonGames=%{y}<extra></extra>",
         "legendgroup": "Team 28",
         "marker": {
          "color": "#B6E880",
          "symbol": "circle"
         },
         "mode": "markers",
         "name": "Team 28",
         "orientation": "v",
         "showlegend": true,
         "type": "scatter",
         "x": [
          586
         ],
         "xaxis": "x",
         "y": [
          145
         ],
         "yaxis": "y"
        },
        {
         "hovertemplate": "Team=Team 29<br>PlayedGames=%{x}<br>WonGames=%{y}<extra></extra>",
         "legendgroup": "Team 29",
         "marker": {
          "color": "#FF97FF",
          "symbol": "circle"
         },
         "mode": "markers",
         "name": "Team 29",
         "orientation": "v",
         "showlegend": true,
         "type": "scatter",
         "x": [
          380
         ],
         "xaxis": "x",
         "y": [
          125
         ],
         "yaxis": "y"
        },
        {
         "hovertemplate": "Team=Team 30<br>PlayedGames=%{x}<br>WonGames=%{y}<extra></extra>",
         "legendgroup": "Team 30",
         "marker": {
          "color": "#FECB52",
          "symbol": "circle"
         },
         "mode": "markers",
         "name": "Team 30",
         "orientation": "v",
         "showlegend": true,
         "type": "scatter",
         "x": [
          402
         ],
         "xaxis": "x",
         "y": [
          113
         ],
         "yaxis": "y"
        },
        {
         "hovertemplate": "Team=Team 31<br>PlayedGames=%{x}<br>WonGames=%{y}<extra></extra>",
         "legendgroup": "Team 31",
         "marker": {
          "color": "#636efa",
          "symbol": "circle"
         },
         "mode": "markers",
         "name": "Team 31",
         "orientation": "v",
         "showlegend": true,
         "type": "scatter",
         "x": [
          423
         ],
         "xaxis": "x",
         "y": [
          123
         ],
         "yaxis": "y"
        },
        {
         "hovertemplate": "Team=Team 32<br>PlayedGames=%{x}<br>WonGames=%{y}<extra></extra>",
         "legendgroup": "Team 32",
         "marker": {
          "color": "#EF553B",
          "symbol": "circle"
         },
         "mode": "markers",
         "name": "Team 32",
         "orientation": "v",
         "showlegend": true,
         "type": "scatter",
         "x": [
          426
         ],
         "xaxis": "x",
         "y": [
          129
         ],
         "yaxis": "y"
        },
        {
         "hovertemplate": "Team=Team 33<br>PlayedGames=%{x}<br>WonGames=%{y}<extra></extra>",
         "legendgroup": "Team 33",
         "marker": {
          "color": "#00cc96",
          "symbol": "circle"
         },
         "mode": "markers",
         "name": "Team 33",
         "orientation": "v",
         "showlegend": true,
         "type": "scatter",
         "x": [
          448
         ],
         "xaxis": "x",
         "y": [
          104
         ],
         "yaxis": "y"
        },
        {
         "hovertemplate": "Team=Team 34<br>PlayedGames=%{x}<br>WonGames=%{y}<extra></extra>",
         "legendgroup": "Team 34",
         "marker": {
          "color": "#ab63fa",
          "symbol": "circle"
         },
         "mode": "markers",
         "name": "Team 34",
         "orientation": "v",
         "showlegend": true,
         "type": "scatter",
         "x": [
          346
         ],
         "xaxis": "x",
         "y": [
          96
         ],
         "yaxis": "y"
        },
        {
         "hovertemplate": "Team=Team 35<br>PlayedGames=%{x}<br>WonGames=%{y}<extra></extra>",
         "legendgroup": "Team 35",
         "marker": {
          "color": "#FFA15A",
          "symbol": "circle"
         },
         "mode": "markers",
         "name": "Team 35",
         "orientation": "v",
         "showlegend": true,
         "type": "scatter",
         "x": [
          334
         ],
         "xaxis": "x",
         "y": [
          103
         ],
         "yaxis": "y"
        },
        {
         "hovertemplate": "Team=Team 36<br>PlayedGames=%{x}<br>WonGames=%{y}<extra></extra>",
         "legendgroup": "Team 36",
         "marker": {
          "color": "#19d3f3",
          "symbol": "circle"
         },
         "mode": "markers",
         "name": "Team 36",
         "orientation": "v",
         "showlegend": true,
         "type": "scatter",
         "x": [
          270
         ],
         "xaxis": "x",
         "y": [
          76
         ],
         "yaxis": "y"
        },
        {
         "hovertemplate": "Team=Team 37<br>PlayedGames=%{x}<br>WonGames=%{y}<extra></extra>",
         "legendgroup": "Team 37",
         "marker": {
          "color": "#FF6692",
          "symbol": "circle"
         },
         "mode": "markers",
         "name": "Team 37",
         "orientation": "v",
         "showlegend": true,
         "type": "scatter",
         "x": [
          228
         ],
         "xaxis": "x",
         "y": [
          62
         ],
         "yaxis": "y"
        },
        {
         "hovertemplate": "Team=Team 38<br>PlayedGames=%{x}<br>WonGames=%{y}<extra></extra>",
         "legendgroup": "Team 38",
         "marker": {
          "color": "#B6E880",
          "symbol": "circle"
         },
         "mode": "markers",
         "name": "Team 38",
         "orientation": "v",
         "showlegend": true,
         "type": "scatter",
         "x": [
          282
         ],
         "xaxis": "x",
         "y": [
          82
         ],
         "yaxis": "y"
        },
        {
         "hovertemplate": "Team=Team 39<br>PlayedGames=%{x}<br>WonGames=%{y}<extra></extra>",
         "legendgroup": "Team 39",
         "marker": {
          "color": "#FF97FF",
          "symbol": "circle"
         },
         "mode": "markers",
         "name": "Team 39",
         "orientation": "v",
         "showlegend": true,
         "type": "scatter",
         "x": [
          160
         ],
         "xaxis": "x",
         "y": [
          52
         ],
         "yaxis": "y"
        },
        {
         "hovertemplate": "Team=Team 40<br>PlayedGames=%{x}<br>WonGames=%{y}<extra></extra>",
         "legendgroup": "Team 40",
         "marker": {
          "color": "#FECB52",
          "symbol": "circle"
         },
         "mode": "markers",
         "name": "Team 40",
         "orientation": "v",
         "showlegend": true,
         "type": "scatter",
         "x": [
          186
         ],
         "xaxis": "x",
         "y": [
          50
         ],
         "yaxis": "y"
        },
        {
         "hovertemplate": "Team=Team 41<br>PlayedGames=%{x}<br>WonGames=%{y}<extra></extra>",
         "legendgroup": "Team 41",
         "marker": {
          "color": "#636efa",
          "symbol": "circle"
         },
         "mode": "markers",
         "name": "Team 41",
         "orientation": "v",
         "showlegend": true,
         "type": "scatter",
         "x": [
          204
         ],
         "xaxis": "x",
         "y": [
          59
         ],
         "yaxis": "y"
        },
        {
         "hovertemplate": "Team=Team 42<br>PlayedGames=%{x}<br>WonGames=%{y}<extra></extra>",
         "legendgroup": "Team 42",
         "marker": {
          "color": "#EF553B",
          "symbol": "circle"
         },
         "mode": "markers",
         "name": "Team 42",
         "orientation": "v",
         "showlegend": true,
         "type": "scatter",
         "x": [
          180
         ],
         "xaxis": "x",
         "y": [
          53
         ],
         "yaxis": "y"
        },
        {
         "hovertemplate": "Team=Team 43<br>PlayedGames=%{x}<br>WonGames=%{y}<extra></extra>",
         "legendgroup": "Team 43",
         "marker": {
          "color": "#00cc96",
          "symbol": "circle"
         },
         "mode": "markers",
         "name": "Team 43",
         "orientation": "v",
         "showlegend": true,
         "type": "scatter",
         "x": [
          152
         ],
         "xaxis": "x",
         "y": [
          37
         ],
         "yaxis": "y"
        },
        {
         "hovertemplate": "Team=Team 44<br>PlayedGames=%{x}<br>WonGames=%{y}<extra></extra>",
         "legendgroup": "Team 44",
         "marker": {
          "color": "#ab63fa",
          "symbol": "circle"
         },
         "mode": "markers",
         "name": "Team 44",
         "orientation": "v",
         "showlegend": true,
         "type": "scatter",
         "x": [
          114
         ],
         "xaxis": "x",
         "y": [
          35
         ],
         "yaxis": "y"
        },
        {
         "hovertemplate": "Team=Team 45<br>PlayedGames=%{x}<br>WonGames=%{y}<extra></extra>",
         "legendgroup": "Team 45",
         "marker": {
          "color": "#FFA15A",
          "symbol": "circle"
         },
         "mode": "markers",
         "name": "Team 45",
         "orientation": "v",
         "showlegend": true,
         "type": "scatter",
         "x": [
          130
         ],
         "xaxis": "x",
         "y": [
          43
         ],
         "yaxis": "y"
        },
        {
         "hovertemplate": "Team=Team 46<br>PlayedGames=%{x}<br>WonGames=%{y}<extra></extra>",
         "legendgroup": "Team 46",
         "marker": {
          "color": "#19d3f3",
          "symbol": "circle"
         },
         "mode": "markers",
         "name": "Team 46",
         "orientation": "v",
         "showlegend": true,
         "type": "scatter",
         "x": [
          114
         ],
         "xaxis": "x",
         "y": [
          26
         ],
         "yaxis": "y"
        },
        {
         "hovertemplate": "Team=Team 47<br>PlayedGames=%{x}<br>WonGames=%{y}<extra></extra>",
         "legendgroup": "Team 47",
         "marker": {
          "color": "#FF6692",
          "symbol": "circle"
         },
         "mode": "markers",
         "name": "Team 47",
         "orientation": "v",
         "showlegend": true,
         "type": "scatter",
         "x": [
          116
         ],
         "xaxis": "x",
         "y": [
          34
         ],
         "yaxis": "y"
        },
        {
         "hovertemplate": "Team=Team 48<br>PlayedGames=%{x}<br>WonGames=%{y}<extra></extra>",
         "legendgroup": "Team 48",
         "marker": {
          "color": "#B6E880",
          "symbol": "circle"
         },
         "mode": "markers",
         "name": "Team 48",
         "orientation": "v",
         "showlegend": true,
         "type": "scatter",
         "x": [
          80
         ],
         "xaxis": "x",
         "y": [
          20
         ],
         "yaxis": "y"
        },
        {
         "hovertemplate": "Team=Team 49<br>PlayedGames=%{x}<br>WonGames=%{y}<extra></extra>",
         "legendgroup": "Team 49",
         "marker": {
          "color": "#FF97FF",
          "symbol": "circle"
         },
         "mode": "markers",
         "name": "Team 49",
         "orientation": "v",
         "showlegend": true,
         "type": "scatter",
         "x": [
          80
         ],
         "xaxis": "x",
         "y": [
          19
         ],
         "yaxis": "y"
        },
        {
         "hovertemplate": "Team=Team 50<br>PlayedGames=%{x}<br>WonGames=%{y}<extra></extra>",
         "legendgroup": "Team 50",
         "marker": {
          "color": "#FECB52",
          "symbol": "circle"
         },
         "mode": "markers",
         "name": "Team 50",
         "orientation": "v",
         "showlegend": true,
         "type": "scatter",
         "x": [
          108
         ],
         "xaxis": "x",
         "y": [
          30
         ],
         "yaxis": "y"
        },
        {
         "hovertemplate": "Team=Team 51<br>PlayedGames=%{x}<br>WonGames=%{y}<extra></extra>",
         "legendgroup": "Team 51",
         "marker": {
          "color": "#636efa",
          "symbol": "circle"
         },
         "mode": "markers",
         "name": "Team 51",
         "orientation": "v",
         "showlegend": true,
         "type": "scatter",
         "x": [
          90
         ],
         "xaxis": "x",
         "y": [
          29
         ],
         "yaxis": "y"
        },
        {
         "hovertemplate": "Team=Team 52<br>PlayedGames=%{x}<br>WonGames=%{y}<extra></extra>",
         "legendgroup": "Team 52",
         "marker": {
          "color": "#EF553B",
          "symbol": "circle"
         },
         "mode": "markers",
         "name": "Team 52",
         "orientation": "v",
         "showlegend": true,
         "type": "scatter",
         "x": [
          72
         ],
         "xaxis": "x",
         "y": [
          21
         ],
         "yaxis": "y"
        },
        {
         "hovertemplate": "Team=Team 53<br>PlayedGames=%{x}<br>WonGames=%{y}<extra></extra>",
         "legendgroup": "Team 53",
         "marker": {
          "color": "#00cc96",
          "symbol": "circle"
         },
         "mode": "markers",
         "name": "Team 53",
         "orientation": "v",
         "showlegend": true,
         "type": "scatter",
         "x": [
          68
         ],
         "xaxis": "x",
         "y": [
          17
         ],
         "yaxis": "y"
        },
        {
         "hovertemplate": "Team=Team 54<br>PlayedGames=%{x}<br>WonGames=%{y}<extra></extra>",
         "legendgroup": "Team 54",
         "marker": {
          "color": "#ab63fa",
          "symbol": "circle"
         },
         "mode": "markers",
         "name": "Team 54",
         "orientation": "v",
         "showlegend": true,
         "type": "scatter",
         "x": [
          54
         ],
         "xaxis": "x",
         "y": [
          18
         ],
         "yaxis": "y"
        },
        {
         "hovertemplate": "Team=Team 55<br>PlayedGames=%{x}<br>WonGames=%{y}<extra></extra>",
         "legendgroup": "Team 55",
         "marker": {
          "color": "#FFA15A",
          "symbol": "circle"
         },
         "mode": "markers",
         "name": "Team 55",
         "orientation": "v",
         "showlegend": true,
         "type": "scatter",
         "x": [
          68
         ],
         "xaxis": "x",
         "y": [
          13
         ],
         "yaxis": "y"
        },
        {
         "hovertemplate": "Team=Team 56<br>PlayedGames=%{x}<br>WonGames=%{y}<extra></extra>",
         "legendgroup": "Team 56",
         "marker": {
          "color": "#19d3f3",
          "symbol": "circle"
         },
         "mode": "markers",
         "name": "Team 56",
         "orientation": "v",
         "showlegend": true,
         "type": "scatter",
         "x": [
          38
         ],
         "xaxis": "x",
         "y": [
          8
         ],
         "yaxis": "y"
        },
        {
         "hovertemplate": "Team=Team 57<br>PlayedGames=%{x}<br>WonGames=%{y}<extra></extra>",
         "legendgroup": "Team 57",
         "marker": {
          "color": "#FF6692",
          "symbol": "circle"
         },
         "mode": "markers",
         "name": "Team 57",
         "orientation": "v",
         "showlegend": true,
         "type": "scatter",
         "x": [
          38
         ],
         "xaxis": "x",
         "y": [
          8
         ],
         "yaxis": "y"
        },
        {
         "hovertemplate": "Team=Team 58<br>PlayedGames=%{x}<br>WonGames=%{y}<extra></extra>",
         "legendgroup": "Team 58",
         "marker": {
          "color": "#B6E880",
          "symbol": "circle"
         },
         "mode": "markers",
         "name": "Team 58",
         "orientation": "v",
         "showlegend": true,
         "type": "scatter",
         "x": [
          30
         ],
         "xaxis": "x",
         "y": [
          7
         ],
         "yaxis": "y"
        },
        {
         "hovertemplate": "Team=Team 59<br>PlayedGames=%{x}<br>WonGames=%{y}<extra></extra>",
         "legendgroup": "Team 59",
         "marker": {
          "color": "#FF97FF",
          "symbol": "circle"
         },
         "mode": "markers",
         "name": "Team 59",
         "orientation": "v",
         "showlegend": true,
         "type": "scatter",
         "x": [
          30
         ],
         "xaxis": "x",
         "y": [
          7
         ],
         "yaxis": "y"
        },
        {
         "hovertemplate": "Team=Team 60<br>PlayedGames=%{x}<br>WonGames=%{y}<extra></extra>",
         "legendgroup": "Team 60",
         "marker": {
          "color": "#FECB52",
          "symbol": "circle"
         },
         "mode": "markers",
         "name": "Team 60",
         "orientation": "v",
         "showlegend": true,
         "type": "scatter",
         "x": [
          30
         ],
         "xaxis": "x",
         "y": [
          5
         ],
         "yaxis": "y"
        },
        {
         "hovertemplate": "Team=Team 61<br>PlayedGames=%{x}<br>WonGames=%{y}<extra></extra>",
         "legendgroup": "Team 61",
         "marker": {
          "color": "#636efa",
          "symbol": "circle"
         },
         "mode": "markers",
         "name": "Team 61",
         "orientation": "v",
         "showlegend": true,
         "type": "scatter",
         "x": [
          0
         ],
         "xaxis": "x",
         "y": [
          0
         ],
         "yaxis": "y"
        }
       ],
       "layout": {
        "legend": {
         "title": {
          "text": "Team"
         },
         "tracegroupgap": 0
        },
        "margin": {
         "t": 60
        },
        "template": {
         "data": {
          "bar": [
           {
            "error_x": {
             "color": "#2a3f5f"
            },
            "error_y": {
             "color": "#2a3f5f"
            },
            "marker": {
             "line": {
              "color": "#E5ECF6",
              "width": 0.5
             },
             "pattern": {
              "fillmode": "overlay",
              "size": 10,
              "solidity": 0.2
             }
            },
            "type": "bar"
           }
          ],
          "barpolar": [
           {
            "marker": {
             "line": {
              "color": "#E5ECF6",
              "width": 0.5
             },
             "pattern": {
              "fillmode": "overlay",
              "size": 10,
              "solidity": 0.2
             }
            },
            "type": "barpolar"
           }
          ],
          "carpet": [
           {
            "aaxis": {
             "endlinecolor": "#2a3f5f",
             "gridcolor": "white",
             "linecolor": "white",
             "minorgridcolor": "white",
             "startlinecolor": "#2a3f5f"
            },
            "baxis": {
             "endlinecolor": "#2a3f5f",
             "gridcolor": "white",
             "linecolor": "white",
             "minorgridcolor": "white",
             "startlinecolor": "#2a3f5f"
            },
            "type": "carpet"
           }
          ],
          "choropleth": [
           {
            "colorbar": {
             "outlinewidth": 0,
             "ticks": ""
            },
            "type": "choropleth"
           }
          ],
          "contour": [
           {
            "colorbar": {
             "outlinewidth": 0,
             "ticks": ""
            },
            "colorscale": [
             [
              0,
              "#0d0887"
             ],
             [
              0.1111111111111111,
              "#46039f"
             ],
             [
              0.2222222222222222,
              "#7201a8"
             ],
             [
              0.3333333333333333,
              "#9c179e"
             ],
             [
              0.4444444444444444,
              "#bd3786"
             ],
             [
              0.5555555555555556,
              "#d8576b"
             ],
             [
              0.6666666666666666,
              "#ed7953"
             ],
             [
              0.7777777777777778,
              "#fb9f3a"
             ],
             [
              0.8888888888888888,
              "#fdca26"
             ],
             [
              1,
              "#f0f921"
             ]
            ],
            "type": "contour"
           }
          ],
          "contourcarpet": [
           {
            "colorbar": {
             "outlinewidth": 0,
             "ticks": ""
            },
            "type": "contourcarpet"
           }
          ],
          "heatmap": [
           {
            "colorbar": {
             "outlinewidth": 0,
             "ticks": ""
            },
            "colorscale": [
             [
              0,
              "#0d0887"
             ],
             [
              0.1111111111111111,
              "#46039f"
             ],
             [
              0.2222222222222222,
              "#7201a8"
             ],
             [
              0.3333333333333333,
              "#9c179e"
             ],
             [
              0.4444444444444444,
              "#bd3786"
             ],
             [
              0.5555555555555556,
              "#d8576b"
             ],
             [
              0.6666666666666666,
              "#ed7953"
             ],
             [
              0.7777777777777778,
              "#fb9f3a"
             ],
             [
              0.8888888888888888,
              "#fdca26"
             ],
             [
              1,
              "#f0f921"
             ]
            ],
            "type": "heatmap"
           }
          ],
          "heatmapgl": [
           {
            "colorbar": {
             "outlinewidth": 0,
             "ticks": ""
            },
            "colorscale": [
             [
              0,
              "#0d0887"
             ],
             [
              0.1111111111111111,
              "#46039f"
             ],
             [
              0.2222222222222222,
              "#7201a8"
             ],
             [
              0.3333333333333333,
              "#9c179e"
             ],
             [
              0.4444444444444444,
              "#bd3786"
             ],
             [
              0.5555555555555556,
              "#d8576b"
             ],
             [
              0.6666666666666666,
              "#ed7953"
             ],
             [
              0.7777777777777778,
              "#fb9f3a"
             ],
             [
              0.8888888888888888,
              "#fdca26"
             ],
             [
              1,
              "#f0f921"
             ]
            ],
            "type": "heatmapgl"
           }
          ],
          "histogram": [
           {
            "marker": {
             "pattern": {
              "fillmode": "overlay",
              "size": 10,
              "solidity": 0.2
             }
            },
            "type": "histogram"
           }
          ],
          "histogram2d": [
           {
            "colorbar": {
             "outlinewidth": 0,
             "ticks": ""
            },
            "colorscale": [
             [
              0,
              "#0d0887"
             ],
             [
              0.1111111111111111,
              "#46039f"
             ],
             [
              0.2222222222222222,
              "#7201a8"
             ],
             [
              0.3333333333333333,
              "#9c179e"
             ],
             [
              0.4444444444444444,
              "#bd3786"
             ],
             [
              0.5555555555555556,
              "#d8576b"
             ],
             [
              0.6666666666666666,
              "#ed7953"
             ],
             [
              0.7777777777777778,
              "#fb9f3a"
             ],
             [
              0.8888888888888888,
              "#fdca26"
             ],
             [
              1,
              "#f0f921"
             ]
            ],
            "type": "histogram2d"
           }
          ],
          "histogram2dcontour": [
           {
            "colorbar": {
             "outlinewidth": 0,
             "ticks": ""
            },
            "colorscale": [
             [
              0,
              "#0d0887"
             ],
             [
              0.1111111111111111,
              "#46039f"
             ],
             [
              0.2222222222222222,
              "#7201a8"
             ],
             [
              0.3333333333333333,
              "#9c179e"
             ],
             [
              0.4444444444444444,
              "#bd3786"
             ],
             [
              0.5555555555555556,
              "#d8576b"
             ],
             [
              0.6666666666666666,
              "#ed7953"
             ],
             [
              0.7777777777777778,
              "#fb9f3a"
             ],
             [
              0.8888888888888888,
              "#fdca26"
             ],
             [
              1,
              "#f0f921"
             ]
            ],
            "type": "histogram2dcontour"
           }
          ],
          "mesh3d": [
           {
            "colorbar": {
             "outlinewidth": 0,
             "ticks": ""
            },
            "type": "mesh3d"
           }
          ],
          "parcoords": [
           {
            "line": {
             "colorbar": {
              "outlinewidth": 0,
              "ticks": ""
             }
            },
            "type": "parcoords"
           }
          ],
          "pie": [
           {
            "automargin": true,
            "type": "pie"
           }
          ],
          "scatter": [
           {
            "marker": {
             "colorbar": {
              "outlinewidth": 0,
              "ticks": ""
             }
            },
            "type": "scatter"
           }
          ],
          "scatter3d": [
           {
            "line": {
             "colorbar": {
              "outlinewidth": 0,
              "ticks": ""
             }
            },
            "marker": {
             "colorbar": {
              "outlinewidth": 0,
              "ticks": ""
             }
            },
            "type": "scatter3d"
           }
          ],
          "scattercarpet": [
           {
            "marker": {
             "colorbar": {
              "outlinewidth": 0,
              "ticks": ""
             }
            },
            "type": "scattercarpet"
           }
          ],
          "scattergeo": [
           {
            "marker": {
             "colorbar": {
              "outlinewidth": 0,
              "ticks": ""
             }
            },
            "type": "scattergeo"
           }
          ],
          "scattergl": [
           {
            "marker": {
             "colorbar": {
              "outlinewidth": 0,
              "ticks": ""
             }
            },
            "type": "scattergl"
           }
          ],
          "scattermapbox": [
           {
            "marker": {
             "colorbar": {
              "outlinewidth": 0,
              "ticks": ""
             }
            },
            "type": "scattermapbox"
           }
          ],
          "scatterpolar": [
           {
            "marker": {
             "colorbar": {
              "outlinewidth": 0,
              "ticks": ""
             }
            },
            "type": "scatterpolar"
           }
          ],
          "scatterpolargl": [
           {
            "marker": {
             "colorbar": {
              "outlinewidth": 0,
              "ticks": ""
             }
            },
            "type": "scatterpolargl"
           }
          ],
          "scatterternary": [
           {
            "marker": {
             "colorbar": {
              "outlinewidth": 0,
              "ticks": ""
             }
            },
            "type": "scatterternary"
           }
          ],
          "surface": [
           {
            "colorbar": {
             "outlinewidth": 0,
             "ticks": ""
            },
            "colorscale": [
             [
              0,
              "#0d0887"
             ],
             [
              0.1111111111111111,
              "#46039f"
             ],
             [
              0.2222222222222222,
              "#7201a8"
             ],
             [
              0.3333333333333333,
              "#9c179e"
             ],
             [
              0.4444444444444444,
              "#bd3786"
             ],
             [
              0.5555555555555556,
              "#d8576b"
             ],
             [
              0.6666666666666666,
              "#ed7953"
             ],
             [
              0.7777777777777778,
              "#fb9f3a"
             ],
             [
              0.8888888888888888,
              "#fdca26"
             ],
             [
              1,
              "#f0f921"
             ]
            ],
            "type": "surface"
           }
          ],
          "table": [
           {
            "cells": {
             "fill": {
              "color": "#EBF0F8"
             },
             "line": {
              "color": "white"
             }
            },
            "header": {
             "fill": {
              "color": "#C8D4E3"
             },
             "line": {
              "color": "white"
             }
            },
            "type": "table"
           }
          ]
         },
         "layout": {
          "annotationdefaults": {
           "arrowcolor": "#2a3f5f",
           "arrowhead": 0,
           "arrowwidth": 1
          },
          "autotypenumbers": "strict",
          "coloraxis": {
           "colorbar": {
            "outlinewidth": 0,
            "ticks": ""
           }
          },
          "colorscale": {
           "diverging": [
            [
             0,
             "#8e0152"
            ],
            [
             0.1,
             "#c51b7d"
            ],
            [
             0.2,
             "#de77ae"
            ],
            [
             0.3,
             "#f1b6da"
            ],
            [
             0.4,
             "#fde0ef"
            ],
            [
             0.5,
             "#f7f7f7"
            ],
            [
             0.6,
             "#e6f5d0"
            ],
            [
             0.7,
             "#b8e186"
            ],
            [
             0.8,
             "#7fbc41"
            ],
            [
             0.9,
             "#4d9221"
            ],
            [
             1,
             "#276419"
            ]
           ],
           "sequential": [
            [
             0,
             "#0d0887"
            ],
            [
             0.1111111111111111,
             "#46039f"
            ],
            [
             0.2222222222222222,
             "#7201a8"
            ],
            [
             0.3333333333333333,
             "#9c179e"
            ],
            [
             0.4444444444444444,
             "#bd3786"
            ],
            [
             0.5555555555555556,
             "#d8576b"
            ],
            [
             0.6666666666666666,
             "#ed7953"
            ],
            [
             0.7777777777777778,
             "#fb9f3a"
            ],
            [
             0.8888888888888888,
             "#fdca26"
            ],
            [
             1,
             "#f0f921"
            ]
           ],
           "sequentialminus": [
            [
             0,
             "#0d0887"
            ],
            [
             0.1111111111111111,
             "#46039f"
            ],
            [
             0.2222222222222222,
             "#7201a8"
            ],
            [
             0.3333333333333333,
             "#9c179e"
            ],
            [
             0.4444444444444444,
             "#bd3786"
            ],
            [
             0.5555555555555556,
             "#d8576b"
            ],
            [
             0.6666666666666666,
             "#ed7953"
            ],
            [
             0.7777777777777778,
             "#fb9f3a"
            ],
            [
             0.8888888888888888,
             "#fdca26"
            ],
            [
             1,
             "#f0f921"
            ]
           ]
          },
          "colorway": [
           "#636efa",
           "#EF553B",
           "#00cc96",
           "#ab63fa",
           "#FFA15A",
           "#19d3f3",
           "#FF6692",
           "#B6E880",
           "#FF97FF",
           "#FECB52"
          ],
          "font": {
           "color": "#2a3f5f"
          },
          "geo": {
           "bgcolor": "white",
           "lakecolor": "white",
           "landcolor": "#E5ECF6",
           "showlakes": true,
           "showland": true,
           "subunitcolor": "white"
          },
          "hoverlabel": {
           "align": "left"
          },
          "hovermode": "closest",
          "mapbox": {
           "style": "light"
          },
          "paper_bgcolor": "white",
          "plot_bgcolor": "#E5ECF6",
          "polar": {
           "angularaxis": {
            "gridcolor": "white",
            "linecolor": "white",
            "ticks": ""
           },
           "bgcolor": "#E5ECF6",
           "radialaxis": {
            "gridcolor": "white",
            "linecolor": "white",
            "ticks": ""
           }
          },
          "scene": {
           "xaxis": {
            "backgroundcolor": "#E5ECF6",
            "gridcolor": "white",
            "gridwidth": 2,
            "linecolor": "white",
            "showbackground": true,
            "ticks": "",
            "zerolinecolor": "white"
           },
           "yaxis": {
            "backgroundcolor": "#E5ECF6",
            "gridcolor": "white",
            "gridwidth": 2,
            "linecolor": "white",
            "showbackground": true,
            "ticks": "",
            "zerolinecolor": "white"
           },
           "zaxis": {
            "backgroundcolor": "#E5ECF6",
            "gridcolor": "white",
            "gridwidth": 2,
            "linecolor": "white",
            "showbackground": true,
            "ticks": "",
            "zerolinecolor": "white"
           }
          },
          "shapedefaults": {
           "line": {
            "color": "#2a3f5f"
           }
          },
          "ternary": {
           "aaxis": {
            "gridcolor": "white",
            "linecolor": "white",
            "ticks": ""
           },
           "baxis": {
            "gridcolor": "white",
            "linecolor": "white",
            "ticks": ""
           },
           "bgcolor": "#E5ECF6",
           "caxis": {
            "gridcolor": "white",
            "linecolor": "white",
            "ticks": ""
           }
          },
          "title": {
           "x": 0.05
          },
          "xaxis": {
           "automargin": true,
           "gridcolor": "white",
           "linecolor": "white",
           "ticks": "",
           "title": {
            "standoff": 15
           },
           "zerolinecolor": "white",
           "zerolinewidth": 2
          },
          "yaxis": {
           "automargin": true,
           "gridcolor": "white",
           "linecolor": "white",
           "ticks": "",
           "title": {
            "standoff": 15
           },
           "zerolinecolor": "white",
           "zerolinewidth": 2
          }
         }
        },
        "xaxis": {
         "anchor": "y",
         "domain": [
          0,
          1
         ],
         "title": {
          "text": "PlayedGames"
         }
        },
        "yaxis": {
         "anchor": "x",
         "domain": [
          0,
          1
         ],
         "title": {
          "text": "WonGames"
         }
        }
       }
      },
      "text/html": [
       "<div>                            <div id=\"4cb00a52-6f8b-4786-b827-76a61576f966\" class=\"plotly-graph-div\" style=\"height:525px; width:100%;\"></div>            <script type=\"text/javascript\">                require([\"plotly\"], function(Plotly) {                    window.PLOTLYENV=window.PLOTLYENV || {};                                    if (document.getElementById(\"4cb00a52-6f8b-4786-b827-76a61576f966\")) {                    Plotly.newPlot(                        \"4cb00a52-6f8b-4786-b827-76a61576f966\",                        [{\"hovertemplate\":\"Team=Team 1<br>PlayedGames=%{x}<br>WonGames=%{y}<extra></extra>\",\"legendgroup\":\"Team 1\",\"marker\":{\"color\":\"#636efa\",\"symbol\":\"circle\"},\"mode\":\"markers\",\"name\":\"Team 1\",\"orientation\":\"v\",\"showlegend\":true,\"type\":\"scatter\",\"x\":[2762],\"xaxis\":\"x\",\"y\":[1647],\"yaxis\":\"y\"},{\"hovertemplate\":\"Team=Team 2<br>PlayedGames=%{x}<br>WonGames=%{y}<extra></extra>\",\"legendgroup\":\"Team 2\",\"marker\":{\"color\":\"#EF553B\",\"symbol\":\"circle\"},\"mode\":\"markers\",\"name\":\"Team 2\",\"orientation\":\"v\",\"showlegend\":true,\"type\":\"scatter\",\"x\":[2762],\"xaxis\":\"x\",\"y\":[1581],\"yaxis\":\"y\"},{\"hovertemplate\":\"Team=Team 3<br>PlayedGames=%{x}<br>WonGames=%{y}<extra></extra>\",\"legendgroup\":\"Team 3\",\"marker\":{\"color\":\"#00cc96\",\"symbol\":\"circle\"},\"mode\":\"markers\",\"name\":\"Team 3\",\"orientation\":\"v\",\"showlegend\":true,\"type\":\"scatter\",\"x\":[2614],\"xaxis\":\"x\",\"y\":[1241],\"yaxis\":\"y\"},{\"hovertemplate\":\"Team=Team 4<br>PlayedGames=%{x}<br>WonGames=%{y}<extra></extra>\",\"legendgroup\":\"Team 4\",\"marker\":{\"color\":\"#ab63fa\",\"symbol\":\"circle\"},\"mode\":\"markers\",\"name\":\"Team 4\",\"orientation\":\"v\",\"showlegend\":true,\"type\":\"scatter\",\"x\":[2664],\"xaxis\":\"x\",\"y\":[1187],\"yaxis\":\"y\"},{\"hovertemplate\":\"Team=Team 5<br>PlayedGames=%{x}<br>WonGames=%{y}<extra></extra>\",\"legendgroup\":\"Team 5\",\"marker\":{\"color\":\"#FFA15A\",\"symbol\":\"circle\"},\"mode\":\"markers\",\"name\":\"Team 5\",\"orientation\":\"v\",\"showlegend\":true,\"type\":\"scatter\",\"x\":[2762],\"xaxis\":\"x\",\"y\":[1209],\"yaxis\":\"y\"},{\"hovertemplate\":\"Team=Team 6<br>PlayedGames=%{x}<br>WonGames=%{y}<extra></extra>\",\"legendgroup\":\"Team 6\",\"marker\":{\"color\":\"#19d3f3\",\"symbol\":\"circle\"},\"mode\":\"markers\",\"name\":\"Team 6\",\"orientation\":\"v\",\"showlegend\":true,\"type\":\"scatter\",\"x\":[2408],\"xaxis\":\"x\",\"y\":[990],\"yaxis\":\"y\"},{\"hovertemplate\":\"Team=Team 7<br>PlayedGames=%{x}<br>WonGames=%{y}<extra></extra>\",\"legendgroup\":\"Team 7\",\"marker\":{\"color\":\"#FF6692\",\"symbol\":\"circle\"},\"mode\":\"markers\",\"name\":\"Team 7\",\"orientation\":\"v\",\"showlegend\":true,\"type\":\"scatter\",\"x\":[2626],\"xaxis\":\"x\",\"y\":[948],\"yaxis\":\"y\"},{\"hovertemplate\":\"Team=Team 8<br>PlayedGames=%{x}<br>WonGames=%{y}<extra></extra>\",\"legendgroup\":\"Team 8\",\"marker\":{\"color\":\"#B6E880\",\"symbol\":\"circle\"},\"mode\":\"markers\",\"name\":\"Team 8\",\"orientation\":\"v\",\"showlegend\":true,\"type\":\"scatter\",\"x\":[2302],\"xaxis\":\"x\",\"y\":[864],\"yaxis\":\"y\"},{\"hovertemplate\":\"Team=Team 9<br>PlayedGames=%{x}<br>WonGames=%{y}<extra></extra>\",\"legendgroup\":\"Team 9\",\"marker\":{\"color\":\"#FF97FF\",\"symbol\":\"circle\"},\"mode\":\"markers\",\"name\":\"Team 9\",\"orientation\":\"v\",\"showlegend\":true,\"type\":\"scatter\",\"x\":[1986],\"xaxis\":\"x\",\"y\":[698],\"yaxis\":\"y\"},{\"hovertemplate\":\"Team=Team 10<br>PlayedGames=%{x}<br>WonGames=%{y}<extra></extra>\",\"legendgroup\":\"Team 10\",\"marker\":{\"color\":\"#FECB52\",\"symbol\":\"circle\"},\"mode\":\"markers\",\"name\":\"Team 10\",\"orientation\":\"v\",\"showlegend\":true,\"type\":\"scatter\",\"x\":[1728],\"xaxis\":\"x\",\"y\":[606],\"yaxis\":\"y\"},{\"hovertemplate\":\"Team=Team 11<br>PlayedGames=%{x}<br>WonGames=%{y}<extra></extra>\",\"legendgroup\":\"Team 11\",\"marker\":{\"color\":\"#636efa\",\"symbol\":\"circle\"},\"mode\":\"markers\",\"name\":\"Team 11\",\"orientation\":\"v\",\"showlegend\":true,\"type\":\"scatter\",\"x\":[1530],\"xaxis\":\"x\",\"y\":[563],\"yaxis\":\"y\"},{\"hovertemplate\":\"Team=Team 12<br>PlayedGames=%{x}<br>WonGames=%{y}<extra></extra>\",\"legendgroup\":\"Team 12\",\"marker\":{\"color\":\"#EF553B\",\"symbol\":\"circle\"},\"mode\":\"markers\",\"name\":\"Team 12\",\"orientation\":\"v\",\"showlegend\":true,\"type\":\"scatter\",\"x\":[1698],\"xaxis\":\"x\",\"y\":[586],\"yaxis\":\"y\"},{\"hovertemplate\":\"Team=Team 13<br>PlayedGames=%{x}<br>WonGames=%{y}<extra></extra>\",\"legendgroup\":\"Team 13\",\"marker\":{\"color\":\"#00cc96\",\"symbol\":\"circle\"},\"mode\":\"markers\",\"name\":\"Team 13\",\"orientation\":\"v\",\"showlegend\":true,\"type\":\"scatter\",\"x\":[1466],\"xaxis\":\"x\",\"y\":[463],\"yaxis\":\"y\"},{\"hovertemplate\":\"Team=Team 14<br>PlayedGames=%{x}<br>WonGames=%{y}<extra></extra>\",\"legendgroup\":\"Team 14\",\"marker\":{\"color\":\"#ab63fa\",\"symbol\":\"circle\"},\"mode\":\"markers\",\"name\":\"Team 14\",\"orientation\":\"v\",\"showlegend\":true,\"type\":\"scatter\",\"x\":[1428],\"xaxis\":\"x\",\"y\":[453],\"yaxis\":\"y\"},{\"hovertemplate\":\"Team=Team 15<br>PlayedGames=%{x}<br>WonGames=%{y}<extra></extra>\",\"legendgroup\":\"Team 15\",\"marker\":{\"color\":\"#FFA15A\",\"symbol\":\"circle\"},\"mode\":\"markers\",\"name\":\"Team 15\",\"orientation\":\"v\",\"showlegend\":true,\"type\":\"scatter\",\"x\":[1458],\"xaxis\":\"x\",\"y\":[471],\"yaxis\":\"y\"},{\"hovertemplate\":\"Team=Team 16<br>PlayedGames=%{x}<br>WonGames=%{y}<extra></extra>\",\"legendgroup\":\"Team 16\",\"marker\":{\"color\":\"#19d3f3\",\"symbol\":\"circle\"},\"mode\":\"markers\",\"name\":\"Team 16\",\"orientation\":\"v\",\"showlegend\":true,\"type\":\"scatter\",\"x\":[1318],\"xaxis\":\"x\",\"y\":[426],\"yaxis\":\"y\"},{\"hovertemplate\":\"Team=Team 17<br>PlayedGames=%{x}<br>WonGames=%{y}<extra></extra>\",\"legendgroup\":\"Team 17\",\"marker\":{\"color\":\"#FF6692\",\"symbol\":\"circle\"},\"mode\":\"markers\",\"name\":\"Team 17\",\"orientation\":\"v\",\"showlegend\":true,\"type\":\"scatter\",\"x\":[1255],\"xaxis\":\"x\",\"y\":[390],\"yaxis\":\"y\"},{\"hovertemplate\":\"Team=Team 18<br>PlayedGames=%{x}<br>WonGames=%{y}<extra></extra>\",\"legendgroup\":\"Team 18\",\"marker\":{\"color\":\"#B6E880\",\"symbol\":\"circle\"},\"mode\":\"markers\",\"name\":\"Team 18\",\"orientation\":\"v\",\"showlegend\":true,\"type\":\"scatter\",\"x\":[1192],\"xaxis\":\"x\",\"y\":[408],\"yaxis\":\"y\"},{\"hovertemplate\":\"Team=Team 19<br>PlayedGames=%{x}<br>WonGames=%{y}<extra></extra>\",\"legendgroup\":\"Team 19\",\"marker\":{\"color\":\"#FF97FF\",\"symbol\":\"circle\"},\"mode\":\"markers\",\"name\":\"Team 19\",\"orientation\":\"v\",\"showlegend\":true,\"type\":\"scatter\",\"x\":[988],\"xaxis\":\"x\",\"y\":[333],\"yaxis\":\"y\"},{\"hovertemplate\":\"Team=Team 20<br>PlayedGames=%{x}<br>WonGames=%{y}<extra></extra>\",\"legendgroup\":\"Team 20\",\"marker\":{\"color\":\"#FECB52\",\"symbol\":\"circle\"},\"mode\":\"markers\",\"name\":\"Team 20\",\"orientation\":\"v\",\"showlegend\":true,\"type\":\"scatter\",\"x\":[1096],\"xaxis\":\"x\",\"y\":[367],\"yaxis\":\"y\"},{\"hovertemplate\":\"Team=Team 21<br>PlayedGames=%{x}<br>WonGames=%{y}<extra></extra>\",\"legendgroup\":\"Team 21\",\"marker\":{\"color\":\"#636efa\",\"symbol\":\"circle\"},\"mode\":\"markers\",\"name\":\"Team 21\",\"orientation\":\"v\",\"showlegend\":true,\"type\":\"scatter\",\"x\":[646],\"xaxis\":\"x\",\"y\":[266],\"yaxis\":\"y\"},{\"hovertemplate\":\"Team=Team 22<br>PlayedGames=%{x}<br>WonGames=%{y}<extra></extra>\",\"legendgroup\":\"Team 22\",\"marker\":{\"color\":\"#EF553B\",\"symbol\":\"circle\"},\"mode\":\"markers\",\"name\":\"Team 22\",\"orientation\":\"v\",\"showlegend\":true,\"type\":\"scatter\",\"x\":[742],\"xaxis\":\"x\",\"y\":[218],\"yaxis\":\"y\"},{\"hovertemplate\":\"Team=Team 23<br>PlayedGames=%{x}<br>WonGames=%{y}<extra></extra>\",\"legendgroup\":\"Team 23\",\"marker\":{\"color\":\"#00cc96\",\"symbol\":\"circle\"},\"mode\":\"markers\",\"name\":\"Team 23\",\"orientation\":\"v\",\"showlegend\":true,\"type\":\"scatter\",\"x\":[652],\"xaxis\":\"x\",\"y\":[189],\"yaxis\":\"y\"},{\"hovertemplate\":\"Team=Team 24<br>PlayedGames=%{x}<br>WonGames=%{y}<extra></extra>\",\"legendgroup\":\"Team 24\",\"marker\":{\"color\":\"#ab63fa\",\"symbol\":\"circle\"},\"mode\":\"markers\",\"name\":\"Team 24\",\"orientation\":\"v\",\"showlegend\":true,\"type\":\"scatter\",\"x\":[678],\"xaxis\":\"x\",\"y\":[203],\"yaxis\":\"y\"},{\"hovertemplate\":\"Team=Team 25<br>PlayedGames=%{x}<br>WonGames=%{y}<extra></extra>\",\"legendgroup\":\"Team 25\",\"marker\":{\"color\":\"#FFA15A\",\"symbol\":\"circle\"},\"mode\":\"markers\",\"name\":\"Team 25\",\"orientation\":\"v\",\"showlegend\":true,\"type\":\"scatter\",\"x\":[456],\"xaxis\":\"x\",\"y\":[147],\"yaxis\":\"y\"},{\"hovertemplate\":\"Team=Team 26<br>PlayedGames=%{x}<br>WonGames=%{y}<extra></extra>\",\"legendgroup\":\"Team 26\",\"marker\":{\"color\":\"#19d3f3\",\"symbol\":\"circle\"},\"mode\":\"markers\",\"name\":\"Team 26\",\"orientation\":\"v\",\"showlegend\":true,\"type\":\"scatter\",\"x\":[628],\"xaxis\":\"x\",\"y\":[184],\"yaxis\":\"y\"},{\"hovertemplate\":\"Team=Team 27<br>PlayedGames=%{x}<br>WonGames=%{y}<extra></extra>\",\"legendgroup\":\"Team 27\",\"marker\":{\"color\":\"#FF6692\",\"symbol\":\"circle\"},\"mode\":\"markers\",\"name\":\"Team 27\",\"orientation\":\"v\",\"showlegend\":true,\"type\":\"scatter\",\"x\":[494],\"xaxis\":\"x\",\"y\":[155],\"yaxis\":\"y\"},{\"hovertemplate\":\"Team=Team 28<br>PlayedGames=%{x}<br>WonGames=%{y}<extra></extra>\",\"legendgroup\":\"Team 28\",\"marker\":{\"color\":\"#B6E880\",\"symbol\":\"circle\"},\"mode\":\"markers\",\"name\":\"Team 28\",\"orientation\":\"v\",\"showlegend\":true,\"type\":\"scatter\",\"x\":[586],\"xaxis\":\"x\",\"y\":[145],\"yaxis\":\"y\"},{\"hovertemplate\":\"Team=Team 29<br>PlayedGames=%{x}<br>WonGames=%{y}<extra></extra>\",\"legendgroup\":\"Team 29\",\"marker\":{\"color\":\"#FF97FF\",\"symbol\":\"circle\"},\"mode\":\"markers\",\"name\":\"Team 29\",\"orientation\":\"v\",\"showlegend\":true,\"type\":\"scatter\",\"x\":[380],\"xaxis\":\"x\",\"y\":[125],\"yaxis\":\"y\"},{\"hovertemplate\":\"Team=Team 30<br>PlayedGames=%{x}<br>WonGames=%{y}<extra></extra>\",\"legendgroup\":\"Team 30\",\"marker\":{\"color\":\"#FECB52\",\"symbol\":\"circle\"},\"mode\":\"markers\",\"name\":\"Team 30\",\"orientation\":\"v\",\"showlegend\":true,\"type\":\"scatter\",\"x\":[402],\"xaxis\":\"x\",\"y\":[113],\"yaxis\":\"y\"},{\"hovertemplate\":\"Team=Team 31<br>PlayedGames=%{x}<br>WonGames=%{y}<extra></extra>\",\"legendgroup\":\"Team 31\",\"marker\":{\"color\":\"#636efa\",\"symbol\":\"circle\"},\"mode\":\"markers\",\"name\":\"Team 31\",\"orientation\":\"v\",\"showlegend\":true,\"type\":\"scatter\",\"x\":[423],\"xaxis\":\"x\",\"y\":[123],\"yaxis\":\"y\"},{\"hovertemplate\":\"Team=Team 32<br>PlayedGames=%{x}<br>WonGames=%{y}<extra></extra>\",\"legendgroup\":\"Team 32\",\"marker\":{\"color\":\"#EF553B\",\"symbol\":\"circle\"},\"mode\":\"markers\",\"name\":\"Team 32\",\"orientation\":\"v\",\"showlegend\":true,\"type\":\"scatter\",\"x\":[426],\"xaxis\":\"x\",\"y\":[129],\"yaxis\":\"y\"},{\"hovertemplate\":\"Team=Team 33<br>PlayedGames=%{x}<br>WonGames=%{y}<extra></extra>\",\"legendgroup\":\"Team 33\",\"marker\":{\"color\":\"#00cc96\",\"symbol\":\"circle\"},\"mode\":\"markers\",\"name\":\"Team 33\",\"orientation\":\"v\",\"showlegend\":true,\"type\":\"scatter\",\"x\":[448],\"xaxis\":\"x\",\"y\":[104],\"yaxis\":\"y\"},{\"hovertemplate\":\"Team=Team 34<br>PlayedGames=%{x}<br>WonGames=%{y}<extra></extra>\",\"legendgroup\":\"Team 34\",\"marker\":{\"color\":\"#ab63fa\",\"symbol\":\"circle\"},\"mode\":\"markers\",\"name\":\"Team 34\",\"orientation\":\"v\",\"showlegend\":true,\"type\":\"scatter\",\"x\":[346],\"xaxis\":\"x\",\"y\":[96],\"yaxis\":\"y\"},{\"hovertemplate\":\"Team=Team 35<br>PlayedGames=%{x}<br>WonGames=%{y}<extra></extra>\",\"legendgroup\":\"Team 35\",\"marker\":{\"color\":\"#FFA15A\",\"symbol\":\"circle\"},\"mode\":\"markers\",\"name\":\"Team 35\",\"orientation\":\"v\",\"showlegend\":true,\"type\":\"scatter\",\"x\":[334],\"xaxis\":\"x\",\"y\":[103],\"yaxis\":\"y\"},{\"hovertemplate\":\"Team=Team 36<br>PlayedGames=%{x}<br>WonGames=%{y}<extra></extra>\",\"legendgroup\":\"Team 36\",\"marker\":{\"color\":\"#19d3f3\",\"symbol\":\"circle\"},\"mode\":\"markers\",\"name\":\"Team 36\",\"orientation\":\"v\",\"showlegend\":true,\"type\":\"scatter\",\"x\":[270],\"xaxis\":\"x\",\"y\":[76],\"yaxis\":\"y\"},{\"hovertemplate\":\"Team=Team 37<br>PlayedGames=%{x}<br>WonGames=%{y}<extra></extra>\",\"legendgroup\":\"Team 37\",\"marker\":{\"color\":\"#FF6692\",\"symbol\":\"circle\"},\"mode\":\"markers\",\"name\":\"Team 37\",\"orientation\":\"v\",\"showlegend\":true,\"type\":\"scatter\",\"x\":[228],\"xaxis\":\"x\",\"y\":[62],\"yaxis\":\"y\"},{\"hovertemplate\":\"Team=Team 38<br>PlayedGames=%{x}<br>WonGames=%{y}<extra></extra>\",\"legendgroup\":\"Team 38\",\"marker\":{\"color\":\"#B6E880\",\"symbol\":\"circle\"},\"mode\":\"markers\",\"name\":\"Team 38\",\"orientation\":\"v\",\"showlegend\":true,\"type\":\"scatter\",\"x\":[282],\"xaxis\":\"x\",\"y\":[82],\"yaxis\":\"y\"},{\"hovertemplate\":\"Team=Team 39<br>PlayedGames=%{x}<br>WonGames=%{y}<extra></extra>\",\"legendgroup\":\"Team 39\",\"marker\":{\"color\":\"#FF97FF\",\"symbol\":\"circle\"},\"mode\":\"markers\",\"name\":\"Team 39\",\"orientation\":\"v\",\"showlegend\":true,\"type\":\"scatter\",\"x\":[160],\"xaxis\":\"x\",\"y\":[52],\"yaxis\":\"y\"},{\"hovertemplate\":\"Team=Team 40<br>PlayedGames=%{x}<br>WonGames=%{y}<extra></extra>\",\"legendgroup\":\"Team 40\",\"marker\":{\"color\":\"#FECB52\",\"symbol\":\"circle\"},\"mode\":\"markers\",\"name\":\"Team 40\",\"orientation\":\"v\",\"showlegend\":true,\"type\":\"scatter\",\"x\":[186],\"xaxis\":\"x\",\"y\":[50],\"yaxis\":\"y\"},{\"hovertemplate\":\"Team=Team 41<br>PlayedGames=%{x}<br>WonGames=%{y}<extra></extra>\",\"legendgroup\":\"Team 41\",\"marker\":{\"color\":\"#636efa\",\"symbol\":\"circle\"},\"mode\":\"markers\",\"name\":\"Team 41\",\"orientation\":\"v\",\"showlegend\":true,\"type\":\"scatter\",\"x\":[204],\"xaxis\":\"x\",\"y\":[59],\"yaxis\":\"y\"},{\"hovertemplate\":\"Team=Team 42<br>PlayedGames=%{x}<br>WonGames=%{y}<extra></extra>\",\"legendgroup\":\"Team 42\",\"marker\":{\"color\":\"#EF553B\",\"symbol\":\"circle\"},\"mode\":\"markers\",\"name\":\"Team 42\",\"orientation\":\"v\",\"showlegend\":true,\"type\":\"scatter\",\"x\":[180],\"xaxis\":\"x\",\"y\":[53],\"yaxis\":\"y\"},{\"hovertemplate\":\"Team=Team 43<br>PlayedGames=%{x}<br>WonGames=%{y}<extra></extra>\",\"legendgroup\":\"Team 43\",\"marker\":{\"color\":\"#00cc96\",\"symbol\":\"circle\"},\"mode\":\"markers\",\"name\":\"Team 43\",\"orientation\":\"v\",\"showlegend\":true,\"type\":\"scatter\",\"x\":[152],\"xaxis\":\"x\",\"y\":[37],\"yaxis\":\"y\"},{\"hovertemplate\":\"Team=Team 44<br>PlayedGames=%{x}<br>WonGames=%{y}<extra></extra>\",\"legendgroup\":\"Team 44\",\"marker\":{\"color\":\"#ab63fa\",\"symbol\":\"circle\"},\"mode\":\"markers\",\"name\":\"Team 44\",\"orientation\":\"v\",\"showlegend\":true,\"type\":\"scatter\",\"x\":[114],\"xaxis\":\"x\",\"y\":[35],\"yaxis\":\"y\"},{\"hovertemplate\":\"Team=Team 45<br>PlayedGames=%{x}<br>WonGames=%{y}<extra></extra>\",\"legendgroup\":\"Team 45\",\"marker\":{\"color\":\"#FFA15A\",\"symbol\":\"circle\"},\"mode\":\"markers\",\"name\":\"Team 45\",\"orientation\":\"v\",\"showlegend\":true,\"type\":\"scatter\",\"x\":[130],\"xaxis\":\"x\",\"y\":[43],\"yaxis\":\"y\"},{\"hovertemplate\":\"Team=Team 46<br>PlayedGames=%{x}<br>WonGames=%{y}<extra></extra>\",\"legendgroup\":\"Team 46\",\"marker\":{\"color\":\"#19d3f3\",\"symbol\":\"circle\"},\"mode\":\"markers\",\"name\":\"Team 46\",\"orientation\":\"v\",\"showlegend\":true,\"type\":\"scatter\",\"x\":[114],\"xaxis\":\"x\",\"y\":[26],\"yaxis\":\"y\"},{\"hovertemplate\":\"Team=Team 47<br>PlayedGames=%{x}<br>WonGames=%{y}<extra></extra>\",\"legendgroup\":\"Team 47\",\"marker\":{\"color\":\"#FF6692\",\"symbol\":\"circle\"},\"mode\":\"markers\",\"name\":\"Team 47\",\"orientation\":\"v\",\"showlegend\":true,\"type\":\"scatter\",\"x\":[116],\"xaxis\":\"x\",\"y\":[34],\"yaxis\":\"y\"},{\"hovertemplate\":\"Team=Team 48<br>PlayedGames=%{x}<br>WonGames=%{y}<extra></extra>\",\"legendgroup\":\"Team 48\",\"marker\":{\"color\":\"#B6E880\",\"symbol\":\"circle\"},\"mode\":\"markers\",\"name\":\"Team 48\",\"orientation\":\"v\",\"showlegend\":true,\"type\":\"scatter\",\"x\":[80],\"xaxis\":\"x\",\"y\":[20],\"yaxis\":\"y\"},{\"hovertemplate\":\"Team=Team 49<br>PlayedGames=%{x}<br>WonGames=%{y}<extra></extra>\",\"legendgroup\":\"Team 49\",\"marker\":{\"color\":\"#FF97FF\",\"symbol\":\"circle\"},\"mode\":\"markers\",\"name\":\"Team 49\",\"orientation\":\"v\",\"showlegend\":true,\"type\":\"scatter\",\"x\":[80],\"xaxis\":\"x\",\"y\":[19],\"yaxis\":\"y\"},{\"hovertemplate\":\"Team=Team 50<br>PlayedGames=%{x}<br>WonGames=%{y}<extra></extra>\",\"legendgroup\":\"Team 50\",\"marker\":{\"color\":\"#FECB52\",\"symbol\":\"circle\"},\"mode\":\"markers\",\"name\":\"Team 50\",\"orientation\":\"v\",\"showlegend\":true,\"type\":\"scatter\",\"x\":[108],\"xaxis\":\"x\",\"y\":[30],\"yaxis\":\"y\"},{\"hovertemplate\":\"Team=Team 51<br>PlayedGames=%{x}<br>WonGames=%{y}<extra></extra>\",\"legendgroup\":\"Team 51\",\"marker\":{\"color\":\"#636efa\",\"symbol\":\"circle\"},\"mode\":\"markers\",\"name\":\"Team 51\",\"orientation\":\"v\",\"showlegend\":true,\"type\":\"scatter\",\"x\":[90],\"xaxis\":\"x\",\"y\":[29],\"yaxis\":\"y\"},{\"hovertemplate\":\"Team=Team 52<br>PlayedGames=%{x}<br>WonGames=%{y}<extra></extra>\",\"legendgroup\":\"Team 52\",\"marker\":{\"color\":\"#EF553B\",\"symbol\":\"circle\"},\"mode\":\"markers\",\"name\":\"Team 52\",\"orientation\":\"v\",\"showlegend\":true,\"type\":\"scatter\",\"x\":[72],\"xaxis\":\"x\",\"y\":[21],\"yaxis\":\"y\"},{\"hovertemplate\":\"Team=Team 53<br>PlayedGames=%{x}<br>WonGames=%{y}<extra></extra>\",\"legendgroup\":\"Team 53\",\"marker\":{\"color\":\"#00cc96\",\"symbol\":\"circle\"},\"mode\":\"markers\",\"name\":\"Team 53\",\"orientation\":\"v\",\"showlegend\":true,\"type\":\"scatter\",\"x\":[68],\"xaxis\":\"x\",\"y\":[17],\"yaxis\":\"y\"},{\"hovertemplate\":\"Team=Team 54<br>PlayedGames=%{x}<br>WonGames=%{y}<extra></extra>\",\"legendgroup\":\"Team 54\",\"marker\":{\"color\":\"#ab63fa\",\"symbol\":\"circle\"},\"mode\":\"markers\",\"name\":\"Team 54\",\"orientation\":\"v\",\"showlegend\":true,\"type\":\"scatter\",\"x\":[54],\"xaxis\":\"x\",\"y\":[18],\"yaxis\":\"y\"},{\"hovertemplate\":\"Team=Team 55<br>PlayedGames=%{x}<br>WonGames=%{y}<extra></extra>\",\"legendgroup\":\"Team 55\",\"marker\":{\"color\":\"#FFA15A\",\"symbol\":\"circle\"},\"mode\":\"markers\",\"name\":\"Team 55\",\"orientation\":\"v\",\"showlegend\":true,\"type\":\"scatter\",\"x\":[68],\"xaxis\":\"x\",\"y\":[13],\"yaxis\":\"y\"},{\"hovertemplate\":\"Team=Team 56<br>PlayedGames=%{x}<br>WonGames=%{y}<extra></extra>\",\"legendgroup\":\"Team 56\",\"marker\":{\"color\":\"#19d3f3\",\"symbol\":\"circle\"},\"mode\":\"markers\",\"name\":\"Team 56\",\"orientation\":\"v\",\"showlegend\":true,\"type\":\"scatter\",\"x\":[38],\"xaxis\":\"x\",\"y\":[8],\"yaxis\":\"y\"},{\"hovertemplate\":\"Team=Team 57<br>PlayedGames=%{x}<br>WonGames=%{y}<extra></extra>\",\"legendgroup\":\"Team 57\",\"marker\":{\"color\":\"#FF6692\",\"symbol\":\"circle\"},\"mode\":\"markers\",\"name\":\"Team 57\",\"orientation\":\"v\",\"showlegend\":true,\"type\":\"scatter\",\"x\":[38],\"xaxis\":\"x\",\"y\":[8],\"yaxis\":\"y\"},{\"hovertemplate\":\"Team=Team 58<br>PlayedGames=%{x}<br>WonGames=%{y}<extra></extra>\",\"legendgroup\":\"Team 58\",\"marker\":{\"color\":\"#B6E880\",\"symbol\":\"circle\"},\"mode\":\"markers\",\"name\":\"Team 58\",\"orientation\":\"v\",\"showlegend\":true,\"type\":\"scatter\",\"x\":[30],\"xaxis\":\"x\",\"y\":[7],\"yaxis\":\"y\"},{\"hovertemplate\":\"Team=Team 59<br>PlayedGames=%{x}<br>WonGames=%{y}<extra></extra>\",\"legendgroup\":\"Team 59\",\"marker\":{\"color\":\"#FF97FF\",\"symbol\":\"circle\"},\"mode\":\"markers\",\"name\":\"Team 59\",\"orientation\":\"v\",\"showlegend\":true,\"type\":\"scatter\",\"x\":[30],\"xaxis\":\"x\",\"y\":[7],\"yaxis\":\"y\"},{\"hovertemplate\":\"Team=Team 60<br>PlayedGames=%{x}<br>WonGames=%{y}<extra></extra>\",\"legendgroup\":\"Team 60\",\"marker\":{\"color\":\"#FECB52\",\"symbol\":\"circle\"},\"mode\":\"markers\",\"name\":\"Team 60\",\"orientation\":\"v\",\"showlegend\":true,\"type\":\"scatter\",\"x\":[30],\"xaxis\":\"x\",\"y\":[5],\"yaxis\":\"y\"},{\"hovertemplate\":\"Team=Team 61<br>PlayedGames=%{x}<br>WonGames=%{y}<extra></extra>\",\"legendgroup\":\"Team 61\",\"marker\":{\"color\":\"#636efa\",\"symbol\":\"circle\"},\"mode\":\"markers\",\"name\":\"Team 61\",\"orientation\":\"v\",\"showlegend\":true,\"type\":\"scatter\",\"x\":[0],\"xaxis\":\"x\",\"y\":[0],\"yaxis\":\"y\"}],                        {\"legend\":{\"title\":{\"text\":\"Team\"},\"tracegroupgap\":0},\"margin\":{\"t\":60},\"template\":{\"data\":{\"bar\":[{\"error_x\":{\"color\":\"#2a3f5f\"},\"error_y\":{\"color\":\"#2a3f5f\"},\"marker\":{\"line\":{\"color\":\"#E5ECF6\",\"width\":0.5},\"pattern\":{\"fillmode\":\"overlay\",\"size\":10,\"solidity\":0.2}},\"type\":\"bar\"}],\"barpolar\":[{\"marker\":{\"line\":{\"color\":\"#E5ECF6\",\"width\":0.5},\"pattern\":{\"fillmode\":\"overlay\",\"size\":10,\"solidity\":0.2}},\"type\":\"barpolar\"}],\"carpet\":[{\"aaxis\":{\"endlinecolor\":\"#2a3f5f\",\"gridcolor\":\"white\",\"linecolor\":\"white\",\"minorgridcolor\":\"white\",\"startlinecolor\":\"#2a3f5f\"},\"baxis\":{\"endlinecolor\":\"#2a3f5f\",\"gridcolor\":\"white\",\"linecolor\":\"white\",\"minorgridcolor\":\"white\",\"startlinecolor\":\"#2a3f5f\"},\"type\":\"carpet\"}],\"choropleth\":[{\"colorbar\":{\"outlinewidth\":0,\"ticks\":\"\"},\"type\":\"choropleth\"}],\"contour\":[{\"colorbar\":{\"outlinewidth\":0,\"ticks\":\"\"},\"colorscale\":[[0.0,\"#0d0887\"],[0.1111111111111111,\"#46039f\"],[0.2222222222222222,\"#7201a8\"],[0.3333333333333333,\"#9c179e\"],[0.4444444444444444,\"#bd3786\"],[0.5555555555555556,\"#d8576b\"],[0.6666666666666666,\"#ed7953\"],[0.7777777777777778,\"#fb9f3a\"],[0.8888888888888888,\"#fdca26\"],[1.0,\"#f0f921\"]],\"type\":\"contour\"}],\"contourcarpet\":[{\"colorbar\":{\"outlinewidth\":0,\"ticks\":\"\"},\"type\":\"contourcarpet\"}],\"heatmap\":[{\"colorbar\":{\"outlinewidth\":0,\"ticks\":\"\"},\"colorscale\":[[0.0,\"#0d0887\"],[0.1111111111111111,\"#46039f\"],[0.2222222222222222,\"#7201a8\"],[0.3333333333333333,\"#9c179e\"],[0.4444444444444444,\"#bd3786\"],[0.5555555555555556,\"#d8576b\"],[0.6666666666666666,\"#ed7953\"],[0.7777777777777778,\"#fb9f3a\"],[0.8888888888888888,\"#fdca26\"],[1.0,\"#f0f921\"]],\"type\":\"heatmap\"}],\"heatmapgl\":[{\"colorbar\":{\"outlinewidth\":0,\"ticks\":\"\"},\"colorscale\":[[0.0,\"#0d0887\"],[0.1111111111111111,\"#46039f\"],[0.2222222222222222,\"#7201a8\"],[0.3333333333333333,\"#9c179e\"],[0.4444444444444444,\"#bd3786\"],[0.5555555555555556,\"#d8576b\"],[0.6666666666666666,\"#ed7953\"],[0.7777777777777778,\"#fb9f3a\"],[0.8888888888888888,\"#fdca26\"],[1.0,\"#f0f921\"]],\"type\":\"heatmapgl\"}],\"histogram\":[{\"marker\":{\"pattern\":{\"fillmode\":\"overlay\",\"size\":10,\"solidity\":0.2}},\"type\":\"histogram\"}],\"histogram2d\":[{\"colorbar\":{\"outlinewidth\":0,\"ticks\":\"\"},\"colorscale\":[[0.0,\"#0d0887\"],[0.1111111111111111,\"#46039f\"],[0.2222222222222222,\"#7201a8\"],[0.3333333333333333,\"#9c179e\"],[0.4444444444444444,\"#bd3786\"],[0.5555555555555556,\"#d8576b\"],[0.6666666666666666,\"#ed7953\"],[0.7777777777777778,\"#fb9f3a\"],[0.8888888888888888,\"#fdca26\"],[1.0,\"#f0f921\"]],\"type\":\"histogram2d\"}],\"histogram2dcontour\":[{\"colorbar\":{\"outlinewidth\":0,\"ticks\":\"\"},\"colorscale\":[[0.0,\"#0d0887\"],[0.1111111111111111,\"#46039f\"],[0.2222222222222222,\"#7201a8\"],[0.3333333333333333,\"#9c179e\"],[0.4444444444444444,\"#bd3786\"],[0.5555555555555556,\"#d8576b\"],[0.6666666666666666,\"#ed7953\"],[0.7777777777777778,\"#fb9f3a\"],[0.8888888888888888,\"#fdca26\"],[1.0,\"#f0f921\"]],\"type\":\"histogram2dcontour\"}],\"mesh3d\":[{\"colorbar\":{\"outlinewidth\":0,\"ticks\":\"\"},\"type\":\"mesh3d\"}],\"parcoords\":[{\"line\":{\"colorbar\":{\"outlinewidth\":0,\"ticks\":\"\"}},\"type\":\"parcoords\"}],\"pie\":[{\"automargin\":true,\"type\":\"pie\"}],\"scatter\":[{\"marker\":{\"colorbar\":{\"outlinewidth\":0,\"ticks\":\"\"}},\"type\":\"scatter\"}],\"scatter3d\":[{\"line\":{\"colorbar\":{\"outlinewidth\":0,\"ticks\":\"\"}},\"marker\":{\"colorbar\":{\"outlinewidth\":0,\"ticks\":\"\"}},\"type\":\"scatter3d\"}],\"scattercarpet\":[{\"marker\":{\"colorbar\":{\"outlinewidth\":0,\"ticks\":\"\"}},\"type\":\"scattercarpet\"}],\"scattergeo\":[{\"marker\":{\"colorbar\":{\"outlinewidth\":0,\"ticks\":\"\"}},\"type\":\"scattergeo\"}],\"scattergl\":[{\"marker\":{\"colorbar\":{\"outlinewidth\":0,\"ticks\":\"\"}},\"type\":\"scattergl\"}],\"scattermapbox\":[{\"marker\":{\"colorbar\":{\"outlinewidth\":0,\"ticks\":\"\"}},\"type\":\"scattermapbox\"}],\"scatterpolar\":[{\"marker\":{\"colorbar\":{\"outlinewidth\":0,\"ticks\":\"\"}},\"type\":\"scatterpolar\"}],\"scatterpolargl\":[{\"marker\":{\"colorbar\":{\"outlinewidth\":0,\"ticks\":\"\"}},\"type\":\"scatterpolargl\"}],\"scatterternary\":[{\"marker\":{\"colorbar\":{\"outlinewidth\":0,\"ticks\":\"\"}},\"type\":\"scatterternary\"}],\"surface\":[{\"colorbar\":{\"outlinewidth\":0,\"ticks\":\"\"},\"colorscale\":[[0.0,\"#0d0887\"],[0.1111111111111111,\"#46039f\"],[0.2222222222222222,\"#7201a8\"],[0.3333333333333333,\"#9c179e\"],[0.4444444444444444,\"#bd3786\"],[0.5555555555555556,\"#d8576b\"],[0.6666666666666666,\"#ed7953\"],[0.7777777777777778,\"#fb9f3a\"],[0.8888888888888888,\"#fdca26\"],[1.0,\"#f0f921\"]],\"type\":\"surface\"}],\"table\":[{\"cells\":{\"fill\":{\"color\":\"#EBF0F8\"},\"line\":{\"color\":\"white\"}},\"header\":{\"fill\":{\"color\":\"#C8D4E3\"},\"line\":{\"color\":\"white\"}},\"type\":\"table\"}]},\"layout\":{\"annotationdefaults\":{\"arrowcolor\":\"#2a3f5f\",\"arrowhead\":0,\"arrowwidth\":1},\"autotypenumbers\":\"strict\",\"coloraxis\":{\"colorbar\":{\"outlinewidth\":0,\"ticks\":\"\"}},\"colorscale\":{\"diverging\":[[0,\"#8e0152\"],[0.1,\"#c51b7d\"],[0.2,\"#de77ae\"],[0.3,\"#f1b6da\"],[0.4,\"#fde0ef\"],[0.5,\"#f7f7f7\"],[0.6,\"#e6f5d0\"],[0.7,\"#b8e186\"],[0.8,\"#7fbc41\"],[0.9,\"#4d9221\"],[1,\"#276419\"]],\"sequential\":[[0.0,\"#0d0887\"],[0.1111111111111111,\"#46039f\"],[0.2222222222222222,\"#7201a8\"],[0.3333333333333333,\"#9c179e\"],[0.4444444444444444,\"#bd3786\"],[0.5555555555555556,\"#d8576b\"],[0.6666666666666666,\"#ed7953\"],[0.7777777777777778,\"#fb9f3a\"],[0.8888888888888888,\"#fdca26\"],[1.0,\"#f0f921\"]],\"sequentialminus\":[[0.0,\"#0d0887\"],[0.1111111111111111,\"#46039f\"],[0.2222222222222222,\"#7201a8\"],[0.3333333333333333,\"#9c179e\"],[0.4444444444444444,\"#bd3786\"],[0.5555555555555556,\"#d8576b\"],[0.6666666666666666,\"#ed7953\"],[0.7777777777777778,\"#fb9f3a\"],[0.8888888888888888,\"#fdca26\"],[1.0,\"#f0f921\"]]},\"colorway\":[\"#636efa\",\"#EF553B\",\"#00cc96\",\"#ab63fa\",\"#FFA15A\",\"#19d3f3\",\"#FF6692\",\"#B6E880\",\"#FF97FF\",\"#FECB52\"],\"font\":{\"color\":\"#2a3f5f\"},\"geo\":{\"bgcolor\":\"white\",\"lakecolor\":\"white\",\"landcolor\":\"#E5ECF6\",\"showlakes\":true,\"showland\":true,\"subunitcolor\":\"white\"},\"hoverlabel\":{\"align\":\"left\"},\"hovermode\":\"closest\",\"mapbox\":{\"style\":\"light\"},\"paper_bgcolor\":\"white\",\"plot_bgcolor\":\"#E5ECF6\",\"polar\":{\"angularaxis\":{\"gridcolor\":\"white\",\"linecolor\":\"white\",\"ticks\":\"\"},\"bgcolor\":\"#E5ECF6\",\"radialaxis\":{\"gridcolor\":\"white\",\"linecolor\":\"white\",\"ticks\":\"\"}},\"scene\":{\"xaxis\":{\"backgroundcolor\":\"#E5ECF6\",\"gridcolor\":\"white\",\"gridwidth\":2,\"linecolor\":\"white\",\"showbackground\":true,\"ticks\":\"\",\"zerolinecolor\":\"white\"},\"yaxis\":{\"backgroundcolor\":\"#E5ECF6\",\"gridcolor\":\"white\",\"gridwidth\":2,\"linecolor\":\"white\",\"showbackground\":true,\"ticks\":\"\",\"zerolinecolor\":\"white\"},\"zaxis\":{\"backgroundcolor\":\"#E5ECF6\",\"gridcolor\":\"white\",\"gridwidth\":2,\"linecolor\":\"white\",\"showbackground\":true,\"ticks\":\"\",\"zerolinecolor\":\"white\"}},\"shapedefaults\":{\"line\":{\"color\":\"#2a3f5f\"}},\"ternary\":{\"aaxis\":{\"gridcolor\":\"white\",\"linecolor\":\"white\",\"ticks\":\"\"},\"baxis\":{\"gridcolor\":\"white\",\"linecolor\":\"white\",\"ticks\":\"\"},\"bgcolor\":\"#E5ECF6\",\"caxis\":{\"gridcolor\":\"white\",\"linecolor\":\"white\",\"ticks\":\"\"}},\"title\":{\"x\":0.05},\"xaxis\":{\"automargin\":true,\"gridcolor\":\"white\",\"linecolor\":\"white\",\"ticks\":\"\",\"title\":{\"standoff\":15},\"zerolinecolor\":\"white\",\"zerolinewidth\":2},\"yaxis\":{\"automargin\":true,\"gridcolor\":\"white\",\"linecolor\":\"white\",\"ticks\":\"\",\"title\":{\"standoff\":15},\"zerolinecolor\":\"white\",\"zerolinewidth\":2}}},\"xaxis\":{\"anchor\":\"y\",\"domain\":[0.0,1.0],\"title\":{\"text\":\"PlayedGames\"}},\"yaxis\":{\"anchor\":\"x\",\"domain\":[0.0,1.0],\"title\":{\"text\":\"WonGames\"}}},                        {\"responsive\": true}                    ).then(function(){\n",
       "                            \n",
       "var gd = document.getElementById('4cb00a52-6f8b-4786-b827-76a61576f966');\n",
       "var x = new MutationObserver(function (mutations, observer) {{\n",
       "        var display = window.getComputedStyle(gd).display;\n",
       "        if (!display || display === 'none') {{\n",
       "            console.log([gd, 'removed!']);\n",
       "            Plotly.purge(gd);\n",
       "            observer.disconnect();\n",
       "        }}\n",
       "}});\n",
       "\n",
       "// Listen for the removal of the full notebook cells\n",
       "var notebookContainer = gd.closest('#notebook-container');\n",
       "if (notebookContainer) {{\n",
       "    x.observe(notebookContainer, {childList: true});\n",
       "}}\n",
       "\n",
       "// Listen for the clearing of the current output cell\n",
       "var outputEl = gd.closest('.output');\n",
       "if (outputEl) {{\n",
       "    x.observe(outputEl, {childList: true});\n",
       "}}\n",
       "\n",
       "                        })                };                });            </script>        </div>"
      ]
     },
     "metadata": {},
     "output_type": "display_data"
    }
   ],
   "source": [
    "import plotly.express as px\n",
    "fig = px.scatter(data2, x=\"PlayedGames\", y=\"WonGames\",color=\"Team\")\n",
    "fig.show()"
   ]
  },
  {
   "cell_type": "code",
   "execution_count": 39,
   "metadata": {},
   "outputs": [
    {
     "data": {
      "text/html": [
       "<div>\n",
       "<style scoped>\n",
       "    .dataframe tbody tr th:only-of-type {\n",
       "        vertical-align: middle;\n",
       "    }\n",
       "\n",
       "    .dataframe tbody tr th {\n",
       "        vertical-align: top;\n",
       "    }\n",
       "\n",
       "    .dataframe thead th {\n",
       "        text-align: right;\n",
       "    }\n",
       "</style>\n",
       "<table border=\"1\" class=\"dataframe\">\n",
       "  <thead>\n",
       "    <tr style=\"text-align: right;\">\n",
       "      <th></th>\n",
       "      <th>Team</th>\n",
       "      <th>Age</th>\n",
       "      <th>WinRate</th>\n",
       "      <th>ChampRate</th>\n",
       "    </tr>\n",
       "  </thead>\n",
       "  <tbody>\n",
       "    <tr>\n",
       "      <th>60</th>\n",
       "      <td>Team 61</td>\n",
       "      <td>2</td>\n",
       "      <td>NaN</td>\n",
       "      <td>0.0</td>\n",
       "    </tr>\n",
       "    <tr>\n",
       "      <th>55</th>\n",
       "      <td>Team 56</td>\n",
       "      <td>3</td>\n",
       "      <td>0.210526</td>\n",
       "      <td>0.0</td>\n",
       "    </tr>\n",
       "    <tr>\n",
       "      <th>43</th>\n",
       "      <td>Team 44</td>\n",
       "      <td>5</td>\n",
       "      <td>0.307018</td>\n",
       "      <td>0.0</td>\n",
       "    </tr>\n",
       "    <tr>\n",
       "      <th>56</th>\n",
       "      <td>Team 57</td>\n",
       "      <td>10</td>\n",
       "      <td>0.210526</td>\n",
       "      <td>0.0</td>\n",
       "    </tr>\n",
       "    <tr>\n",
       "      <th>36</th>\n",
       "      <td>Team 37</td>\n",
       "      <td>12</td>\n",
       "      <td>0.271930</td>\n",
       "      <td>0.0</td>\n",
       "    </tr>\n",
       "    <tr>\n",
       "      <th>24</th>\n",
       "      <td>Team 25</td>\n",
       "      <td>15</td>\n",
       "      <td>0.322368</td>\n",
       "      <td>0.0</td>\n",
       "    </tr>\n",
       "    <tr>\n",
       "      <th>42</th>\n",
       "      <td>Team 43</td>\n",
       "      <td>20</td>\n",
       "      <td>0.243421</td>\n",
       "      <td>0.0</td>\n",
       "    </tr>\n",
       "    <tr>\n",
       "      <th>20</th>\n",
       "      <td>Team 21</td>\n",
       "      <td>21</td>\n",
       "      <td>0.411765</td>\n",
       "      <td>0.0</td>\n",
       "    </tr>\n",
       "    <tr>\n",
       "      <th>47</th>\n",
       "      <td>Team 48</td>\n",
       "      <td>23</td>\n",
       "      <td>0.250000</td>\n",
       "      <td>0.0</td>\n",
       "    </tr>\n",
       "    <tr>\n",
       "      <th>48</th>\n",
       "      <td>Team 49</td>\n",
       "      <td>24</td>\n",
       "      <td>0.237500</td>\n",
       "      <td>0.0</td>\n",
       "    </tr>\n",
       "  </tbody>\n",
       "</table>\n",
       "</div>"
      ],
      "text/plain": [
       "       Team  Age   WinRate  ChampRate\n",
       "60  Team 61    2       NaN        0.0\n",
       "55  Team 56    3  0.210526        0.0\n",
       "43  Team 44    5  0.307018        0.0\n",
       "56  Team 57   10  0.210526        0.0\n",
       "36  Team 37   12  0.271930        0.0\n",
       "24  Team 25   15  0.322368        0.0\n",
       "42  Team 43   20  0.243421        0.0\n",
       "20  Team 21   21  0.411765        0.0\n",
       "47  Team 48   23  0.250000        0.0\n",
       "48  Team 49   24  0.237500        0.0"
      ]
     },
     "execution_count": 39,
     "metadata": {},
     "output_type": "execute_result"
    }
   ],
   "source": [
    "# Table 1\n",
    "df_2=df_1.sort_values(by='WinRate',ascending=False) # Top performing teams\n",
    "df_2.sort_values(by='Age',ascending=True).head(10) # Top performing old teams"
   ]
  },
  {
   "cell_type": "code",
   "execution_count": 40,
   "metadata": {},
   "outputs": [
    {
     "data": {
      "text/html": [
       "<div>\n",
       "<style scoped>\n",
       "    .dataframe tbody tr th:only-of-type {\n",
       "        vertical-align: middle;\n",
       "    }\n",
       "\n",
       "    .dataframe tbody tr th {\n",
       "        vertical-align: top;\n",
       "    }\n",
       "\n",
       "    .dataframe thead th {\n",
       "        text-align: right;\n",
       "    }\n",
       "</style>\n",
       "<table border=\"1\" class=\"dataframe\">\n",
       "  <thead>\n",
       "    <tr style=\"text-align: right;\">\n",
       "      <th></th>\n",
       "      <th>Team</th>\n",
       "      <th>Age</th>\n",
       "      <th>WinRate</th>\n",
       "      <th>ChampRate</th>\n",
       "    </tr>\n",
       "  </thead>\n",
       "  <tbody>\n",
       "    <tr>\n",
       "      <th>60</th>\n",
       "      <td>Team 61</td>\n",
       "      <td>2</td>\n",
       "      <td>NaN</td>\n",
       "      <td>0.0</td>\n",
       "    </tr>\n",
       "    <tr>\n",
       "      <th>55</th>\n",
       "      <td>Team 56</td>\n",
       "      <td>3</td>\n",
       "      <td>0.210526</td>\n",
       "      <td>0.0</td>\n",
       "    </tr>\n",
       "    <tr>\n",
       "      <th>43</th>\n",
       "      <td>Team 44</td>\n",
       "      <td>5</td>\n",
       "      <td>0.307018</td>\n",
       "      <td>0.0</td>\n",
       "    </tr>\n",
       "    <tr>\n",
       "      <th>56</th>\n",
       "      <td>Team 57</td>\n",
       "      <td>10</td>\n",
       "      <td>0.210526</td>\n",
       "      <td>0.0</td>\n",
       "    </tr>\n",
       "    <tr>\n",
       "      <th>36</th>\n",
       "      <td>Team 37</td>\n",
       "      <td>12</td>\n",
       "      <td>0.271930</td>\n",
       "      <td>0.0</td>\n",
       "    </tr>\n",
       "    <tr>\n",
       "      <th>24</th>\n",
       "      <td>Team 25</td>\n",
       "      <td>15</td>\n",
       "      <td>0.322368</td>\n",
       "      <td>0.0</td>\n",
       "    </tr>\n",
       "    <tr>\n",
       "      <th>42</th>\n",
       "      <td>Team 43</td>\n",
       "      <td>20</td>\n",
       "      <td>0.243421</td>\n",
       "      <td>0.0</td>\n",
       "    </tr>\n",
       "    <tr>\n",
       "      <th>20</th>\n",
       "      <td>Team 21</td>\n",
       "      <td>21</td>\n",
       "      <td>0.411765</td>\n",
       "      <td>0.0</td>\n",
       "    </tr>\n",
       "    <tr>\n",
       "      <th>47</th>\n",
       "      <td>Team 48</td>\n",
       "      <td>23</td>\n",
       "      <td>0.250000</td>\n",
       "      <td>0.0</td>\n",
       "    </tr>\n",
       "    <tr>\n",
       "      <th>48</th>\n",
       "      <td>Team 49</td>\n",
       "      <td>24</td>\n",
       "      <td>0.237500</td>\n",
       "      <td>0.0</td>\n",
       "    </tr>\n",
       "  </tbody>\n",
       "</table>\n",
       "</div>"
      ],
      "text/plain": [
       "       Team  Age   WinRate  ChampRate\n",
       "60  Team 61    2       NaN        0.0\n",
       "55  Team 56    3  0.210526        0.0\n",
       "43  Team 44    5  0.307018        0.0\n",
       "56  Team 57   10  0.210526        0.0\n",
       "36  Team 37   12  0.271930        0.0\n",
       "24  Team 25   15  0.322368        0.0\n",
       "42  Team 43   20  0.243421        0.0\n",
       "20  Team 21   21  0.411765        0.0\n",
       "47  Team 48   23  0.250000        0.0\n",
       "48  Team 49   24  0.237500        0.0"
      ]
     },
     "execution_count": 40,
     "metadata": {},
     "output_type": "execute_result"
    }
   ],
   "source": [
    "# # Table 2\n",
    "df_2=df_1.sort_values(by='ChampRate',ascending=False) # Top performing teams\n",
    "df_2.sort_values(by='Age',ascending=True).head(10) # Top performing old teams"
   ]
  },
  {
   "cell_type": "code",
   "execution_count": 41,
   "metadata": {},
   "outputs": [
    {
     "data": {
      "text/plain": [
       "(61, 16)"
      ]
     },
     "execution_count": 41,
     "metadata": {},
     "output_type": "execute_result"
    }
   ],
   "source": [
    "Basket_new.shape"
   ]
  },
  {
   "cell_type": "markdown",
   "metadata": {},
   "source": [
    "\n",
    "Suggestion to improve data \n",
    "1.top team players\n",
    "2.Team Age\n",
    "3.Top Players in each team\n",
    " \n"
   ]
  }
 ],
 "metadata": {
  "colab": {
   "name": "Project 1 - Statistical Learning.ipynb",
   "provenance": []
  },
  "kernelspec": {
   "display_name": "Python 3",
   "language": "python",
   "name": "python3"
  },
  "language_info": {
   "codemirror_mode": {
    "name": "ipython",
    "version": 3
   },
   "file_extension": ".py",
   "mimetype": "text/x-python",
   "name": "python",
   "nbconvert_exporter": "python",
   "pygments_lexer": "ipython3",
   "version": "3.8.5"
  }
 },
 "nbformat": 4,
 "nbformat_minor": 1
}
