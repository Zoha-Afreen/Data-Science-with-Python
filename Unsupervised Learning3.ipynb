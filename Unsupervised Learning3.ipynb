{
 "cells": [
  {
   "cell_type": "code",
   "execution_count": 1,
   "metadata": {},
   "outputs": [],
   "source": [
    "import pandas as pd\n",
    "import numpy as np\n",
    "import matplotlib.pyplot as plt"
   ]
  },
  {
   "cell_type": "code",
   "execution_count": 2,
   "metadata": {},
   "outputs": [],
   "source": [
    "df=pd.read_csv('Part3 - vehicle.csv')"
   ]
  },
  {
   "cell_type": "code",
   "execution_count": 3,
   "metadata": {},
   "outputs": [
    {
     "data": {
      "text/html": [
       "<div>\n",
       "<style scoped>\n",
       "    .dataframe tbody tr th:only-of-type {\n",
       "        vertical-align: middle;\n",
       "    }\n",
       "\n",
       "    .dataframe tbody tr th {\n",
       "        vertical-align: top;\n",
       "    }\n",
       "\n",
       "    .dataframe thead th {\n",
       "        text-align: right;\n",
       "    }\n",
       "</style>\n",
       "<table border=\"1\" class=\"dataframe\">\n",
       "  <thead>\n",
       "    <tr style=\"text-align: right;\">\n",
       "      <th></th>\n",
       "      <th>compactness</th>\n",
       "      <th>circularity</th>\n",
       "      <th>distance_circularity</th>\n",
       "      <th>radius_ratio</th>\n",
       "      <th>pr.axis_aspect_ratio</th>\n",
       "      <th>max.length_aspect_ratio</th>\n",
       "      <th>scatter_ratio</th>\n",
       "      <th>elongatedness</th>\n",
       "      <th>pr.axis_rectangularity</th>\n",
       "      <th>max.length_rectangularity</th>\n",
       "      <th>scaled_variance</th>\n",
       "      <th>scaled_variance.1</th>\n",
       "      <th>scaled_radius_of_gyration</th>\n",
       "      <th>scaled_radius_of_gyration.1</th>\n",
       "      <th>skewness_about</th>\n",
       "      <th>skewness_about.1</th>\n",
       "      <th>skewness_about.2</th>\n",
       "      <th>hollows_ratio</th>\n",
       "      <th>class</th>\n",
       "    </tr>\n",
       "  </thead>\n",
       "  <tbody>\n",
       "    <tr>\n",
       "      <th>0</th>\n",
       "      <td>95</td>\n",
       "      <td>48.0</td>\n",
       "      <td>83.0</td>\n",
       "      <td>178.0</td>\n",
       "      <td>72.0</td>\n",
       "      <td>10</td>\n",
       "      <td>162.0</td>\n",
       "      <td>42.0</td>\n",
       "      <td>20.0</td>\n",
       "      <td>159</td>\n",
       "      <td>176.0</td>\n",
       "      <td>379.0</td>\n",
       "      <td>184.0</td>\n",
       "      <td>70.0</td>\n",
       "      <td>6.0</td>\n",
       "      <td>16.0</td>\n",
       "      <td>187.0</td>\n",
       "      <td>197</td>\n",
       "      <td>van</td>\n",
       "    </tr>\n",
       "    <tr>\n",
       "      <th>1</th>\n",
       "      <td>91</td>\n",
       "      <td>41.0</td>\n",
       "      <td>84.0</td>\n",
       "      <td>141.0</td>\n",
       "      <td>57.0</td>\n",
       "      <td>9</td>\n",
       "      <td>149.0</td>\n",
       "      <td>45.0</td>\n",
       "      <td>19.0</td>\n",
       "      <td>143</td>\n",
       "      <td>170.0</td>\n",
       "      <td>330.0</td>\n",
       "      <td>158.0</td>\n",
       "      <td>72.0</td>\n",
       "      <td>9.0</td>\n",
       "      <td>14.0</td>\n",
       "      <td>189.0</td>\n",
       "      <td>199</td>\n",
       "      <td>van</td>\n",
       "    </tr>\n",
       "    <tr>\n",
       "      <th>2</th>\n",
       "      <td>104</td>\n",
       "      <td>50.0</td>\n",
       "      <td>106.0</td>\n",
       "      <td>209.0</td>\n",
       "      <td>66.0</td>\n",
       "      <td>10</td>\n",
       "      <td>207.0</td>\n",
       "      <td>32.0</td>\n",
       "      <td>23.0</td>\n",
       "      <td>158</td>\n",
       "      <td>223.0</td>\n",
       "      <td>635.0</td>\n",
       "      <td>220.0</td>\n",
       "      <td>73.0</td>\n",
       "      <td>14.0</td>\n",
       "      <td>9.0</td>\n",
       "      <td>188.0</td>\n",
       "      <td>196</td>\n",
       "      <td>car</td>\n",
       "    </tr>\n",
       "    <tr>\n",
       "      <th>3</th>\n",
       "      <td>93</td>\n",
       "      <td>41.0</td>\n",
       "      <td>82.0</td>\n",
       "      <td>159.0</td>\n",
       "      <td>63.0</td>\n",
       "      <td>9</td>\n",
       "      <td>144.0</td>\n",
       "      <td>46.0</td>\n",
       "      <td>19.0</td>\n",
       "      <td>143</td>\n",
       "      <td>160.0</td>\n",
       "      <td>309.0</td>\n",
       "      <td>127.0</td>\n",
       "      <td>63.0</td>\n",
       "      <td>6.0</td>\n",
       "      <td>10.0</td>\n",
       "      <td>199.0</td>\n",
       "      <td>207</td>\n",
       "      <td>van</td>\n",
       "    </tr>\n",
       "    <tr>\n",
       "      <th>4</th>\n",
       "      <td>85</td>\n",
       "      <td>44.0</td>\n",
       "      <td>70.0</td>\n",
       "      <td>205.0</td>\n",
       "      <td>103.0</td>\n",
       "      <td>52</td>\n",
       "      <td>149.0</td>\n",
       "      <td>45.0</td>\n",
       "      <td>19.0</td>\n",
       "      <td>144</td>\n",
       "      <td>241.0</td>\n",
       "      <td>325.0</td>\n",
       "      <td>188.0</td>\n",
       "      <td>127.0</td>\n",
       "      <td>9.0</td>\n",
       "      <td>11.0</td>\n",
       "      <td>180.0</td>\n",
       "      <td>183</td>\n",
       "      <td>bus</td>\n",
       "    </tr>\n",
       "  </tbody>\n",
       "</table>\n",
       "</div>"
      ],
      "text/plain": [
       "   compactness  circularity  distance_circularity  radius_ratio  \\\n",
       "0           95         48.0                  83.0         178.0   \n",
       "1           91         41.0                  84.0         141.0   \n",
       "2          104         50.0                 106.0         209.0   \n",
       "3           93         41.0                  82.0         159.0   \n",
       "4           85         44.0                  70.0         205.0   \n",
       "\n",
       "   pr.axis_aspect_ratio  max.length_aspect_ratio  scatter_ratio  \\\n",
       "0                  72.0                       10          162.0   \n",
       "1                  57.0                        9          149.0   \n",
       "2                  66.0                       10          207.0   \n",
       "3                  63.0                        9          144.0   \n",
       "4                 103.0                       52          149.0   \n",
       "\n",
       "   elongatedness  pr.axis_rectangularity  max.length_rectangularity  \\\n",
       "0           42.0                    20.0                        159   \n",
       "1           45.0                    19.0                        143   \n",
       "2           32.0                    23.0                        158   \n",
       "3           46.0                    19.0                        143   \n",
       "4           45.0                    19.0                        144   \n",
       "\n",
       "   scaled_variance  scaled_variance.1  scaled_radius_of_gyration  \\\n",
       "0            176.0              379.0                      184.0   \n",
       "1            170.0              330.0                      158.0   \n",
       "2            223.0              635.0                      220.0   \n",
       "3            160.0              309.0                      127.0   \n",
       "4            241.0              325.0                      188.0   \n",
       "\n",
       "   scaled_radius_of_gyration.1  skewness_about  skewness_about.1  \\\n",
       "0                         70.0             6.0              16.0   \n",
       "1                         72.0             9.0              14.0   \n",
       "2                         73.0            14.0               9.0   \n",
       "3                         63.0             6.0              10.0   \n",
       "4                        127.0             9.0              11.0   \n",
       "\n",
       "   skewness_about.2  hollows_ratio class  \n",
       "0             187.0            197   van  \n",
       "1             189.0            199   van  \n",
       "2             188.0            196   car  \n",
       "3             199.0            207   van  \n",
       "4             180.0            183   bus  "
      ]
     },
     "execution_count": 3,
     "metadata": {},
     "output_type": "execute_result"
    }
   ],
   "source": [
    "df.head()"
   ]
  },
  {
   "cell_type": "code",
   "execution_count": 4,
   "metadata": {},
   "outputs": [
    {
     "name": "stdout",
     "output_type": "stream",
     "text": [
      "<class 'pandas.core.frame.DataFrame'>\n",
      "RangeIndex: 846 entries, 0 to 845\n",
      "Data columns (total 19 columns):\n",
      " #   Column                       Non-Null Count  Dtype  \n",
      "---  ------                       --------------  -----  \n",
      " 0   compactness                  846 non-null    int64  \n",
      " 1   circularity                  841 non-null    float64\n",
      " 2   distance_circularity         842 non-null    float64\n",
      " 3   radius_ratio                 840 non-null    float64\n",
      " 4   pr.axis_aspect_ratio         844 non-null    float64\n",
      " 5   max.length_aspect_ratio      846 non-null    int64  \n",
      " 6   scatter_ratio                845 non-null    float64\n",
      " 7   elongatedness                845 non-null    float64\n",
      " 8   pr.axis_rectangularity       843 non-null    float64\n",
      " 9   max.length_rectangularity    846 non-null    int64  \n",
      " 10  scaled_variance              843 non-null    float64\n",
      " 11  scaled_variance.1            844 non-null    float64\n",
      " 12  scaled_radius_of_gyration    844 non-null    float64\n",
      " 13  scaled_radius_of_gyration.1  842 non-null    float64\n",
      " 14  skewness_about               840 non-null    float64\n",
      " 15  skewness_about.1             845 non-null    float64\n",
      " 16  skewness_about.2             845 non-null    float64\n",
      " 17  hollows_ratio                846 non-null    int64  \n",
      " 18  class                        846 non-null    object \n",
      "dtypes: float64(14), int64(4), object(1)\n",
      "memory usage: 125.7+ KB\n"
     ]
    }
   ],
   "source": [
    "df.info()"
   ]
  },
  {
   "cell_type": "code",
   "execution_count": 5,
   "metadata": {},
   "outputs": [
    {
     "data": {
      "text/plain": [
       "1    429\n",
       "0    218\n",
       "2    199\n",
       "Name: class, dtype: int64"
      ]
     },
     "execution_count": 5,
     "metadata": {},
     "output_type": "execute_result"
    }
   ],
   "source": [
    "from sklearn.preprocessing import LabelEncoder\n",
    "labelencoder = LabelEncoder()\n",
    "df['class'] = labelencoder.fit_transform(df['class'])\n",
    "df['class'].value_counts()"
   ]
  },
  {
   "cell_type": "code",
   "execution_count": 6,
   "metadata": {},
   "outputs": [],
   "source": [
    "# import seaborn as sns\n",
    "# sns.pairplot(df,diag_kind='kde',hue='class')"
   ]
  },
  {
   "cell_type": "code",
   "execution_count": 7,
   "metadata": {},
   "outputs": [
    {
     "data": {
      "text/plain": [
       "circularity                    5\n",
       "distance_circularity           4\n",
       "radius_ratio                   6\n",
       "pr.axis_aspect_ratio           2\n",
       "scatter_ratio                  1\n",
       "elongatedness                  1\n",
       "pr.axis_rectangularity         3\n",
       "scaled_variance                3\n",
       "scaled_variance.1              2\n",
       "scaled_radius_of_gyration      2\n",
       "scaled_radius_of_gyration.1    4\n",
       "skewness_about                 6\n",
       "skewness_about.1               1\n",
       "skewness_about.2               1\n",
       "dtype: int64"
      ]
     },
     "execution_count": 7,
     "metadata": {},
     "output_type": "execute_result"
    }
   ],
   "source": [
    "missing_values_cols=df.columns[df.isnull().any()]\n",
    "# Number of missing values in each column\n",
    "df[missing_values_cols].isnull().sum()"
   ]
  },
  {
   "cell_type": "code",
   "execution_count": 8,
   "metadata": {},
   "outputs": [
    {
     "data": {
      "text/html": [
       "<div>\n",
       "<style scoped>\n",
       "    .dataframe tbody tr th:only-of-type {\n",
       "        vertical-align: middle;\n",
       "    }\n",
       "\n",
       "    .dataframe tbody tr th {\n",
       "        vertical-align: top;\n",
       "    }\n",
       "\n",
       "    .dataframe thead th {\n",
       "        text-align: right;\n",
       "    }\n",
       "</style>\n",
       "<table border=\"1\" class=\"dataframe\">\n",
       "  <thead>\n",
       "    <tr style=\"text-align: right;\">\n",
       "      <th></th>\n",
       "      <th>circularity</th>\n",
       "      <th>distance_circularity</th>\n",
       "      <th>radius_ratio</th>\n",
       "      <th>pr.axis_aspect_ratio</th>\n",
       "      <th>scatter_ratio</th>\n",
       "      <th>elongatedness</th>\n",
       "      <th>pr.axis_rectangularity</th>\n",
       "      <th>scaled_variance</th>\n",
       "      <th>scaled_variance.1</th>\n",
       "      <th>scaled_radius_of_gyration</th>\n",
       "      <th>scaled_radius_of_gyration.1</th>\n",
       "      <th>skewness_about</th>\n",
       "      <th>skewness_about.1</th>\n",
       "      <th>skewness_about.2</th>\n",
       "    </tr>\n",
       "  </thead>\n",
       "  <tbody>\n",
       "    <tr>\n",
       "      <th>5</th>\n",
       "      <td>NaN</td>\n",
       "      <td>106.0</td>\n",
       "      <td>172.0</td>\n",
       "      <td>50.0</td>\n",
       "      <td>255.0</td>\n",
       "      <td>26.0</td>\n",
       "      <td>28.0</td>\n",
       "      <td>280.0</td>\n",
       "      <td>957.0</td>\n",
       "      <td>264.0</td>\n",
       "      <td>85.0</td>\n",
       "      <td>5.0</td>\n",
       "      <td>9.0</td>\n",
       "      <td>181.0</td>\n",
       "    </tr>\n",
       "    <tr>\n",
       "      <th>9</th>\n",
       "      <td>44.0</td>\n",
       "      <td>98.0</td>\n",
       "      <td>NaN</td>\n",
       "      <td>62.0</td>\n",
       "      <td>183.0</td>\n",
       "      <td>36.0</td>\n",
       "      <td>22.0</td>\n",
       "      <td>202.0</td>\n",
       "      <td>505.0</td>\n",
       "      <td>152.0</td>\n",
       "      <td>64.0</td>\n",
       "      <td>4.0</td>\n",
       "      <td>14.0</td>\n",
       "      <td>195.0</td>\n",
       "    </tr>\n",
       "    <tr>\n",
       "      <th>19</th>\n",
       "      <td>56.0</td>\n",
       "      <td>100.0</td>\n",
       "      <td>215.0</td>\n",
       "      <td>NaN</td>\n",
       "      <td>208.0</td>\n",
       "      <td>32.0</td>\n",
       "      <td>24.0</td>\n",
       "      <td>227.0</td>\n",
       "      <td>651.0</td>\n",
       "      <td>223.0</td>\n",
       "      <td>74.0</td>\n",
       "      <td>6.0</td>\n",
       "      <td>5.0</td>\n",
       "      <td>186.0</td>\n",
       "    </tr>\n",
       "    <tr>\n",
       "      <th>35</th>\n",
       "      <td>46.0</td>\n",
       "      <td>NaN</td>\n",
       "      <td>172.0</td>\n",
       "      <td>67.0</td>\n",
       "      <td>157.0</td>\n",
       "      <td>43.0</td>\n",
       "      <td>20.0</td>\n",
       "      <td>170.0</td>\n",
       "      <td>363.0</td>\n",
       "      <td>184.0</td>\n",
       "      <td>67.0</td>\n",
       "      <td>17.0</td>\n",
       "      <td>7.0</td>\n",
       "      <td>192.0</td>\n",
       "    </tr>\n",
       "    <tr>\n",
       "      <th>66</th>\n",
       "      <td>43.0</td>\n",
       "      <td>68.0</td>\n",
       "      <td>125.0</td>\n",
       "      <td>57.0</td>\n",
       "      <td>149.0</td>\n",
       "      <td>46.0</td>\n",
       "      <td>19.0</td>\n",
       "      <td>169.0</td>\n",
       "      <td>323.0</td>\n",
       "      <td>172.0</td>\n",
       "      <td>NaN</td>\n",
       "      <td>NaN</td>\n",
       "      <td>18.0</td>\n",
       "      <td>179.0</td>\n",
       "    </tr>\n",
       "  </tbody>\n",
       "</table>\n",
       "</div>"
      ],
      "text/plain": [
       "    circularity  distance_circularity  radius_ratio  pr.axis_aspect_ratio  \\\n",
       "5           NaN                 106.0         172.0                  50.0   \n",
       "9          44.0                  98.0           NaN                  62.0   \n",
       "19         56.0                 100.0         215.0                   NaN   \n",
       "35         46.0                   NaN         172.0                  67.0   \n",
       "66         43.0                  68.0         125.0                  57.0   \n",
       "\n",
       "    scatter_ratio  elongatedness  pr.axis_rectangularity  scaled_variance  \\\n",
       "5           255.0           26.0                    28.0            280.0   \n",
       "9           183.0           36.0                    22.0            202.0   \n",
       "19          208.0           32.0                    24.0            227.0   \n",
       "35          157.0           43.0                    20.0            170.0   \n",
       "66          149.0           46.0                    19.0            169.0   \n",
       "\n",
       "    scaled_variance.1  scaled_radius_of_gyration  scaled_radius_of_gyration.1  \\\n",
       "5               957.0                      264.0                         85.0   \n",
       "9               505.0                      152.0                         64.0   \n",
       "19              651.0                      223.0                         74.0   \n",
       "35              363.0                      184.0                         67.0   \n",
       "66              323.0                      172.0                          NaN   \n",
       "\n",
       "    skewness_about  skewness_about.1  skewness_about.2  \n",
       "5              5.0               9.0             181.0  \n",
       "9              4.0              14.0             195.0  \n",
       "19             6.0               5.0             186.0  \n",
       "35            17.0               7.0             192.0  \n",
       "66             NaN              18.0             179.0  "
      ]
     },
     "execution_count": 8,
     "metadata": {},
     "output_type": "execute_result"
    }
   ],
   "source": [
    "df[df.isnull().any(axis=1)][missing_values_cols].head()"
   ]
  },
  {
   "cell_type": "code",
   "execution_count": 9,
   "metadata": {},
   "outputs": [
    {
     "data": {
      "text/plain": [
       "(33, 14)"
      ]
     },
     "execution_count": 9,
     "metadata": {},
     "output_type": "execute_result"
    }
   ],
   "source": [
    "df[df.isnull().any(axis=1)][missing_values_cols].shape"
   ]
  },
  {
   "cell_type": "code",
   "execution_count": 10,
   "metadata": {},
   "outputs": [
    {
     "data": {
      "text/html": [
       "<div>\n",
       "<style scoped>\n",
       "    .dataframe tbody tr th:only-of-type {\n",
       "        vertical-align: middle;\n",
       "    }\n",
       "\n",
       "    .dataframe tbody tr th {\n",
       "        vertical-align: top;\n",
       "    }\n",
       "\n",
       "    .dataframe thead th {\n",
       "        text-align: right;\n",
       "    }\n",
       "</style>\n",
       "<table border=\"1\" class=\"dataframe\">\n",
       "  <thead>\n",
       "    <tr style=\"text-align: right;\">\n",
       "      <th></th>\n",
       "      <th>circularity</th>\n",
       "      <th>distance_circularity</th>\n",
       "      <th>radius_ratio</th>\n",
       "      <th>pr.axis_aspect_ratio</th>\n",
       "      <th>scatter_ratio</th>\n",
       "      <th>elongatedness</th>\n",
       "      <th>pr.axis_rectangularity</th>\n",
       "      <th>scaled_variance</th>\n",
       "      <th>scaled_variance.1</th>\n",
       "      <th>scaled_radius_of_gyration</th>\n",
       "      <th>scaled_radius_of_gyration.1</th>\n",
       "      <th>skewness_about</th>\n",
       "      <th>skewness_about.1</th>\n",
       "      <th>skewness_about.2</th>\n",
       "    </tr>\n",
       "  </thead>\n",
       "  <tbody>\n",
       "    <tr>\n",
       "      <th>5</th>\n",
       "      <td>NaN</td>\n",
       "      <td>106.0</td>\n",
       "      <td>172.0</td>\n",
       "      <td>50.0</td>\n",
       "      <td>255.0</td>\n",
       "      <td>26.0</td>\n",
       "      <td>28.0</td>\n",
       "      <td>280.0</td>\n",
       "      <td>957.0</td>\n",
       "      <td>264.0</td>\n",
       "      <td>85.0</td>\n",
       "      <td>5.0</td>\n",
       "      <td>9.0</td>\n",
       "      <td>181.0</td>\n",
       "    </tr>\n",
       "    <tr>\n",
       "      <th>105</th>\n",
       "      <td>NaN</td>\n",
       "      <td>103.0</td>\n",
       "      <td>202.0</td>\n",
       "      <td>64.0</td>\n",
       "      <td>220.0</td>\n",
       "      <td>30.0</td>\n",
       "      <td>25.0</td>\n",
       "      <td>NaN</td>\n",
       "      <td>711.0</td>\n",
       "      <td>214.0</td>\n",
       "      <td>73.0</td>\n",
       "      <td>11.0</td>\n",
       "      <td>NaN</td>\n",
       "      <td>188.0</td>\n",
       "    </tr>\n",
       "    <tr>\n",
       "      <th>118</th>\n",
       "      <td>NaN</td>\n",
       "      <td>NaN</td>\n",
       "      <td>128.0</td>\n",
       "      <td>56.0</td>\n",
       "      <td>150.0</td>\n",
       "      <td>46.0</td>\n",
       "      <td>19.0</td>\n",
       "      <td>168.0</td>\n",
       "      <td>324.0</td>\n",
       "      <td>173.0</td>\n",
       "      <td>82.0</td>\n",
       "      <td>9.0</td>\n",
       "      <td>14.0</td>\n",
       "      <td>180.0</td>\n",
       "    </tr>\n",
       "    <tr>\n",
       "      <th>266</th>\n",
       "      <td>NaN</td>\n",
       "      <td>65.0</td>\n",
       "      <td>116.0</td>\n",
       "      <td>53.0</td>\n",
       "      <td>152.0</td>\n",
       "      <td>45.0</td>\n",
       "      <td>19.0</td>\n",
       "      <td>175.0</td>\n",
       "      <td>335.0</td>\n",
       "      <td>NaN</td>\n",
       "      <td>85.0</td>\n",
       "      <td>5.0</td>\n",
       "      <td>4.0</td>\n",
       "      <td>179.0</td>\n",
       "    </tr>\n",
       "    <tr>\n",
       "      <th>396</th>\n",
       "      <td>NaN</td>\n",
       "      <td>106.0</td>\n",
       "      <td>177.0</td>\n",
       "      <td>51.0</td>\n",
       "      <td>256.0</td>\n",
       "      <td>26.0</td>\n",
       "      <td>28.0</td>\n",
       "      <td>285.0</td>\n",
       "      <td>966.0</td>\n",
       "      <td>261.0</td>\n",
       "      <td>87.0</td>\n",
       "      <td>11.0</td>\n",
       "      <td>2.0</td>\n",
       "      <td>182.0</td>\n",
       "    </tr>\n",
       "  </tbody>\n",
       "</table>\n",
       "</div>"
      ],
      "text/plain": [
       "     circularity  distance_circularity  radius_ratio  pr.axis_aspect_ratio  \\\n",
       "5            NaN                 106.0         172.0                  50.0   \n",
       "105          NaN                 103.0         202.0                  64.0   \n",
       "118          NaN                   NaN         128.0                  56.0   \n",
       "266          NaN                  65.0         116.0                  53.0   \n",
       "396          NaN                 106.0         177.0                  51.0   \n",
       "\n",
       "     scatter_ratio  elongatedness  pr.axis_rectangularity  scaled_variance  \\\n",
       "5            255.0           26.0                    28.0            280.0   \n",
       "105          220.0           30.0                    25.0              NaN   \n",
       "118          150.0           46.0                    19.0            168.0   \n",
       "266          152.0           45.0                    19.0            175.0   \n",
       "396          256.0           26.0                    28.0            285.0   \n",
       "\n",
       "     scaled_variance.1  scaled_radius_of_gyration  \\\n",
       "5                957.0                      264.0   \n",
       "105              711.0                      214.0   \n",
       "118              324.0                      173.0   \n",
       "266              335.0                        NaN   \n",
       "396              966.0                      261.0   \n",
       "\n",
       "     scaled_radius_of_gyration.1  skewness_about  skewness_about.1  \\\n",
       "5                           85.0             5.0               9.0   \n",
       "105                         73.0            11.0               NaN   \n",
       "118                         82.0             9.0              14.0   \n",
       "266                         85.0             5.0               4.0   \n",
       "396                         87.0            11.0               2.0   \n",
       "\n",
       "     skewness_about.2  \n",
       "5               181.0  \n",
       "105             188.0  \n",
       "118             180.0  \n",
       "266             179.0  \n",
       "396             182.0  "
      ]
     },
     "execution_count": 10,
     "metadata": {},
     "output_type": "execute_result"
    }
   ],
   "source": [
    "df[df['circularity'].isnull()][missing_values_cols]"
   ]
  },
  {
   "cell_type": "code",
   "execution_count": 11,
   "metadata": {},
   "outputs": [
    {
     "name": "stdout",
     "output_type": "stream",
     "text": [
      "0.0 0.0\n"
     ]
    }
   ],
   "source": [
    "df.drop([105,118,266],inplace=True)\n",
    "print(df.loc[5]['class'],df.loc[396]['class'])\n",
    "m0=df['circularity'][df['class']==0].median()\n"
   ]
  },
  {
   "cell_type": "code",
   "execution_count": 12,
   "metadata": {},
   "outputs": [],
   "source": [
    "df['circularity'].fillna(m0, inplace=True)"
   ]
  },
  {
   "cell_type": "code",
   "execution_count": 13,
   "metadata": {},
   "outputs": [
    {
     "name": "stdout",
     "output_type": "stream",
     "text": [
      "2.0 0.0\n",
      "75.0 72.5\n"
     ]
    }
   ],
   "source": [
    "df[df['distance_circularity'].isnull()][missing_values_cols]\n",
    "print(df.loc[35]['class'],df.loc[319]['class'])\n",
    "m1=df['distance_circularity'][df['class']==2].median()\n",
    "m2=df['distance_circularity'][df['class']==0].median()\n",
    "print(m1,m2)"
   ]
  },
  {
   "cell_type": "code",
   "execution_count": 14,
   "metadata": {},
   "outputs": [],
   "source": [
    "df.loc[35]=df.loc[35].replace(np.nan,m1)\n",
    "df.loc[319]=df.loc[319].replace(np.nan,m2)"
   ]
  },
  {
   "cell_type": "code",
   "execution_count": 15,
   "metadata": {},
   "outputs": [
    {
     "data": {
      "text/html": [
       "<div>\n",
       "<style scoped>\n",
       "    .dataframe tbody tr th:only-of-type {\n",
       "        vertical-align: middle;\n",
       "    }\n",
       "\n",
       "    .dataframe tbody tr th {\n",
       "        vertical-align: top;\n",
       "    }\n",
       "\n",
       "    .dataframe thead th {\n",
       "        text-align: right;\n",
       "    }\n",
       "</style>\n",
       "<table border=\"1\" class=\"dataframe\">\n",
       "  <thead>\n",
       "    <tr style=\"text-align: right;\">\n",
       "      <th></th>\n",
       "      <th>circularity</th>\n",
       "      <th>distance_circularity</th>\n",
       "      <th>radius_ratio</th>\n",
       "      <th>pr.axis_aspect_ratio</th>\n",
       "      <th>scatter_ratio</th>\n",
       "      <th>elongatedness</th>\n",
       "      <th>pr.axis_rectangularity</th>\n",
       "      <th>scaled_variance</th>\n",
       "      <th>scaled_variance.1</th>\n",
       "      <th>scaled_radius_of_gyration</th>\n",
       "      <th>scaled_radius_of_gyration.1</th>\n",
       "      <th>skewness_about</th>\n",
       "      <th>skewness_about.1</th>\n",
       "      <th>skewness_about.2</th>\n",
       "    </tr>\n",
       "  </thead>\n",
       "  <tbody>\n",
       "    <tr>\n",
       "      <th>9</th>\n",
       "      <td>44.0</td>\n",
       "      <td>98.0</td>\n",
       "      <td>NaN</td>\n",
       "      <td>62.0</td>\n",
       "      <td>183.0</td>\n",
       "      <td>36.0</td>\n",
       "      <td>22.0</td>\n",
       "      <td>202.0</td>\n",
       "      <td>505.0</td>\n",
       "      <td>152.0</td>\n",
       "      <td>64.0</td>\n",
       "      <td>4.0</td>\n",
       "      <td>14.0</td>\n",
       "      <td>195.0</td>\n",
       "    </tr>\n",
       "    <tr>\n",
       "      <th>78</th>\n",
       "      <td>52.0</td>\n",
       "      <td>94.0</td>\n",
       "      <td>NaN</td>\n",
       "      <td>66.0</td>\n",
       "      <td>208.0</td>\n",
       "      <td>31.0</td>\n",
       "      <td>24.0</td>\n",
       "      <td>227.0</td>\n",
       "      <td>666.0</td>\n",
       "      <td>218.0</td>\n",
       "      <td>76.0</td>\n",
       "      <td>11.0</td>\n",
       "      <td>4.0</td>\n",
       "      <td>193.0</td>\n",
       "    </tr>\n",
       "    <tr>\n",
       "      <th>159</th>\n",
       "      <td>45.0</td>\n",
       "      <td>75.0</td>\n",
       "      <td>NaN</td>\n",
       "      <td>57.0</td>\n",
       "      <td>150.0</td>\n",
       "      <td>44.0</td>\n",
       "      <td>19.0</td>\n",
       "      <td>170.0</td>\n",
       "      <td>335.0</td>\n",
       "      <td>180.0</td>\n",
       "      <td>66.0</td>\n",
       "      <td>16.0</td>\n",
       "      <td>2.0</td>\n",
       "      <td>193.0</td>\n",
       "    </tr>\n",
       "    <tr>\n",
       "      <th>287</th>\n",
       "      <td>43.0</td>\n",
       "      <td>84.0</td>\n",
       "      <td>NaN</td>\n",
       "      <td>55.0</td>\n",
       "      <td>154.0</td>\n",
       "      <td>44.0</td>\n",
       "      <td>19.0</td>\n",
       "      <td>174.0</td>\n",
       "      <td>350.0</td>\n",
       "      <td>164.0</td>\n",
       "      <td>73.0</td>\n",
       "      <td>6.0</td>\n",
       "      <td>2.0</td>\n",
       "      <td>185.0</td>\n",
       "    </tr>\n",
       "    <tr>\n",
       "      <th>345</th>\n",
       "      <td>54.0</td>\n",
       "      <td>106.0</td>\n",
       "      <td>NaN</td>\n",
       "      <td>57.0</td>\n",
       "      <td>236.0</td>\n",
       "      <td>28.0</td>\n",
       "      <td>26.0</td>\n",
       "      <td>256.0</td>\n",
       "      <td>833.0</td>\n",
       "      <td>253.0</td>\n",
       "      <td>81.0</td>\n",
       "      <td>6.0</td>\n",
       "      <td>14.0</td>\n",
       "      <td>185.0</td>\n",
       "    </tr>\n",
       "    <tr>\n",
       "      <th>467</th>\n",
       "      <td>54.0</td>\n",
       "      <td>104.0</td>\n",
       "      <td>NaN</td>\n",
       "      <td>58.0</td>\n",
       "      <td>215.0</td>\n",
       "      <td>31.0</td>\n",
       "      <td>24.0</td>\n",
       "      <td>221.0</td>\n",
       "      <td>682.0</td>\n",
       "      <td>222.0</td>\n",
       "      <td>75.0</td>\n",
       "      <td>13.0</td>\n",
       "      <td>23.0</td>\n",
       "      <td>186.0</td>\n",
       "    </tr>\n",
       "  </tbody>\n",
       "</table>\n",
       "</div>"
      ],
      "text/plain": [
       "     circularity  distance_circularity  radius_ratio  pr.axis_aspect_ratio  \\\n",
       "9           44.0                  98.0           NaN                  62.0   \n",
       "78          52.0                  94.0           NaN                  66.0   \n",
       "159         45.0                  75.0           NaN                  57.0   \n",
       "287         43.0                  84.0           NaN                  55.0   \n",
       "345         54.0                 106.0           NaN                  57.0   \n",
       "467         54.0                 104.0           NaN                  58.0   \n",
       "\n",
       "     scatter_ratio  elongatedness  pr.axis_rectangularity  scaled_variance  \\\n",
       "9            183.0           36.0                    22.0            202.0   \n",
       "78           208.0           31.0                    24.0            227.0   \n",
       "159          150.0           44.0                    19.0            170.0   \n",
       "287          154.0           44.0                    19.0            174.0   \n",
       "345          236.0           28.0                    26.0            256.0   \n",
       "467          215.0           31.0                    24.0            221.0   \n",
       "\n",
       "     scaled_variance.1  scaled_radius_of_gyration  \\\n",
       "9                505.0                      152.0   \n",
       "78               666.0                      218.0   \n",
       "159              335.0                      180.0   \n",
       "287              350.0                      164.0   \n",
       "345              833.0                      253.0   \n",
       "467              682.0                      222.0   \n",
       "\n",
       "     scaled_radius_of_gyration.1  skewness_about  skewness_about.1  \\\n",
       "9                           64.0             4.0              14.0   \n",
       "78                          76.0            11.0               4.0   \n",
       "159                         66.0            16.0               2.0   \n",
       "287                         73.0             6.0               2.0   \n",
       "345                         81.0             6.0              14.0   \n",
       "467                         75.0            13.0              23.0   \n",
       "\n",
       "     skewness_about.2  \n",
       "9               195.0  \n",
       "78              193.0  \n",
       "159             193.0  \n",
       "287             185.0  \n",
       "345             185.0  \n",
       "467             186.0  "
      ]
     },
     "execution_count": 15,
     "metadata": {},
     "output_type": "execute_result"
    }
   ],
   "source": [
    "df[df['radius_ratio'].isnull()][missing_values_cols]"
   ]
  },
  {
   "cell_type": "code",
   "execution_count": 16,
   "metadata": {
    "scrolled": true
   },
   "outputs": [
    {
     "name": "stdout",
     "output_type": "stream",
     "text": [
      "1.0 0.0 1.0 2.0 0.0 1.0\n",
      "168.5 186.0 144.0\n"
     ]
    }
   ],
   "source": [
    "df[df['radius_ratio'].isnull()][missing_values_cols]\n",
    "print(df.loc[9]['class'],df.loc[78]['class'],df.loc[159]['class'],df.loc[287]['class'],df.loc[345]['class'],df.loc[467]['class'])\n",
    "m1=df['radius_ratio'][df['class']==0].median()\n",
    "m2=df['radius_ratio'][df['class']==1].median()\n",
    "m3=df['radius_ratio'][df['class']==2].median()\n",
    "print(m1,m2,m3)"
   ]
  },
  {
   "cell_type": "code",
   "execution_count": 17,
   "metadata": {},
   "outputs": [],
   "source": [
    "df.loc[39]=df.loc[39].replace(np.nan,m1)\n",
    "df.loc[78]=df.loc[78].replace(np.nan,m0)\n",
    "df.loc[159]=df.loc[159].replace(np.nan,m1)\n",
    "df.loc[287]=df.loc[287].replace(np.nan,m2)\n",
    "df.loc[345]=df.loc[345].replace(np.nan,m0)\n",
    "df.loc[467]=df.loc[467].replace(np.nan,m2)\n",
    "df.loc[9]=df.loc[9].replace(np.nan,m1)"
   ]
  },
  {
   "cell_type": "code",
   "execution_count": 18,
   "metadata": {},
   "outputs": [
    {
     "data": {
      "text/html": [
       "<div>\n",
       "<style scoped>\n",
       "    .dataframe tbody tr th:only-of-type {\n",
       "        vertical-align: middle;\n",
       "    }\n",
       "\n",
       "    .dataframe tbody tr th {\n",
       "        vertical-align: top;\n",
       "    }\n",
       "\n",
       "    .dataframe thead th {\n",
       "        text-align: right;\n",
       "    }\n",
       "</style>\n",
       "<table border=\"1\" class=\"dataframe\">\n",
       "  <thead>\n",
       "    <tr style=\"text-align: right;\">\n",
       "      <th></th>\n",
       "      <th>circularity</th>\n",
       "      <th>distance_circularity</th>\n",
       "      <th>radius_ratio</th>\n",
       "      <th>pr.axis_aspect_ratio</th>\n",
       "      <th>scatter_ratio</th>\n",
       "      <th>elongatedness</th>\n",
       "      <th>pr.axis_rectangularity</th>\n",
       "      <th>scaled_variance</th>\n",
       "      <th>scaled_variance.1</th>\n",
       "      <th>scaled_radius_of_gyration</th>\n",
       "      <th>scaled_radius_of_gyration.1</th>\n",
       "      <th>skewness_about</th>\n",
       "      <th>skewness_about.1</th>\n",
       "      <th>skewness_about.2</th>\n",
       "    </tr>\n",
       "  </thead>\n",
       "  <tbody>\n",
       "    <tr>\n",
       "      <th>19</th>\n",
       "      <td>56.0</td>\n",
       "      <td>100.0</td>\n",
       "      <td>215.0</td>\n",
       "      <td>NaN</td>\n",
       "      <td>208.0</td>\n",
       "      <td>32.0</td>\n",
       "      <td>24.0</td>\n",
       "      <td>227.0</td>\n",
       "      <td>651.0</td>\n",
       "      <td>223.0</td>\n",
       "      <td>74.0</td>\n",
       "      <td>6.0</td>\n",
       "      <td>5.0</td>\n",
       "      <td>186.0</td>\n",
       "    </tr>\n",
       "    <tr>\n",
       "      <th>222</th>\n",
       "      <td>50.0</td>\n",
       "      <td>81.0</td>\n",
       "      <td>197.0</td>\n",
       "      <td>NaN</td>\n",
       "      <td>186.0</td>\n",
       "      <td>34.0</td>\n",
       "      <td>22.0</td>\n",
       "      <td>206.0</td>\n",
       "      <td>531.0</td>\n",
       "      <td>198.0</td>\n",
       "      <td>74.0</td>\n",
       "      <td>NaN</td>\n",
       "      <td>1.0</td>\n",
       "      <td>197.0</td>\n",
       "    </tr>\n",
       "  </tbody>\n",
       "</table>\n",
       "</div>"
      ],
      "text/plain": [
       "     circularity  distance_circularity  radius_ratio  pr.axis_aspect_ratio  \\\n",
       "19          56.0                 100.0         215.0                   NaN   \n",
       "222         50.0                  81.0         197.0                   NaN   \n",
       "\n",
       "     scatter_ratio  elongatedness  pr.axis_rectangularity  scaled_variance  \\\n",
       "19           208.0           32.0                    24.0            227.0   \n",
       "222          186.0           34.0                    22.0            206.0   \n",
       "\n",
       "     scaled_variance.1  scaled_radius_of_gyration  \\\n",
       "19               651.0                      223.0   \n",
       "222              531.0                      198.0   \n",
       "\n",
       "     scaled_radius_of_gyration.1  skewness_about  skewness_about.1  \\\n",
       "19                          74.0             6.0               5.0   \n",
       "222                         74.0             NaN               1.0   \n",
       "\n",
       "     skewness_about.2  \n",
       "19              186.0  \n",
       "222             197.0  "
      ]
     },
     "execution_count": 18,
     "metadata": {},
     "output_type": "execute_result"
    }
   ],
   "source": [
    "df[df['pr.axis_aspect_ratio'].isnull()][missing_values_cols]"
   ]
  },
  {
   "cell_type": "code",
   "execution_count": 19,
   "metadata": {},
   "outputs": [],
   "source": [
    "df.drop(222, inplace=True)"
   ]
  },
  {
   "cell_type": "code",
   "execution_count": 20,
   "metadata": {},
   "outputs": [],
   "source": [
    "df.loc[19]['class']\n",
    "m1=df['pr.axis_aspect_ratio'][df['class']==1].median()\n"
   ]
  },
  {
   "cell_type": "code",
   "execution_count": 21,
   "metadata": {},
   "outputs": [],
   "source": [
    "df.loc[19]=df.loc[19].replace(np.nan,m1)"
   ]
  },
  {
   "cell_type": "code",
   "execution_count": 22,
   "metadata": {},
   "outputs": [],
   "source": [
    "df[df['scatter_ratio'].isnull()][missing_values_cols].drop(249,inplace=True)"
   ]
  },
  {
   "cell_type": "code",
   "execution_count": 23,
   "metadata": {},
   "outputs": [
    {
     "name": "stdout",
     "output_type": "stream",
     "text": [
      "1.0 0.0 2.0\n",
      "19.0 22.0 18.0\n"
     ]
    }
   ],
   "source": [
    "df[df['pr.axis_rectangularity'].isnull()][missing_values_cols]\n",
    "\n",
    "print(df.loc[70]['class'],df.loc[237]['class'],df.loc[273]['class'])\n",
    "m0=df['pr.axis_rectangularity'][df['class']==0].median()\n",
    "m1=df['pr.axis_rectangularity'][df['class']==1].median()\n",
    "m2=df['pr.axis_rectangularity'][df['class']==2].median()\n",
    "print(m0,m1,m2)"
   ]
  },
  {
   "cell_type": "code",
   "execution_count": 24,
   "metadata": {},
   "outputs": [],
   "source": [
    "df.loc[70]=df.loc[70].replace(np.nan,m1)\n",
    "df.loc[237]=df.loc[237].replace(np.nan,m0)\n",
    "df.loc[273]=df.loc[273].replace(np.nan,m2)"
   ]
  },
  {
   "cell_type": "code",
   "execution_count": 25,
   "metadata": {},
   "outputs": [
    {
     "name": "stdout",
     "output_type": "stream",
     "text": [
      "1.0\n",
      "36.0\n"
     ]
    }
   ],
   "source": [
    "df[df['elongatedness'].isnull()][missing_values_cols]\n",
    "print(df.loc[215]['class'])\n",
    "m0=df['elongatedness'][df['class']==1].median()\n",
    "print(m0)\n",
    "df.loc[215]=df.loc[215].replace(np.nan,m0)"
   ]
  },
  {
   "cell_type": "code",
   "execution_count": 26,
   "metadata": {},
   "outputs": [
    {
     "name": "stdout",
     "output_type": "stream",
     "text": [
      "2.0 1.0\n"
     ]
    }
   ],
   "source": [
    "df[df['scaled_variance'].isnull()][missing_values_cols]\n",
    "print(df.loc[372]['class'],df.loc[522]['class'])\n",
    "m2=df['scaled_variance'][df['class']==2].median()\n",
    "m1=df['scaled_variance'][df['class']==1].median()\n",
    "df.loc[372]=df.loc[372].replace(np.nan,m2)\n",
    "df.loc[522]=df.loc[522].replace(np.nan,m1)"
   ]
  },
  {
   "cell_type": "code",
   "execution_count": 27,
   "metadata": {},
   "outputs": [
    {
     "name": "stdout",
     "output_type": "stream",
     "text": [
      "1.0 1.0\n",
      "511.5\n"
     ]
    }
   ],
   "source": [
    "df[df['scaled_variance.1'].isnull()][missing_values_cols]\n",
    "print(df.loc[308]['class'],df.loc[496]['class'])\n",
    "m1=df['scaled_variance.1'][df['class']==1].median()\n",
    "print(m1)\n",
    "df.loc[[308,496]]=df.loc[[308,496]].replace(np.nan,m1)"
   ]
  },
  {
   "cell_type": "code",
   "execution_count": 28,
   "metadata": {},
   "outputs": [
    {
     "name": "stdout",
     "output_type": "stream",
     "text": [
      "0.0 2.0\n",
      "176.0\n"
     ]
    }
   ],
   "source": [
    "df[df['scaled_radius_of_gyration'].isnull()][missing_values_cols]\n",
    "print(df.loc[207]['class'],df.loc[372]['class'])\n",
    "m0=df['scaled_radius_of_gyration'][df['class']==0].median()\n",
    "print(m0)\n",
    "df.drop([372],inplace=True)\n",
    "df.loc[207]=df.loc[207].replace(np.nan,m0)"
   ]
  },
  {
   "cell_type": "code",
   "execution_count": 29,
   "metadata": {},
   "outputs": [
    {
     "name": "stdout",
     "output_type": "stream",
     "text": [
      "1.0 1.0 1.0\n",
      "181.5\n"
     ]
    }
   ],
   "source": [
    "df[df['scaled_radius_of_gyration.1'].isnull()][missing_values_cols]\n",
    "print(df.loc[77]['class'],df.loc[192]['class'],df.loc[329]['class'])\n",
    "m1=df['scaled_radius_of_gyration'][df['class']==1].median()\n",
    "print(m1)\n",
    "# df.drop([67],inplace=True)\n",
    "df.loc[[77,192,329]]=df.loc[[77,192,329]].replace(np.nan,m1)"
   ]
  },
  {
   "cell_type": "code",
   "execution_count": 30,
   "metadata": {},
   "outputs": [
    {
     "name": "stdout",
     "output_type": "stream",
     "text": [
      "0.0 0.0 0.0 1.0 1.0\n"
     ]
    }
   ],
   "source": [
    "df[df['skewness_about'].isnull()][missing_values_cols]\n",
    "print(df.loc[66]['class'],df.loc[141]['class'],df.loc[177]['class'],df.loc[249]['class'],df.loc[285]['class'])\n",
    "m0=df['skewness_about'][df['class']==0].median()\n",
    "m1=df['skewness_about'][df['class']==1].median()\n",
    "df.loc[[66,141,177]]=df.loc[[66,141,177]].replace(np.nan,m0)\n",
    "df.loc[[249,285]]=df.loc[[249,285]].replace(np.nan,m1)"
   ]
  },
  {
   "cell_type": "code",
   "execution_count": 31,
   "metadata": {},
   "outputs": [
    {
     "name": "stdout",
     "output_type": "stream",
     "text": [
      "1.0\n"
     ]
    }
   ],
   "source": [
    "df[df['skewness_about.2'].isnull()][missing_values_cols]\n",
    "print(df.loc[419]['class'])\n",
    "m1=df['skewness_about.2'][df['class']==1].median()\n",
    "df.loc[419]=df.loc[419].replace(np.nan,m1)"
   ]
  },
  {
   "cell_type": "code",
   "execution_count": 32,
   "metadata": {},
   "outputs": [
    {
     "data": {
      "text/plain": [
       "(841, 19)"
      ]
     },
     "execution_count": 32,
     "metadata": {},
     "output_type": "execute_result"
    }
   ],
   "source": [
    "df.shape"
   ]
  },
  {
   "cell_type": "code",
   "execution_count": 33,
   "metadata": {},
   "outputs": [
    {
     "data": {
      "text/plain": [
       "((588, 19), (253, 19))"
      ]
     },
     "execution_count": 33,
     "metadata": {},
     "output_type": "execute_result"
    }
   ],
   "source": [
    "from sklearn.model_selection import train_test_split\n",
    "test_size = 0.30 # taking 70:30 training and test set\n",
    "seed = 7  # Random number seeding for reapeatability of the code\n",
    "df_train, df_test= train_test_split(df, test_size=test_size, random_state=seed)\n",
    "df_train.shape, df_test.shape"
   ]
  },
  {
   "cell_type": "code",
   "execution_count": 34,
   "metadata": {},
   "outputs": [
    {
     "data": {
      "text/plain": [
       "((588, 18), (588,), (253, 18), (253,))"
      ]
     },
     "execution_count": 34,
     "metadata": {},
     "output_type": "execute_result"
    }
   ],
   "source": [
    "X_train=df_train.drop(labels='class', axis=1)\n",
    "y_train=df_train['class']\n",
    "X_test=df_test.drop(labels='class', axis=1)\n",
    "y_test=df_test['class']\n",
    "X_train.shape,y_train.shape, X_test.shape, y_test.shape"
   ]
  },
  {
   "cell_type": "code",
   "execution_count": 35,
   "metadata": {},
   "outputs": [
    {
     "data": {
      "text/plain": [
       "circularity                    0\n",
       "distance_circularity           0\n",
       "radius_ratio                   0\n",
       "pr.axis_aspect_ratio           0\n",
       "scatter_ratio                  0\n",
       "elongatedness                  0\n",
       "pr.axis_rectangularity         0\n",
       "scaled_variance                0\n",
       "scaled_variance.1              0\n",
       "scaled_radius_of_gyration      0\n",
       "scaled_radius_of_gyration.1    0\n",
       "skewness_about                 0\n",
       "skewness_about.1               0\n",
       "skewness_about.2               0\n",
       "dtype: int64"
      ]
     },
     "execution_count": 35,
     "metadata": {},
     "output_type": "execute_result"
    }
   ],
   "source": [
    "df[missing_values_cols].isnull().sum()"
   ]
  },
  {
   "cell_type": "code",
   "execution_count": 57,
   "metadata": {},
   "outputs": [
    {
     "data": {
      "text/plain": [
       "0.5059288537549407"
      ]
     },
     "execution_count": 57,
     "metadata": {},
     "output_type": "execute_result"
    }
   ],
   "source": [
    "from sklearn import svm\n",
    "clf = svm.SVC(gamma=1, kernel='rbf',C=0.1) \n",
    "clf.fit(X_train,y_train)\n",
    "y_pred=clf.predict(X_test)\n",
    "clf.score(X_train,y_train)\n",
    "clf.score(X_test,y_test)"
   ]
  },
  {
   "cell_type": "code",
   "execution_count": 61,
   "metadata": {},
   "outputs": [
    {
     "name": "stdout",
     "output_type": "stream",
     "text": [
      "Covariance Matrix \n",
      "%s [[ 1.00170358  0.69486224  0.79149622  0.63302804  0.05071752  0.10207102\n",
      "   0.80822905 -0.79060228  0.8177979   0.68448107  0.7554599   0.82164641\n",
      "   0.5916591  -0.20392137  0.26040588  0.17230488  0.31247081  0.36478771]\n",
      " [ 0.69486224  1.00170358  0.80076956  0.58365841  0.12203679  0.21894484\n",
      "   0.8507371  -0.8266878   0.85260159  0.96329023  0.79424052  0.84553157\n",
      "   0.92318339 -0.00917149  0.17999947  0.02405742 -0.08469544  0.06448299]\n",
      " [ 0.79149622  0.80076956  1.00170358  0.72296915  0.12773505  0.21898327\n",
      "   0.90308074 -0.91541528  0.8972838   0.78071637  0.85495517  0.8897449\n",
      "   0.71018017 -0.19013108  0.14769541  0.28046078  0.16711664  0.34279482]\n",
      " [ 0.63302804  0.58365841  0.72296915  1.00170358  0.65501518  0.47484433\n",
      "   0.66436282 -0.72969341  0.64017474  0.53885843  0.74639007  0.6507089\n",
      "   0.48859238 -0.11491216  0.05467112  0.18655534  0.3798357   0.47759243]\n",
      " [ 0.05071752  0.12203679  0.12773505  0.65501518  1.00170358  0.71168336\n",
      "   0.05699406 -0.13576874  0.02894505  0.10100572  0.26586     0.03892313\n",
      "   0.08768587  0.15621941 -0.0638436  -0.02720294  0.22132667  0.25362445]\n",
      " [ 0.10207102  0.21894484  0.21898327  0.47484433  0.71168336  1.00170358\n",
      "   0.12076955 -0.13646938  0.11476195  0.26865004  0.31381645  0.09825715\n",
      "   0.16356009  0.25366084  0.02086875  0.03585553 -0.02639459  0.13032045]\n",
      " [ 0.80822905  0.8507371   0.90308074  0.66436282  0.05699406  0.12076955\n",
      "   1.00170358 -0.9686118   0.98453123  0.81394586  0.93396762  0.9881765\n",
      "   0.80228565 -0.04648899  0.10179215  0.22852176  0.02641385  0.12815464]\n",
      " [-0.79060228 -0.8266878  -0.91541528 -0.72969341 -0.13576874 -0.13646938\n",
      "  -0.9686118   1.00170358 -0.95094247 -0.78090407 -0.92724109 -0.95584241\n",
      "  -0.76835249  0.0959653  -0.07358619 -0.21611985 -0.1390661  -0.22923716]\n",
      " [ 0.8177979   0.85260159  0.8972838   0.64017474  0.02894505  0.11476195\n",
      "   0.98453123 -0.95094247  1.00170358  0.82131075  0.92805112  0.99430227\n",
      "   0.80737102 -0.0416066   0.1137003   0.23909906 -0.00509803  0.1029031 ]\n",
      " [ 0.68448107  0.96329023  0.78071637  0.53885843  0.10100572  0.26865004\n",
      "   0.81394586 -0.78090407  0.82131075  1.00170358  0.74933338  0.80527928\n",
      "   0.86648054 -0.01907425  0.17650399  0.04083314 -0.08112805  0.09430233]\n",
      " [ 0.7554599   0.79424052  0.85495517  0.74639007  0.26586     0.31381645\n",
      "   0.93396762 -0.92724109  0.92805112  0.74933338  1.00170358  0.93903687\n",
      "   0.78408404  0.07900127  0.058807    0.22030115  0.02782509  0.08851026]\n",
      " [ 0.82164641  0.84553157  0.8897449   0.6507089   0.03892313  0.09825715\n",
      "   0.9881765  -0.95584241  0.99430227  0.80527928  0.93903687  1.00170358\n",
      "   0.80603922 -0.0426528   0.10494047  0.22771011  0.02059606  0.10684465]\n",
      " [ 0.5916591   0.92318339  0.71018017  0.48859238  0.08768587  0.16356009\n",
      "   0.80228565 -0.76835249  0.80737102  0.86648054  0.78408404  0.80603922\n",
      "   1.00170358  0.110715    0.20409686 -0.02856741 -0.21675484 -0.11665517]\n",
      " [-0.20392137 -0.00917149 -0.19013108 -0.11491216  0.15621941  0.25366084\n",
      "  -0.04648899  0.0959653  -0.0416066  -0.01907425  0.07900127 -0.0426528\n",
      "   0.110715    1.00170358 -0.05714321 -0.11220323 -0.53371438 -0.57446311]\n",
      " [ 0.26040588  0.17999947  0.14769541  0.05467112 -0.0638436   0.02086875\n",
      "   0.10179215 -0.07358619  0.1137003   0.17650399  0.058807    0.10494047\n",
      "   0.20409686 -0.05714321  1.00170358 -0.06116683  0.07962465  0.0798004 ]\n",
      " [ 0.17230488  0.02405742  0.28046078  0.18655534 -0.02720294  0.03585553\n",
      "   0.22852176 -0.21611985  0.23909906  0.04083314  0.22030115  0.22771011\n",
      "  -0.02856741 -0.11220323 -0.06116683  1.00170358  0.06711691  0.20002522]\n",
      " [ 0.31247081 -0.08469544  0.16711664  0.3798357   0.22132667 -0.02639459\n",
      "   0.02641385 -0.1390661  -0.00509803 -0.08112805  0.02782509  0.02059606\n",
      "  -0.21675484 -0.53371438  0.07962465  0.06711691  1.00170358  0.89456058]\n",
      " [ 0.36478771  0.06448299  0.34279482  0.47759243  0.25362445  0.13032045\n",
      "   0.12815464 -0.22923716  0.1029031   0.09430233  0.08851026  0.10684465\n",
      "  -0.11665517 -0.57446311  0.0798004   0.20002522  0.89456058  1.00170358]]\n"
     ]
    }
   ],
   "source": [
    "from sklearn.decomposition import PCA\n",
    "from sklearn.preprocessing import StandardScaler\n",
    "sc = StandardScaler()\n",
    "sc.fit(X_train)\n",
    "X_train_std=sc.transform(X_train)\n",
    "#Transform X_test ( with same fit as train) to prevent data leak\n",
    "X_test_std=sc.transform(X_test)\n",
    "cov_matrix = np.cov(X_train_std.T)\n",
    "\n",
    "print('Covariance Matrix \\n%s', cov_matrix)"
   ]
  },
  {
   "cell_type": "code",
   "execution_count": 62,
   "metadata": {},
   "outputs": [
    {
     "name": "stdout",
     "output_type": "stream",
     "text": [
      "Eigen Vectors \n",
      "%s [[-2.76931770e-01  1.14113799e-01  1.35221366e-01 -8.98643667e-02\n",
      "  -7.18213013e-02 -2.37469484e-01  2.25234805e-01  3.51009074e-01\n",
      "   7.20688213e-01 -1.35263903e-01 -2.53524669e-01 -1.11448823e-01\n",
      "   3.67028781e-02 -1.68987644e-01  1.30704377e-03 -1.01649014e-02\n",
      "  -6.16179060e-02  1.57836834e-02]\n",
      " [-2.96329417e-01 -1.28046430e-01  1.45558035e-03 -1.68995894e-01\n",
      "   9.94012860e-02  2.78803557e-01  1.23004736e-01 -2.89744190e-01\n",
      "   1.27510369e-01 -5.67015312e-02  9.12585366e-02  4.72367985e-02\n",
      "  -1.38374724e-01 -1.43001236e-01  5.99229483e-02  1.71906433e-02\n",
      "   5.55996397e-01  5.45791879e-01]\n",
      " [-3.06563714e-01  6.86235831e-02  5.78483594e-02  5.73883629e-02\n",
      "  -4.53586037e-02  8.10127776e-02  3.17908083e-02  1.25349526e-01\n",
      "  -4.05567215e-01 -4.43593831e-01 -4.04390650e-01 -4.55703767e-01\n",
      "  -2.61983397e-01  1.88688407e-01 -2.15443036e-02 -2.86943280e-02\n",
      "   1.40551459e-01 -1.07643765e-01]\n",
      " [-2.51082884e-01  2.39150326e-01 -2.73146439e-01  3.79618561e-02\n",
      "   3.65590325e-02 -1.30323376e-01 -3.21844007e-01 -1.02556886e-01\n",
      "   5.68145854e-02 -3.85122997e-01 -9.26301577e-02  6.71162642e-01\n",
      "  -2.12993612e-01  5.68285070e-02  3.24820443e-03 -9.97455693e-03\n",
      "  -1.61146615e-02 -1.08348795e-01]\n",
      " [-6.60232443e-02  2.02157989e-01 -6.06221800e-01 -3.07392525e-02\n",
      "   4.36307719e-02 -3.00920006e-02 -3.79774457e-01 -2.25473600e-01\n",
      "   2.35637990e-01 -2.56378198e-02  1.40230280e-01 -5.19078562e-01\n",
      "   2.06031218e-01  2.60579139e-02 -1.86061288e-03 -2.59460925e-03\n",
      "   3.14282931e-03 -3.09147151e-03]\n",
      " [-8.41443061e-02  6.62346973e-02 -5.89280084e-01 -4.58647733e-02\n",
      "  -1.75019294e-01  3.26802816e-01  3.09205374e-01  5.04714719e-01\n",
      "  -1.46839250e-01  2.48697672e-01 -3.62942187e-02  1.55531699e-01\n",
      "   1.66291292e-03 -1.21025379e-01 -2.60052364e-02  1.58453655e-02\n",
      "   1.34947449e-01 -9.32395518e-02]\n",
      " [-3.16903239e-01 -6.11089766e-02  8.41165658e-02  9.12554051e-02\n",
      "   2.17524430e-02 -1.07854924e-01 -4.96804251e-02  8.45206192e-02\n",
      "  -1.23293027e-01  3.78160275e-02  2.36531359e-01  1.31530028e-02\n",
      "   2.21115580e-01 -1.19550001e-01  1.84867363e-01 -8.14413332e-01\n",
      "   9.60815011e-02 -1.26904964e-01]\n",
      " [ 3.15147866e-01 -8.25336217e-03 -5.68037305e-02 -9.08558087e-02\n",
      "  -7.60099994e-02  1.33582895e-01  9.68758612e-02  8.34378723e-03\n",
      "   2.62788054e-01 -2.46043934e-02 -1.68886940e-01  8.89956691e-02\n",
      "   8.37500852e-02  7.73954641e-01  7.83238429e-02 -3.07161123e-01\n",
      "   2.03876774e-01  4.33780446e-02]\n",
      " [-3.15743208e-01 -7.79152917e-02  9.64510370e-02  9.04524892e-02\n",
      "  -3.02613350e-03 -8.67158842e-02 -2.89000910e-02  1.22147654e-01\n",
      "  -4.07196286e-02  2.98152595e-02  1.99738690e-01  3.93503813e-02\n",
      "   3.25744540e-01  2.70907557e-01  5.81669493e-01  4.72241910e-01\n",
      "   1.85937632e-01 -1.84528708e-01]\n",
      " [-2.86421868e-01 -1.15993005e-01 -2.99075504e-03 -1.71167501e-01\n",
      "   7.04806869e-02  3.75295826e-01  3.10651642e-01 -1.96488288e-01\n",
      "   1.59622292e-01 -1.26734073e-01  4.16622527e-01 -4.93651796e-02\n",
      "  -2.44369868e-01  1.97996865e-01 -5.13286733e-02 -1.02102234e-02\n",
      "  -4.38239931e-01 -2.88114112e-01]\n",
      " [-3.08867392e-01 -5.34586219e-02 -8.72939030e-02  1.21382872e-01\n",
      "   1.13058961e-03 -1.92438116e-01 -1.17560245e-01  1.38945561e-01\n",
      "  -8.77311344e-02  3.87908710e-01 -5.44766395e-02 -2.63218437e-02\n",
      "  -2.81301222e-01  2.95655108e-01  1.07381928e-01 -3.81513145e-02\n",
      "  -4.13483277e-01  5.44886678e-01]\n",
      " [-3.15712294e-01 -7.02099790e-02  9.71063422e-02  9.18400236e-02\n",
      "   1.83337719e-02 -1.36140802e-01 -6.11127198e-02  1.01577307e-01\n",
      "  -2.50747806e-02  1.12558227e-01  1.79587276e-01  5.06927589e-02\n",
      "   2.46463360e-01  2.71699128e-01 -7.74942219e-01  1.25520836e-01\n",
      "   2.09578425e-01 -4.13621504e-02]\n",
      " [-2.74426923e-01 -2.25001155e-01 -7.73575864e-03 -1.81830761e-01\n",
      "   7.68360614e-02  1.65562737e-01 -7.23940894e-02 -3.68813498e-01\n",
      "   1.65750158e-02  3.85207948e-01 -6.16716248e-01  8.56769840e-02\n",
      "   2.21843499e-01 -4.90079647e-02 -3.37839072e-03 -1.72808194e-02\n",
      "  -9.55287656e-02 -2.62624259e-01]\n",
      " [ 2.53075514e-02 -3.84120052e-01 -3.53273831e-01  7.28423489e-02\n",
      "  -1.62006462e-01 -5.71730039e-01  4.93678004e-01 -3.06084631e-01\n",
      "  -9.41554906e-02 -1.44360687e-01 -2.45129640e-02  8.59208291e-03\n",
      "   8.56220847e-03  1.00094028e-02 -3.18461021e-03  5.15883651e-03\n",
      "   2.13168419e-02 -1.14527466e-02]\n",
      " [-5.25840576e-02  1.74323615e-02  1.04380114e-01 -6.41701089e-01\n",
      "  -7.03098222e-01 -1.09545424e-01 -1.98428104e-01 -1.60223761e-02\n",
      "  -1.22894931e-01  2.85191657e-06  1.08066318e-01  2.11671979e-03\n",
      "   1.05077397e-04  7.58274526e-04 -4.27519140e-03  5.75766533e-03\n",
      "  -2.24254484e-02  3.06089544e-02]\n",
      " [-6.80448285e-02  1.22164201e-01  8.71727178e-02  6.43261166e-01\n",
      "  -6.31499326e-01  2.25509683e-01  1.41860367e-02 -2.62179296e-01\n",
      "   1.60152983e-01  9.21521971e-02 -1.40099447e-02 -4.34630701e-03\n",
      "  -5.18749960e-02 -4.31029238e-02 -4.59098416e-03 -1.67788263e-03\n",
      "   2.70964468e-02 -2.85200644e-02]\n",
      " [-3.53767971e-02  5.55323813e-01  8.25671437e-02 -1.05531076e-01\n",
      "   1.08047130e-01 -2.83556690e-01  2.07350094e-01 -1.98116295e-01\n",
      "  -2.15529378e-02  4.34313570e-01  6.71699633e-02 -6.58553479e-02\n",
      "  -3.77492003e-01  6.73680382e-02  3.89621857e-02 -1.04564945e-02\n",
      "   2.79592127e-01 -2.70754035e-01]\n",
      " [-7.67247487e-02  5.57246875e-01  4.65190788e-02 -5.72768370e-02\n",
      "   2.24583726e-02  6.05645620e-02  3.62536193e-01 -1.80871199e-01\n",
      "  -2.22422266e-01 -1.49705283e-01 -6.17891424e-02  8.04617938e-02\n",
      "   5.16687681e-01  2.84956434e-02 -1.79780032e-02  2.29022228e-03\n",
      "  -2.59867572e-01  3.03335033e-01]]\n",
      "\n",
      " Eigen Values \n",
      "%s [9.32040331e+00 2.73054962e+00 2.02959861e+00 1.19343386e+00\n",
      " 8.82364970e-01 5.74304346e-01 3.65643867e-01 3.05305007e-01\n",
      " 1.95421048e-01 1.34497992e-01 8.65672095e-02 6.41223952e-02\n",
      " 4.87107462e-02 3.56200981e-02 4.81463241e-03 1.41193738e-02\n",
      " 2.40455226e-02 2.11417885e-02]\n"
     ]
    }
   ],
   "source": [
    "eig_vals, eig_vecs = np.linalg.eig(cov_matrix)\n",
    "print('Eigen Vectors \\n%s', eig_vecs)\n",
    "print('\\n Eigen Values \\n%s', eig_vals)"
   ]
  },
  {
   "cell_type": "code",
   "execution_count": 63,
   "metadata": {},
   "outputs": [
    {
     "name": "stdout",
     "output_type": "stream",
     "text": [
      "Cumulative Variance Explained [ 51.69195716  66.83587841  78.09225016  84.71116241  89.60485324\n",
      "  92.79000678  94.81790691  96.51116125  97.59498736  98.34092766\n",
      "  98.82103869  99.17666838  99.4468234   99.64437629  99.77773534\n",
      "  99.89498997  99.97329753 100.        ]\n"
     ]
    }
   ],
   "source": [
    "tot = sum(eig_vals)\n",
    "var_exp = [( i /tot ) * 100 for i in sorted(eig_vals, reverse=True)]\n",
    "cum_var_exp = np.cumsum(var_exp)   # array of size =  as many PC dimensions\n",
    "print(\"Cumulative Variance Explained\", cum_var_exp)"
   ]
  },
  {
   "cell_type": "code",
   "execution_count": 64,
   "metadata": {},
   "outputs": [
    {
     "data": {
      "image/png": "[encoded data removed]",
      "text/plain": [
       "<Figure size 1080x432 with 1 Axes>"
      ]
     },
     "metadata": {
      "needs_background": "light"
     },
     "output_type": "display_data"
    }
   ],
   "source": [
    "plt.figure(figsize=(15 , 6))\n",
    "plt.bar(range(1, eig_vals.size + 1), var_exp, alpha = 0.5, align = 'center', label = 'Individual explained variance')\n",
    "plt.step(range(1, eig_vals.size + 1), cum_var_exp, where='mid', label = 'Cumulative explained variance')\n",
    "plt.ylabel('Explained Variance Ratio')\n",
    "plt.xlabel('Principal Components')\n",
    "plt.legend(loc = 'best')\n",
    "plt.tight_layout()\n",
    "plt.show()"
   ]
  },
  {
   "cell_type": "code",
   "execution_count": 67,
   "metadata": {},
   "outputs": [],
   "source": [
    "eig_pairs = [(eig_vals[index], eig_vecs[index]) for index in range(len(eig_vals))]\n",
    "\n",
    "# Sort the (eigenvalue, eigenvector) pairs from highest to lowest with respect to eigenvalue by default take first field for sorting\n",
    "eig_pairs.sort(reverse=True)\n",
    "\n",
    "\n",
    "# Note: always form pair of eigen vector and values  first before sorting...\n",
    "\n",
    "# Extract the descending ordered eigenvalues and eigenvectors\n",
    "eigvalues_sorted = [eig_pairs[index][0] for index in range(len(eig_vals))]\n",
    "eigvectors_sorted = [eig_pairs[index][1] for index in range(len(eig_vals))]"
   ]
  },
  {
   "cell_type": "code",
   "execution_count": 68,
   "metadata": {},
   "outputs": [],
   "source": [
    "P_reduce = np.array(eigvectors_sorted[0:8]).transpose()   # Selecting first 8 eigen vector out if 18\n",
    "\n",
    "Proj_train_data = np.dot(X_train_std,P_reduce)   # projecting training data onto the eight eigen vectors\n",
    "\n",
    "Proj_test_data = np.dot(X_test_std,P_reduce)    # projecting test data onto the eight eigen vectors"
   ]
  },
  {
   "cell_type": "code",
   "execution_count": 69,
   "metadata": {},
   "outputs": [
    {
     "data": {
      "text/plain": [
       "((588, 8), (588,), (253, 8), (253,))"
      ]
     },
     "execution_count": 69,
     "metadata": {},
     "output_type": "execute_result"
    }
   ],
   "source": [
    "Proj_train_data.shape,y_train.shape,Proj_test_data.shape,y_test.shape"
   ]
  },
  {
   "cell_type": "code",
   "execution_count": 52,
   "metadata": {},
   "outputs": [
    {
     "name": "stdout",
     "output_type": "stream",
     "text": [
      "[[ 0.27376398  0.29438541  0.29717997  0.259626    0.07931091  0.09480754\n",
      "   0.31744041 -0.31559067  0.31528233  0.28255313  0.31099132  0.31582826\n",
      "   0.27374489 -0.01856796  0.03886579  0.05858455  0.02598915  0.06868483\n",
      "  -0.07553314]\n",
      " [-0.13102739  0.11770575 -0.07190964 -0.22262038 -0.18318127 -0.07438968\n",
      "   0.05426878  0.0030298   0.06732029  0.09915696  0.05279574  0.06113267\n",
      "   0.20950374  0.39875027 -0.06355951 -0.13144827 -0.53877539 -0.55417605\n",
      "  -0.17237192]\n",
      " [-0.13420924  0.00301888 -0.06081883  0.24953541  0.61463761  0.59732612\n",
      "  -0.09133919  0.06236549 -0.1025279   0.0127481   0.05692921 -0.10431551\n",
      "   0.00607062  0.32999175 -0.11259281 -0.11849568 -0.07281224 -0.03197652\n",
      "   0.04930198]]\n",
      "[0.49230195 0.14905344 0.09762346]\n"
     ]
    }
   ],
   "source": [
    "pca3 = PCA(n_components=3)\n",
    "pca3.fit(XScaled)\n",
    "print(pca3.components_)\n",
    "print(pca3.explained_variance_ratio_)\n",
    "Xpca3 = pca3.transform(XScaled)"
   ]
  },
  {
   "cell_type": "code",
   "execution_count": 70,
   "metadata": {},
   "outputs": [
    {
     "name": "stdout",
     "output_type": "stream",
     "text": [
      "0.8367346938775511\n",
      "0.8379446640316206\n"
     ]
    }
   ],
   "source": [
    "from sklearn.svm import SVC\n",
    "\n",
    "# Building a Support Vector Machine on train data\n",
    "svc_model = SVC(C= .1, kernel='linear', gamma= 1)\n",
    "svc_model.fit(Proj_train_data, y_train)\n",
    "\n",
    "prediction = svc_model.predict(Proj_test_data)\n",
    "# check the accuracy on the training set\n",
    "print(svc_model.score(Proj_train_data, y_train))\n",
    "print(svc_model.score(Proj_test_data, y_test))"
   ]
  },
  {
   "cell_type": "code",
   "execution_count": 73,
   "metadata": {},
   "outputs": [
    {
     "name": "stdout",
     "output_type": "stream",
     "text": [
      "0.9251700680272109\n",
      "0.8774703557312253\n"
     ]
    }
   ],
   "source": [
    "svc_model = SVC(kernel='rbf')\n",
    "svc_model.fit(Proj_train_data, y_train)\n",
    "prediction = svc_model.predict(Proj_test_data)\n",
    "print(svc_model.score(Proj_train_data, y_train))\n",
    "print(svc_model.score(Proj_test_data, y_test))"
   ]
  }
 ],
 "metadata": {
  "kernelspec": {
   "display_name": "Python 3",
   "language": "python",
   "name": "python3"
  },
  "language_info": {
   "codemirror_mode": {
    "name": "ipython",
    "version": 3
   },
   "file_extension": ".py",
   "mimetype": "text/x-python",
   "name": "python",
   "nbconvert_exporter": "python",
   "pygments_lexer": "ipython3",
   "version": "3.8.5"
  }
 },
 "nbformat": 4,
 "nbformat_minor": 4
}
