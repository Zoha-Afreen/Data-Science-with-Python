{
 "cells": [
  {
   "cell_type": "code",
   "execution_count": 23,
   "metadata": {},
   "outputs": [],
   "source": [
    "import numpy as np\n",
    "import pandas as pd\n",
    "import scipy.stats as stats\n",
    "import matplotlib.pyplot as plt\n",
    "from math import factorial as f"
   ]
  },
  {
   "cell_type": "code",
   "execution_count": 5,
   "metadata": {},
   "outputs": [
    {
     "name": "stdout",
     "output_type": "stream",
     "text": [
      "Joint probability of the people who planned to purchase and ppl who actually placed order = 0.2000 \n"
     ]
    }
   ],
   "source": [
    "Planned= 400 \n",
    "Total_ppl = 2000\n",
    "res= Planned/ Total_ppl\n",
    "print('Joint probability of the people who planned to purchase and ppl who actually placed order = %1.4f ' % res)"
   ]
  },
  {
   "cell_type": "code",
   "execution_count": 24,
   "metadata": {},
   "outputs": [
    {
     "name": "stdout",
     "output_type": "stream",
     "text": [
      "0.800\n"
     ]
    }
   ],
   "source": [
    "# res = P(Ppl actually placed an order | Planned to purchase)\n",
    "# Purchsed = Planned to purchase and actually placed an order\n",
    "# Planned = Planned to purchase\n",
    "res= (400 / 2000 )/ (500 / 2000)\n",
    "\n",
    "print('%1.3f' % res)     "
   ]
  },
  {
   "cell_type": "code",
   "execution_count": 10,
   "metadata": {},
   "outputs": [
    {
     "name": "stdout",
     "output_type": "stream",
     "text": [
      "Probability 0 item is defective is 0.599\n",
      "Probability 1 item is defective is 0.315\n",
      "\n",
      "[0.59873694 0.91386164 0.98849644 0.9989715  0.99993631 0.99999725\n",
      " 0.99999992 1.         1.         1.         1.        ]\n",
      "Probability that two or fewer of the items are defective is 0.988\n",
      "Probability that three or more of the items are defective is 0.012\n"
     ]
    }
   ],
   "source": [
    "sample_size = 10 \n",
    "failure_rate= 0.05 \n",
    "k = np.arange(0,11) \n",
    "\n",
    "binomial = stats.binom.pmf(k,sample_size,failure_rate)\n",
    "\n",
    "print('Probability 0 item is defective is %1.3f' %binomial[0])\n",
    "print('Probability 1 item is defective is %1.3f\\n' %binomial[1])\n",
    "\n",
    "\n",
    "cummulative_prob = stats.binom.cdf(k,sample_size ,failure_rate)\n",
    "print(cummulative_prob)\n",
    "Prob3 = 1- cummulative_prob [2]\n",
    "print('Probability that two or fewer of the items are defective is %1.3f' %cummulative_prob[2])\n",
    "print('Probability that three or more of the items are defective is %1.3f' % Prob3)"
   ]
  },
  {
   "cell_type": "code",
   "execution_count": 19,
   "metadata": {},
   "outputs": [
    {
     "name": "stdout",
     "output_type": "stream",
     "text": [
      "Probability that he will sell some cars is 0.9502\n",
      "Probability of 2 or more but less than 5 cars is 0.6161\n"
     ]
    },
    {
     "data": {
      "image/png": "[encoded data removed]",
      "text/plain": [
       "<Figure size 432x288 with 1 Axes>"
      ]
     },
     "metadata": {
      "needs_background": "light"
     },
     "output_type": "display_data"
    }
   ],
   "source": [
    "rate = 3 \n",
    "sample_size=  np.arange(0,16)\n",
    "cummulative_prob = stats.poisson.cdf(sample_size,rate)\n",
    "\n",
    "sells_more_than_1car   = 1 - cummulative_prob[0]\n",
    "print('Probability that he will sell some cars is %1.4f' % sells_more_than_1car )\n",
    "\n",
    "\n",
    "P_4cars = cummulative_prob[4] \n",
    "P_morethan1 = cummulative_prob[1] \n",
    "Res= P_4cars - P_morethan1 \n",
    "print('Probability of 2 or more but less than 5 cars is %1.4f' % Res)\n",
    "\n",
    "\n",
    "poisson = stats.poisson.pmf(sample_size,rate)\n",
    "plt.plot(sample_size,poisson, 'o-')\n",
    "plt.title('Poisson Distribution')\n",
    "plt.xlabel('No of cars/week')\n",
    "plt.ylabel('Cum_Prob of cars/week')\n",
    "plt.show()"
   ]
  },
  {
   "cell_type": "code",
   "execution_count": 22,
   "metadata": {},
   "outputs": [
    {
     "name": "stdout",
     "output_type": "stream",
     "text": [
      "The probability that all the three orders,no_orders,two of the three are filled correctly respectively 0.653972032 0.0022999680000000003 0.952327936\n"
     ]
    }
   ],
   "source": [
    "P3 = f(3)/(f(3)*f(3-3)) * (0.868)**3 * (1-0.868)**(3-3)\n",
    "P0 = f(3)/(f(0)*f(3-0)) * (0.868)**0 * (1-0.868)**(3-0)\n",
    "P2 = f(3)/(f(2)*f(3-2)) * (0.868)**2 * (1-0.868)**(3-2)\n",
    "\n",
    "print(\"The probability that all the three orders,no_orders,two of the three are filled correctly respectively\",P3,P0,P2+P3)"
   ]
  }
 ],
 "metadata": {
  "colab": {
   "name": "Project 1 - Statistical Learning.ipynb",
   "provenance": []
  },
  "kernelspec": {
   "display_name": "Python 3",
   "language": "python",
   "name": "python3"
  },
  "language_info": {
   "codemirror_mode": {
    "name": "ipython",
    "version": 3
   },
   "file_extension": ".py",
   "mimetype": "text/x-python",
   "name": "python",
   "nbconvert_exporter": "python",
   "pygments_lexer": "ipython3",
   "version": "3.8.5"
  }
 },
 "nbformat": 4,
 "nbformat_minor": 1
}
