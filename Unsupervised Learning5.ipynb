{
 "cells": [
  {
   "cell_type": "markdown",
   "metadata": {},
   "source": [
    "Dimensionality Reduction Techniques\n",
    "\n",
    "1. Lasso (L1 Regularization)\n",
    "2. Randomforrest\n",
    "3. Principle Component Analysis\n",
    "4. Chisqare\n",
    "5. ANOVA\n",
    "6. log\n"
   ]
  },
  {
   "cell_type": "code",
   "execution_count": null,
   "metadata": {},
   "outputs": [],
   "source": [
    "import matplotlib.image as mplib \n",
    "import matplotlib.pyplot as plt\n",
    "import numpy as np\n",
    "from sklearn.decomposition import PCA\n",
    "\n",
    "\n"
   ]
  },
  {
   "cell_type": "code",
   "execution_count": null,
   "metadata": {},
   "outputs": [],
   "source": [
    "img = mplib.imread('/content/opengenus_logo.png')\n",
    "print(img.shape)\n",
    "plt.imshow(img)\n",
    "pca = PCA(32).fit(img_r) \n",
    "img_transformed = pca.transform(img_r) \n",
    "print(img_transformed.shape)\n",
    "print(np.sum(pca.explained_variance_ratio_) )\n"
   ]
  },
  {
   "cell_type": "code",
   "execution_count": null,
   "metadata": {},
   "outputs": [],
   "source": [
    "temp = pca.inverse_transform(img_transformed) \n",
    "print(temp.shape)\n",
    "temp = np.reshape(temp, (225,225 ,3)) \n",
    "print(temp.shape) \n",
    "plt.imshow(temp)"
   ]
  }
 ],
 "metadata": {
  "kernelspec": {
   "display_name": "Python 3",
   "language": "python",
   "name": "python3"
  },
  "language_info": {
   "codemirror_mode": {
    "name": "ipython",
    "version": 3
   },
   "file_extension": ".py",
   "mimetype": "text/x-python",
   "name": "python",
   "nbconvert_exporter": "python",
   "pygments_lexer": "ipython3",
   "version": "3.8.5"
  }
 },
 "nbformat": 4,
 "nbformat_minor": 4
}
