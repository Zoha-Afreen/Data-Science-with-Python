{
 "cells": [
  {
   "cell_type": "code",
   "execution_count": 7,
   "id": "8938cad9",
   "metadata": {},
   "outputs": [],
   "source": [
    "import pandas as pd\n",
    "from tkinter import *\n",
    "from datetime import datetime\n",
    "import matplotlib.pyplot as plt\n",
    "from matplotlib.figure import Figure\n",
    "from sklearn.linear_model import LinearRegression\n",
    "from sklearn.feature_extraction.text import TfidfVectorizer\n",
    "from matplotlib.backends.backend_tkagg import (FigureCanvasTkAgg, NavigationToolbar2Tk)"
   ]
  },
  {
   "cell_type": "code",
   "execution_count": 8,
   "id": "e57ed571",
   "metadata": {},
   "outputs": [],
   "source": [
    "def get_data():\n",
    "    data=pd.read_csv(r\"C:\\Users\\zafreen\\Desktop\\Zoha\\BDF\\BDFSWA\\Leaders_data.csv\")\n",
    "    print(data['Current Manager 03 Email'].unique())\n",
    "    data=data.drop_duplicates(subset='Requisition ID')\n",
    "    data['Requisition Approved Date']=pd.to_datetime(data['Requisition Approved Date'])\n",
    "    data=data[data['Requisition Approved Date']<=\"2021-04-30\"]\n",
    "    data['Year']=data['Requisition Approved Date'].dt.year\n",
    "    data['Month']=data['Requisition Approved Date'].dt.month\n",
    "    return data"
   ]
  },
  {
   "cell_type": "code",
   "execution_count": 9,
   "id": "96037761",
   "metadata": {},
   "outputs": [
    {
     "name": "stdout",
     "output_type": "stream",
     "text": [
      "['clay.magouyrk@oracle.com' 't.k.anand@oracle.com']\n"
     ]
    }
   ],
   "source": [
    "a=get_data()"
   ]
  },
  {
   "cell_type": "code",
   "execution_count": 10,
   "id": "979ea15a",
   "metadata": {},
   "outputs": [],
   "source": [
    "def BDF(leadername):\n",
    "    df=get_data()\n",
    "    data=df[['Current Manager 03 Email','Requisition Approved Date','Requisition ID','Requisition Job Grade','Requisition Type of Opening','Job Function','Country Name','State Name']]\n",
    "    data=df[df['Current Manager 03 Email']==leadername]\n",
    "    data=data.reset_index(drop=True)\n",
    "    data.groupby(['Year','Month'])['Requisition ID'].nunique().reset_index()\n",
    "    grouped_data=pd.DataFrame(data.groupby(['Year','Month'])['Requisition ID'].nunique().reset_index())\n",
    "    numbers =grouped_data['Requisition ID'].tolist()\n",
    "    window_size=4\n",
    "    index=len(numbers)-window_size\n",
    "    for _ in range(13):\n",
    "        index=len(numbers)-window_size\n",
    "        average=round((numbers[index]+numbers[index+1]+numbers[index+2]+numbers[index+3])/window_size,2)\n",
    "        numbers.append(average)\n",
    "    chart=pd.DataFrame()\n",
    "    chart['Y']=numbers\n",
    "    chart['X']=[\"2019-6 \",\"2019-7 \",\"2019-8 \",\"2019-9 \",\"2019-10 \",\"2019-11 \",\"2019-12 \",\"2020-1 \",\"2020-2 \",\"2020-3 \",\"2020-4 \", \"2020-5 \",\n",
    "    \"2020-6 \",\"2020-7 \",\"2020-8 \",\"2020-9 \",\"2020-10 \",\"2020-11 \",\"2020-12 \",\"2021-1 \",\"2021-2 \",\"2021-3 \",\"2021-4 \",\"2021-5 \",\n",
    "    \"2021-6 \",\"2021-7 \",\"2021-8 \",\"2021-9 \",\"2021-10 \",\"2021-11 \",\"2021-12 \",\"2022-1 \",\"2022-2 \",\"2022-3 \",\"2022-4 \",\"2022-5 \"]\n",
    "    return chart\n",
    "def TACount(year,quarter,leadername):\n",
    "    data=get_data()\n",
    "    data=data[data['Current Manager 03 Email']==leadername]\n",
    "    data=data.reset_index(drop=True)\n",
    "    data1=data\n",
    "    for i in range(len(data1)):\n",
    "        if (data1['Requisition Current Status'][i]=='Filled'):\n",
    "            data1.loc[i,'Conversion_Flag']=1\n",
    "        else:\n",
    "            data1.loc[i,'Conversion_Flag']=0\n",
    "    for i in range(len(data1)):\n",
    "    #     print(i)\n",
    "        if data1['Month'][i] in range(1,4):\n",
    "            data1.loc[i,'Quarter']=1\n",
    "        elif data1['Month'][i] in range(4,7):\n",
    "            data1.loc[i,'Quarter']=2\n",
    "        elif data1['Month'][i] in range(7,10):\n",
    "            data1.loc[i,'Quarter']=3\n",
    "        elif data1['Month'][i] in range(10,13):\n",
    "            data1.loc[i,'Quarter']=4\n",
    "    conversion=data1.groupby(['Year','Quarter'])['Recruiter Email'].nunique()\n",
    "    conversion=conversion.reset_index()\n",
    "    headcount=data1.groupby(['Year','Quarter'])['Requisition ID'].nunique()\n",
    "    headcount=headcount.reset_index()\n",
    "    df_merge=pd.merge(headcount,conversion,how='outer',on=['Year','Quarter']).reset_index(drop=True)\n",
    "    Train=df_merge\n",
    "    X_train=Train.loc[:, Train.columns != 'Recruiter Email']\n",
    "    Y_train=Train['Recruiter Email']\n",
    "    lr=LinearRegression()\n",
    "    ta_model=lr.fit(X_train,Y_train)\n",
    "    numbers =df_merge['Requisition ID'].tolist()\n",
    "    window_size=4\n",
    "    index=len(numbers)-window_size\n",
    "    for _ in range(3):\n",
    "        index=len(numbers)-window_size\n",
    "        average=round((numbers[index]+numbers[index+1]+numbers[index+2]+numbers[index+3])/window_size,2)\n",
    "        numbers.append(average)\n",
    "    if (year==2021) and (quarter==2):\n",
    "        hc=numbers[8]\n",
    "        a=pd.DataFrame([year,quarter,hc]).transpose()\n",
    "        return ta_model.predict(a)\n",
    "    if (year==2021) and (quarter==3):\n",
    "        hc=numbers[9]\n",
    "        a=pd.DataFrame([year,quarter,hc]).transpose()\n",
    "        return ta_model.predict(a)\n",
    "    if (year==2021) and (quarter==4):\n",
    "        hc=numbers[10]\n",
    "        a=pd.DataFrame([year,quarter,hc]).transpose()\n",
    "        return ta_model.predict(a)\n",
    "\n"
   ]
  },
  {
   "cell_type": "code",
   "execution_count": 11,
   "id": "32241f67",
   "metadata": {},
   "outputs": [
    {
     "name": "stdout",
     "output_type": "stream",
     "text": [
      "['clay.magouyrk@oracle.com' 't.k.anand@oracle.com']\n"
     ]
    },
    {
     "name": "stderr",
     "output_type": "stream",
     "text": [
      "Exception in Tkinter callback\n",
      "Traceback (most recent call last):\n",
      "  File \"C:\\Users\\zafreen\\anaconda3\\lib\\tkinter\\__init__.py\", line 1892, in __call__\n",
      "    return self.func(*args)\n",
      "  File \"<ipython-input-11-87374c616da0>\", line 43, in submit\n",
      "    NavigationToolbar2Tk(canvas, toolbarFrame)\n",
      "NameError: name 'toolbarFrame' is not defined\n"
     ]
    },
    {
     "name": "stdout",
     "output_type": "stream",
     "text": [
      "['clay.magouyrk@oracle.com' 't.k.anand@oracle.com']\n"
     ]
    },
    {
     "data": {
      "image/png": "[encoded data removed]",
      "text/plain": [
       "<Figure size 576x288 with 1 Axes>"
      ]
     },
     "metadata": {
      "needs_background": "light"
     },
     "output_type": "display_data"
    }
   ],
   "source": [
    "import tkinter as tk\n",
    "from PIL import Image,  ImageTk\n",
    "root=tk.Tk()\n",
    "root.title(\"Demand Forecasting-Recruiter Match Application\")\n",
    "root.geometry('1350x1000')\n",
    "root.iconbitmap('oracle1.ico')\n",
    "username=tk.StringVar()\n",
    "root.config(bg='white')\n",
    "# password=tk.StringVar()\n",
    "Year = tk.IntVar()\n",
    "Quarter= tk.IntVar()\n",
    "requisition_organization_name = tk.StringVar()\n",
    "requisition_organization_department = tk.StringVar()\n",
    "requisition_country_name =tk.StringVar()\n",
    "requisition_job_function = tk.StringVar()\n",
    "requisition_title = tk.StringVar()\n",
    "requisition_type_of_opening = tk.StringVar()\n",
    "requisition_job_code = tk.StringVar()\n",
    "requisition_job_grade = tk.StringVar()\n",
    "requisition_state_name = tk.StringVar()\n",
    "requisition_city_name = tk.StringVar()\n",
    "requisition_hm=tk.StringVar()\n",
    "requisition_approved_date=tk.StringVar()\n",
    "def submit():\n",
    "    global User\n",
    "    User=username.get()\n",
    "#     Pass=password.get()\n",
    "    username.set(\"\")\n",
    "#     password.set(\"\")\n",
    "    chart=BDF(User)\n",
    "    x=chart['X']\n",
    "    y =chart['Y'] \n",
    "    fig = plt.figure(figsize=(8,4))\n",
    "    plt.plot(x,y)\n",
    "    plt.xticks(x,fontsize=6.5,rotation=90)\n",
    "    plt.xlabel('Time Period')\n",
    "    plt.ylabel(\"Head Count\")\n",
    "    plt.title(\"Head Count Prediction\", size=16)\n",
    "    plt.axvline(x=24,color='orange')\n",
    "    canvas = FigureCanvasTkAgg(fig, master=root)\n",
    "    canvas.draw()\n",
    "    canvas.get_tk_widget().grid(row=1, column=1) \n",
    "    NavigationToolbar2Tk(canvas, toolbarFrame)\n",
    "def submit1():\n",
    "    year=Year.get()\n",
    "    quarter=Quarter.get()\n",
    "    Predicted_TA_count=TACount(year,quarter,User)\n",
    "    Predicted_TA_count=round(Predicted_TA_count[0])\n",
    "    Predicted_TA_count_label=tk.Label(root, text=Predicted_TA_count,bg='white')\n",
    "    Predicted_TA_count_label.grid(row=3,column=6)\n",
    "    Year.set(\"\")\n",
    "    Quarter.set(\"\")\n",
    "Username_label = tk.Label(root, text = 'Email', font=('calibre',10, 'bold'),bg='white')\n",
    "Username_entry = tk.Entry(root,textvariable =username, font=('calibre',10,'normal'),bg='white')\n",
    "# Password_label = tk.Label(root, text = 'Password', font=('calibre',10, 'bold'))\n",
    "# Password_entry = tk.Entry(root,textvariable =password, font=('calibre',10,'normal'))\n",
    "submit_button1=tk.Button(root,text = 'Submit', command = submit)\n",
    "year_label = tk.Label(root, text = 'Year', font=('calibre',10, 'bold'),bg='white')\n",
    "year_entry = tk.Entry(root,textvariable =Year, font=('calibre',10,'normal'),bg='white')\n",
    "quarter_label = tk.Label(root, text = 'Quarter', font=('calibre',10, 'bold'),bg='white')\n",
    "quarter_entry = tk.Entry(root,textvariable =Quarter, font=('calibre',10,'normal'),bg='white')\n",
    "submit1_button=tk.Button(root,text = 'Predict ', command = submit1)\n",
    "Username_label.grid(row=0,column=0)\n",
    "Username_entry.grid(row=0,column=1)\n",
    "# Password_label.grid(row=1,column=3)\n",
    "# Password_entry.grid(row=1,column=4)\n",
    "submit_button1.grid(row=0,column=2)\n",
    "year_label.grid(row=2,column=0)\n",
    "year_entry.grid(row=2,column=1)\n",
    "quarter_label.grid(row=2,column=2)\n",
    "quarter_entry.grid(row=2,column=3)\n",
    "submit1_button.grid(row=2,column=7)\n",
    "root.mainloop()"
   ]
  },
  {
   "cell_type": "code",
   "execution_count": null,
   "id": "ee6790e6",
   "metadata": {},
   "outputs": [],
   "source": []
  }
 ],
 "metadata": {
  "kernelspec": {
   "display_name": "Python 3",
   "language": "python",
   "name": "python3"
  },
  "language_info": {
   "codemirror_mode": {
    "name": "ipython",
    "version": 3
   },
   "file_extension": ".py",
   "mimetype": "text/x-python",
   "name": "python",
   "nbconvert_exporter": "python",
   "pygments_lexer": "ipython3",
   "version": "3.8.8"
  }
 },
 "nbformat": 4,
 "nbformat_minor": 5
}
